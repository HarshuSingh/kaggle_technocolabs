{
 "cells": [
  {
   "cell_type": "markdown",
   "id": "e62c79cd",
   "metadata": {
    "papermill": {
     "duration": 0.010797,
     "end_time": "2021-08-11T19:21:28.451268",
     "exception": false,
     "start_time": "2021-08-11T19:21:28.440471",
     "status": "completed"
    },
    "tags": []
   },
   "source": [
    "**This notebook is an exercise in the [Introduction to Machine Learning](https://www.kaggle.com/learn/intro-to-machine-learning) course.  You can reference the tutorial at [this link](https://www.kaggle.com/dansbecker/underfitting-and-overfitting).**\n",
    "\n",
    "---\n"
   ]
  },
  {
   "cell_type": "markdown",
   "id": "0461cb66",
   "metadata": {
    "papermill": {
     "duration": 0.009178,
     "end_time": "2021-08-11T19:21:28.470305",
     "exception": false,
     "start_time": "2021-08-11T19:21:28.461127",
     "status": "completed"
    },
    "tags": []
   },
   "source": [
    "## Recap\n",
    "You've built your first model, and now it's time to optimize the size of the tree to make better predictions. Run this cell to set up your coding environment where the previous step left off."
   ]
  },
  {
   "cell_type": "code",
   "execution_count": 1,
   "id": "848e2740",
   "metadata": {
    "execution": {
     "iopub.execute_input": "2021-08-11T19:21:28.495639Z",
     "iopub.status.busy": "2021-08-11T19:21:28.493860Z",
     "iopub.status.idle": "2021-08-11T19:21:29.898127Z",
     "shell.execute_reply": "2021-08-11T19:21:29.897364Z",
     "shell.execute_reply.started": "2021-08-11T19:09:03.648090Z"
    },
    "papermill": {
     "duration": 1.418444,
     "end_time": "2021-08-11T19:21:29.898319",
     "exception": false,
     "start_time": "2021-08-11T19:21:28.479875",
     "status": "completed"
    },
    "tags": []
   },
   "outputs": [
    {
     "name": "stdout",
     "output_type": "stream",
     "text": [
      "Validation MAE: 29,653\n",
      "\n",
      "Setup complete\n"
     ]
    }
   ],
   "source": [
    "# Code you have previously used to load data\n",
    "import pandas as pd\n",
    "from sklearn.metrics import mean_absolute_error\n",
    "from sklearn.model_selection import train_test_split\n",
    "from sklearn.tree import DecisionTreeRegressor\n",
    "\n",
    "\n",
    "# Path of the file to read\n",
    "iowa_file_path = '../input/home-data-for-ml-course/train.csv'\n",
    "\n",
    "home_data = pd.read_csv(iowa_file_path)\n",
    "# Create target object and call it y\n",
    "y = home_data.SalePrice\n",
    "# Create X\n",
    "features = ['LotArea', 'YearBuilt', '1stFlrSF', '2ndFlrSF', 'FullBath', 'BedroomAbvGr', 'TotRmsAbvGrd']\n",
    "X = home_data[features]\n",
    "\n",
    "# Split into validation and training data\n",
    "train_X, val_X, train_y, val_y = train_test_split(X, y, random_state=1)\n",
    "\n",
    "# Specify Model\n",
    "iowa_model = DecisionTreeRegressor(random_state=1)\n",
    "# Fit Model\n",
    "iowa_model.fit(train_X, train_y)\n",
    "\n",
    "# Make validation predictions and calculate mean absolute error\n",
    "val_predictions = iowa_model.predict(val_X)\n",
    "val_mae = mean_absolute_error(val_predictions, val_y)\n",
    "print(\"Validation MAE: {:,.0f}\".format(val_mae))\n",
    "\n",
    "# Set up code checking\n",
    "from learntools.core import binder\n",
    "binder.bind(globals())\n",
    "from learntools.machine_learning.ex5 import *\n",
    "print(\"\\nSetup complete\")"
   ]
  },
  {
   "cell_type": "markdown",
   "id": "c20c679f",
   "metadata": {
    "papermill": {
     "duration": 0.009413,
     "end_time": "2021-08-11T19:21:29.918383",
     "exception": false,
     "start_time": "2021-08-11T19:21:29.908970",
     "status": "completed"
    },
    "tags": []
   },
   "source": [
    "# Exercises\n",
    "You could write the function `get_mae` yourself. For now, we'll supply it. This is the same function you read about in the previous lesson. Just run the cell below."
   ]
  },
  {
   "cell_type": "code",
   "execution_count": 2,
   "id": "321516ef",
   "metadata": {
    "execution": {
     "iopub.execute_input": "2021-08-11T19:21:29.944295Z",
     "iopub.status.busy": "2021-08-11T19:21:29.943617Z",
     "iopub.status.idle": "2021-08-11T19:21:29.946990Z",
     "shell.execute_reply": "2021-08-11T19:21:29.946329Z",
     "shell.execute_reply.started": "2021-08-11T19:12:09.066230Z"
    },
    "papermill": {
     "duration": 0.019189,
     "end_time": "2021-08-11T19:21:29.947148",
     "exception": false,
     "start_time": "2021-08-11T19:21:29.927959",
     "status": "completed"
    },
    "tags": []
   },
   "outputs": [],
   "source": [
    "def get_mae(max_leaf_nodes, train_X, val_X, train_y, val_y):\n",
    "    model = DecisionTreeRegressor(max_leaf_nodes=max_leaf_nodes, random_state=0)\n",
    "    model.fit(train_X, train_y)\n",
    "    preds_val = model.predict(val_X)\n",
    "    mae = mean_absolute_error(val_y, preds_val)\n",
    "    return(mae)"
   ]
  },
  {
   "cell_type": "markdown",
   "id": "2c8ef407",
   "metadata": {
    "papermill": {
     "duration": 0.009984,
     "end_time": "2021-08-11T19:21:29.967351",
     "exception": false,
     "start_time": "2021-08-11T19:21:29.957367",
     "status": "completed"
    },
    "tags": []
   },
   "source": [
    "## Step 1: Compare Different Tree Sizes\n",
    "Write a loop that tries the following values for *max_leaf_nodes* from a set of possible values.\n",
    "\n",
    "Call the *get_mae* function on each value of max_leaf_nodes. Store the output in some way that allows you to select the value of `max_leaf_nodes` that gives the most accurate model on your data."
   ]
  },
  {
   "cell_type": "code",
   "execution_count": 3,
   "id": "30ebf075",
   "metadata": {
    "execution": {
     "iopub.execute_input": "2021-08-11T19:21:29.991228Z",
     "iopub.status.busy": "2021-08-11T19:21:29.990560Z",
     "iopub.status.idle": "2021-08-11T19:21:30.092924Z",
     "shell.execute_reply": "2021-08-11T19:21:30.092383Z",
     "shell.execute_reply.started": "2021-08-11T19:15:08.894285Z"
    },
    "papermill": {
     "duration": 0.115609,
     "end_time": "2021-08-11T19:21:30.093084",
     "exception": false,
     "start_time": "2021-08-11T19:21:29.977475",
     "status": "completed"
    },
    "tags": []
   },
   "outputs": [
    {
     "name": "stdout",
     "output_type": "stream",
     "text": [
      "Max leaf nodes: 5  \t\t Mean Absolute Error:  35044\n",
      "Max leaf nodes: 25  \t\t Mean Absolute Error:  29016\n",
      "Max leaf nodes: 50  \t\t Mean Absolute Error:  27405\n",
      "Max leaf nodes: 100  \t\t Mean Absolute Error:  27282\n",
      "Max leaf nodes: 250  \t\t Mean Absolute Error:  27893\n",
      "Max leaf nodes: 500  \t\t Mean Absolute Error:  29454\n",
      "100\n"
     ]
    },
    {
     "data": {
      "application/javascript": [
       "parent.postMessage({\"jupyterEvent\": \"custom.exercise_interaction\", \"data\": {\"outcomeType\": 1, \"valueTowardsCompletion\": 0.5, \"interactionType\": 1, \"questionType\": 1, \"questionId\": \"1_BestTreeSize\", \"learnToolsVersion\": \"0.3.4\", \"failureMessage\": \"\", \"exceptionClass\": \"\", \"trace\": \"\"}}, \"*\")"
      ],
      "text/plain": [
       "<IPython.core.display.Javascript object>"
      ]
     },
     "metadata": {},
     "output_type": "display_data"
    },
    {
     "data": {
      "text/markdown": [
       "<span style=\"color:#33cc33\">Correct</span>"
      ],
      "text/plain": [
       "Correct"
      ]
     },
     "metadata": {},
     "output_type": "display_data"
    }
   ],
   "source": [
    "candidate_max_leaf_nodes = [5, 25, 50, 100, 250, 500]\n",
    "# Write loop to find the ideal tree size from candidate_max_leaf_nodes\n",
    "for max_leaf_nodes in candidate_max_leaf_nodes:\n",
    "    my_mae = get_mae(max_leaf_nodes, train_X, val_X, train_y, val_y)\n",
    "    print(\"Max leaf nodes: %d  \\t\\t Mean Absolute Error:  %d\" %(max_leaf_nodes, my_mae))\n",
    "\n",
    "# Store the best value of max_leaf_nodes (it will be either 5, 25, 50, 100, 250 or 500)\n",
    "my_mae = {leaf_size: get_mae(leaf_size, train_X, val_X, train_y, val_y) for leaf_size in candidate_max_leaf_nodes}\n",
    "best_tree_size = min(my_mae, key=my_mae.get)\n",
    "print(best_tree_size)\n",
    "\n",
    "step_1.check()"
   ]
  },
  {
   "cell_type": "code",
   "execution_count": 4,
   "id": "446814f3",
   "metadata": {
    "execution": {
     "iopub.execute_input": "2021-08-11T19:21:30.119803Z",
     "iopub.status.busy": "2021-08-11T19:21:30.119112Z",
     "iopub.status.idle": "2021-08-11T19:21:30.121901Z",
     "shell.execute_reply": "2021-08-11T19:21:30.122406Z",
     "shell.execute_reply.started": "2021-08-11T19:13:38.460965Z"
    },
    "papermill": {
     "duration": 0.017847,
     "end_time": "2021-08-11T19:21:30.122642",
     "exception": false,
     "start_time": "2021-08-11T19:21:30.104795",
     "status": "completed"
    },
    "tags": []
   },
   "outputs": [],
   "source": [
    "# The lines below will show you a hint or the solution.\n",
    "# step_1.hint() \n",
    "# step_1.solution()"
   ]
  },
  {
   "cell_type": "markdown",
   "id": "ded8f07b",
   "metadata": {
    "papermill": {
     "duration": 0.011576,
     "end_time": "2021-08-11T19:21:30.146146",
     "exception": false,
     "start_time": "2021-08-11T19:21:30.134570",
     "status": "completed"
    },
    "tags": []
   },
   "source": [
    "## Step 2: Fit Model Using All Data\n",
    "You know the best tree size. If you were going to deploy this model in practice, you would make it even more accurate by using all of the data and keeping that tree size.  That is, you don't need to hold out the validation data now that you've made all your modeling decisions."
   ]
  },
  {
   "cell_type": "code",
   "execution_count": 5,
   "id": "ee5710a7",
   "metadata": {
    "execution": {
     "iopub.execute_input": "2021-08-11T19:21:30.179063Z",
     "iopub.status.busy": "2021-08-11T19:21:30.178053Z",
     "iopub.status.idle": "2021-08-11T19:21:30.191232Z",
     "shell.execute_reply": "2021-08-11T19:21:30.191776Z",
     "shell.execute_reply.started": "2021-08-11T19:16:37.612867Z"
    },
    "papermill": {
     "duration": 0.034013,
     "end_time": "2021-08-11T19:21:30.191968",
     "exception": false,
     "start_time": "2021-08-11T19:21:30.157955",
     "status": "completed"
    },
    "tags": []
   },
   "outputs": [
    {
     "data": {
      "application/javascript": [
       "parent.postMessage({\"jupyterEvent\": \"custom.exercise_interaction\", \"data\": {\"outcomeType\": 1, \"valueTowardsCompletion\": 0.5, \"interactionType\": 1, \"questionType\": 2, \"questionId\": \"2_FitModelWithAllData\", \"learnToolsVersion\": \"0.3.4\", \"failureMessage\": \"\", \"exceptionClass\": \"\", \"trace\": \"\"}}, \"*\")"
      ],
      "text/plain": [
       "<IPython.core.display.Javascript object>"
      ]
     },
     "metadata": {},
     "output_type": "display_data"
    },
    {
     "data": {
      "text/markdown": [
       "<span style=\"color:#33cc33\">Correct</span>"
      ],
      "text/plain": [
       "Correct"
      ]
     },
     "metadata": {},
     "output_type": "display_data"
    }
   ],
   "source": [
    "final_model = DecisionTreeRegressor(max_leaf_nodes=best_tree_size,random_state=1)\n",
    "\n",
    "# fit the final model and uncomment the next two lines\n",
    "final_model.fit(X,y)\n",
    "# Check your answer\n",
    "step_2.check()"
   ]
  },
  {
   "cell_type": "code",
   "execution_count": 6,
   "id": "228b4cef",
   "metadata": {
    "execution": {
     "iopub.execute_input": "2021-08-11T19:21:30.220930Z",
     "iopub.status.busy": "2021-08-11T19:21:30.220199Z",
     "iopub.status.idle": "2021-08-11T19:21:30.223222Z",
     "shell.execute_reply": "2021-08-11T19:21:30.223696Z"
    },
    "papermill": {
     "duration": 0.019331,
     "end_time": "2021-08-11T19:21:30.223892",
     "exception": false,
     "start_time": "2021-08-11T19:21:30.204561",
     "status": "completed"
    },
    "tags": []
   },
   "outputs": [],
   "source": [
    "# step_2.hint()\n",
    "# step_2.solution()"
   ]
  },
  {
   "cell_type": "markdown",
   "id": "d9b0722f",
   "metadata": {
    "papermill": {
     "duration": 0.013877,
     "end_time": "2021-08-11T19:21:30.250848",
     "exception": false,
     "start_time": "2021-08-11T19:21:30.236971",
     "status": "completed"
    },
    "tags": []
   },
   "source": [
    "You've tuned this model and improved your results. But we are still using Decision Tree models, which are not very sophisticated by modern machine learning standards. In the next step you will learn to use Random Forests to improve your models even more.\n",
    "\n",
    "# Keep Going\n",
    "\n",
    "You are ready for **[Random Forests](https://www.kaggle.com/dansbecker/random-forests).**\n"
   ]
  },
  {
   "cell_type": "markdown",
   "id": "c39952a1",
   "metadata": {
    "papermill": {
     "duration": 0.012535,
     "end_time": "2021-08-11T19:21:30.276559",
     "exception": false,
     "start_time": "2021-08-11T19:21:30.264024",
     "status": "completed"
    },
    "tags": []
   },
   "source": [
    "---\n",
    "\n",
    "\n",
    "\n",
    "\n",
    "*Have questions or comments? Visit the [Learn Discussion forum](https://www.kaggle.com/learn-forum/161285) to chat with other Learners.*"
   ]
  }
 ],
 "metadata": {
  "kernelspec": {
   "display_name": "Python 3",
   "language": "python",
   "name": "python3"
  },
  "language_info": {
   "codemirror_mode": {
    "name": "ipython",
    "version": 3
   },
   "file_extension": ".py",
   "mimetype": "text/x-python",
   "name": "python",
   "nbconvert_exporter": "python",
   "pygments_lexer": "ipython3",
   "version": "3.7.10"
  },
  "papermill": {
   "default_parameters": {},
   "duration": 11.699057,
   "end_time": "2021-08-11T19:21:31.000776",
   "environment_variables": {},
   "exception": null,
   "input_path": "__notebook__.ipynb",
   "output_path": "__notebook__.ipynb",
   "parameters": {},
   "start_time": "2021-08-11T19:21:19.301719",
   "version": "2.3.3"
  }
 },
 "nbformat": 4,
 "nbformat_minor": 5
}
