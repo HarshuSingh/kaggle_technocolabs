{
 "cells": [
  {
   "cell_type": "markdown",
   "id": "de59b83b",
   "metadata": {
    "papermill": {
     "duration": 0.00986,
     "end_time": "2021-08-09T20:11:38.561369",
     "exception": false,
     "start_time": "2021-08-09T20:11:38.551509",
     "status": "completed"
    },
    "tags": []
   },
   "source": [
    "**[Machine Learning Course Home Page](https://www.kaggle.com/learn/machine-learning)**\n",
    "\n",
    "---\n"
   ]
  },
  {
   "cell_type": "markdown",
   "id": "a4f0d4ec",
   "metadata": {
    "papermill": {
     "duration": 0.008485,
     "end_time": "2021-08-09T20:11:38.580663",
     "exception": false,
     "start_time": "2021-08-09T20:11:38.572178",
     "status": "completed"
    },
    "tags": []
   },
   "source": [
    "This exercise will test your ability to read a data file and understand statistics about the data.\n",
    "\n",
    "In later exercises, you will apply techniques to filter the data, build a machine learning model, and iteratively improve your model.\n",
    "\n",
    "The course examples use data from Melbourne. To ensure you can apply these techniques on your own, you will have to apply them to a new dataset (with house prices from Iowa).\n",
    "\n",
    "The exercises use a \"notebook\" coding environment.  In case you are unfamiliar with notebooks, we have a [90-second intro video](https://www.youtube.com/watch?v=4C2qMnaIKL4).\n",
    "\n",
    "# Exercises\n",
    "\n",
    "Run the following cell to set up code-checking, which will verify your work as you go."
   ]
  },
  {
   "cell_type": "code",
   "execution_count": 1,
   "id": "581cf6ae",
   "metadata": {
    "execution": {
     "iopub.execute_input": "2021-08-09T20:11:38.602657Z",
     "iopub.status.busy": "2021-08-09T20:11:38.601495Z",
     "iopub.status.idle": "2021-08-09T20:11:38.660582Z",
     "shell.execute_reply": "2021-08-09T20:11:38.659943Z",
     "shell.execute_reply.started": "2021-08-09T20:09:49.750583Z"
    },
    "papermill": {
     "duration": 0.071278,
     "end_time": "2021-08-09T20:11:38.660784",
     "exception": false,
     "start_time": "2021-08-09T20:11:38.589506",
     "status": "completed"
    },
    "tags": []
   },
   "outputs": [
    {
     "name": "stdout",
     "output_type": "stream",
     "text": [
      "Setup Complete\n"
     ]
    }
   ],
   "source": [
    "# Set up code checking\n",
    "from learntools.core import binder\n",
    "binder.bind(globals())\n",
    "from learntools.machine_learning.ex2 import *\n",
    "print(\"Setup Complete\")"
   ]
  },
  {
   "cell_type": "markdown",
   "id": "2ecbc75d",
   "metadata": {
    "papermill": {
     "duration": 0.00902,
     "end_time": "2021-08-09T20:11:38.679362",
     "exception": false,
     "start_time": "2021-08-09T20:11:38.670342",
     "status": "completed"
    },
    "tags": []
   },
   "source": [
    "## Step 1: Loading Data\n",
    "Read the Iowa data file into a Pandas DataFrame called `home_data`."
   ]
  },
  {
   "cell_type": "code",
   "execution_count": 2,
   "id": "704ee85b",
   "metadata": {
    "execution": {
     "iopub.execute_input": "2021-08-09T20:11:38.793830Z",
     "iopub.status.busy": "2021-08-09T20:11:38.793130Z",
     "iopub.status.idle": "2021-08-09T20:11:38.849277Z",
     "shell.execute_reply": "2021-08-09T20:11:38.848742Z",
     "shell.execute_reply.started": "2021-08-09T20:10:17.491613Z"
    },
    "papermill": {
     "duration": 0.160649,
     "end_time": "2021-08-09T20:11:38.849409",
     "exception": false,
     "start_time": "2021-08-09T20:11:38.688760",
     "status": "completed"
    },
    "tags": []
   },
   "outputs": [
    {
     "data": {
      "application/javascript": [
       "parent.postMessage({\"jupyterEvent\": \"custom.exercise_interaction\", \"data\": {\"outcomeType\": 1, \"valueTowardsCompletion\": 0.5, \"interactionType\": 1, \"questionType\": 1, \"questionId\": \"1_LoadHomeData\", \"learnToolsVersion\": \"0.3.4\", \"failureMessage\": \"\", \"exceptionClass\": \"\", \"trace\": \"\"}}, \"*\")"
      ],
      "text/plain": [
       "<IPython.core.display.Javascript object>"
      ]
     },
     "metadata": {},
     "output_type": "display_data"
    },
    {
     "data": {
      "text/markdown": [
       "<span style=\"color:#33cc33\">Correct</span>"
      ],
      "text/plain": [
       "Correct"
      ]
     },
     "metadata": {},
     "output_type": "display_data"
    }
   ],
   "source": [
    "import pandas as pd\n",
    "\n",
    "# Path of the file to read\n",
    "iowa_file_path = '../input/home-data-for-ml-course/train.csv'\n",
    "\n",
    "# Fill in the line below to read the file into a variable home_data\n",
    "home_data = pd.read_csv(iowa_file_path)\n",
    "\n",
    "# Call line below with no argument to check that you've loaded the data correctly\n",
    "step_1.check()"
   ]
  },
  {
   "cell_type": "code",
   "execution_count": 3,
   "id": "4481f196",
   "metadata": {
    "execution": {
     "iopub.execute_input": "2021-08-09T20:11:38.874044Z",
     "iopub.status.busy": "2021-08-09T20:11:38.873383Z",
     "iopub.status.idle": "2021-08-09T20:11:38.876827Z",
     "shell.execute_reply": "2021-08-09T20:11:38.876260Z",
     "shell.execute_reply.started": "2021-08-09T20:10:21.303811Z"
    },
    "papermill": {
     "duration": 0.017264,
     "end_time": "2021-08-09T20:11:38.876960",
     "exception": false,
     "start_time": "2021-08-09T20:11:38.859696",
     "status": "completed"
    },
    "tags": []
   },
   "outputs": [],
   "source": [
    "# Lines below will give you a hint or solution code\n",
    "#step_1.hint()\n",
    "#step_1.solution()"
   ]
  },
  {
   "cell_type": "markdown",
   "id": "3b57604e",
   "metadata": {
    "papermill": {
     "duration": 0.009893,
     "end_time": "2021-08-09T20:11:38.897219",
     "exception": false,
     "start_time": "2021-08-09T20:11:38.887326",
     "status": "completed"
    },
    "tags": []
   },
   "source": [
    "## Step 2: Review The Data\n",
    "Use the command you learned to view summary statistics of the data. Then fill in variables to answer the following questions"
   ]
  },
  {
   "cell_type": "code",
   "execution_count": 4,
   "id": "87976fb2",
   "metadata": {
    "collapsed": true,
    "execution": {
     "iopub.execute_input": "2021-08-09T20:11:38.922761Z",
     "iopub.status.busy": "2021-08-09T20:11:38.922040Z",
     "iopub.status.idle": "2021-08-09T20:11:38.926177Z",
     "shell.execute_reply": "2021-08-09T20:11:38.926621Z"
    },
    "jupyter": {
     "outputs_hidden": true
    },
    "papermill": {
     "duration": 0.019335,
     "end_time": "2021-08-09T20:11:38.926810",
     "exception": false,
     "start_time": "2021-08-09T20:11:38.907475",
     "status": "completed"
    },
    "tags": []
   },
   "outputs": [
    {
     "data": {
      "text/markdown": [],
      "text/plain": [
       "<learntools.core.constants.PlaceholderValue at 0x7fc8f6248390>"
      ]
     },
     "execution_count": 4,
     "metadata": {},
     "output_type": "execute_result"
    }
   ],
   "source": [
    "# Print summary statistics in next line\n",
    "____"
   ]
  },
  {
   "cell_type": "code",
   "execution_count": 5,
   "id": "3f11fecc",
   "metadata": {
    "execution": {
     "iopub.execute_input": "2021-08-09T20:11:38.953920Z",
     "iopub.status.busy": "2021-08-09T20:11:38.953074Z",
     "iopub.status.idle": "2021-08-09T20:11:38.958774Z",
     "shell.execute_reply": "2021-08-09T20:11:38.958243Z",
     "shell.execute_reply.started": "2021-08-09T20:11:01.729285Z"
    },
    "papermill": {
     "duration": 0.021425,
     "end_time": "2021-08-09T20:11:38.958908",
     "exception": false,
     "start_time": "2021-08-09T20:11:38.937483",
     "status": "completed"
    },
    "tags": []
   },
   "outputs": [
    {
     "data": {
      "application/javascript": [
       "parent.postMessage({\"jupyterEvent\": \"custom.exercise_interaction\", \"data\": {\"outcomeType\": 1, \"valueTowardsCompletion\": 0.5, \"interactionType\": 1, \"questionType\": 1, \"questionId\": \"2_HomeDescription\", \"learnToolsVersion\": \"0.3.4\", \"failureMessage\": \"\", \"exceptionClass\": \"\", \"trace\": \"\"}}, \"*\")"
      ],
      "text/plain": [
       "<IPython.core.display.Javascript object>"
      ]
     },
     "metadata": {},
     "output_type": "display_data"
    },
    {
     "data": {
      "text/markdown": [
       "<span style=\"color:#33cc33\">Correct</span>"
      ],
      "text/plain": [
       "Correct"
      ]
     },
     "metadata": {},
     "output_type": "display_data"
    }
   ],
   "source": [
    "# What is the average lot size (rounded to nearest integer)?\n",
    "avg_lot_size = 10517\n",
    "\n",
    "# As of today, how old is the newest home (current year - the date in which it was built)\n",
    "newest_home_age = 11\n",
    "\n",
    "# Checks your answers\n",
    "step_2.check()"
   ]
  },
  {
   "cell_type": "code",
   "execution_count": 6,
   "id": "c30d73c1",
   "metadata": {
    "execution": {
     "iopub.execute_input": "2021-08-09T20:11:38.986884Z",
     "iopub.status.busy": "2021-08-09T20:11:38.986137Z",
     "iopub.status.idle": "2021-08-09T20:11:38.989414Z",
     "shell.execute_reply": "2021-08-09T20:11:38.988792Z",
     "shell.execute_reply.started": "2021-08-09T20:10:42.611301Z"
    },
    "papermill": {
     "duration": 0.018996,
     "end_time": "2021-08-09T20:11:38.989551",
     "exception": false,
     "start_time": "2021-08-09T20:11:38.970555",
     "status": "completed"
    },
    "tags": []
   },
   "outputs": [],
   "source": [
    "#step_2.hint()\n",
    "#step_2.solution()"
   ]
  },
  {
   "cell_type": "markdown",
   "id": "fad709ad",
   "metadata": {
    "papermill": {
     "duration": 0.011297,
     "end_time": "2021-08-09T20:11:39.012608",
     "exception": false,
     "start_time": "2021-08-09T20:11:39.001311",
     "status": "completed"
    },
    "tags": []
   },
   "source": [
    "## Think About Your Data\n",
    "\n",
    "The newest house in your data isn't that new.  A few potential explanations for this:\n",
    "1. They haven't built new houses where this data was collected.\n",
    "1. The data was collected a long time ago. Houses built after the data publication wouldn't show up.\n",
    "\n",
    "If the reason is explanation #1 above, does that affect your trust in the model you build with this data? What about if it is reason #2?\n",
    "\n",
    "How could you dig into the data to see which explanation is more plausible?\n",
    "\n",
    "Check out this **[discussion thread](https://www.kaggle.com/learn-forum/60581)** to see what others think or to add your ideas.\n",
    "\n",
    "# Keep Going\n",
    "\n",
    "You are ready for **[Your First Machine Learning Model](https://www.kaggle.com/dansbecker/your-first-machine-learning-model).**\n"
   ]
  },
  {
   "cell_type": "markdown",
   "id": "d8eea87a",
   "metadata": {
    "papermill": {
     "duration": 0.011357,
     "end_time": "2021-08-09T20:11:39.035704",
     "exception": false,
     "start_time": "2021-08-09T20:11:39.024347",
     "status": "completed"
    },
    "tags": []
   },
   "source": [
    "---\n",
    "**[Machine Learning Course Home Page](https://www.kaggle.com/learn/machine-learning)**\n",
    "\n"
   ]
  }
 ],
 "metadata": {
  "kernelspec": {
   "display_name": "Python 3",
   "language": "python",
   "name": "python3"
  },
  "language_info": {
   "codemirror_mode": {
    "name": "ipython",
    "version": 3
   },
   "file_extension": ".py",
   "mimetype": "text/x-python",
   "name": "python",
   "nbconvert_exporter": "python",
   "pygments_lexer": "ipython3",
   "version": "3.7.10"
  },
  "papermill": {
   "default_parameters": {},
   "duration": 9.826235,
   "end_time": "2021-08-09T20:11:40.289449",
   "environment_variables": {},
   "exception": null,
   "input_path": "__notebook__.ipynb",
   "output_path": "__notebook__.ipynb",
   "parameters": {},
   "start_time": "2021-08-09T20:11:30.463214",
   "version": "2.3.3"
  }
 },
 "nbformat": 4,
 "nbformat_minor": 5
}
