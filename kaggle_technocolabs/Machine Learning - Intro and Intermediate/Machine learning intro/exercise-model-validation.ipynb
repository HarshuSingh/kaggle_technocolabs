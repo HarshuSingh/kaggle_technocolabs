{
 "cells": [
  {
   "cell_type": "markdown",
   "id": "f1f1208a",
   "metadata": {
    "papermill": {
     "duration": 0.01548,
     "end_time": "2021-08-10T19:25:46.597906",
     "exception": false,
     "start_time": "2021-08-10T19:25:46.582426",
     "status": "completed"
    },
    "tags": []
   },
   "source": [
    "**This notebook is an exercise in the [Introduction to Machine Learning](https://www.kaggle.com/learn/intro-to-machine-learning) course.  You can reference the tutorial at [this link](https://www.kaggle.com/dansbecker/model-validation).**\n",
    "\n",
    "---\n"
   ]
  },
  {
   "cell_type": "markdown",
   "id": "6e798ae0",
   "metadata": {
    "papermill": {
     "duration": 0.014394,
     "end_time": "2021-08-10T19:25:46.629215",
     "exception": false,
     "start_time": "2021-08-10T19:25:46.614821",
     "status": "completed"
    },
    "tags": []
   },
   "source": [
    "## Recap\n",
    "You've built a model. In this exercise you will test how good your model is.\n",
    "\n",
    "Run the cell below to set up your coding environment where the previous exercise left off."
   ]
  },
  {
   "cell_type": "code",
   "execution_count": 1,
   "id": "08273715",
   "metadata": {
    "execution": {
     "iopub.execute_input": "2021-08-10T19:25:46.676676Z",
     "iopub.status.busy": "2021-08-10T19:25:46.669489Z",
     "iopub.status.idle": "2021-08-10T19:25:48.174859Z",
     "shell.execute_reply": "2021-08-10T19:25:48.173809Z",
     "shell.execute_reply.started": "2021-08-10T19:14:21.515351Z"
    },
    "papermill": {
     "duration": 1.531268,
     "end_time": "2021-08-10T19:25:48.175068",
     "exception": false,
     "start_time": "2021-08-10T19:25:46.643800",
     "status": "completed"
    },
    "tags": []
   },
   "outputs": [
    {
     "name": "stdout",
     "output_type": "stream",
     "text": [
      "First in-sample predictions: [208500. 181500. 223500. 140000. 250000.]\n",
      "Actual target values for those homes: [208500, 181500, 223500, 140000, 250000]\n",
      "Setup Complete\n"
     ]
    }
   ],
   "source": [
    "# Code you have previously used to load data\n",
    "import pandas as pd\n",
    "from sklearn.tree import DecisionTreeRegressor\n",
    "\n",
    "# Path of the file to read\n",
    "iowa_file_path = '../input/home-data-for-ml-course/train.csv'\n",
    "\n",
    "home_data = pd.read_csv(iowa_file_path)\n",
    "y = home_data.SalePrice\n",
    "feature_columns = ['LotArea', 'YearBuilt', '1stFlrSF', '2ndFlrSF', 'FullBath', 'BedroomAbvGr', 'TotRmsAbvGrd']\n",
    "X = home_data[feature_columns]\n",
    "\n",
    "# Specify Model\n",
    "iowa_model = DecisionTreeRegressor()\n",
    "# Fit Model\n",
    "iowa_model.fit(X, y)\n",
    "\n",
    "print(\"First in-sample predictions:\", iowa_model.predict(X.head()))\n",
    "print(\"Actual target values for those homes:\", y.head().tolist())\n",
    "\n",
    "# Set up code checking\n",
    "from learntools.core import binder\n",
    "binder.bind(globals())\n",
    "from learntools.machine_learning.ex4 import *\n",
    "print(\"Setup Complete\")"
   ]
  },
  {
   "cell_type": "code",
   "execution_count": 2,
   "id": "c7ee5736",
   "metadata": {
    "execution": {
     "iopub.execute_input": "2021-08-10T19:25:48.210746Z",
     "iopub.status.busy": "2021-08-10T19:25:48.209885Z",
     "iopub.status.idle": "2021-08-10T19:25:48.213710Z",
     "shell.execute_reply": "2021-08-10T19:25:48.214162Z",
     "shell.execute_reply.started": "2021-08-10T19:20:56.900300Z"
    },
    "papermill": {
     "duration": 0.024403,
     "end_time": "2021-08-10T19:25:48.214336",
     "exception": false,
     "start_time": "2021-08-10T19:25:48.189933",
     "status": "completed"
    },
    "tags": []
   },
   "outputs": [
    {
     "name": "stdout",
     "output_type": "stream",
     "text": [
      "shape: (1460, 7)\n"
     ]
    }
   ],
   "source": [
    "y = home_data['SalePrice']\n",
    "print(\"shape:\",X.shape)"
   ]
  },
  {
   "cell_type": "markdown",
   "id": "4b820b39",
   "metadata": {
    "papermill": {
     "duration": 0.014685,
     "end_time": "2021-08-10T19:25:48.244632",
     "exception": false,
     "start_time": "2021-08-10T19:25:48.229947",
     "status": "completed"
    },
    "tags": []
   },
   "source": [
    "# Exercises\n",
    "\n",
    "## Step 1: Split Your Data\n",
    "Use the `train_test_split` function to split up your data.\n",
    "\n",
    "Give it the argument `random_state=1` so the `check` functions know what to expect when verifying your code.\n",
    "\n",
    "Recall, your features are loaded in the DataFrame **X** and your target is loaded in **y**.\n"
   ]
  },
  {
   "cell_type": "code",
   "execution_count": 3,
   "id": "8ec53975",
   "metadata": {
    "execution": {
     "iopub.execute_input": "2021-08-10T19:25:48.281115Z",
     "iopub.status.busy": "2021-08-10T19:25:48.280415Z",
     "iopub.status.idle": "2021-08-10T19:25:48.314207Z",
     "shell.execute_reply": "2021-08-10T19:25:48.312827Z",
     "shell.execute_reply.started": "2021-08-10T19:21:34.102088Z"
    },
    "papermill": {
     "duration": 0.05499,
     "end_time": "2021-08-10T19:25:48.314359",
     "exception": false,
     "start_time": "2021-08-10T19:25:48.259369",
     "status": "completed"
    },
    "tags": []
   },
   "outputs": [
    {
     "data": {
      "application/javascript": [
       "parent.postMessage({\"jupyterEvent\": \"custom.exercise_interaction\", \"data\": {\"outcomeType\": 1, \"valueTowardsCompletion\": 0.25, \"interactionType\": 1, \"questionType\": 2, \"questionId\": \"1_SplitData\", \"learnToolsVersion\": \"0.3.4\", \"failureMessage\": \"\", \"exceptionClass\": \"\", \"trace\": \"\"}}, \"*\")"
      ],
      "text/plain": [
       "<IPython.core.display.Javascript object>"
      ]
     },
     "metadata": {},
     "output_type": "display_data"
    },
    {
     "data": {
      "text/markdown": [
       "<span style=\"color:#33cc33\">Correct</span>"
      ],
      "text/plain": [
       "Correct"
      ]
     },
     "metadata": {},
     "output_type": "display_data"
    }
   ],
   "source": [
    "# Import the train_test_split function and uncomment\n",
    "from sklearn.model_selection import train_test_split\n",
    "\n",
    "# fill in and uncomment\n",
    "train_X, val_X, train_y, val_y = train_test_split(X,y,test_size = .25,random_state=1)\n",
    "\n",
    "# Check your answer\n",
    "step_1.check()"
   ]
  },
  {
   "cell_type": "code",
   "execution_count": 4,
   "id": "6935f8eb",
   "metadata": {
    "execution": {
     "iopub.execute_input": "2021-08-10T19:25:48.350313Z",
     "iopub.status.busy": "2021-08-10T19:25:48.349663Z",
     "iopub.status.idle": "2021-08-10T19:25:48.352513Z",
     "shell.execute_reply": "2021-08-10T19:25:48.351680Z",
     "shell.execute_reply.started": "2021-08-10T19:21:37.725211Z"
    },
    "papermill": {
     "duration": 0.022028,
     "end_time": "2021-08-10T19:25:48.352671",
     "exception": false,
     "start_time": "2021-08-10T19:25:48.330643",
     "status": "completed"
    },
    "tags": []
   },
   "outputs": [],
   "source": [
    "# The lines below will show you a hint or the solution.\n",
    "# step_1.hint() \n",
    "# step_1.solution()\n"
   ]
  },
  {
   "cell_type": "markdown",
   "id": "9f106d09",
   "metadata": {
    "papermill": {
     "duration": 0.016547,
     "end_time": "2021-08-10T19:25:48.386293",
     "exception": false,
     "start_time": "2021-08-10T19:25:48.369746",
     "status": "completed"
    },
    "tags": []
   },
   "source": [
    "## Step 2: Specify and Fit the Model\n",
    "\n",
    "Create a `DecisionTreeRegressor` model and fit it to the relevant data.\n",
    "Set `random_state` to 1 again when creating the model."
   ]
  },
  {
   "cell_type": "code",
   "execution_count": 5,
   "id": "5591d069",
   "metadata": {
    "execution": {
     "iopub.execute_input": "2021-08-10T19:25:48.426490Z",
     "iopub.status.busy": "2021-08-10T19:25:48.425781Z",
     "iopub.status.idle": "2021-08-10T19:25:48.453324Z",
     "shell.execute_reply": "2021-08-10T19:25:48.452737Z",
     "shell.execute_reply.started": "2021-08-10T19:22:17.240071Z"
    },
    "papermill": {
     "duration": 0.05146,
     "end_time": "2021-08-10T19:25:48.453491",
     "exception": false,
     "start_time": "2021-08-10T19:25:48.402031",
     "status": "completed"
    },
    "tags": []
   },
   "outputs": [
    {
     "name": "stdout",
     "output_type": "stream",
     "text": [
      "[186500. 184000. 130000.  92000. 164500. 220000. 335000. 144152. 215000.\n",
      " 262000.]\n",
      "[186500. 184000. 130000.  92000. 164500. 220000. 335000. 144152. 215000.\n",
      " 262000.]\n"
     ]
    },
    {
     "data": {
      "application/javascript": [
       "parent.postMessage({\"jupyterEvent\": \"custom.exercise_interaction\", \"data\": {\"outcomeType\": 1, \"valueTowardsCompletion\": 0.25, \"interactionType\": 1, \"questionType\": 2, \"questionId\": \"2_FitModelWithTrain\", \"learnToolsVersion\": \"0.3.4\", \"failureMessage\": \"\", \"exceptionClass\": \"\", \"trace\": \"\"}}, \"*\")"
      ],
      "text/plain": [
       "<IPython.core.display.Javascript object>"
      ]
     },
     "metadata": {},
     "output_type": "display_data"
    },
    {
     "data": {
      "text/markdown": [
       "<span style=\"color:#33cc33\">Correct</span>"
      ],
      "text/plain": [
       "Correct"
      ]
     },
     "metadata": {},
     "output_type": "display_data"
    }
   ],
   "source": [
    "# You imported DecisionTreeRegressor in your last exercise\n",
    "# and that code has been copied to the setup code above. So, no need to\n",
    "# import it again\n",
    "\n",
    "iowa_model = DecisionTreeRegressor(random_state=1)\n",
    "# Fit Model\n",
    "iowa_model.fit(train_X, train_y)\n",
    "# Check your answer\n",
    "step_2.check()"
   ]
  },
  {
   "cell_type": "code",
   "execution_count": 6,
   "id": "30f8420e",
   "metadata": {
    "execution": {
     "iopub.execute_input": "2021-08-10T19:25:48.492519Z",
     "iopub.status.busy": "2021-08-10T19:25:48.491850Z",
     "iopub.status.idle": "2021-08-10T19:25:48.495581Z",
     "shell.execute_reply": "2021-08-10T19:25:48.495031Z",
     "shell.execute_reply.started": "2021-08-10T19:22:22.062140Z"
    },
    "papermill": {
     "duration": 0.0245,
     "end_time": "2021-08-10T19:25:48.495737",
     "exception": false,
     "start_time": "2021-08-10T19:25:48.471237",
     "status": "completed"
    },
    "tags": []
   },
   "outputs": [],
   "source": [
    "# step_2.hint()\n",
    "# step_2.solution()"
   ]
  },
  {
   "cell_type": "markdown",
   "id": "8733aaf3",
   "metadata": {
    "papermill": {
     "duration": 0.017971,
     "end_time": "2021-08-10T19:25:48.532330",
     "exception": false,
     "start_time": "2021-08-10T19:25:48.514359",
     "status": "completed"
    },
    "tags": []
   },
   "source": [
    "## Step 3: Make Predictions with Validation data\n"
   ]
  },
  {
   "cell_type": "code",
   "execution_count": 7,
   "id": "fe4c7c36",
   "metadata": {
    "execution": {
     "iopub.execute_input": "2021-08-10T19:25:48.574365Z",
     "iopub.status.busy": "2021-08-10T19:25:48.573703Z",
     "iopub.status.idle": "2021-08-10T19:25:48.683086Z",
     "shell.execute_reply": "2021-08-10T19:25:48.681937Z",
     "shell.execute_reply.started": "2021-08-10T19:25:15.978935Z"
    },
    "papermill": {
     "duration": 0.133562,
     "end_time": "2021-08-10T19:25:48.683381",
     "exception": true,
     "start_time": "2021-08-10T19:25:48.549819",
     "status": "failed"
    },
    "tags": []
   },
   "outputs": [
    {
     "ename": "NameError",
     "evalue": "name 'mean_absolute_error' is not defined",
     "output_type": "error",
     "traceback": [
      "\u001b[0;31m---------------------------------------------------------------------------\u001b[0m",
      "\u001b[0;31mNameError\u001b[0m                                 Traceback (most recent call last)",
      "\u001b[0;32m<ipython-input-7-9b397cde4d7b>\u001b[0m in \u001b[0;36m<module>\u001b[0;34m\u001b[0m\n\u001b[1;32m      1\u001b[0m \u001b[0mval_predictions\u001b[0m \u001b[0;34m=\u001b[0m \u001b[0miowa_model\u001b[0m\u001b[0;34m.\u001b[0m\u001b[0mpredict\u001b[0m\u001b[0;34m(\u001b[0m\u001b[0mval_X\u001b[0m\u001b[0;34m)\u001b[0m\u001b[0;34m\u001b[0m\u001b[0;34m\u001b[0m\u001b[0m\n\u001b[0;32m----> 2\u001b[0;31m \u001b[0mprint\u001b[0m\u001b[0;34m(\u001b[0m\u001b[0mmean_absolute_error\u001b[0m\u001b[0;34m(\u001b[0m\u001b[0mval_y\u001b[0m\u001b[0;34m,\u001b[0m \u001b[0mval_predictions\u001b[0m\u001b[0;34m)\u001b[0m\u001b[0;34m)\u001b[0m\u001b[0;34m\u001b[0m\u001b[0;34m\u001b[0m\u001b[0m\n\u001b[0m\u001b[1;32m      3\u001b[0m \u001b[0;34m\u001b[0m\u001b[0m\n\u001b[1;32m      4\u001b[0m \u001b[0;31m# Check your answer\u001b[0m\u001b[0;34m\u001b[0m\u001b[0;34m\u001b[0m\u001b[0;34m\u001b[0m\u001b[0m\n\u001b[1;32m      5\u001b[0m \u001b[0mstep_3\u001b[0m\u001b[0;34m.\u001b[0m\u001b[0mcheck\u001b[0m\u001b[0;34m(\u001b[0m\u001b[0;34m)\u001b[0m\u001b[0;34m\u001b[0m\u001b[0;34m\u001b[0m\u001b[0m\n",
      "\u001b[0;31mNameError\u001b[0m: name 'mean_absolute_error' is not defined"
     ]
    }
   ],
   "source": [
    "val_predictions = iowa_model.predict(val_X)\n",
    "print(mean_absolute_error(val_y, val_predictions))\n",
    "\n",
    "# Check your answer\n",
    "step_3.check()"
   ]
  },
  {
   "cell_type": "code",
   "execution_count": null,
   "id": "e6b44ca2",
   "metadata": {
    "papermill": {
     "duration": null,
     "end_time": null,
     "exception": null,
     "start_time": null,
     "status": "pending"
    },
    "tags": []
   },
   "outputs": [],
   "source": [
    "# step_3.hint()\n",
    "# step_3.solution()"
   ]
  },
  {
   "cell_type": "markdown",
   "id": "6604cabc",
   "metadata": {
    "papermill": {
     "duration": null,
     "end_time": null,
     "exception": null,
     "start_time": null,
     "status": "pending"
    },
    "tags": []
   },
   "source": [
    "Inspect your predictions and actual values from validation data."
   ]
  },
  {
   "cell_type": "code",
   "execution_count": null,
   "id": "c8432609",
   "metadata": {
    "papermill": {
     "duration": null,
     "end_time": null,
     "exception": null,
     "start_time": null,
     "status": "pending"
    },
    "tags": []
   },
   "outputs": [],
   "source": [
    "# print the top few validation predictions\n",
    "print(____)\n",
    "# print the top few actual prices from validation data\n",
    "print(____)"
   ]
  },
  {
   "cell_type": "markdown",
   "id": "10b5215d",
   "metadata": {
    "papermill": {
     "duration": null,
     "end_time": null,
     "exception": null,
     "start_time": null,
     "status": "pending"
    },
    "tags": []
   },
   "source": [
    "What do you notice that is different from what you saw with in-sample predictions (which are printed after the top code cell in this page).\n",
    "\n",
    "Do you remember why validation predictions differ from in-sample (or training) predictions? This is an important idea from the last lesson.\n",
    "\n",
    "## Step 4: Calculate the Mean Absolute Error in Validation Data\n"
   ]
  },
  {
   "cell_type": "code",
   "execution_count": null,
   "id": "42af7bff",
   "metadata": {
    "execution": {
     "iopub.execute_input": "2021-08-10T19:24:48.727240Z",
     "iopub.status.busy": "2021-08-10T19:24:48.726593Z",
     "iopub.status.idle": "2021-08-10T19:24:48.760433Z",
     "shell.execute_reply": "2021-08-10T19:24:48.758662Z",
     "shell.execute_reply.started": "2021-08-10T19:24:48.727189Z"
    },
    "papermill": {
     "duration": null,
     "end_time": null,
     "exception": null,
     "start_time": null,
     "status": "pending"
    },
    "tags": []
   },
   "outputs": [],
   "source": [
    "from sklearn.metrics import mean_absolute_error\n",
    "val_mae = mean_absolute_error(val_y, val_predictions)\n",
    "\n",
    "# uncomment following line to see the validation_mae\n",
    "print(val_mae)\n",
    "\n",
    "# Check your answer\n",
    "step_4.check()"
   ]
  },
  {
   "cell_type": "code",
   "execution_count": null,
   "id": "44e1e743",
   "metadata": {
    "execution": {
     "iopub.execute_input": "2021-08-10T19:24:53.836758Z",
     "iopub.status.busy": "2021-08-10T19:24:53.836331Z",
     "iopub.status.idle": "2021-08-10T19:24:53.840166Z",
     "shell.execute_reply": "2021-08-10T19:24:53.839197Z",
     "shell.execute_reply.started": "2021-08-10T19:24:53.836724Z"
    },
    "papermill": {
     "duration": null,
     "end_time": null,
     "exception": null,
     "start_time": null,
     "status": "pending"
    },
    "tags": []
   },
   "outputs": [],
   "source": [
    "# step_4.hint()\n",
    "# step_4.solution()"
   ]
  },
  {
   "cell_type": "markdown",
   "id": "80cc9880",
   "metadata": {
    "papermill": {
     "duration": null,
     "end_time": null,
     "exception": null,
     "start_time": null,
     "status": "pending"
    },
    "tags": []
   },
   "source": [
    "Is that MAE good?  There isn't a general rule for what values are good that applies across applications. But you'll see how to use (and improve) this number in the next step.\n",
    "\n",
    "# Keep Going\n",
    "\n",
    "You are ready for **[Underfitting and Overfitting](https://www.kaggle.com/dansbecker/underfitting-and-overfitting).**\n"
   ]
  },
  {
   "cell_type": "markdown",
   "id": "35e15bad",
   "metadata": {
    "papermill": {
     "duration": null,
     "end_time": null,
     "exception": null,
     "start_time": null,
     "status": "pending"
    },
    "tags": []
   },
   "source": [
    "---\n",
    "\n",
    "\n",
    "\n",
    "\n",
    "*Have questions or comments? Visit the [Learn Discussion forum](https://www.kaggle.com/learn-forum/161285) to chat with other Learners.*"
   ]
  }
 ],
 "metadata": {
  "kernelspec": {
   "display_name": "Python 3",
   "language": "python",
   "name": "python3"
  },
  "language_info": {
   "codemirror_mode": {
    "name": "ipython",
    "version": 3
   },
   "file_extension": ".py",
   "mimetype": "text/x-python",
   "name": "python",
   "nbconvert_exporter": "python",
   "pygments_lexer": "ipython3",
   "version": "3.7.10"
  },
  "papermill": {
   "default_parameters": {},
   "duration": 11.940778,
   "end_time": "2021-08-10T19:25:49.513064",
   "environment_variables": {},
   "exception": true,
   "input_path": "__notebook__.ipynb",
   "output_path": "__notebook__.ipynb",
   "parameters": {},
   "start_time": "2021-08-10T19:25:37.572286",
   "version": "2.3.3"
  }
 },
 "nbformat": 4,
 "nbformat_minor": 5
}
