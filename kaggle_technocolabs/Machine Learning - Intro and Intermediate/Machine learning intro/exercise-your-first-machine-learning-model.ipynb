{
 "cells": [
  {
   "cell_type": "markdown",
   "id": "adffc696",
   "metadata": {
    "papermill": {
     "duration": 0.01666,
     "end_time": "2021-08-10T18:51:29.467775",
     "exception": false,
     "start_time": "2021-08-10T18:51:29.451115",
     "status": "completed"
    },
    "tags": []
   },
   "source": [
    "**This notebook is an exercise in the [Introduction to Machine Learning](https://www.kaggle.com/learn/intro-to-machine-learning) course.  You can reference the tutorial at [this link](https://www.kaggle.com/dansbecker/your-first-machine-learning-model).**\n",
    "\n",
    "---\n"
   ]
  },
  {
   "cell_type": "markdown",
   "id": "18c11c04",
   "metadata": {
    "papermill": {
     "duration": 0.015189,
     "end_time": "2021-08-10T18:51:29.500097",
     "exception": false,
     "start_time": "2021-08-10T18:51:29.484908",
     "status": "completed"
    },
    "tags": []
   },
   "source": [
    "## Recap\n",
    "So far, you have loaded your data and reviewed it with the following code. Run this cell to set up your coding environment where the previous step left off."
   ]
  },
  {
   "cell_type": "code",
   "execution_count": 1,
   "id": "e353fc57",
   "metadata": {
    "execution": {
     "iopub.execute_input": "2021-08-10T18:51:29.543485Z",
     "iopub.status.busy": "2021-08-10T18:51:29.542752Z",
     "iopub.status.idle": "2021-08-10T18:51:30.812549Z",
     "shell.execute_reply": "2021-08-10T18:51:30.813211Z",
     "shell.execute_reply.started": "2021-08-10T18:43:42.760823Z"
    },
    "papermill": {
     "duration": 1.298237,
     "end_time": "2021-08-10T18:51:30.813510",
     "exception": false,
     "start_time": "2021-08-10T18:51:29.515273",
     "status": "completed"
    },
    "tags": []
   },
   "outputs": [
    {
     "name": "stdout",
     "output_type": "stream",
     "text": [
      "Setup Complete\n"
     ]
    }
   ],
   "source": [
    "# Code you have previously used to load data\n",
    "import pandas as pd\n",
    "\n",
    "# Path of the file to read\n",
    "iowa_file_path = '../input/home-data-for-ml-course/train.csv'\n",
    "\n",
    "home_data = pd.read_csv(iowa_file_path)\n",
    "\n",
    "# Set up code checking\n",
    "from learntools.core import binder\n",
    "binder.bind(globals())\n",
    "from learntools.machine_learning.ex3 import *\n",
    "\n",
    "print(\"Setup Complete\")"
   ]
  },
  {
   "cell_type": "markdown",
   "id": "12afe66f",
   "metadata": {
    "papermill": {
     "duration": 0.015238,
     "end_time": "2021-08-10T18:51:30.844629",
     "exception": false,
     "start_time": "2021-08-10T18:51:30.829391",
     "status": "completed"
    },
    "tags": []
   },
   "source": [
    "# Exercises\n",
    "\n",
    "## Step 1: Specify Prediction Target\n",
    "Select the target variable, which corresponds to the sales price. Save this to a new variable called `y`. You'll need to print a list of the columns to find the name of the column you need.\n"
   ]
  },
  {
   "cell_type": "code",
   "execution_count": 2,
   "id": "1e68553e",
   "metadata": {
    "execution": {
     "iopub.execute_input": "2021-08-10T18:51:30.885983Z",
     "iopub.status.busy": "2021-08-10T18:51:30.885249Z",
     "iopub.status.idle": "2021-08-10T18:51:30.888471Z",
     "shell.execute_reply": "2021-08-10T18:51:30.888994Z",
     "shell.execute_reply.started": "2021-08-10T18:47:39.899141Z"
    },
    "papermill": {
     "duration": 0.028929,
     "end_time": "2021-08-10T18:51:30.889172",
     "exception": false,
     "start_time": "2021-08-10T18:51:30.860243",
     "status": "completed"
    },
    "tags": []
   },
   "outputs": [
    {
     "data": {
      "text/plain": [
       "Index(['Id', 'MSSubClass', 'MSZoning', 'LotFrontage', 'LotArea', 'Street',\n",
       "       'Alley', 'LotShape', 'LandContour', 'Utilities', 'LotConfig',\n",
       "       'LandSlope', 'Neighborhood', 'Condition1', 'Condition2', 'BldgType',\n",
       "       'HouseStyle', 'OverallQual', 'OverallCond', 'YearBuilt', 'YearRemodAdd',\n",
       "       'RoofStyle', 'RoofMatl', 'Exterior1st', 'Exterior2nd', 'MasVnrType',\n",
       "       'MasVnrArea', 'ExterQual', 'ExterCond', 'Foundation', 'BsmtQual',\n",
       "       'BsmtCond', 'BsmtExposure', 'BsmtFinType1', 'BsmtFinSF1',\n",
       "       'BsmtFinType2', 'BsmtFinSF2', 'BsmtUnfSF', 'TotalBsmtSF', 'Heating',\n",
       "       'HeatingQC', 'CentralAir', 'Electrical', '1stFlrSF', '2ndFlrSF',\n",
       "       'LowQualFinSF', 'GrLivArea', 'BsmtFullBath', 'BsmtHalfBath', 'FullBath',\n",
       "       'HalfBath', 'BedroomAbvGr', 'KitchenAbvGr', 'KitchenQual',\n",
       "       'TotRmsAbvGrd', 'Functional', 'Fireplaces', 'FireplaceQu', 'GarageType',\n",
       "       'GarageYrBlt', 'GarageFinish', 'GarageCars', 'GarageArea', 'GarageQual',\n",
       "       'GarageCond', 'PavedDrive', 'WoodDeckSF', 'OpenPorchSF',\n",
       "       'EnclosedPorch', '3SsnPorch', 'ScreenPorch', 'PoolArea', 'PoolQC',\n",
       "       'Fence', 'MiscFeature', 'MiscVal', 'MoSold', 'YrSold', 'SaleType',\n",
       "       'SaleCondition', 'SalePrice'],\n",
       "      dtype='object')"
      ]
     },
     "execution_count": 2,
     "metadata": {},
     "output_type": "execute_result"
    }
   ],
   "source": [
    "# print the list of columns in the dataset to find the name of the prediction target\n",
    "home_data.columns"
   ]
  },
  {
   "cell_type": "code",
   "execution_count": 3,
   "id": "31bc75fc",
   "metadata": {
    "execution": {
     "iopub.execute_input": "2021-08-10T18:51:30.925195Z",
     "iopub.status.busy": "2021-08-10T18:51:30.924503Z",
     "iopub.status.idle": "2021-08-10T18:51:30.940057Z",
     "shell.execute_reply": "2021-08-10T18:51:30.939389Z",
     "shell.execute_reply.started": "2021-08-10T18:48:09.027345Z"
    },
    "papermill": {
     "duration": 0.034768,
     "end_time": "2021-08-10T18:51:30.940191",
     "exception": false,
     "start_time": "2021-08-10T18:51:30.905423",
     "status": "completed"
    },
    "tags": []
   },
   "outputs": [
    {
     "data": {
      "application/javascript": [
       "parent.postMessage({\"jupyterEvent\": \"custom.exercise_interaction\", \"data\": {\"outcomeType\": 1, \"valueTowardsCompletion\": 0.25, \"interactionType\": 1, \"questionType\": 2, \"questionId\": \"1_SetTarget\", \"learnToolsVersion\": \"0.3.4\", \"failureMessage\": \"\", \"exceptionClass\": \"\", \"trace\": \"\"}}, \"*\")"
      ],
      "text/plain": [
       "<IPython.core.display.Javascript object>"
      ]
     },
     "metadata": {},
     "output_type": "display_data"
    },
    {
     "data": {
      "text/markdown": [
       "<span style=\"color:#33cc33\">Correct</span>"
      ],
      "text/plain": [
       "Correct"
      ]
     },
     "metadata": {},
     "output_type": "display_data"
    }
   ],
   "source": [
    "y = home_data.SalePrice\n",
    "\n",
    "# Check your answer\n",
    "step_1.check()"
   ]
  },
  {
   "cell_type": "code",
   "execution_count": 4,
   "id": "7a3f235a",
   "metadata": {
    "execution": {
     "iopub.execute_input": "2021-08-10T18:51:30.979188Z",
     "iopub.status.busy": "2021-08-10T18:51:30.978503Z",
     "iopub.status.idle": "2021-08-10T18:51:30.981547Z",
     "shell.execute_reply": "2021-08-10T18:51:30.981055Z",
     "shell.execute_reply.started": "2021-08-10T18:48:19.001408Z"
    },
    "papermill": {
     "duration": 0.024179,
     "end_time": "2021-08-10T18:51:30.981706",
     "exception": false,
     "start_time": "2021-08-10T18:51:30.957527",
     "status": "completed"
    },
    "tags": []
   },
   "outputs": [],
   "source": [
    "# The lines below will show you a hint or the solution.\n",
    "# step_1.hint() \n",
    "# step_1.solution()"
   ]
  },
  {
   "cell_type": "markdown",
   "id": "2cdc0ba3",
   "metadata": {
    "papermill": {
     "duration": 0.017045,
     "end_time": "2021-08-10T18:51:31.016134",
     "exception": false,
     "start_time": "2021-08-10T18:51:30.999089",
     "status": "completed"
    },
    "tags": []
   },
   "source": [
    "## Step 2: Create X\n",
    "Now you will create a DataFrame called `X` holding the predictive features.\n",
    "\n",
    "Since you want only some columns from the original data, you'll first create a list with the names of the columns you want in `X`.\n",
    "\n",
    "You'll use just the following columns in the list (you can copy and paste the whole list to save some typing, though you'll still need to add quotes):\n",
    "    * LotArea\n",
    "    * YearBuilt\n",
    "    * 1stFlrSF\n",
    "    * 2ndFlrSF\n",
    "    * FullBath\n",
    "    * BedroomAbvGr\n",
    "    * TotRmsAbvGrd\n",
    "\n",
    "After you've created that list of features, use it to create the DataFrame that you'll use to fit the model."
   ]
  },
  {
   "cell_type": "code",
   "execution_count": 5,
   "id": "823b350c",
   "metadata": {
    "execution": {
     "iopub.execute_input": "2021-08-10T18:51:31.058936Z",
     "iopub.status.busy": "2021-08-10T18:51:31.058232Z",
     "iopub.status.idle": "2021-08-10T18:51:31.062819Z",
     "shell.execute_reply": "2021-08-10T18:51:31.063408Z",
     "shell.execute_reply.started": "2021-08-10T18:48:52.864414Z"
    },
    "papermill": {
     "duration": 0.030482,
     "end_time": "2021-08-10T18:51:31.063573",
     "exception": false,
     "start_time": "2021-08-10T18:51:31.033091",
     "status": "completed"
    },
    "tags": []
   },
   "outputs": [
    {
     "data": {
      "application/javascript": [
       "parent.postMessage({\"jupyterEvent\": \"custom.exercise_interaction\", \"data\": {\"outcomeType\": 1, \"valueTowardsCompletion\": 0.25, \"interactionType\": 1, \"questionType\": 2, \"questionId\": \"2_SelectPredictionData\", \"learnToolsVersion\": \"0.3.4\", \"failureMessage\": \"\", \"exceptionClass\": \"\", \"trace\": \"\"}}, \"*\")"
      ],
      "text/plain": [
       "<IPython.core.display.Javascript object>"
      ]
     },
     "metadata": {},
     "output_type": "display_data"
    },
    {
     "data": {
      "text/markdown": [
       "<span style=\"color:#33cc33\">Correct</span>"
      ],
      "text/plain": [
       "Correct"
      ]
     },
     "metadata": {},
     "output_type": "display_data"
    }
   ],
   "source": [
    "# Create the list of features below\n",
    "feature_names = ['LotArea', 'YearBuilt', '1stFlrSF', '2ndFlrSF', 'FullBath', 'BedroomAbvGr', 'TotRmsAbvGrd']\n",
    "\n",
    "# select data corresponding to features in feature_names\n",
    "X = home_data[feature_names]\n",
    "# Check your answer\n",
    "step_2.check()"
   ]
  },
  {
   "cell_type": "code",
   "execution_count": 6,
   "id": "a0b83f5c",
   "metadata": {
    "execution": {
     "iopub.execute_input": "2021-08-10T18:51:31.103416Z",
     "iopub.status.busy": "2021-08-10T18:51:31.102785Z",
     "iopub.status.idle": "2021-08-10T18:51:31.105915Z",
     "shell.execute_reply": "2021-08-10T18:51:31.106471Z",
     "shell.execute_reply.started": "2021-08-10T18:49:01.356045Z"
    },
    "papermill": {
     "duration": 0.024598,
     "end_time": "2021-08-10T18:51:31.106656",
     "exception": false,
     "start_time": "2021-08-10T18:51:31.082058",
     "status": "completed"
    },
    "tags": []
   },
   "outputs": [],
   "source": [
    "# step_2.hint()\n",
    "# step_2.solution()"
   ]
  },
  {
   "cell_type": "markdown",
   "id": "eb6cefe4",
   "metadata": {
    "papermill": {
     "duration": 0.017834,
     "end_time": "2021-08-10T18:51:31.142544",
     "exception": false,
     "start_time": "2021-08-10T18:51:31.124710",
     "status": "completed"
    },
    "tags": []
   },
   "source": [
    "## Review Data\n",
    "Before building a model, take a quick look at **X** to verify it looks sensible"
   ]
  },
  {
   "cell_type": "code",
   "execution_count": 7,
   "id": "64e75446",
   "metadata": {
    "execution": {
     "iopub.execute_input": "2021-08-10T18:51:31.182501Z",
     "iopub.status.busy": "2021-08-10T18:51:31.181846Z",
     "iopub.status.idle": "2021-08-10T18:51:31.199365Z",
     "shell.execute_reply": "2021-08-10T18:51:31.198872Z",
     "shell.execute_reply.started": "2021-08-10T18:49:52.535038Z"
    },
    "papermill": {
     "duration": 0.038679,
     "end_time": "2021-08-10T18:51:31.199502",
     "exception": false,
     "start_time": "2021-08-10T18:51:31.160823",
     "status": "completed"
    },
    "tags": []
   },
   "outputs": [
    {
     "data": {
      "text/html": [
       "<div>\n",
       "<style scoped>\n",
       "    .dataframe tbody tr th:only-of-type {\n",
       "        vertical-align: middle;\n",
       "    }\n",
       "\n",
       "    .dataframe tbody tr th {\n",
       "        vertical-align: top;\n",
       "    }\n",
       "\n",
       "    .dataframe thead th {\n",
       "        text-align: right;\n",
       "    }\n",
       "</style>\n",
       "<table border=\"1\" class=\"dataframe\">\n",
       "  <thead>\n",
       "    <tr style=\"text-align: right;\">\n",
       "      <th></th>\n",
       "      <th>LotArea</th>\n",
       "      <th>YearBuilt</th>\n",
       "      <th>1stFlrSF</th>\n",
       "      <th>2ndFlrSF</th>\n",
       "      <th>FullBath</th>\n",
       "      <th>BedroomAbvGr</th>\n",
       "      <th>TotRmsAbvGrd</th>\n",
       "    </tr>\n",
       "  </thead>\n",
       "  <tbody>\n",
       "    <tr>\n",
       "      <th>0</th>\n",
       "      <td>8450</td>\n",
       "      <td>2003</td>\n",
       "      <td>856</td>\n",
       "      <td>854</td>\n",
       "      <td>2</td>\n",
       "      <td>3</td>\n",
       "      <td>8</td>\n",
       "    </tr>\n",
       "    <tr>\n",
       "      <th>1</th>\n",
       "      <td>9600</td>\n",
       "      <td>1976</td>\n",
       "      <td>1262</td>\n",
       "      <td>0</td>\n",
       "      <td>2</td>\n",
       "      <td>3</td>\n",
       "      <td>6</td>\n",
       "    </tr>\n",
       "    <tr>\n",
       "      <th>2</th>\n",
       "      <td>11250</td>\n",
       "      <td>2001</td>\n",
       "      <td>920</td>\n",
       "      <td>866</td>\n",
       "      <td>2</td>\n",
       "      <td>3</td>\n",
       "      <td>6</td>\n",
       "    </tr>\n",
       "    <tr>\n",
       "      <th>3</th>\n",
       "      <td>9550</td>\n",
       "      <td>1915</td>\n",
       "      <td>961</td>\n",
       "      <td>756</td>\n",
       "      <td>1</td>\n",
       "      <td>3</td>\n",
       "      <td>7</td>\n",
       "    </tr>\n",
       "    <tr>\n",
       "      <th>4</th>\n",
       "      <td>14260</td>\n",
       "      <td>2000</td>\n",
       "      <td>1145</td>\n",
       "      <td>1053</td>\n",
       "      <td>2</td>\n",
       "      <td>4</td>\n",
       "      <td>9</td>\n",
       "    </tr>\n",
       "  </tbody>\n",
       "</table>\n",
       "</div>"
      ],
      "text/plain": [
       "   LotArea  YearBuilt  1stFlrSF  2ndFlrSF  FullBath  BedroomAbvGr  \\\n",
       "0     8450       2003       856       854         2             3   \n",
       "1     9600       1976      1262         0         2             3   \n",
       "2    11250       2001       920       866         2             3   \n",
       "3     9550       1915       961       756         1             3   \n",
       "4    14260       2000      1145      1053         2             4   \n",
       "\n",
       "   TotRmsAbvGrd  \n",
       "0             8  \n",
       "1             6  \n",
       "2             6  \n",
       "3             7  \n",
       "4             9  "
      ]
     },
     "execution_count": 7,
     "metadata": {},
     "output_type": "execute_result"
    }
   ],
   "source": [
    "# Review data\n",
    "# print description or statistics from X\n",
    "#print(_)\n",
    "\n",
    "# print the top few lines\n",
    "X.head()\n",
    "#print(_)"
   ]
  },
  {
   "cell_type": "markdown",
   "id": "53c039ae",
   "metadata": {
    "papermill": {
     "duration": 0.021956,
     "end_time": "2021-08-10T18:51:31.240443",
     "exception": false,
     "start_time": "2021-08-10T18:51:31.218487",
     "status": "completed"
    },
    "tags": []
   },
   "source": [
    "## Step 3: Specify and Fit Model\n",
    "Create a `DecisionTreeRegressor` and save it iowa_model. Ensure you've done the relevant import from sklearn to run this command.\n",
    "\n",
    "Then fit the model you just created using the data in `X` and `y` that you saved above."
   ]
  },
  {
   "cell_type": "code",
   "execution_count": 8,
   "id": "fdb7e73f",
   "metadata": {
    "execution": {
     "iopub.execute_input": "2021-08-10T18:51:31.300440Z",
     "iopub.status.busy": "2021-08-10T18:51:31.296354Z",
     "iopub.status.idle": "2021-08-10T18:51:31.322039Z",
     "shell.execute_reply": "2021-08-10T18:51:31.322505Z",
     "shell.execute_reply.started": "2021-08-10T18:50:10.245716Z"
    },
    "papermill": {
     "duration": 0.057383,
     "end_time": "2021-08-10T18:51:31.322717",
     "exception": false,
     "start_time": "2021-08-10T18:51:31.265334",
     "status": "completed"
    },
    "tags": []
   },
   "outputs": [
    {
     "data": {
      "application/javascript": [
       "parent.postMessage({\"jupyterEvent\": \"custom.exercise_interaction\", \"data\": {\"outcomeType\": 1, \"valueTowardsCompletion\": 0.25, \"interactionType\": 1, \"questionType\": 2, \"questionId\": \"3_CreateModel\", \"learnToolsVersion\": \"0.3.4\", \"failureMessage\": \"\", \"exceptionClass\": \"\", \"trace\": \"\"}}, \"*\")"
      ],
      "text/plain": [
       "<IPython.core.display.Javascript object>"
      ]
     },
     "metadata": {},
     "output_type": "display_data"
    },
    {
     "data": {
      "text/markdown": [
       "<span style=\"color:#33cc33\">Correct</span>"
      ],
      "text/plain": [
       "Correct"
      ]
     },
     "metadata": {},
     "output_type": "display_data"
    }
   ],
   "source": [
    "from sklearn.tree import DecisionTreeRegressor\n",
    "#specify the model. \n",
    "#For model reproducibility, set a numeric value for random_state when specifying the model\n",
    "iowa_model = DecisionTreeRegressor(random_state=1)\n",
    "\n",
    "# Fit the model\n",
    "iowa_model.fit(X, y)\n",
    "\n",
    "# Check your answer\n",
    "step_3.check()"
   ]
  },
  {
   "cell_type": "code",
   "execution_count": 9,
   "id": "faa34811",
   "metadata": {
    "execution": {
     "iopub.execute_input": "2021-08-10T18:51:31.368812Z",
     "iopub.status.busy": "2021-08-10T18:51:31.367861Z",
     "iopub.status.idle": "2021-08-10T18:51:31.370643Z",
     "shell.execute_reply": "2021-08-10T18:51:31.371129Z",
     "shell.execute_reply.started": "2021-08-10T18:50:27.971385Z"
    },
    "papermill": {
     "duration": 0.026575,
     "end_time": "2021-08-10T18:51:31.371292",
     "exception": false,
     "start_time": "2021-08-10T18:51:31.344717",
     "status": "completed"
    },
    "tags": []
   },
   "outputs": [],
   "source": [
    "# step_3.hint()\n",
    "# step_3.solution()"
   ]
  },
  {
   "cell_type": "markdown",
   "id": "91e9ea11",
   "metadata": {
    "papermill": {
     "duration": 0.01931,
     "end_time": "2021-08-10T18:51:31.410272",
     "exception": false,
     "start_time": "2021-08-10T18:51:31.390962",
     "status": "completed"
    },
    "tags": []
   },
   "source": [
    "## Step 4: Make Predictions\n",
    "Make predictions with the model's `predict` command using `X` as the data. Save the results to a variable called `predictions`."
   ]
  },
  {
   "cell_type": "code",
   "execution_count": 10,
   "id": "409c059c",
   "metadata": {
    "execution": {
     "iopub.execute_input": "2021-08-10T18:51:31.457205Z",
     "iopub.status.busy": "2021-08-10T18:51:31.456142Z",
     "iopub.status.idle": "2021-08-10T18:51:31.467808Z",
     "shell.execute_reply": "2021-08-10T18:51:31.468410Z",
     "shell.execute_reply.started": "2021-08-10T18:50:49.679247Z"
    },
    "papermill": {
     "duration": 0.038657,
     "end_time": "2021-08-10T18:51:31.468630",
     "exception": false,
     "start_time": "2021-08-10T18:51:31.429973",
     "status": "completed"
    },
    "tags": []
   },
   "outputs": [
    {
     "name": "stdout",
     "output_type": "stream",
     "text": [
      "[208500. 181500. 223500. ... 266500. 142125. 147500.]\n"
     ]
    },
    {
     "data": {
      "application/javascript": [
       "parent.postMessage({\"jupyterEvent\": \"custom.exercise_interaction\", \"data\": {\"outcomeType\": 1, \"valueTowardsCompletion\": 0.25, \"interactionType\": 1, \"questionType\": 2, \"questionId\": \"4_MakePredictions\", \"learnToolsVersion\": \"0.3.4\", \"failureMessage\": \"\", \"exceptionClass\": \"\", \"trace\": \"\"}}, \"*\")"
      ],
      "text/plain": [
       "<IPython.core.display.Javascript object>"
      ]
     },
     "metadata": {},
     "output_type": "display_data"
    },
    {
     "data": {
      "text/markdown": [
       "<span style=\"color:#33cc33\">Correct</span>"
      ],
      "text/plain": [
       "Correct"
      ]
     },
     "metadata": {},
     "output_type": "display_data"
    }
   ],
   "source": [
    "predictions = iowa_model.predict(X)\n",
    "print(predictions)\n",
    "\n",
    "#print(predictions[:5])\n",
    "#y.head()\n",
    "\n",
    "\n",
    "step_4.check()"
   ]
  },
  {
   "cell_type": "code",
   "execution_count": 11,
   "id": "372edfa4",
   "metadata": {
    "execution": {
     "iopub.execute_input": "2021-08-10T18:51:31.515315Z",
     "iopub.status.busy": "2021-08-10T18:51:31.514703Z",
     "iopub.status.idle": "2021-08-10T18:51:31.516891Z",
     "shell.execute_reply": "2021-08-10T18:51:31.517402Z",
     "shell.execute_reply.started": "2021-08-10T18:50:59.461709Z"
    },
    "papermill": {
     "duration": 0.027257,
     "end_time": "2021-08-10T18:51:31.517563",
     "exception": false,
     "start_time": "2021-08-10T18:51:31.490306",
     "status": "completed"
    },
    "tags": []
   },
   "outputs": [],
   "source": [
    "# step_4.hint()\n",
    "# step_4.solution()"
   ]
  },
  {
   "cell_type": "markdown",
   "id": "4bb00d9c",
   "metadata": {
    "papermill": {
     "duration": 0.020583,
     "end_time": "2021-08-10T18:51:31.559034",
     "exception": false,
     "start_time": "2021-08-10T18:51:31.538451",
     "status": "completed"
    },
    "tags": []
   },
   "source": [
    "## Think About Your Results\n",
    "\n",
    "Use the `head` method to compare the top few predictions to the actual home values (in `y`) for those same homes. Anything surprising?\n"
   ]
  },
  {
   "cell_type": "code",
   "execution_count": 12,
   "id": "35386675",
   "metadata": {
    "execution": {
     "iopub.execute_input": "2021-08-10T18:51:31.604840Z",
     "iopub.status.busy": "2021-08-10T18:51:31.604187Z",
     "iopub.status.idle": "2021-08-10T18:51:31.607740Z",
     "shell.execute_reply": "2021-08-10T18:51:31.608242Z",
     "shell.execute_reply.started": "2021-08-10T18:51:02.915706Z"
    },
    "papermill": {
     "duration": 0.028471,
     "end_time": "2021-08-10T18:51:31.608394",
     "exception": false,
     "start_time": "2021-08-10T18:51:31.579923",
     "status": "completed"
    },
    "tags": []
   },
   "outputs": [],
   "source": [
    "# You can write code in this cell\n"
   ]
  },
  {
   "cell_type": "markdown",
   "id": "2415bab2",
   "metadata": {
    "papermill": {
     "duration": 0.020749,
     "end_time": "2021-08-10T18:51:31.650153",
     "exception": false,
     "start_time": "2021-08-10T18:51:31.629404",
     "status": "completed"
    },
    "tags": []
   },
   "source": [
    "It's natural to ask how accurate the model's predictions will be and how you can improve that. That will be you're next step.\n",
    "\n",
    "# Keep Going\n",
    "\n",
    "You are ready for **[Model Validation](https://www.kaggle.com/dansbecker/model-validation).**\n"
   ]
  },
  {
   "cell_type": "markdown",
   "id": "a629d699",
   "metadata": {
    "papermill": {
     "duration": 0.020602,
     "end_time": "2021-08-10T18:51:31.691798",
     "exception": false,
     "start_time": "2021-08-10T18:51:31.671196",
     "status": "completed"
    },
    "tags": []
   },
   "source": [
    "---\n",
    "\n",
    "\n",
    "\n",
    "\n",
    "*Have questions or comments? Visit the [Learn Discussion forum](https://www.kaggle.com/learn-forum/161285) to chat with other Learners.*"
   ]
  }
 ],
 "metadata": {
  "kernelspec": {
   "display_name": "Python 3",
   "language": "python",
   "name": "python3"
  },
  "language_info": {
   "codemirror_mode": {
    "name": "ipython",
    "version": 3
   },
   "file_extension": ".py",
   "mimetype": "text/x-python",
   "name": "python",
   "nbconvert_exporter": "python",
   "pygments_lexer": "ipython3",
   "version": "3.7.10"
  },
  "papermill": {
   "default_parameters": {},
   "duration": 11.780133,
   "end_time": "2021-08-10T18:51:33.062980",
   "environment_variables": {},
   "exception": null,
   "input_path": "__notebook__.ipynb",
   "output_path": "__notebook__.ipynb",
   "parameters": {},
   "start_time": "2021-08-10T18:51:21.282847",
   "version": "2.3.3"
  }
 },
 "nbformat": 4,
 "nbformat_minor": 5
}
