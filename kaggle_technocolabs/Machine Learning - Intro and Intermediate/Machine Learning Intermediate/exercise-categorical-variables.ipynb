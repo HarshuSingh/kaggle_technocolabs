{
 "cells": [
  {
   "cell_type": "markdown",
   "id": "700f953e",
   "metadata": {
    "papermill": {
     "duration": 0.035877,
     "end_time": "2021-08-13T19:27:40.415397",
     "exception": false,
     "start_time": "2021-08-13T19:27:40.379520",
     "status": "completed"
    },
    "tags": []
   },
   "source": [
    "**This notebook is an exercise in the [Intermediate Machine Learning](https://www.kaggle.com/learn/intermediate-machine-learning) course.  You can reference the tutorial at [this link](https://www.kaggle.com/alexisbcook/categorical-variables).**\n",
    "\n",
    "---\n"
   ]
  },
  {
   "cell_type": "markdown",
   "id": "490bd82c",
   "metadata": {
    "papermill": {
     "duration": 0.035242,
     "end_time": "2021-08-13T19:27:40.485671",
     "exception": false,
     "start_time": "2021-08-13T19:27:40.450429",
     "status": "completed"
    },
    "tags": []
   },
   "source": [
    "By encoding **categorical variables**, you'll obtain your best results thus far!\n",
    "\n",
    "# Setup\n",
    "\n",
    "The questions below will give you feedback on your work. Run the following cell to set up the feedback system."
   ]
  },
  {
   "cell_type": "code",
   "execution_count": 1,
   "id": "1aca79a1",
   "metadata": {
    "execution": {
     "iopub.execute_input": "2021-08-13T19:27:40.556659Z",
     "iopub.status.busy": "2021-08-13T19:27:40.554706Z",
     "iopub.status.idle": "2021-08-13T19:27:40.765369Z",
     "shell.execute_reply": "2021-08-13T19:27:40.764594Z",
     "shell.execute_reply.started": "2021-08-13T19:20:28.099277Z"
    },
    "papermill": {
     "duration": 0.247007,
     "end_time": "2021-08-13T19:27:40.765577",
     "exception": false,
     "start_time": "2021-08-13T19:27:40.518570",
     "status": "completed"
    },
    "tags": []
   },
   "outputs": [
    {
     "name": "stdout",
     "output_type": "stream",
     "text": [
      "Setup Complete\n"
     ]
    }
   ],
   "source": [
    "# Set up code checking\n",
    "import os\n",
    "if not os.path.exists(\"../input/train.csv\"):\n",
    "    os.symlink(\"../input/home-data-for-ml-course/train.csv\", \"../input/train.csv\")  \n",
    "    os.symlink(\"../input/home-data-for-ml-course/test.csv\", \"../input/test.csv\") \n",
    "from learntools.core import binder\n",
    "binder.bind(globals())\n",
    "from learntools.ml_intermediate.ex3 import *\n",
    "print(\"Setup Complete\")"
   ]
  },
  {
   "cell_type": "markdown",
   "id": "795133a5",
   "metadata": {
    "papermill": {
     "duration": 0.034525,
     "end_time": "2021-08-13T19:27:40.835718",
     "exception": false,
     "start_time": "2021-08-13T19:27:40.801193",
     "status": "completed"
    },
    "tags": []
   },
   "source": [
    "In this exercise, you will work with data from the [Housing Prices Competition for Kaggle Learn Users](https://www.kaggle.com/c/home-data-for-ml-course). \n",
    "\n",
    "![Ames Housing dataset image](https://i.imgur.com/lTJVG4e.png)\n",
    "\n",
    "Run the next code cell without changes to load the training and validation sets in `X_train`, `X_valid`, `y_train`, and `y_valid`.  The test set is loaded in `X_test`."
   ]
  },
  {
   "cell_type": "code",
   "execution_count": 2,
   "id": "336520a4",
   "metadata": {
    "execution": {
     "iopub.execute_input": "2021-08-13T19:27:40.913762Z",
     "iopub.status.busy": "2021-08-13T19:27:40.912920Z",
     "iopub.status.idle": "2021-08-13T19:27:42.184296Z",
     "shell.execute_reply": "2021-08-13T19:27:42.183552Z",
     "shell.execute_reply.started": "2021-08-13T19:20:44.045968Z"
    },
    "papermill": {
     "duration": 1.316408,
     "end_time": "2021-08-13T19:27:42.184471",
     "exception": false,
     "start_time": "2021-08-13T19:27:40.868063",
     "status": "completed"
    },
    "tags": []
   },
   "outputs": [],
   "source": [
    "import pandas as pd\n",
    "from sklearn.model_selection import train_test_split\n",
    "\n",
    "# Read the data\n",
    "X = pd.read_csv('../input/train.csv', index_col='Id') \n",
    "X_test = pd.read_csv('../input/test.csv', index_col='Id')\n",
    "\n",
    "# Remove rows with missing target, separate target from predictors\n",
    "X.dropna(axis=0, subset=['SalePrice'], inplace=True)\n",
    "y = X.SalePrice\n",
    "X.drop(['SalePrice'], axis=1, inplace=True)\n",
    "\n",
    "# To keep things simple, we'll drop columns with missing values\n",
    "cols_with_missing = [col for col in X.columns if X[col].isnull().any()] \n",
    "X.drop(cols_with_missing, axis=1, inplace=True)\n",
    "X_test.drop(cols_with_missing, axis=1, inplace=True)\n",
    "\n",
    "# Break off validation set from training data\n",
    "X_train, X_valid, y_train, y_valid = train_test_split(X, y,\n",
    "                                                      train_size=0.8, test_size=0.2,\n",
    "                                                      random_state=0)"
   ]
  },
  {
   "cell_type": "markdown",
   "id": "516ace30",
   "metadata": {
    "papermill": {
     "duration": 0.034631,
     "end_time": "2021-08-13T19:27:42.253280",
     "exception": false,
     "start_time": "2021-08-13T19:27:42.218649",
     "status": "completed"
    },
    "tags": []
   },
   "source": [
    "Use the next code cell to print the first five rows of the data."
   ]
  },
  {
   "cell_type": "code",
   "execution_count": 3,
   "id": "18569a3f",
   "metadata": {
    "execution": {
     "iopub.execute_input": "2021-08-13T19:27:42.333102Z",
     "iopub.status.busy": "2021-08-13T19:27:42.332242Z",
     "iopub.status.idle": "2021-08-13T19:27:42.362606Z",
     "shell.execute_reply": "2021-08-13T19:27:42.363253Z",
     "shell.execute_reply.started": "2021-08-13T19:20:47.061705Z"
    },
    "papermill": {
     "duration": 0.076288,
     "end_time": "2021-08-13T19:27:42.363487",
     "exception": false,
     "start_time": "2021-08-13T19:27:42.287199",
     "status": "completed"
    },
    "tags": []
   },
   "outputs": [
    {
     "data": {
      "text/html": [
       "<div>\n",
       "<style scoped>\n",
       "    .dataframe tbody tr th:only-of-type {\n",
       "        vertical-align: middle;\n",
       "    }\n",
       "\n",
       "    .dataframe tbody tr th {\n",
       "        vertical-align: top;\n",
       "    }\n",
       "\n",
       "    .dataframe thead th {\n",
       "        text-align: right;\n",
       "    }\n",
       "</style>\n",
       "<table border=\"1\" class=\"dataframe\">\n",
       "  <thead>\n",
       "    <tr style=\"text-align: right;\">\n",
       "      <th></th>\n",
       "      <th>MSSubClass</th>\n",
       "      <th>MSZoning</th>\n",
       "      <th>LotArea</th>\n",
       "      <th>Street</th>\n",
       "      <th>LotShape</th>\n",
       "      <th>LandContour</th>\n",
       "      <th>Utilities</th>\n",
       "      <th>LotConfig</th>\n",
       "      <th>LandSlope</th>\n",
       "      <th>Neighborhood</th>\n",
       "      <th>...</th>\n",
       "      <th>OpenPorchSF</th>\n",
       "      <th>EnclosedPorch</th>\n",
       "      <th>3SsnPorch</th>\n",
       "      <th>ScreenPorch</th>\n",
       "      <th>PoolArea</th>\n",
       "      <th>MiscVal</th>\n",
       "      <th>MoSold</th>\n",
       "      <th>YrSold</th>\n",
       "      <th>SaleType</th>\n",
       "      <th>SaleCondition</th>\n",
       "    </tr>\n",
       "    <tr>\n",
       "      <th>Id</th>\n",
       "      <th></th>\n",
       "      <th></th>\n",
       "      <th></th>\n",
       "      <th></th>\n",
       "      <th></th>\n",
       "      <th></th>\n",
       "      <th></th>\n",
       "      <th></th>\n",
       "      <th></th>\n",
       "      <th></th>\n",
       "      <th></th>\n",
       "      <th></th>\n",
       "      <th></th>\n",
       "      <th></th>\n",
       "      <th></th>\n",
       "      <th></th>\n",
       "      <th></th>\n",
       "      <th></th>\n",
       "      <th></th>\n",
       "      <th></th>\n",
       "      <th></th>\n",
       "    </tr>\n",
       "  </thead>\n",
       "  <tbody>\n",
       "    <tr>\n",
       "      <th>619</th>\n",
       "      <td>20</td>\n",
       "      <td>RL</td>\n",
       "      <td>11694</td>\n",
       "      <td>Pave</td>\n",
       "      <td>Reg</td>\n",
       "      <td>Lvl</td>\n",
       "      <td>AllPub</td>\n",
       "      <td>Inside</td>\n",
       "      <td>Gtl</td>\n",
       "      <td>NridgHt</td>\n",
       "      <td>...</td>\n",
       "      <td>108</td>\n",
       "      <td>0</td>\n",
       "      <td>0</td>\n",
       "      <td>260</td>\n",
       "      <td>0</td>\n",
       "      <td>0</td>\n",
       "      <td>7</td>\n",
       "      <td>2007</td>\n",
       "      <td>New</td>\n",
       "      <td>Partial</td>\n",
       "    </tr>\n",
       "    <tr>\n",
       "      <th>871</th>\n",
       "      <td>20</td>\n",
       "      <td>RL</td>\n",
       "      <td>6600</td>\n",
       "      <td>Pave</td>\n",
       "      <td>Reg</td>\n",
       "      <td>Lvl</td>\n",
       "      <td>AllPub</td>\n",
       "      <td>Inside</td>\n",
       "      <td>Gtl</td>\n",
       "      <td>NAmes</td>\n",
       "      <td>...</td>\n",
       "      <td>0</td>\n",
       "      <td>0</td>\n",
       "      <td>0</td>\n",
       "      <td>0</td>\n",
       "      <td>0</td>\n",
       "      <td>0</td>\n",
       "      <td>8</td>\n",
       "      <td>2009</td>\n",
       "      <td>WD</td>\n",
       "      <td>Normal</td>\n",
       "    </tr>\n",
       "    <tr>\n",
       "      <th>93</th>\n",
       "      <td>30</td>\n",
       "      <td>RL</td>\n",
       "      <td>13360</td>\n",
       "      <td>Pave</td>\n",
       "      <td>IR1</td>\n",
       "      <td>HLS</td>\n",
       "      <td>AllPub</td>\n",
       "      <td>Inside</td>\n",
       "      <td>Gtl</td>\n",
       "      <td>Crawfor</td>\n",
       "      <td>...</td>\n",
       "      <td>0</td>\n",
       "      <td>44</td>\n",
       "      <td>0</td>\n",
       "      <td>0</td>\n",
       "      <td>0</td>\n",
       "      <td>0</td>\n",
       "      <td>8</td>\n",
       "      <td>2009</td>\n",
       "      <td>WD</td>\n",
       "      <td>Normal</td>\n",
       "    </tr>\n",
       "    <tr>\n",
       "      <th>818</th>\n",
       "      <td>20</td>\n",
       "      <td>RL</td>\n",
       "      <td>13265</td>\n",
       "      <td>Pave</td>\n",
       "      <td>IR1</td>\n",
       "      <td>Lvl</td>\n",
       "      <td>AllPub</td>\n",
       "      <td>CulDSac</td>\n",
       "      <td>Gtl</td>\n",
       "      <td>Mitchel</td>\n",
       "      <td>...</td>\n",
       "      <td>59</td>\n",
       "      <td>0</td>\n",
       "      <td>0</td>\n",
       "      <td>0</td>\n",
       "      <td>0</td>\n",
       "      <td>0</td>\n",
       "      <td>7</td>\n",
       "      <td>2008</td>\n",
       "      <td>WD</td>\n",
       "      <td>Normal</td>\n",
       "    </tr>\n",
       "    <tr>\n",
       "      <th>303</th>\n",
       "      <td>20</td>\n",
       "      <td>RL</td>\n",
       "      <td>13704</td>\n",
       "      <td>Pave</td>\n",
       "      <td>IR1</td>\n",
       "      <td>Lvl</td>\n",
       "      <td>AllPub</td>\n",
       "      <td>Corner</td>\n",
       "      <td>Gtl</td>\n",
       "      <td>CollgCr</td>\n",
       "      <td>...</td>\n",
       "      <td>81</td>\n",
       "      <td>0</td>\n",
       "      <td>0</td>\n",
       "      <td>0</td>\n",
       "      <td>0</td>\n",
       "      <td>0</td>\n",
       "      <td>1</td>\n",
       "      <td>2006</td>\n",
       "      <td>WD</td>\n",
       "      <td>Normal</td>\n",
       "    </tr>\n",
       "  </tbody>\n",
       "</table>\n",
       "<p>5 rows × 60 columns</p>\n",
       "</div>"
      ],
      "text/plain": [
       "     MSSubClass MSZoning  LotArea Street LotShape LandContour Utilities  \\\n",
       "Id                                                                        \n",
       "619          20       RL    11694   Pave      Reg         Lvl    AllPub   \n",
       "871          20       RL     6600   Pave      Reg         Lvl    AllPub   \n",
       "93           30       RL    13360   Pave      IR1         HLS    AllPub   \n",
       "818          20       RL    13265   Pave      IR1         Lvl    AllPub   \n",
       "303          20       RL    13704   Pave      IR1         Lvl    AllPub   \n",
       "\n",
       "    LotConfig LandSlope Neighborhood  ... OpenPorchSF EnclosedPorch 3SsnPorch  \\\n",
       "Id                                    ...                                       \n",
       "619    Inside       Gtl      NridgHt  ...         108             0         0   \n",
       "871    Inside       Gtl        NAmes  ...           0             0         0   \n",
       "93     Inside       Gtl      Crawfor  ...           0            44         0   \n",
       "818   CulDSac       Gtl      Mitchel  ...          59             0         0   \n",
       "303    Corner       Gtl      CollgCr  ...          81             0         0   \n",
       "\n",
       "    ScreenPorch  PoolArea  MiscVal  MoSold  YrSold SaleType SaleCondition  \n",
       "Id                                                                         \n",
       "619         260         0        0       7    2007      New       Partial  \n",
       "871           0         0        0       8    2009       WD        Normal  \n",
       "93            0         0        0       8    2009       WD        Normal  \n",
       "818           0         0        0       7    2008       WD        Normal  \n",
       "303           0         0        0       1    2006       WD        Normal  \n",
       "\n",
       "[5 rows x 60 columns]"
      ]
     },
     "execution_count": 3,
     "metadata": {},
     "output_type": "execute_result"
    }
   ],
   "source": [
    "X_train.head()"
   ]
  },
  {
   "cell_type": "markdown",
   "id": "fd429dd4",
   "metadata": {
    "papermill": {
     "duration": 0.034235,
     "end_time": "2021-08-13T19:27:42.431663",
     "exception": false,
     "start_time": "2021-08-13T19:27:42.397428",
     "status": "completed"
    },
    "tags": []
   },
   "source": [
    "Notice that the dataset contains both numerical and categorical variables.  You'll need to encode the categorical data before training a model.\n",
    "\n",
    "To compare different models, you'll use the same `score_dataset()` function from the tutorial.  This function reports the [mean absolute error](https://en.wikipedia.org/wiki/Mean_absolute_error) (MAE) from a random forest model."
   ]
  },
  {
   "cell_type": "code",
   "execution_count": 4,
   "id": "1ae101df",
   "metadata": {
    "execution": {
     "iopub.execute_input": "2021-08-13T19:27:42.500851Z",
     "iopub.status.busy": "2021-08-13T19:27:42.500147Z",
     "iopub.status.idle": "2021-08-13T19:27:42.786750Z",
     "shell.execute_reply": "2021-08-13T19:27:42.785011Z",
     "shell.execute_reply.started": "2021-08-13T19:20:53.985139Z"
    },
    "papermill": {
     "duration": 0.322181,
     "end_time": "2021-08-13T19:27:42.786933",
     "exception": false,
     "start_time": "2021-08-13T19:27:42.464752",
     "status": "completed"
    },
    "tags": []
   },
   "outputs": [],
   "source": [
    "from sklearn.ensemble import RandomForestRegressor\n",
    "from sklearn.metrics import mean_absolute_error\n",
    "\n",
    "# function for comparing different approaches\n",
    "def score_dataset(X_train, X_valid, y_train, y_valid):\n",
    "    model = RandomForestRegressor(n_estimators=100, random_state=0)\n",
    "    model.fit(X_train, y_train)\n",
    "    preds = model.predict(X_valid)\n",
    "    return mean_absolute_error(y_valid, preds)"
   ]
  },
  {
   "cell_type": "markdown",
   "id": "14c24267",
   "metadata": {
    "papermill": {
     "duration": 0.032871,
     "end_time": "2021-08-13T19:27:42.854553",
     "exception": false,
     "start_time": "2021-08-13T19:27:42.821682",
     "status": "completed"
    },
    "tags": []
   },
   "source": [
    "# Step 1: Drop columns with categorical data\n",
    "\n",
    "You'll get started with the most straightforward approach.  Use the code cell below to preprocess the data in `X_train` and `X_valid` to remove columns with categorical data.  Set the preprocessed DataFrames to `drop_X_train` and `drop_X_valid`, respectively.  "
   ]
  },
  {
   "cell_type": "code",
   "execution_count": 5,
   "id": "984c55b9",
   "metadata": {
    "execution": {
     "iopub.execute_input": "2021-08-13T19:27:42.935336Z",
     "iopub.status.busy": "2021-08-13T19:27:42.934203Z",
     "iopub.status.idle": "2021-08-13T19:27:42.945059Z",
     "shell.execute_reply": "2021-08-13T19:27:42.944169Z",
     "shell.execute_reply.started": "2021-08-13T19:21:29.717168Z"
    },
    "papermill": {
     "duration": 0.056021,
     "end_time": "2021-08-13T19:27:42.945249",
     "exception": false,
     "start_time": "2021-08-13T19:27:42.889228",
     "status": "completed"
    },
    "tags": []
   },
   "outputs": [
    {
     "data": {
      "application/javascript": [
       "parent.postMessage({\"jupyterEvent\": \"custom.exercise_interaction\", \"data\": {\"outcomeType\": 1, \"valueTowardsCompletion\": 0.5, \"interactionType\": 1, \"questionType\": 2, \"questionId\": \"1_Drop\", \"learnToolsVersion\": \"0.3.4\", \"failureMessage\": \"\", \"exceptionClass\": \"\", \"trace\": \"\"}}, \"*\")"
      ],
      "text/plain": [
       "<IPython.core.display.Javascript object>"
      ]
     },
     "metadata": {},
     "output_type": "display_data"
    },
    {
     "data": {
      "text/markdown": [
       "<span style=\"color:#33cc33\">Correct</span>"
      ],
      "text/plain": [
       "Correct"
      ]
     },
     "metadata": {},
     "output_type": "display_data"
    }
   ],
   "source": [
    "# Fill in the lines below: drop columns in training and validation data\n",
    "drop_X_train = X_train.select_dtypes(exclude=['object'])\n",
    "drop_X_valid = X_valid.select_dtypes(exclude=['object'])\n",
    "# Check your answers\n",
    "step_1.check()"
   ]
  },
  {
   "cell_type": "code",
   "execution_count": 6,
   "id": "77114a5e",
   "metadata": {
    "execution": {
     "iopub.execute_input": "2021-08-13T19:27:43.020132Z",
     "iopub.status.busy": "2021-08-13T19:27:43.019269Z",
     "iopub.status.idle": "2021-08-13T19:27:43.022552Z",
     "shell.execute_reply": "2021-08-13T19:27:43.021899Z",
     "shell.execute_reply.started": "2021-08-13T19:21:34.232841Z"
    },
    "papermill": {
     "duration": 0.042484,
     "end_time": "2021-08-13T19:27:43.022715",
     "exception": false,
     "start_time": "2021-08-13T19:27:42.980231",
     "status": "completed"
    },
    "tags": []
   },
   "outputs": [],
   "source": [
    "# Lines below will give you a hint or solution code\n",
    "#step_1.hint()\n",
    "#step_1.solution()"
   ]
  },
  {
   "cell_type": "markdown",
   "id": "40a21304",
   "metadata": {
    "papermill": {
     "duration": 0.036035,
     "end_time": "2021-08-13T19:27:43.093671",
     "exception": false,
     "start_time": "2021-08-13T19:27:43.057636",
     "status": "completed"
    },
    "tags": []
   },
   "source": [
    "Run the next code cell to get the MAE for this approach."
   ]
  },
  {
   "cell_type": "code",
   "execution_count": 7,
   "id": "a330e448",
   "metadata": {
    "execution": {
     "iopub.execute_input": "2021-08-13T19:27:43.179870Z",
     "iopub.status.busy": "2021-08-13T19:27:43.167800Z",
     "iopub.status.idle": "2021-08-13T19:27:44.524628Z",
     "shell.execute_reply": "2021-08-13T19:27:44.525444Z",
     "shell.execute_reply.started": "2021-08-13T19:21:40.021414Z"
    },
    "papermill": {
     "duration": 1.397195,
     "end_time": "2021-08-13T19:27:44.525767",
     "exception": false,
     "start_time": "2021-08-13T19:27:43.128572",
     "status": "completed"
    },
    "tags": []
   },
   "outputs": [
    {
     "name": "stdout",
     "output_type": "stream",
     "text": [
      "MAE from Approach 1 (Drop categorical variables):\n",
      "17837.82570776256\n"
     ]
    }
   ],
   "source": [
    "print(\"MAE from Approach 1 (Drop categorical variables):\")\n",
    "print(score_dataset(drop_X_train, drop_X_valid, y_train, y_valid))"
   ]
  },
  {
   "cell_type": "markdown",
   "id": "4bdfabaf",
   "metadata": {
    "papermill": {
     "duration": 0.038649,
     "end_time": "2021-08-13T19:27:44.600126",
     "exception": false,
     "start_time": "2021-08-13T19:27:44.561477",
     "status": "completed"
    },
    "tags": []
   },
   "source": [
    "Before jumping into ordinal encoding, we'll investigate the dataset.  Specifically, we'll look at the `'Condition2'` column.  The code cell below prints the unique entries in both the training and validation sets."
   ]
  },
  {
   "cell_type": "code",
   "execution_count": 8,
   "id": "27ad5b69",
   "metadata": {
    "execution": {
     "iopub.execute_input": "2021-08-13T19:27:44.687821Z",
     "iopub.status.busy": "2021-08-13T19:27:44.686244Z",
     "iopub.status.idle": "2021-08-13T19:27:44.692375Z",
     "shell.execute_reply": "2021-08-13T19:27:44.691538Z",
     "shell.execute_reply.started": "2021-08-13T19:21:43.468904Z"
    },
    "papermill": {
     "duration": 0.052631,
     "end_time": "2021-08-13T19:27:44.692566",
     "exception": false,
     "start_time": "2021-08-13T19:27:44.639935",
     "status": "completed"
    },
    "tags": []
   },
   "outputs": [
    {
     "name": "stdout",
     "output_type": "stream",
     "text": [
      "Unique values in 'Condition2' column in training data: ['Norm' 'PosA' 'Feedr' 'PosN' 'Artery' 'RRAe']\n",
      "\n",
      "Unique values in 'Condition2' column in validation data: ['Norm' 'RRAn' 'RRNn' 'Artery' 'Feedr' 'PosN']\n"
     ]
    }
   ],
   "source": [
    "print(\"Unique values in 'Condition2' column in training data:\", X_train['Condition2'].unique())\n",
    "print(\"\\nUnique values in 'Condition2' column in validation data:\", X_valid['Condition2'].unique())"
   ]
  },
  {
   "cell_type": "markdown",
   "id": "4919ca4c",
   "metadata": {
    "papermill": {
     "duration": 0.035058,
     "end_time": "2021-08-13T19:27:44.767103",
     "exception": false,
     "start_time": "2021-08-13T19:27:44.732045",
     "status": "completed"
    },
    "tags": []
   },
   "source": [
    "# Step 2: Ordinal encoding\n",
    "\n",
    "### Part A\n",
    "\n",
    "If you now write code to: \n",
    "- fit an ordinal encoder to the training data, and then \n",
    "- use it to transform both the training and validation data, \n",
    "\n",
    "you'll get an error.  Can you see why this is the case?  (_You'll need  to use the above output to answer this question._)"
   ]
  },
  {
   "cell_type": "code",
   "execution_count": 9,
   "id": "f39bcd84",
   "metadata": {
    "execution": {
     "iopub.execute_input": "2021-08-13T19:27:44.848685Z",
     "iopub.status.busy": "2021-08-13T19:27:44.847717Z",
     "iopub.status.idle": "2021-08-13T19:27:44.857104Z",
     "shell.execute_reply": "2021-08-13T19:27:44.857641Z",
     "shell.execute_reply.started": "2021-08-13T19:21:47.755664Z"
    },
    "papermill": {
     "duration": 0.05392,
     "end_time": "2021-08-13T19:27:44.857829",
     "exception": false,
     "start_time": "2021-08-13T19:27:44.803909",
     "status": "completed"
    },
    "tags": []
   },
   "outputs": [
    {
     "data": {
      "application/javascript": [
       "parent.postMessage({\"jupyterEvent\": \"custom.exercise_interaction\", \"data\": {\"outcomeType\": 1, \"valueTowardsCompletion\": 0.5, \"interactionType\": 1, \"questionType\": 4, \"questionId\": \"2.1_LabelA\", \"learnToolsVersion\": \"0.3.4\", \"failureMessage\": \"\", \"exceptionClass\": \"\", \"trace\": \"\"}}, \"*\")"
      ],
      "text/plain": [
       "<IPython.core.display.Javascript object>"
      ]
     },
     "metadata": {},
     "output_type": "display_data"
    },
    {
     "data": {
      "text/markdown": [
       "<span style=\"color:#33cc33\">Correct:</span> \n",
       "\n",
       "Fitting an ordinal encoder to a column in the training data creates a corresponding integer-valued label for each unique value **that appears in the training data**. In the case that the validation data contains values that don't also appear in the training data, the encoder will throw an error, because these values won't have an integer assigned to them.  Notice that the `'Condition2'` column in the validation data contains the values `'RRAn'` and `'RRNn'`, but these don't appear in the training data -- thus, if we try to use an ordinal encoder with scikit-learn, the code will throw an error."
      ],
      "text/plain": [
       "Correct: \n",
       "\n",
       "Fitting an ordinal encoder to a column in the training data creates a corresponding integer-valued label for each unique value **that appears in the training data**. In the case that the validation data contains values that don't also appear in the training data, the encoder will throw an error, because these values won't have an integer assigned to them.  Notice that the `'Condition2'` column in the validation data contains the values `'RRAn'` and `'RRNn'`, but these don't appear in the training data -- thus, if we try to use an ordinal encoder with scikit-learn, the code will throw an error."
      ]
     },
     "metadata": {},
     "output_type": "display_data"
    }
   ],
   "source": [
    "# Check your answer (Run this code cell to receive credit!)\n",
    "step_2.a.check()"
   ]
  },
  {
   "cell_type": "code",
   "execution_count": 10,
   "id": "d001d907",
   "metadata": {
    "execution": {
     "iopub.execute_input": "2021-08-13T19:27:44.943406Z",
     "iopub.status.busy": "2021-08-13T19:27:44.942656Z",
     "iopub.status.idle": "2021-08-13T19:27:44.946005Z",
     "shell.execute_reply": "2021-08-13T19:27:44.946606Z",
     "shell.execute_reply.started": "2021-08-13T19:21:50.260822Z"
    },
    "papermill": {
     "duration": 0.049416,
     "end_time": "2021-08-13T19:27:44.946825",
     "exception": false,
     "start_time": "2021-08-13T19:27:44.897409",
     "status": "completed"
    },
    "tags": []
   },
   "outputs": [],
   "source": [
    "#step_2.a.hint()"
   ]
  },
  {
   "cell_type": "markdown",
   "id": "8192b910",
   "metadata": {
    "papermill": {
     "duration": 0.036929,
     "end_time": "2021-08-13T19:27:45.022597",
     "exception": false,
     "start_time": "2021-08-13T19:27:44.985668",
     "status": "completed"
    },
    "tags": []
   },
   "source": [
    "This is a common problem that you'll encounter with real-world data, and there are many approaches to fixing this issue.  For instance, you can write a custom ordinal encoder to deal with new categories.  The simplest approach, however, is to drop the problematic categorical columns.  \n",
    "\n",
    "Run the code cell below to save the problematic columns to a Python list `bad_label_cols`.  Likewise, columns that can be safely ordinal encoded are stored in `good_label_cols`."
   ]
  },
  {
   "cell_type": "code",
   "execution_count": 11,
   "id": "77500d3b",
   "metadata": {
    "execution": {
     "iopub.execute_input": "2021-08-13T19:27:45.117279Z",
     "iopub.status.busy": "2021-08-13T19:27:45.111478Z",
     "iopub.status.idle": "2021-08-13T19:27:45.125492Z",
     "shell.execute_reply": "2021-08-13T19:27:45.126130Z",
     "shell.execute_reply.started": "2021-08-13T19:21:54.658698Z"
    },
    "papermill": {
     "duration": 0.064884,
     "end_time": "2021-08-13T19:27:45.126376",
     "exception": false,
     "start_time": "2021-08-13T19:27:45.061492",
     "status": "completed"
    },
    "tags": []
   },
   "outputs": [
    {
     "name": "stdout",
     "output_type": "stream",
     "text": [
      "Categorical columns that will be ordinal encoded: ['MSZoning', 'Street', 'LotShape', 'LandContour', 'Utilities', 'LotConfig', 'LandSlope', 'Neighborhood', 'Condition1', 'BldgType', 'HouseStyle', 'RoofStyle', 'Exterior1st', 'Exterior2nd', 'ExterQual', 'ExterCond', 'Foundation', 'Heating', 'HeatingQC', 'CentralAir', 'KitchenQual', 'PavedDrive', 'SaleType', 'SaleCondition']\n",
      "\n",
      "Categorical columns that will be dropped from the dataset: ['Functional', 'Condition2', 'RoofMatl']\n"
     ]
    }
   ],
   "source": [
    "# All categorical columns\n",
    "object_cols = [col for col in X_train.columns if X_train[col].dtype == \"object\"]\n",
    "\n",
    "# Columns that can be safely ordinal encoded\n",
    "good_label_cols = [col for col in object_cols if \n",
    "                   set(X_valid[col]).issubset(set(X_train[col]))]\n",
    "        \n",
    "# Problematic columns that will be dropped from the dataset\n",
    "bad_label_cols = list(set(object_cols)-set(good_label_cols))\n",
    "        \n",
    "print('Categorical columns that will be ordinal encoded:', good_label_cols)\n",
    "print('\\nCategorical columns that will be dropped from the dataset:', bad_label_cols)"
   ]
  },
  {
   "cell_type": "markdown",
   "id": "6bdd2fef",
   "metadata": {
    "papermill": {
     "duration": 0.037573,
     "end_time": "2021-08-13T19:27:45.204542",
     "exception": false,
     "start_time": "2021-08-13T19:27:45.166969",
     "status": "completed"
    },
    "tags": []
   },
   "source": [
    "### Part B\n",
    "\n",
    "Use the next code cell to ordinal encode the data in `X_train` and `X_valid`.  Set the preprocessed DataFrames to `label_X_train` and `label_X_valid`, respectively.  \n",
    "- We have provided code below to drop the categorical columns in `bad_label_cols` from the dataset. \n",
    "- You should ordinal encode the categorical columns in `good_label_cols`.  "
   ]
  },
  {
   "cell_type": "code",
   "execution_count": 12,
   "id": "1871c7bf",
   "metadata": {
    "execution": {
     "iopub.execute_input": "2021-08-13T19:27:45.295061Z",
     "iopub.status.busy": "2021-08-13T19:27:45.291871Z",
     "iopub.status.idle": "2021-08-13T19:27:45.371466Z",
     "shell.execute_reply": "2021-08-13T19:27:45.370610Z",
     "shell.execute_reply.started": "2021-08-13T19:22:30.956708Z"
    },
    "papermill": {
     "duration": 0.126762,
     "end_time": "2021-08-13T19:27:45.371653",
     "exception": false,
     "start_time": "2021-08-13T19:27:45.244891",
     "status": "completed"
    },
    "tags": []
   },
   "outputs": [
    {
     "data": {
      "application/javascript": [
       "parent.postMessage({\"jupyterEvent\": \"custom.exercise_interaction\", \"data\": {\"outcomeType\": 1, \"valueTowardsCompletion\": 0.5, \"interactionType\": 1, \"questionType\": 2, \"questionId\": \"2.2_LabelB\", \"learnToolsVersion\": \"0.3.4\", \"failureMessage\": \"\", \"exceptionClass\": \"\", \"trace\": \"\"}}, \"*\")"
      ],
      "text/plain": [
       "<IPython.core.display.Javascript object>"
      ]
     },
     "metadata": {},
     "output_type": "display_data"
    },
    {
     "data": {
      "text/markdown": [
       "<span style=\"color:#33cc33\">Correct</span>"
      ],
      "text/plain": [
       "Correct"
      ]
     },
     "metadata": {},
     "output_type": "display_data"
    }
   ],
   "source": [
    "from sklearn.preprocessing import OrdinalEncoder\n",
    "\n",
    "# Drop categorical columns that will not be encoded\n",
    "label_X_train = X_train.drop(bad_label_cols, axis=1)\n",
    "label_X_valid = X_valid.drop(bad_label_cols, axis=1)\n",
    "\n",
    "# Apply ordinal encoder\n",
    "ordinal_encoder = OrdinalEncoder()\n",
    "label_X_train[good_label_cols] = ordinal_encoder.fit_transform(X_train[good_label_cols])\n",
    "label_X_valid[good_label_cols] = ordinal_encoder.transform(X_valid[good_label_cols])\n",
    "# Check your answer\n",
    "step_2.b.check()"
   ]
  },
  {
   "cell_type": "code",
   "execution_count": 13,
   "id": "c84ebe32",
   "metadata": {
    "execution": {
     "iopub.execute_input": "2021-08-13T19:27:45.457136Z",
     "iopub.status.busy": "2021-08-13T19:27:45.456370Z",
     "iopub.status.idle": "2021-08-13T19:27:45.460891Z",
     "shell.execute_reply": "2021-08-13T19:27:45.460160Z",
     "shell.execute_reply.started": "2021-08-13T19:22:48.881048Z"
    },
    "papermill": {
     "duration": 0.051148,
     "end_time": "2021-08-13T19:27:45.461097",
     "exception": false,
     "start_time": "2021-08-13T19:27:45.409949",
     "status": "completed"
    },
    "tags": []
   },
   "outputs": [],
   "source": [
    "# Lines below will give you a hint or solution code\n",
    "#step_2.b.hint()\n",
    "#step_2.b.solution()"
   ]
  },
  {
   "cell_type": "markdown",
   "id": "388eb4be",
   "metadata": {
    "papermill": {
     "duration": 0.03904,
     "end_time": "2021-08-13T19:27:45.539587",
     "exception": false,
     "start_time": "2021-08-13T19:27:45.500547",
     "status": "completed"
    },
    "tags": []
   },
   "source": [
    "Run the next code cell to get the MAE for this approach."
   ]
  },
  {
   "cell_type": "code",
   "execution_count": 14,
   "id": "3bfad7bf",
   "metadata": {
    "execution": {
     "iopub.execute_input": "2021-08-13T19:27:45.628681Z",
     "iopub.status.busy": "2021-08-13T19:27:45.627444Z",
     "iopub.status.idle": "2021-08-13T19:27:47.364515Z",
     "shell.execute_reply": "2021-08-13T19:27:47.365358Z",
     "shell.execute_reply.started": "2021-08-13T19:22:45.003591Z"
    },
    "papermill": {
     "duration": 1.788555,
     "end_time": "2021-08-13T19:27:47.365650",
     "exception": false,
     "start_time": "2021-08-13T19:27:45.577095",
     "status": "completed"
    },
    "tags": []
   },
   "outputs": [
    {
     "name": "stdout",
     "output_type": "stream",
     "text": [
      "MAE from Approach 2 (Ordinal Encoding):\n",
      "17098.01649543379\n"
     ]
    }
   ],
   "source": [
    "print(\"MAE from Approach 2 (Ordinal Encoding):\") \n",
    "print(score_dataset(label_X_train, label_X_valid, y_train, y_valid))"
   ]
  },
  {
   "cell_type": "markdown",
   "id": "d55053db",
   "metadata": {
    "papermill": {
     "duration": 0.039088,
     "end_time": "2021-08-13T19:27:47.445388",
     "exception": false,
     "start_time": "2021-08-13T19:27:47.406300",
     "status": "completed"
    },
    "tags": []
   },
   "source": [
    "So far, you've tried two different approaches to dealing with categorical variables.  And, you've seen that encoding categorical data yields better results than removing columns from the dataset.\n",
    "\n",
    "Soon, you'll try one-hot encoding.  Before then, there's one additional topic we need to cover.  Begin by running the next code cell without changes.  "
   ]
  },
  {
   "cell_type": "code",
   "execution_count": 15,
   "id": "2f3f670c",
   "metadata": {
    "execution": {
     "iopub.execute_input": "2021-08-13T19:27:47.531432Z",
     "iopub.status.busy": "2021-08-13T19:27:47.530713Z",
     "iopub.status.idle": "2021-08-13T19:27:47.552909Z",
     "shell.execute_reply": "2021-08-13T19:27:47.552263Z",
     "shell.execute_reply.started": "2021-08-13T19:22:53.688120Z"
    },
    "papermill": {
     "duration": 0.069017,
     "end_time": "2021-08-13T19:27:47.553088",
     "exception": false,
     "start_time": "2021-08-13T19:27:47.484071",
     "status": "completed"
    },
    "tags": []
   },
   "outputs": [
    {
     "data": {
      "text/plain": [
       "[('Street', 2),\n",
       " ('Utilities', 2),\n",
       " ('CentralAir', 2),\n",
       " ('LandSlope', 3),\n",
       " ('PavedDrive', 3),\n",
       " ('LotShape', 4),\n",
       " ('LandContour', 4),\n",
       " ('ExterQual', 4),\n",
       " ('KitchenQual', 4),\n",
       " ('MSZoning', 5),\n",
       " ('LotConfig', 5),\n",
       " ('BldgType', 5),\n",
       " ('ExterCond', 5),\n",
       " ('HeatingQC', 5),\n",
       " ('Condition2', 6),\n",
       " ('RoofStyle', 6),\n",
       " ('Foundation', 6),\n",
       " ('Heating', 6),\n",
       " ('Functional', 6),\n",
       " ('SaleCondition', 6),\n",
       " ('RoofMatl', 7),\n",
       " ('HouseStyle', 8),\n",
       " ('Condition1', 9),\n",
       " ('SaleType', 9),\n",
       " ('Exterior1st', 15),\n",
       " ('Exterior2nd', 16),\n",
       " ('Neighborhood', 25)]"
      ]
     },
     "execution_count": 15,
     "metadata": {},
     "output_type": "execute_result"
    }
   ],
   "source": [
    "# Get number of unique entries in each column with categorical data\n",
    "object_nunique = list(map(lambda col: X_train[col].nunique(), object_cols))\n",
    "d = dict(zip(object_cols, object_nunique))\n",
    "\n",
    "# Print number of unique entries by column, in ascending order\n",
    "sorted(d.items(), key=lambda x: x[1])"
   ]
  },
  {
   "cell_type": "markdown",
   "id": "6e495880",
   "metadata": {
    "papermill": {
     "duration": 0.046878,
     "end_time": "2021-08-13T19:27:47.641624",
     "exception": false,
     "start_time": "2021-08-13T19:27:47.594746",
     "status": "completed"
    },
    "tags": []
   },
   "source": [
    "# Step 3: Investigating cardinality\n",
    "\n",
    "### Part A\n",
    "\n",
    "The output above shows, for each column with categorical data, the number of unique values in the column.  For instance, the `'Street'` column in the training data has two unique values: `'Grvl'` and `'Pave'`, corresponding to a gravel road and a paved road, respectively.\n",
    "\n",
    "We refer to the number of unique entries of a categorical variable as the **cardinality** of that categorical variable.  For instance, the `'Street'` variable has cardinality 2.\n",
    "\n",
    "Use the output above to answer the questions below."
   ]
  },
  {
   "cell_type": "code",
   "execution_count": 16,
   "id": "e50c1672",
   "metadata": {
    "execution": {
     "iopub.execute_input": "2021-08-13T19:27:47.758860Z",
     "iopub.status.busy": "2021-08-13T19:27:47.757293Z",
     "iopub.status.idle": "2021-08-13T19:27:47.768135Z",
     "shell.execute_reply": "2021-08-13T19:27:47.767328Z",
     "shell.execute_reply.started": "2021-08-13T19:23:19.197479Z"
    },
    "papermill": {
     "duration": 0.069454,
     "end_time": "2021-08-13T19:27:47.768309",
     "exception": false,
     "start_time": "2021-08-13T19:27:47.698855",
     "status": "completed"
    },
    "tags": []
   },
   "outputs": [
    {
     "data": {
      "application/javascript": [
       "parent.postMessage({\"jupyterEvent\": \"custom.exercise_interaction\", \"data\": {\"outcomeType\": 1, \"valueTowardsCompletion\": 0.5, \"interactionType\": 1, \"questionType\": 1, \"questionId\": \"3.1_CardinalityA\", \"learnToolsVersion\": \"0.3.4\", \"failureMessage\": \"\", \"exceptionClass\": \"\", \"trace\": \"\"}}, \"*\")"
      ],
      "text/plain": [
       "<IPython.core.display.Javascript object>"
      ]
     },
     "metadata": {},
     "output_type": "display_data"
    },
    {
     "data": {
      "text/markdown": [
       "<span style=\"color:#33cc33\">Correct</span>"
      ],
      "text/plain": [
       "Correct"
      ]
     },
     "metadata": {},
     "output_type": "display_data"
    }
   ],
   "source": [
    "# Fill in the line below: How many categorical variables in the training data\n",
    "# have cardinality greater than 10?\n",
    "high_cardinality_numcols = 3\n",
    "\n",
    "# How many columns are needed to one-hot encode the\n",
    "# 'Neighborhood' variable in the training data?\n",
    "num_cols_neighborhood = 25\n",
    "# Check your answers\n",
    "step_3.a.check()"
   ]
  },
  {
   "cell_type": "code",
   "execution_count": 17,
   "id": "77236235",
   "metadata": {
    "execution": {
     "iopub.execute_input": "2021-08-13T19:27:47.856078Z",
     "iopub.status.busy": "2021-08-13T19:27:47.855028Z",
     "iopub.status.idle": "2021-08-13T19:27:47.858494Z",
     "shell.execute_reply": "2021-08-13T19:27:47.859068Z",
     "shell.execute_reply.started": "2021-08-13T19:23:13.965890Z"
    },
    "papermill": {
     "duration": 0.048646,
     "end_time": "2021-08-13T19:27:47.859284",
     "exception": false,
     "start_time": "2021-08-13T19:27:47.810638",
     "status": "completed"
    },
    "tags": []
   },
   "outputs": [],
   "source": [
    "# Lines below will give you a hint or solution code\n",
    "#step_3.a.hint()\n",
    "#step_3.a.solution()"
   ]
  },
  {
   "cell_type": "markdown",
   "id": "8b6637c7",
   "metadata": {
    "papermill": {
     "duration": 0.041317,
     "end_time": "2021-08-13T19:27:47.943571",
     "exception": false,
     "start_time": "2021-08-13T19:27:47.902254",
     "status": "completed"
    },
    "tags": []
   },
   "source": [
    "### Part B\n",
    "\n",
    "For large datasets with many rows, one-hot encoding can greatly expand the size of the dataset.  For this reason, we typically will only one-hot encode columns with relatively low cardinality.  Then, high cardinality columns can either be dropped from the dataset, or we can use ordinal encoding.\n",
    "\n",
    "As an example, consider a dataset with 10,000 rows, and containing one categorical column with 100 unique entries.  \n",
    "- If this column is replaced with the corresponding one-hot encoding, how many entries are added to the dataset?  \n",
    "- If we instead replace the column with the ordinal encoding, how many entries are added?  \n",
    "\n",
    "Use your answers to fill in the lines below."
   ]
  },
  {
   "cell_type": "code",
   "execution_count": 18,
   "id": "64351832",
   "metadata": {
    "execution": {
     "iopub.execute_input": "2021-08-13T19:27:48.034669Z",
     "iopub.status.busy": "2021-08-13T19:27:48.033541Z",
     "iopub.status.idle": "2021-08-13T19:27:48.042801Z",
     "shell.execute_reply": "2021-08-13T19:27:48.041904Z",
     "shell.execute_reply.started": "2021-08-13T19:23:48.804015Z"
    },
    "papermill": {
     "duration": 0.058441,
     "end_time": "2021-08-13T19:27:48.042998",
     "exception": false,
     "start_time": "2021-08-13T19:27:47.984557",
     "status": "completed"
    },
    "tags": []
   },
   "outputs": [
    {
     "data": {
      "application/javascript": [
       "parent.postMessage({\"jupyterEvent\": \"custom.exercise_interaction\", \"data\": {\"outcomeType\": 1, \"valueTowardsCompletion\": 0.5, \"interactionType\": 1, \"questionType\": 1, \"questionId\": \"3.2_CardinalityB\", \"learnToolsVersion\": \"0.3.4\", \"failureMessage\": \"\", \"exceptionClass\": \"\", \"trace\": \"\"}}, \"*\")"
      ],
      "text/plain": [
       "<IPython.core.display.Javascript object>"
      ]
     },
     "metadata": {},
     "output_type": "display_data"
    },
    {
     "data": {
      "text/markdown": [
       "<span style=\"color:#33cc33\">Correct</span>"
      ],
      "text/plain": [
       "Correct"
      ]
     },
     "metadata": {},
     "output_type": "display_data"
    }
   ],
   "source": [
    "# Fill in the line below: How many entries are added to the dataset by \n",
    "# replacing the column with a one-hot encoding?\n",
    "OH_entries_added = 1e4*100 - 1e4\n",
    "\n",
    "# How many entries are added to the dataset by\n",
    "# replacing the column with an ordinal encoding?\n",
    "label_entries_added = 0\n",
    "# Check your answers\n",
    "step_3.b.check()"
   ]
  },
  {
   "cell_type": "code",
   "execution_count": 19,
   "id": "3ec73c13",
   "metadata": {
    "execution": {
     "iopub.execute_input": "2021-08-13T19:27:48.131609Z",
     "iopub.status.busy": "2021-08-13T19:27:48.130882Z",
     "iopub.status.idle": "2021-08-13T19:27:48.135846Z",
     "shell.execute_reply": "2021-08-13T19:27:48.135072Z",
     "shell.execute_reply.started": "2021-08-13T19:23:43.689181Z"
    },
    "papermill": {
     "duration": 0.050402,
     "end_time": "2021-08-13T19:27:48.136083",
     "exception": false,
     "start_time": "2021-08-13T19:27:48.085681",
     "status": "completed"
    },
    "tags": []
   },
   "outputs": [],
   "source": [
    "# Lines below will give you a hint or solution code\n",
    "#step_3.b.hint()\n",
    "#step_3.b.solution()"
   ]
  },
  {
   "cell_type": "markdown",
   "id": "1d8ab235",
   "metadata": {
    "papermill": {
     "duration": 0.040622,
     "end_time": "2021-08-13T19:27:48.219211",
     "exception": false,
     "start_time": "2021-08-13T19:27:48.178589",
     "status": "completed"
    },
    "tags": []
   },
   "source": [
    "Next, you'll experiment with one-hot encoding.  But, instead of encoding all of the categorical variables in the dataset, you'll only create a one-hot encoding for columns with cardinality less than 10.\n",
    "\n",
    "Run the code cell below without changes to set `low_cardinality_cols` to a Python list containing the columns that will be one-hot encoded.  Likewise, `high_cardinality_cols` contains a list of categorical columns that will be dropped from the dataset."
   ]
  },
  {
   "cell_type": "code",
   "execution_count": 20,
   "id": "a857df93",
   "metadata": {
    "execution": {
     "iopub.execute_input": "2021-08-13T19:27:48.313036Z",
     "iopub.status.busy": "2021-08-13T19:27:48.311997Z",
     "iopub.status.idle": "2021-08-13T19:27:48.333172Z",
     "shell.execute_reply": "2021-08-13T19:27:48.333738Z",
     "shell.execute_reply.started": "2021-08-13T19:24:43.377844Z"
    },
    "papermill": {
     "duration": 0.071035,
     "end_time": "2021-08-13T19:27:48.333940",
     "exception": false,
     "start_time": "2021-08-13T19:27:48.262905",
     "status": "completed"
    },
    "tags": []
   },
   "outputs": [
    {
     "name": "stdout",
     "output_type": "stream",
     "text": [
      "Categorical columns that will be one-hot encoded: ['MSZoning', 'Street', 'LotShape', 'LandContour', 'Utilities', 'LotConfig', 'LandSlope', 'Condition1', 'Condition2', 'BldgType', 'HouseStyle', 'RoofStyle', 'RoofMatl', 'ExterQual', 'ExterCond', 'Foundation', 'Heating', 'HeatingQC', 'CentralAir', 'KitchenQual', 'Functional', 'PavedDrive', 'SaleType', 'SaleCondition']\n",
      "\n",
      "Categorical columns that will be dropped from the dataset: ['Exterior2nd', 'Exterior1st', 'Neighborhood']\n"
     ]
    }
   ],
   "source": [
    "# Columns that will be one-hot encoded\n",
    "low_cardinality_cols = [col for col in object_cols if X_train[col].nunique() < 10]\n",
    "\n",
    "# Columns that will be dropped from the dataset\n",
    "high_cardinality_cols = list(set(object_cols)-set(low_cardinality_cols))\n",
    "\n",
    "print('Categorical columns that will be one-hot encoded:', low_cardinality_cols)\n",
    "print('\\nCategorical columns that will be dropped from the dataset:', high_cardinality_cols)"
   ]
  },
  {
   "cell_type": "markdown",
   "id": "0c709f44",
   "metadata": {
    "papermill": {
     "duration": 0.040643,
     "end_time": "2021-08-13T19:27:48.414094",
     "exception": false,
     "start_time": "2021-08-13T19:27:48.373451",
     "status": "completed"
    },
    "tags": []
   },
   "source": [
    "# Step 4: One-hot encoding\n",
    "\n",
    "Use the next code cell to one-hot encode the data in `X_train` and `X_valid`.  Set the preprocessed DataFrames to `OH_X_train` and `OH_X_valid`, respectively.  \n",
    "- The full list of categorical columns in the dataset can be found in the Python list `object_cols`.\n",
    "- You should only one-hot encode the categorical columns in `low_cardinality_cols`.  All other categorical columns should be dropped from the dataset. "
   ]
  },
  {
   "cell_type": "code",
   "execution_count": 21,
   "id": "18adceaa",
   "metadata": {
    "execution": {
     "iopub.execute_input": "2021-08-13T19:27:48.530413Z",
     "iopub.status.busy": "2021-08-13T19:27:48.521216Z",
     "iopub.status.idle": "2021-08-13T19:27:48.563960Z",
     "shell.execute_reply": "2021-08-13T19:27:48.563248Z",
     "shell.execute_reply.started": "2021-08-13T19:26:19.862776Z"
    },
    "papermill": {
     "duration": 0.107366,
     "end_time": "2021-08-13T19:27:48.564157",
     "exception": false,
     "start_time": "2021-08-13T19:27:48.456791",
     "status": "completed"
    },
    "tags": []
   },
   "outputs": [
    {
     "data": {
      "application/javascript": [
       "parent.postMessage({\"jupyterEvent\": \"custom.exercise_interaction\", \"data\": {\"outcomeType\": 1, \"valueTowardsCompletion\": 0.5, \"interactionType\": 1, \"questionType\": 2, \"questionId\": \"4_OneHot\", \"learnToolsVersion\": \"0.3.4\", \"failureMessage\": \"\", \"exceptionClass\": \"\", \"trace\": \"\"}}, \"*\")"
      ],
      "text/plain": [
       "<IPython.core.display.Javascript object>"
      ]
     },
     "metadata": {},
     "output_type": "display_data"
    },
    {
     "data": {
      "text/markdown": [
       "<span style=\"color:#33cc33\">Correct</span>"
      ],
      "text/plain": [
       "Correct"
      ]
     },
     "metadata": {},
     "output_type": "display_data"
    }
   ],
   "source": [
    "from sklearn.preprocessing import OneHotEncoder\n",
    "\n",
    "# Use as many lines of code as you need!\n",
    "# Apply one-hot encoder to each column with categorical data\n",
    "OH_encoder = OneHotEncoder(handle_unknown='ignore', sparse=False)\n",
    "OH_cols_train = pd.DataFrame(OH_encoder.fit_transform(X_train[low_cardinality_cols]))\n",
    "OH_cols_valid = pd.DataFrame(OH_encoder.transform(X_valid[low_cardinality_cols]))\n",
    "\n",
    "# One-hot encoding removed index; put it back\n",
    "OH_cols_train.index = X_train.index\n",
    "OH_cols_valid.index = X_valid.index\n",
    "\n",
    "# Remove categorical columns (will replace with one-hot encoding)\n",
    "num_X_train = X_train.drop(object_cols, axis=1)\n",
    "num_X_valid = X_valid.drop(object_cols, axis=1)\n",
    "\n",
    "# Add one-hot encoded columns to numerical features\n",
    "OH_X_train = pd.concat([num_X_train, OH_cols_train], axis=1)\n",
    "OH_X_valid = pd.concat([num_X_valid, OH_cols_valid], axis=1)\n",
    "# Check your answer\n",
    "step_4.check()"
   ]
  },
  {
   "cell_type": "code",
   "execution_count": 22,
   "id": "a15f3870",
   "metadata": {
    "execution": {
     "iopub.execute_input": "2021-08-13T19:27:48.659064Z",
     "iopub.status.busy": "2021-08-13T19:27:48.658238Z",
     "iopub.status.idle": "2021-08-13T19:27:48.663257Z",
     "shell.execute_reply": "2021-08-13T19:27:48.662582Z",
     "shell.execute_reply.started": "2021-08-13T19:26:31.993390Z"
    },
    "papermill": {
     "duration": 0.051792,
     "end_time": "2021-08-13T19:27:48.663418",
     "exception": false,
     "start_time": "2021-08-13T19:27:48.611626",
     "status": "completed"
    },
    "tags": []
   },
   "outputs": [],
   "source": [
    "# Lines below will give you a hint or solution code\n",
    "#step_4.hint()\n",
    "#step_4.solution()"
   ]
  },
  {
   "cell_type": "markdown",
   "id": "e1c81569",
   "metadata": {
    "papermill": {
     "duration": 0.043266,
     "end_time": "2021-08-13T19:27:48.750150",
     "exception": false,
     "start_time": "2021-08-13T19:27:48.706884",
     "status": "completed"
    },
    "tags": []
   },
   "source": [
    "Run the next code cell to get the MAE for this approach."
   ]
  },
  {
   "cell_type": "code",
   "execution_count": 23,
   "id": "39b71320",
   "metadata": {
    "execution": {
     "iopub.execute_input": "2021-08-13T19:27:48.850352Z",
     "iopub.status.busy": "2021-08-13T19:27:48.849113Z",
     "iopub.status.idle": "2021-08-13T19:27:51.005199Z",
     "shell.execute_reply": "2021-08-13T19:27:51.004247Z",
     "shell.execute_reply.started": "2021-08-13T19:26:34.864514Z"
    },
    "papermill": {
     "duration": 2.210855,
     "end_time": "2021-08-13T19:27:51.005507",
     "exception": false,
     "start_time": "2021-08-13T19:27:48.794652",
     "status": "completed"
    },
    "tags": []
   },
   "outputs": [
    {
     "name": "stdout",
     "output_type": "stream",
     "text": [
      "MAE from Approach 3 (One-Hot Encoding):\n",
      "17525.345719178084\n"
     ]
    }
   ],
   "source": [
    "print(\"MAE from Approach 3 (One-Hot Encoding):\") \n",
    "print(score_dataset(OH_X_train, OH_X_valid, y_train, y_valid))"
   ]
  },
  {
   "cell_type": "markdown",
   "id": "7d40b740",
   "metadata": {
    "papermill": {
     "duration": 0.045461,
     "end_time": "2021-08-13T19:27:51.097574",
     "exception": false,
     "start_time": "2021-08-13T19:27:51.052113",
     "status": "completed"
    },
    "tags": []
   },
   "source": [
    "# Generate test predictions and submit your results\n",
    "\n",
    "After you complete Step 4, if you'd like to use what you've learned to submit your results to the leaderboard, you'll need to preprocess the test data before generating predictions.\n",
    "\n",
    "**This step is completely optional, and you do not need to submit results to the leaderboard to successfully complete the exercise.**\n",
    "\n",
    "Check out the previous exercise if you need help with remembering how to [join the competition](https://www.kaggle.com/c/home-data-for-ml-course) or save your results to CSV.  Once you have generated a file with your results, follow the instructions below:\n",
    "1. Begin by clicking on the **Save Version** button in the top right corner of the window.  This will generate a pop-up window.  \n",
    "2. Ensure that the **Save and Run All** option is selected, and then click on the **Save** button.\n",
    "3. This generates a window in the bottom left corner of the notebook.  After it has finished running, click on the number to the right of the **Save Version** button.  This pulls up a list of versions on the right of the screen.  Click on the ellipsis **(...)** to the right of the most recent version, and select **Open in Viewer**.  This brings you into view mode of the same page. You will need to scroll down to get back to these instructions.\n",
    "4. Click on the **Output** tab on the right of the screen.  Then, click on the file you would like to submit, and click on the blue **Submit** button to submit your results to the leaderboard.\n",
    "\n",
    "You have now successfully submitted to the competition!\n",
    "\n",
    "If you want to keep working to improve your performance, select the **Edit** button in the top right of the screen. Then you can change your code and repeat the process. There's a lot of room to improve, and you will climb up the leaderboard as you work.\n"
   ]
  },
  {
   "cell_type": "code",
   "execution_count": 24,
   "id": "ab4eccaf",
   "metadata": {
    "execution": {
     "iopub.execute_input": "2021-08-13T19:27:51.196275Z",
     "iopub.status.busy": "2021-08-13T19:27:51.195425Z",
     "iopub.status.idle": "2021-08-13T19:27:51.199329Z",
     "shell.execute_reply": "2021-08-13T19:27:51.198596Z",
     "shell.execute_reply.started": "2021-08-13T19:27:12.995008Z"
    },
    "papermill": {
     "duration": 0.053188,
     "end_time": "2021-08-13T19:27:51.199508",
     "exception": false,
     "start_time": "2021-08-13T19:27:51.146320",
     "status": "completed"
    },
    "tags": []
   },
   "outputs": [],
   "source": [
    "# (Optional) Your code here"
   ]
  },
  {
   "cell_type": "markdown",
   "id": "f45fbbaa",
   "metadata": {
    "papermill": {
     "duration": 0.044593,
     "end_time": "2021-08-13T19:27:51.290306",
     "exception": false,
     "start_time": "2021-08-13T19:27:51.245713",
     "status": "completed"
    },
    "tags": []
   },
   "source": [
    "# Keep going\n",
    "\n",
    "With missing value handling and categorical encoding, your modeling process is getting complex. This complexity gets worse when you want to save your model to use in the future. The key to managing this complexity is something called **pipelines**. \n",
    "\n",
    "**[Learn to use pipelines](https://www.kaggle.com/alexisbcook/pipelines)** to preprocess datasets with categorical variables, missing values and any other messiness your data throws at you."
   ]
  },
  {
   "cell_type": "markdown",
   "id": "de517606",
   "metadata": {
    "papermill": {
     "duration": 0.046035,
     "end_time": "2021-08-13T19:27:51.382667",
     "exception": false,
     "start_time": "2021-08-13T19:27:51.336632",
     "status": "completed"
    },
    "tags": []
   },
   "source": [
    "---\n",
    "\n",
    "\n",
    "\n",
    "\n",
    "*Have questions or comments? Visit the [Learn Discussion forum](https://www.kaggle.com/learn-forum/161289) to chat with other Learners.*"
   ]
  }
 ],
 "metadata": {
  "kernelspec": {
   "display_name": "Python 3",
   "language": "python",
   "name": "python3"
  },
  "language_info": {
   "codemirror_mode": {
    "name": "ipython",
    "version": 3
   },
   "file_extension": ".py",
   "mimetype": "text/x-python",
   "name": "python",
   "nbconvert_exporter": "python",
   "pygments_lexer": "ipython3",
   "version": "3.7.10"
  },
  "papermill": {
   "default_parameters": {},
   "duration": 24.086779,
   "end_time": "2021-08-13T19:27:52.540122",
   "environment_variables": {},
   "exception": null,
   "input_path": "__notebook__.ipynb",
   "output_path": "__notebook__.ipynb",
   "parameters": {},
   "start_time": "2021-08-13T19:27:28.453343",
   "version": "2.3.3"
  }
 },
 "nbformat": 4,
 "nbformat_minor": 5
}
