{
 "cells": [
  {
   "cell_type": "markdown",
   "id": "517c9b1a",
   "metadata": {
    "papermill": {
     "duration": 0.029655,
     "end_time": "2021-08-23T19:39:43.235144",
     "exception": false,
     "start_time": "2021-08-23T19:39:43.205489",
     "status": "completed"
    },
    "tags": []
   },
   "source": [
    "**This notebook is an exercise in the [Data Visualization](https://www.kaggle.com/learn/data-visualization) course.  You can reference the tutorial at [this link](https://www.kaggle.com/alexisbcook/scatter-plots).**\n",
    "\n",
    "---\n"
   ]
  },
  {
   "cell_type": "markdown",
   "id": "3fcd5c7d",
   "metadata": {
    "papermill": {
     "duration": 0.028357,
     "end_time": "2021-08-23T19:39:43.293956",
     "exception": false,
     "start_time": "2021-08-23T19:39:43.265599",
     "status": "completed"
    },
    "tags": []
   },
   "source": [
    "In this exercise, you will use your new knowledge to propose a solution to a real-world scenario.  To succeed, you will need to import data into Python, answer questions using the data, and generate **scatter plots** to understand patterns in the data.\n",
    "\n",
    "## Scenario\n",
    "\n",
    "You work for a major candy producer, and your goal is to write a report that your company can use to guide the design of its next product.  Soon after starting your research, you stumble across this [very interesting dataset](https://fivethirtyeight.com/features/the-ultimate-halloween-candy-power-ranking/) containing results from a fun survey to crowdsource favorite candies.\n",
    "\n",
    "## Setup\n",
    "\n",
    "Run the next cell to import and configure the Python libraries that you need to complete the exercise."
   ]
  },
  {
   "cell_type": "code",
   "execution_count": 1,
   "id": "d7da6dc2",
   "metadata": {
    "execution": {
     "iopub.execute_input": "2021-08-23T19:39:43.355486Z",
     "iopub.status.busy": "2021-08-23T19:39:43.354296Z",
     "iopub.status.idle": "2021-08-23T19:39:44.519313Z",
     "shell.execute_reply": "2021-08-23T19:39:44.518635Z",
     "shell.execute_reply.started": "2021-08-23T19:35:19.696037Z"
    },
    "papermill": {
     "duration": 1.19669,
     "end_time": "2021-08-23T19:39:44.519503",
     "exception": false,
     "start_time": "2021-08-23T19:39:43.322813",
     "status": "completed"
    },
    "tags": []
   },
   "outputs": [
    {
     "name": "stdout",
     "output_type": "stream",
     "text": [
      "Setup Complete\n"
     ]
    }
   ],
   "source": [
    "import pandas as pd\n",
    "pd.plotting.register_matplotlib_converters()\n",
    "import matplotlib.pyplot as plt\n",
    "%matplotlib inline\n",
    "import seaborn as sns\n",
    "print(\"Setup Complete\")"
   ]
  },
  {
   "cell_type": "markdown",
   "id": "0e8fcd36",
   "metadata": {
    "papermill": {
     "duration": 0.028306,
     "end_time": "2021-08-23T19:39:44.576833",
     "exception": false,
     "start_time": "2021-08-23T19:39:44.548527",
     "status": "completed"
    },
    "tags": []
   },
   "source": [
    "The questions below will give you feedback on your work. Run the following cell to set up our feedback system."
   ]
  },
  {
   "cell_type": "code",
   "execution_count": 2,
   "id": "22b8f9ec",
   "metadata": {
    "execution": {
     "iopub.execute_input": "2021-08-23T19:39:44.640925Z",
     "iopub.status.busy": "2021-08-23T19:39:44.640179Z",
     "iopub.status.idle": "2021-08-23T19:39:44.711595Z",
     "shell.execute_reply": "2021-08-23T19:39:44.710992Z",
     "shell.execute_reply.started": "2021-08-23T19:35:20.832672Z"
    },
    "papermill": {
     "duration": 0.106416,
     "end_time": "2021-08-23T19:39:44.711761",
     "exception": false,
     "start_time": "2021-08-23T19:39:44.605345",
     "status": "completed"
    },
    "tags": []
   },
   "outputs": [
    {
     "name": "stdout",
     "output_type": "stream",
     "text": [
      "Setup Complete\n"
     ]
    }
   ],
   "source": [
    "# Set up code checking\n",
    "import os\n",
    "if not os.path.exists(\"../input/candy.csv\"):\n",
    "    os.symlink(\"../input/data-for-datavis/candy.csv\", \"../input/candy.csv\") \n",
    "from learntools.core import binder\n",
    "binder.bind(globals())\n",
    "from learntools.data_viz_to_coder.ex4 import *\n",
    "print(\"Setup Complete\")"
   ]
  },
  {
   "cell_type": "markdown",
   "id": "fcf003f1",
   "metadata": {
    "papermill": {
     "duration": 0.030772,
     "end_time": "2021-08-23T19:39:44.771975",
     "exception": false,
     "start_time": "2021-08-23T19:39:44.741203",
     "status": "completed"
    },
    "tags": []
   },
   "source": [
    "## Step 1: Load the Data\n",
    "\n",
    "Read the candy data file into `candy_data`.  Use the `\"id\"` column to label the rows."
   ]
  },
  {
   "cell_type": "code",
   "execution_count": 3,
   "id": "bba7dda4",
   "metadata": {
    "execution": {
     "iopub.execute_input": "2021-08-23T19:39:44.836063Z",
     "iopub.status.busy": "2021-08-23T19:39:44.835381Z",
     "iopub.status.idle": "2021-08-23T19:39:44.852329Z",
     "shell.execute_reply": "2021-08-23T19:39:44.851731Z",
     "shell.execute_reply.started": "2021-08-23T19:36:10.432528Z"
    },
    "papermill": {
     "duration": 0.051265,
     "end_time": "2021-08-23T19:39:44.852488",
     "exception": false,
     "start_time": "2021-08-23T19:39:44.801223",
     "status": "completed"
    },
    "tags": []
   },
   "outputs": [
    {
     "data": {
      "application/javascript": [
       "parent.postMessage({\"jupyterEvent\": \"custom.exercise_interaction\", \"data\": {\"outcomeType\": 1, \"valueTowardsCompletion\": 0.3333333333333333, \"interactionType\": 1, \"questionType\": 1, \"questionId\": \"1_LoadData\", \"learnToolsVersion\": \"0.3.4\", \"failureMessage\": \"\", \"exceptionClass\": \"\", \"trace\": \"\"}}, \"*\")"
      ],
      "text/plain": [
       "<IPython.core.display.Javascript object>"
      ]
     },
     "metadata": {},
     "output_type": "display_data"
    },
    {
     "data": {
      "text/markdown": [
       "<span style=\"color:#33cc33\">Correct</span>"
      ],
      "text/plain": [
       "Correct"
      ]
     },
     "metadata": {},
     "output_type": "display_data"
    }
   ],
   "source": [
    "# Path of the file to read\n",
    "candy_filepath = \"../input/candy.csv\"\n",
    "\n",
    "# Fill in the line below to read the file into a variable candy_data\n",
    "candy_data = pd.read_csv(candy_filepath, index_col=\"id\")\n",
    "\n",
    "# Run the line below with no changes to check that you've loaded the data correctly\n",
    "step_1.check()"
   ]
  },
  {
   "cell_type": "code",
   "execution_count": 4,
   "id": "5bb4f328",
   "metadata": {
    "execution": {
     "iopub.execute_input": "2021-08-23T19:39:44.918961Z",
     "iopub.status.busy": "2021-08-23T19:39:44.917936Z",
     "iopub.status.idle": "2021-08-23T19:39:44.921589Z",
     "shell.execute_reply": "2021-08-23T19:39:44.921045Z",
     "shell.execute_reply.started": "2021-08-23T19:36:13.310927Z"
    },
    "papermill": {
     "duration": 0.038765,
     "end_time": "2021-08-23T19:39:44.921745",
     "exception": false,
     "start_time": "2021-08-23T19:39:44.882980",
     "status": "completed"
    },
    "tags": []
   },
   "outputs": [],
   "source": [
    "# Lines below will give you a hint or solution code\n",
    "#step_1.hint()\n",
    "#step_1.solution()"
   ]
  },
  {
   "cell_type": "markdown",
   "id": "4992de42",
   "metadata": {
    "papermill": {
     "duration": 0.02993,
     "end_time": "2021-08-23T19:39:44.983331",
     "exception": false,
     "start_time": "2021-08-23T19:39:44.953401",
     "status": "completed"
    },
    "tags": []
   },
   "source": [
    "## Step 2: Review the data\n",
    "\n",
    "Use a Python command to print the first five rows of the data."
   ]
  },
  {
   "cell_type": "code",
   "execution_count": 5,
   "id": "86de498d",
   "metadata": {
    "execution": {
     "iopub.execute_input": "2021-08-23T19:39:45.054930Z",
     "iopub.status.busy": "2021-08-23T19:39:45.053852Z",
     "iopub.status.idle": "2021-08-23T19:39:45.058589Z",
     "shell.execute_reply": "2021-08-23T19:39:45.059091Z"
    },
    "papermill": {
     "duration": 0.044263,
     "end_time": "2021-08-23T19:39:45.059304",
     "exception": false,
     "start_time": "2021-08-23T19:39:45.015041",
     "status": "completed"
    },
    "tags": []
   },
   "outputs": [
    {
     "data": {
      "text/markdown": [],
      "text/plain": [
       "<learntools.core.constants.PlaceholderValue at 0x7efbbc05fc50>"
      ]
     },
     "execution_count": 5,
     "metadata": {},
     "output_type": "execute_result"
    }
   ],
   "source": [
    "# Print the first five rows of the data\n",
    "____ # Your code here"
   ]
  },
  {
   "cell_type": "markdown",
   "id": "02f9ccba",
   "metadata": {
    "papermill": {
     "duration": 0.031265,
     "end_time": "2021-08-23T19:39:45.123383",
     "exception": false,
     "start_time": "2021-08-23T19:39:45.092118",
     "status": "completed"
    },
    "tags": []
   },
   "source": [
    "The dataset contains 83 rows, where each corresponds to a different candy bar.  There are 13 columns:\n",
    "- `'competitorname'` contains the name of the candy bar. \n",
    "- the next **9** columns (from `'chocolate'` to `'pluribus'`) describe the candy.  For instance, rows with chocolate candies have `\"Yes\"` in the `'chocolate'` column (and candies without chocolate have `\"No\"` in the same column).\n",
    "- `'sugarpercent'` provides some indication of the amount of sugar, where higher values signify higher sugar content.\n",
    "- `'pricepercent'` shows the price per unit, relative to the other candies in the dataset.\n",
    "- `'winpercent'` is calculated from the survey results; higher values indicate that the candy was more popular with survey respondents.\n",
    "\n",
    "Use the first five rows of the data to answer the questions below."
   ]
  },
  {
   "cell_type": "code",
   "execution_count": 6,
   "id": "614ebcd2",
   "metadata": {
    "execution": {
     "iopub.execute_input": "2021-08-23T19:39:45.194944Z",
     "iopub.status.busy": "2021-08-23T19:39:45.193719Z",
     "iopub.status.idle": "2021-08-23T19:39:45.201142Z",
     "shell.execute_reply": "2021-08-23T19:39:45.200482Z",
     "shell.execute_reply.started": "2021-08-23T19:36:55.996255Z"
    },
    "papermill": {
     "duration": 0.046293,
     "end_time": "2021-08-23T19:39:45.201311",
     "exception": false,
     "start_time": "2021-08-23T19:39:45.155018",
     "status": "completed"
    },
    "tags": []
   },
   "outputs": [
    {
     "data": {
      "application/javascript": [
       "parent.postMessage({\"jupyterEvent\": \"custom.exercise_interaction\", \"data\": {\"outcomeType\": 1, \"valueTowardsCompletion\": 0.3333333333333333, \"interactionType\": 1, \"questionType\": 1, \"questionId\": \"2_ReviewData\", \"learnToolsVersion\": \"0.3.4\", \"failureMessage\": \"\", \"exceptionClass\": \"\", \"trace\": \"\"}}, \"*\")"
      ],
      "text/plain": [
       "<IPython.core.display.Javascript object>"
      ]
     },
     "metadata": {},
     "output_type": "display_data"
    },
    {
     "data": {
      "text/markdown": [
       "<span style=\"color:#33cc33\">Correct</span>"
      ],
      "text/plain": [
       "Correct"
      ]
     },
     "metadata": {},
     "output_type": "display_data"
    }
   ],
   "source": [
    "candy_data.head()\n",
    "more_popular = '3 Musketeers'\n",
    "more_sugar = 'Air Heads'\n",
    "\n",
    "# Check your answers\n",
    "step_2.check()"
   ]
  },
  {
   "cell_type": "code",
   "execution_count": 7,
   "id": "635bc30e",
   "metadata": {
    "execution": {
     "iopub.execute_input": "2021-08-23T19:39:45.270927Z",
     "iopub.status.busy": "2021-08-23T19:39:45.270191Z",
     "iopub.status.idle": "2021-08-23T19:39:45.274243Z",
     "shell.execute_reply": "2021-08-23T19:39:45.273599Z",
     "shell.execute_reply.started": "2021-08-23T19:37:12.432660Z"
    },
    "papermill": {
     "duration": 0.041003,
     "end_time": "2021-08-23T19:39:45.274433",
     "exception": false,
     "start_time": "2021-08-23T19:39:45.233430",
     "status": "completed"
    },
    "tags": []
   },
   "outputs": [],
   "source": [
    "# Lines below will give you a hint or solution code\n",
    "#step_2.hint()\n",
    "#step_2.solution()"
   ]
  },
  {
   "cell_type": "markdown",
   "id": "15c142d6",
   "metadata": {
    "papermill": {
     "duration": 0.031017,
     "end_time": "2021-08-23T19:39:45.338054",
     "exception": false,
     "start_time": "2021-08-23T19:39:45.307037",
     "status": "completed"
    },
    "tags": []
   },
   "source": [
    "## Step 3: The role of sugar\n",
    "\n",
    "Do people tend to prefer candies with higher sugar content?  \n",
    "\n",
    "#### Part A\n",
    "\n",
    "Create a scatter plot that shows the relationship between `'sugarpercent'` (on the horizontal x-axis) and `'winpercent'` (on the vertical y-axis).  _Don't add a regression line just yet -- you'll do that in the next step!_"
   ]
  },
  {
   "cell_type": "code",
   "execution_count": 8,
   "id": "8d978e4f",
   "metadata": {
    "execution": {
     "iopub.execute_input": "2021-08-23T19:39:45.431746Z",
     "iopub.status.busy": "2021-08-23T19:39:45.431050Z",
     "iopub.status.idle": "2021-08-23T19:39:45.662370Z",
     "shell.execute_reply": "2021-08-23T19:39:45.661621Z",
     "shell.execute_reply.started": "2021-08-23T19:37:32.783861Z"
    },
    "papermill": {
     "duration": 0.291377,
     "end_time": "2021-08-23T19:39:45.662548",
     "exception": false,
     "start_time": "2021-08-23T19:39:45.371171",
     "status": "completed"
    },
    "tags": []
   },
   "outputs": [
    {
     "data": {
      "application/javascript": [
       "parent.postMessage({\"jupyterEvent\": \"custom.exercise_interaction\", \"data\": {\"outcomeType\": 1, \"valueTowardsCompletion\": 0.3333333333333333, \"interactionType\": 1, \"questionType\": 2, \"questionId\": \"3.1_PlotBlueScatter\", \"learnToolsVersion\": \"0.3.4\", \"failureMessage\": \"\", \"exceptionClass\": \"\", \"trace\": \"\"}}, \"*\")"
      ],
      "text/plain": [
       "<IPython.core.display.Javascript object>"
      ]
     },
     "metadata": {},
     "output_type": "display_data"
    },
    {
     "data": {
      "text/markdown": [
       "<span style=\"color:#33cc33\">Correct</span>"
      ],
      "text/plain": [
       "Correct"
      ]
     },
     "metadata": {},
     "output_type": "display_data"
    },
    {
     "data": {
      "image/png": "[encoded data removed]",
      "text/plain": [
       "<Figure size 432x288 with 1 Axes>"
      ]
     },
     "metadata": {
      "needs_background": "light"
     },
     "output_type": "display_data"
    }
   ],
   "source": [
    "sns.scatterplot(x=candy_data['sugarpercent'], y=candy_data['winpercent'])\n",
    "# Check your answer\n",
    "step_3.a.check()"
   ]
  },
  {
   "cell_type": "code",
   "execution_count": 9,
   "id": "f233d936",
   "metadata": {
    "execution": {
     "iopub.execute_input": "2021-08-23T19:39:45.735285Z",
     "iopub.status.busy": "2021-08-23T19:39:45.734249Z",
     "iopub.status.idle": "2021-08-23T19:39:45.738165Z",
     "shell.execute_reply": "2021-08-23T19:39:45.737511Z",
     "shell.execute_reply.started": "2021-08-23T19:37:28.643152Z"
    },
    "papermill": {
     "duration": 0.041484,
     "end_time": "2021-08-23T19:39:45.738326",
     "exception": false,
     "start_time": "2021-08-23T19:39:45.696842",
     "status": "completed"
    },
    "tags": []
   },
   "outputs": [],
   "source": [
    "# Lines below will give you a hint or solution code\n",
    "#step_3.a.hint()\n",
    "#step_3.a.solution_plot()"
   ]
  },
  {
   "cell_type": "markdown",
   "id": "f693dd05",
   "metadata": {
    "papermill": {
     "duration": 0.033293,
     "end_time": "2021-08-23T19:39:45.804836",
     "exception": false,
     "start_time": "2021-08-23T19:39:45.771543",
     "status": "completed"
    },
    "tags": []
   },
   "source": [
    "#### Part B\n",
    "\n",
    "Does the scatter plot show a **strong** correlation between the two variables?  If so, are candies with more sugar relatively more or less popular with the survey respondents?"
   ]
  },
  {
   "cell_type": "code",
   "execution_count": 10,
   "id": "e9642bd6",
   "metadata": {
    "execution": {
     "iopub.execute_input": "2021-08-23T19:39:45.877003Z",
     "iopub.status.busy": "2021-08-23T19:39:45.876303Z",
     "iopub.status.idle": "2021-08-23T19:39:45.879774Z",
     "shell.execute_reply": "2021-08-23T19:39:45.879145Z",
     "shell.execute_reply.started": "2021-08-23T19:37:36.411282Z"
    },
    "papermill": {
     "duration": 0.041524,
     "end_time": "2021-08-23T19:39:45.879952",
     "exception": false,
     "start_time": "2021-08-23T19:39:45.838428",
     "status": "completed"
    },
    "tags": []
   },
   "outputs": [],
   "source": [
    "#step_3.b.hint()"
   ]
  },
  {
   "cell_type": "code",
   "execution_count": 11,
   "id": "733ac980",
   "metadata": {
    "execution": {
     "iopub.execute_input": "2021-08-23T19:39:45.952546Z",
     "iopub.status.busy": "2021-08-23T19:39:45.951650Z",
     "iopub.status.idle": "2021-08-23T19:39:45.959392Z",
     "shell.execute_reply": "2021-08-23T19:39:45.958677Z",
     "shell.execute_reply.started": "2021-08-23T19:37:37.340080Z"
    },
    "papermill": {
     "duration": 0.045741,
     "end_time": "2021-08-23T19:39:45.959552",
     "exception": false,
     "start_time": "2021-08-23T19:39:45.913811",
     "status": "completed"
    },
    "tags": []
   },
   "outputs": [
    {
     "data": {
      "application/javascript": [
       "parent.postMessage({\"jupyterEvent\": \"custom.exercise_interaction\", \"data\": {\"interactionType\": 3, \"questionType\": 4, \"questionId\": \"3.2_ThinkBlueScatter\", \"learnToolsVersion\": \"0.3.4\", \"valueTowardsCompletion\": 0.0, \"failureMessage\": \"\", \"exceptionClass\": \"\", \"trace\": \"\", \"outcomeType\": 4}}, \"*\")"
      ],
      "text/plain": [
       "<IPython.core.display.Javascript object>"
      ]
     },
     "metadata": {},
     "output_type": "display_data"
    },
    {
     "data": {
      "text/markdown": [
       "<span style=\"color:#33cc99\">Solution:</span> The scatter plot does not show a strong correlation between the two variables. Since there is no clear relationship between the two variables, this tells us that sugar content does not play a strong role in candy popularity."
      ],
      "text/plain": [
       "Solution: The scatter plot does not show a strong correlation between the two variables. Since there is no clear relationship between the two variables, this tells us that sugar content does not play a strong role in candy popularity."
      ]
     },
     "metadata": {},
     "output_type": "display_data"
    }
   ],
   "source": [
    "# Check your answer (Run this code cell to receive credit!)\n",
    "step_3.b.solution()"
   ]
  },
  {
   "cell_type": "markdown",
   "id": "9c35b9cf",
   "metadata": {
    "papermill": {
     "duration": 0.034748,
     "end_time": "2021-08-23T19:39:46.029265",
     "exception": false,
     "start_time": "2021-08-23T19:39:45.994517",
     "status": "completed"
    },
    "tags": []
   },
   "source": [
    "## Step 4: Take a closer look\n",
    "\n",
    "#### Part A\n",
    "\n",
    "Create the same scatter plot you created in **Step 3**, but now with a regression line!"
   ]
  },
  {
   "cell_type": "code",
   "execution_count": 12,
   "id": "4901e637",
   "metadata": {
    "execution": {
     "iopub.execute_input": "2021-08-23T19:39:46.134600Z",
     "iopub.status.busy": "2021-08-23T19:39:46.127448Z",
     "iopub.status.idle": "2021-08-23T19:39:46.401439Z",
     "shell.execute_reply": "2021-08-23T19:39:46.400643Z",
     "shell.execute_reply.started": "2021-08-23T19:37:57.496679Z"
    },
    "papermill": {
     "duration": 0.336291,
     "end_time": "2021-08-23T19:39:46.401618",
     "exception": false,
     "start_time": "2021-08-23T19:39:46.065327",
     "status": "completed"
    },
    "tags": []
   },
   "outputs": [
    {
     "data": {
      "application/javascript": [
       "parent.postMessage({\"jupyterEvent\": \"custom.exercise_interaction\", \"data\": {\"outcomeType\": 1, \"valueTowardsCompletion\": 0.3333333333333333, \"interactionType\": 1, \"questionType\": 2, \"questionId\": \"4.1_PlotBlueReg\", \"learnToolsVersion\": \"0.3.4\", \"failureMessage\": \"\", \"exceptionClass\": \"\", \"trace\": \"\"}}, \"*\")"
      ],
      "text/plain": [
       "<IPython.core.display.Javascript object>"
      ]
     },
     "metadata": {},
     "output_type": "display_data"
    },
    {
     "data": {
      "text/markdown": [
       "<span style=\"color:#33cc33\">Correct</span>"
      ],
      "text/plain": [
       "Correct"
      ]
     },
     "metadata": {},
     "output_type": "display_data"
    },
    {
     "data": {
      "image/png": "[encoded data removed]",
      "text/plain": [
       "<Figure size 432x288 with 1 Axes>"
      ]
     },
     "metadata": {
      "needs_background": "light"
     },
     "output_type": "display_data"
    }
   ],
   "source": [
    "sns.regplot(x=candy_data['sugarpercent'], y=candy_data['winpercent'])\n",
    "\n",
    "# Check your answer\n",
    "step_4.a.check()"
   ]
  },
  {
   "cell_type": "code",
   "execution_count": 13,
   "id": "a3652a0b",
   "metadata": {
    "execution": {
     "iopub.execute_input": "2021-08-23T19:39:46.479390Z",
     "iopub.status.busy": "2021-08-23T19:39:46.478365Z",
     "iopub.status.idle": "2021-08-23T19:39:46.481294Z",
     "shell.execute_reply": "2021-08-23T19:39:46.480648Z",
     "shell.execute_reply.started": "2021-08-23T19:38:02.434306Z"
    },
    "papermill": {
     "duration": 0.043457,
     "end_time": "2021-08-23T19:39:46.481455",
     "exception": false,
     "start_time": "2021-08-23T19:39:46.437998",
     "status": "completed"
    },
    "tags": []
   },
   "outputs": [],
   "source": [
    "# Lines below will give you a hint or solution code\n",
    "#step_4.a.hint()\n",
    "#step_4.a.solution_plot()"
   ]
  },
  {
   "cell_type": "markdown",
   "id": "94745b57",
   "metadata": {
    "papermill": {
     "duration": 0.035923,
     "end_time": "2021-08-23T19:39:46.554552",
     "exception": false,
     "start_time": "2021-08-23T19:39:46.518629",
     "status": "completed"
    },
    "tags": []
   },
   "source": [
    "#### Part B\n",
    "\n",
    "According to the plot above, is there a **slight** correlation between `'winpercent'` and `'sugarpercent'`?  What does this tell you about the candy that people tend to prefer?"
   ]
  },
  {
   "cell_type": "code",
   "execution_count": 14,
   "id": "2bfa5863",
   "metadata": {
    "execution": {
     "iopub.execute_input": "2021-08-23T19:39:46.633725Z",
     "iopub.status.busy": "2021-08-23T19:39:46.632768Z",
     "iopub.status.idle": "2021-08-23T19:39:46.636330Z",
     "shell.execute_reply": "2021-08-23T19:39:46.635639Z",
     "shell.execute_reply.started": "2021-08-23T19:38:04.816165Z"
    },
    "papermill": {
     "duration": 0.044442,
     "end_time": "2021-08-23T19:39:46.636493",
     "exception": false,
     "start_time": "2021-08-23T19:39:46.592051",
     "status": "completed"
    },
    "tags": []
   },
   "outputs": [],
   "source": [
    "#step_4.b.hint()"
   ]
  },
  {
   "cell_type": "code",
   "execution_count": 15,
   "id": "1c22e56f",
   "metadata": {
    "execution": {
     "iopub.execute_input": "2021-08-23T19:39:46.716503Z",
     "iopub.status.busy": "2021-08-23T19:39:46.715792Z",
     "iopub.status.idle": "2021-08-23T19:39:46.720073Z",
     "shell.execute_reply": "2021-08-23T19:39:46.720669Z",
     "shell.execute_reply.started": "2021-08-23T19:38:05.885761Z"
    },
    "papermill": {
     "duration": 0.047604,
     "end_time": "2021-08-23T19:39:46.720891",
     "exception": false,
     "start_time": "2021-08-23T19:39:46.673287",
     "status": "completed"
    },
    "tags": []
   },
   "outputs": [
    {
     "data": {
      "application/javascript": [
       "parent.postMessage({\"jupyterEvent\": \"custom.exercise_interaction\", \"data\": {\"interactionType\": 3, \"questionType\": 4, \"questionId\": \"4.2_ThinkBlueReg\", \"learnToolsVersion\": \"0.3.4\", \"valueTowardsCompletion\": 0.0, \"failureMessage\": \"\", \"exceptionClass\": \"\", \"trace\": \"\", \"outcomeType\": 4}}, \"*\")"
      ],
      "text/plain": [
       "<IPython.core.display.Javascript object>"
      ]
     },
     "metadata": {},
     "output_type": "display_data"
    },
    {
     "data": {
      "text/markdown": [
       "<span style=\"color:#33cc99\">Solution:</span> Since the regression line has a slightly positive slope, this tells us that there is a slightly positive correlation between `'winpercent'` and `'sugarpercent'`. Thus, people have a slight preference for candies containing relatively more sugar."
      ],
      "text/plain": [
       "Solution: Since the regression line has a slightly positive slope, this tells us that there is a slightly positive correlation between `'winpercent'` and `'sugarpercent'`. Thus, people have a slight preference for candies containing relatively more sugar."
      ]
     },
     "metadata": {},
     "output_type": "display_data"
    }
   ],
   "source": [
    "# Check your answer (Run this code cell to receive credit!)\n",
    "step_4.b.solution()"
   ]
  },
  {
   "cell_type": "markdown",
   "id": "6cf4fbfd",
   "metadata": {
    "papermill": {
     "duration": 0.037098,
     "end_time": "2021-08-23T19:39:46.795686",
     "exception": false,
     "start_time": "2021-08-23T19:39:46.758588",
     "status": "completed"
    },
    "tags": []
   },
   "source": [
    "## Step 5: Chocolate!\n",
    "\n",
    "In the code cell below, create a scatter plot to show the relationship between `'pricepercent'` (on the horizontal x-axis) and `'winpercent'` (on the vertical y-axis). Use the `'chocolate'` column to color-code the points.  _Don't add any regression lines just yet -- you'll do that in the next step!_"
   ]
  },
  {
   "cell_type": "code",
   "execution_count": 16,
   "id": "8dfe9620",
   "metadata": {
    "execution": {
     "iopub.execute_input": "2021-08-23T19:39:46.875836Z",
     "iopub.status.busy": "2021-08-23T19:39:46.875192Z",
     "iopub.status.idle": "2021-08-23T19:39:47.151222Z",
     "shell.execute_reply": "2021-08-23T19:39:47.151768Z",
     "shell.execute_reply.started": "2021-08-23T19:38:21.109106Z"
    },
    "papermill": {
     "duration": 0.317122,
     "end_time": "2021-08-23T19:39:47.152019",
     "exception": false,
     "start_time": "2021-08-23T19:39:46.834897",
     "status": "completed"
    },
    "tags": []
   },
   "outputs": [
    {
     "data": {
      "application/javascript": [
       "parent.postMessage({\"jupyterEvent\": \"custom.exercise_interaction\", \"data\": {\"outcomeType\": 1, \"valueTowardsCompletion\": 0.3333333333333333, \"interactionType\": 1, \"questionType\": 2, \"questionId\": \"5_ColorScatter\", \"learnToolsVersion\": \"0.3.4\", \"failureMessage\": \"\", \"exceptionClass\": \"\", \"trace\": \"\"}}, \"*\")"
      ],
      "text/plain": [
       "<IPython.core.display.Javascript object>"
      ]
     },
     "metadata": {},
     "output_type": "display_data"
    },
    {
     "data": {
      "text/markdown": [
       "<span style=\"color:#33cc33\">Correct</span>"
      ],
      "text/plain": [
       "Correct"
      ]
     },
     "metadata": {},
     "output_type": "display_data"
    },
    {
     "data": {
      "image/png": "[encoded data removed]",
      "text/plain": [
       "<Figure size 432x288 with 1 Axes>"
      ]
     },
     "metadata": {
      "needs_background": "light"
     },
     "output_type": "display_data"
    }
   ],
   "source": [
    "sns.scatterplot(x=candy_data['pricepercent'], y=candy_data['winpercent'], hue=candy_data['chocolate'])\n",
    "# Check your answer\n",
    "step_5.check()"
   ]
  },
  {
   "cell_type": "code",
   "execution_count": 17,
   "id": "e25740a2",
   "metadata": {
    "execution": {
     "iopub.execute_input": "2021-08-23T19:39:47.241038Z",
     "iopub.status.busy": "2021-08-23T19:39:47.239968Z",
     "iopub.status.idle": "2021-08-23T19:39:47.242403Z",
     "shell.execute_reply": "2021-08-23T19:39:47.242915Z",
     "shell.execute_reply.started": "2021-08-23T19:38:30.901300Z"
    },
    "papermill": {
     "duration": 0.047312,
     "end_time": "2021-08-23T19:39:47.243112",
     "exception": false,
     "start_time": "2021-08-23T19:39:47.195800",
     "status": "completed"
    },
    "tags": []
   },
   "outputs": [],
   "source": [
    "# Lines below will give you a hint or solution code\n",
    "#step_5.hint()\n",
    "#step_5.solution_plot()"
   ]
  },
  {
   "cell_type": "markdown",
   "id": "853df15d",
   "metadata": {
    "papermill": {
     "duration": 0.040332,
     "end_time": "2021-08-23T19:39:47.324348",
     "exception": false,
     "start_time": "2021-08-23T19:39:47.284016",
     "status": "completed"
    },
    "tags": []
   },
   "source": [
    "Can you see any interesting patterns in the scatter plot?  We'll investigate this plot further  by adding regression lines in the next step!\n",
    "\n",
    "## Step 6: Investigate chocolate\n",
    "\n",
    "#### Part A\n",
    "\n",
    "Create the same scatter plot you created in **Step 5**, but now with two regression lines, corresponding to (1) chocolate candies and (2) candies without chocolate."
   ]
  },
  {
   "cell_type": "code",
   "execution_count": 18,
   "id": "f757e080",
   "metadata": {
    "execution": {
     "iopub.execute_input": "2021-08-23T19:39:47.407396Z",
     "iopub.status.busy": "2021-08-23T19:39:47.406405Z",
     "iopub.status.idle": "2021-08-23T19:39:48.055824Z",
     "shell.execute_reply": "2021-08-23T19:39:48.056326Z",
     "shell.execute_reply.started": "2021-08-23T19:38:47.553237Z"
    },
    "papermill": {
     "duration": 0.692717,
     "end_time": "2021-08-23T19:39:48.056525",
     "exception": false,
     "start_time": "2021-08-23T19:39:47.363808",
     "status": "completed"
    },
    "tags": []
   },
   "outputs": [
    {
     "data": {
      "application/javascript": [
       "parent.postMessage({\"jupyterEvent\": \"custom.exercise_interaction\", \"data\": {\"outcomeType\": 1, \"valueTowardsCompletion\": 0.3333333333333333, \"interactionType\": 1, \"questionType\": 2, \"questionId\": \"6.1_PlotColorReg\", \"learnToolsVersion\": \"0.3.4\", \"failureMessage\": \"\", \"exceptionClass\": \"\", \"trace\": \"\"}}, \"*\")"
      ],
      "text/plain": [
       "<IPython.core.display.Javascript object>"
      ]
     },
     "metadata": {},
     "output_type": "display_data"
    },
    {
     "data": {
      "text/markdown": [
       "<span style=\"color:#33cc33\">Correct</span>"
      ],
      "text/plain": [
       "Correct"
      ]
     },
     "metadata": {},
     "output_type": "display_data"
    },
    {
     "data": {
      "image/png": "[encoded data removed]",
      "text/plain": [
       "<Figure size 416.375x360 with 1 Axes>"
      ]
     },
     "metadata": {
      "needs_background": "light"
     },
     "output_type": "display_data"
    }
   ],
   "source": [
    "sns.lmplot(x=\"pricepercent\", y=\"winpercent\", hue=\"chocolate\", data=candy_data)\n",
    "# Check your answer\n",
    "step_6.a.check()"
   ]
  },
  {
   "cell_type": "code",
   "execution_count": 19,
   "id": "9e1a023a",
   "metadata": {
    "execution": {
     "iopub.execute_input": "2021-08-23T19:39:48.144524Z",
     "iopub.status.busy": "2021-08-23T19:39:48.143821Z",
     "iopub.status.idle": "2021-08-23T19:39:48.147876Z",
     "shell.execute_reply": "2021-08-23T19:39:48.147212Z",
     "shell.execute_reply.started": "2021-08-23T19:38:43.933211Z"
    },
    "papermill": {
     "duration": 0.04988,
     "end_time": "2021-08-23T19:39:48.148023",
     "exception": false,
     "start_time": "2021-08-23T19:39:48.098143",
     "status": "completed"
    },
    "tags": []
   },
   "outputs": [],
   "source": [
    "# Lines below will give you a hint or solution code\n",
    "#step_6.a.hint()\n",
    "#step_6.a.solution_plot()"
   ]
  },
  {
   "cell_type": "markdown",
   "id": "aa2e735f",
   "metadata": {
    "papermill": {
     "duration": 0.04074,
     "end_time": "2021-08-23T19:39:48.230093",
     "exception": false,
     "start_time": "2021-08-23T19:39:48.189353",
     "status": "completed"
    },
    "tags": []
   },
   "source": [
    "#### Part B\n",
    "\n",
    "Using the regression lines, what conclusions can you draw about the effects of chocolate and price on candy popularity?"
   ]
  },
  {
   "cell_type": "code",
   "execution_count": 20,
   "id": "0923f3ff",
   "metadata": {
    "execution": {
     "iopub.execute_input": "2021-08-23T19:39:48.320398Z",
     "iopub.status.busy": "2021-08-23T19:39:48.319679Z",
     "iopub.status.idle": "2021-08-23T19:39:48.322011Z",
     "shell.execute_reply": "2021-08-23T19:39:48.321352Z",
     "shell.execute_reply.started": "2021-08-23T19:38:52.936249Z"
    },
    "papermill": {
     "duration": 0.050994,
     "end_time": "2021-08-23T19:39:48.322166",
     "exception": false,
     "start_time": "2021-08-23T19:39:48.271172",
     "status": "completed"
    },
    "tags": []
   },
   "outputs": [],
   "source": [
    "#step_6.b.hint()"
   ]
  },
  {
   "cell_type": "code",
   "execution_count": 21,
   "id": "9551e728",
   "metadata": {
    "execution": {
     "iopub.execute_input": "2021-08-23T19:39:48.414556Z",
     "iopub.status.busy": "2021-08-23T19:39:48.413325Z",
     "iopub.status.idle": "2021-08-23T19:39:48.421236Z",
     "shell.execute_reply": "2021-08-23T19:39:48.420565Z",
     "shell.execute_reply.started": "2021-08-23T19:38:54.117025Z"
    },
    "papermill": {
     "duration": 0.055452,
     "end_time": "2021-08-23T19:39:48.421393",
     "exception": false,
     "start_time": "2021-08-23T19:39:48.365941",
     "status": "completed"
    },
    "tags": []
   },
   "outputs": [
    {
     "data": {
      "application/javascript": [
       "parent.postMessage({\"jupyterEvent\": \"custom.exercise_interaction\", \"data\": {\"interactionType\": 3, \"questionType\": 4, \"questionId\": \"6.2_ThinkColorReg\", \"learnToolsVersion\": \"0.3.4\", \"valueTowardsCompletion\": 0.0, \"failureMessage\": \"\", \"exceptionClass\": \"\", \"trace\": \"\", \"outcomeType\": 4}}, \"*\")"
      ],
      "text/plain": [
       "<IPython.core.display.Javascript object>"
      ]
     },
     "metadata": {},
     "output_type": "display_data"
    },
    {
     "data": {
      "text/markdown": [
       "<span style=\"color:#33cc99\">Solution:</span> We'll begin with the regression line for chocolate candies. Since this line has a slightly positive slope, we can say that more expensive chocolate candies tend to be more popular (than relatively cheaper chocolate candies).  Likewise, since the regression line for candies without chocolate has a negative slope, we can say that if candies don't contain chocolate, they tend to be more popular when they are cheaper.  One important note, however, is that the dataset is quite small -- so we shouldn't invest too much trust in these patterns!  To inspire more confidence in the results, we should add more candies to the dataset."
      ],
      "text/plain": [
       "Solution: We'll begin with the regression line for chocolate candies. Since this line has a slightly positive slope, we can say that more expensive chocolate candies tend to be more popular (than relatively cheaper chocolate candies).  Likewise, since the regression line for candies without chocolate has a negative slope, we can say that if candies don't contain chocolate, they tend to be more popular when they are cheaper.  One important note, however, is that the dataset is quite small -- so we shouldn't invest too much trust in these patterns!  To inspire more confidence in the results, we should add more candies to the dataset."
      ]
     },
     "metadata": {},
     "output_type": "display_data"
    }
   ],
   "source": [
    "# Check your answer (Run this code cell to receive credit!)\n",
    "step_6.b.solution()"
   ]
  },
  {
   "cell_type": "markdown",
   "id": "851cc765",
   "metadata": {
    "papermill": {
     "duration": 0.04344,
     "end_time": "2021-08-23T19:39:48.510479",
     "exception": false,
     "start_time": "2021-08-23T19:39:48.467039",
     "status": "completed"
    },
    "tags": []
   },
   "source": [
    "## Step 7: Everybody loves chocolate.\n",
    "\n",
    "#### Part A\n",
    "\n",
    "Create a categorical scatter plot to highlight the relationship between `'chocolate'` and `'winpercent'`.  Put `'chocolate'` on the (horizontal) x-axis, and `'winpercent'` on the (vertical) y-axis."
   ]
  },
  {
   "cell_type": "code",
   "execution_count": 22,
   "id": "431b0e62",
   "metadata": {
    "execution": {
     "iopub.execute_input": "2021-08-23T19:39:48.607065Z",
     "iopub.status.busy": "2021-08-23T19:39:48.606152Z",
     "iopub.status.idle": "2021-08-23T19:39:48.815309Z",
     "shell.execute_reply": "2021-08-23T19:39:48.815802Z",
     "shell.execute_reply.started": "2021-08-23T19:39:13.307051Z"
    },
    "papermill": {
     "duration": 0.262542,
     "end_time": "2021-08-23T19:39:48.816034",
     "exception": false,
     "start_time": "2021-08-23T19:39:48.553492",
     "status": "completed"
    },
    "tags": []
   },
   "outputs": [
    {
     "data": {
      "application/javascript": [
       "parent.postMessage({\"jupyterEvent\": \"custom.exercise_interaction\", \"data\": {\"outcomeType\": 1, \"valueTowardsCompletion\": 0.3333333333333333, \"interactionType\": 1, \"questionType\": 2, \"questionId\": \"7.1_PlotSwarm\", \"learnToolsVersion\": \"0.3.4\", \"failureMessage\": \"\", \"exceptionClass\": \"\", \"trace\": \"\"}}, \"*\")"
      ],
      "text/plain": [
       "<IPython.core.display.Javascript object>"
      ]
     },
     "metadata": {},
     "output_type": "display_data"
    },
    {
     "data": {
      "text/markdown": [
       "<span style=\"color:#33cc33\">Correct</span>"
      ],
      "text/plain": [
       "Correct"
      ]
     },
     "metadata": {},
     "output_type": "display_data"
    },
    {
     "data": {
      "image/png": "[encoded data removed]",
      "text/plain": [
       "<Figure size 432x288 with 1 Axes>"
      ]
     },
     "metadata": {
      "needs_background": "light"
     },
     "output_type": "display_data"
    }
   ],
   "source": [
    "sns.swarmplot(x=candy_data['chocolate'], y=candy_data['winpercent'])\n",
    "# Check your answer\n",
    "step_7.a.check()"
   ]
  },
  {
   "cell_type": "code",
   "execution_count": 23,
   "id": "893f60fb",
   "metadata": {
    "execution": {
     "iopub.execute_input": "2021-08-23T19:39:48.912643Z",
     "iopub.status.busy": "2021-08-23T19:39:48.911984Z",
     "iopub.status.idle": "2021-08-23T19:39:48.915448Z",
     "shell.execute_reply": "2021-08-23T19:39:48.914925Z",
     "shell.execute_reply.started": "2021-08-23T19:39:09.774412Z"
    },
    "papermill": {
     "duration": 0.053924,
     "end_time": "2021-08-23T19:39:48.915609",
     "exception": false,
     "start_time": "2021-08-23T19:39:48.861685",
     "status": "completed"
    },
    "tags": []
   },
   "outputs": [],
   "source": [
    "# Lines below will give you a hint or solution code\n",
    "#step_7.a.hint()\n",
    "#step_7.a.solution_plot()"
   ]
  },
  {
   "cell_type": "markdown",
   "id": "5283da17",
   "metadata": {
    "papermill": {
     "duration": 0.044997,
     "end_time": "2021-08-23T19:39:49.005522",
     "exception": false,
     "start_time": "2021-08-23T19:39:48.960525",
     "status": "completed"
    },
    "tags": []
   },
   "source": [
    "#### Part B\n",
    "\n",
    "You decide to dedicate a section of your report to the fact that chocolate candies tend to be more popular than candies without chocolate.  Which plot is more appropriate to tell this story: the plot from **Step 6**, or the plot from **Step 7**?"
   ]
  },
  {
   "cell_type": "code",
   "execution_count": 24,
   "id": "8a4e5561",
   "metadata": {
    "execution": {
     "iopub.execute_input": "2021-08-23T19:39:49.100259Z",
     "iopub.status.busy": "2021-08-23T19:39:49.099557Z",
     "iopub.status.idle": "2021-08-23T19:39:49.102887Z",
     "shell.execute_reply": "2021-08-23T19:39:49.102361Z",
     "shell.execute_reply.started": "2021-08-23T19:39:17.726863Z"
    },
    "papermill": {
     "duration": 0.053117,
     "end_time": "2021-08-23T19:39:49.103061",
     "exception": false,
     "start_time": "2021-08-23T19:39:49.049944",
     "status": "completed"
    },
    "tags": []
   },
   "outputs": [],
   "source": [
    "#step_7.b.hint()"
   ]
  },
  {
   "cell_type": "code",
   "execution_count": 25,
   "id": "4aadea26",
   "metadata": {
    "execution": {
     "iopub.execute_input": "2021-08-23T19:39:49.198514Z",
     "iopub.status.busy": "2021-08-23T19:39:49.197771Z",
     "iopub.status.idle": "2021-08-23T19:39:49.204840Z",
     "shell.execute_reply": "2021-08-23T19:39:49.204205Z",
     "shell.execute_reply.started": "2021-08-23T19:39:18.852349Z"
    },
    "papermill": {
     "duration": 0.057739,
     "end_time": "2021-08-23T19:39:49.205007",
     "exception": false,
     "start_time": "2021-08-23T19:39:49.147268",
     "status": "completed"
    },
    "tags": []
   },
   "outputs": [
    {
     "data": {
      "application/javascript": [
       "parent.postMessage({\"jupyterEvent\": \"custom.exercise_interaction\", \"data\": {\"interactionType\": 3, \"questionType\": 4, \"questionId\": \"7.2_ThinkSwarm\", \"learnToolsVersion\": \"0.3.4\", \"valueTowardsCompletion\": 0.0, \"failureMessage\": \"\", \"exceptionClass\": \"\", \"trace\": \"\", \"outcomeType\": 4}}, \"*\")"
      ],
      "text/plain": [
       "<IPython.core.display.Javascript object>"
      ]
     },
     "metadata": {},
     "output_type": "display_data"
    },
    {
     "data": {
      "text/markdown": [
       "<span style=\"color:#33cc99\">Solution:</span> In this case, the categorical scatter plot from **Step 7** is the more appropriate plot. While both plots tell the desired story, the plot from **Step 6** conveys far more information that could distract from the main point."
      ],
      "text/plain": [
       "Solution: In this case, the categorical scatter plot from **Step 7** is the more appropriate plot. While both plots tell the desired story, the plot from **Step 6** conveys far more information that could distract from the main point."
      ]
     },
     "metadata": {},
     "output_type": "display_data"
    }
   ],
   "source": [
    "# Check your answer (Run this code cell to receive credit!)\n",
    "step_7.b.solution()"
   ]
  },
  {
   "cell_type": "markdown",
   "id": "de7d774c",
   "metadata": {
    "papermill": {
     "duration": 0.045545,
     "end_time": "2021-08-23T19:39:49.295361",
     "exception": false,
     "start_time": "2021-08-23T19:39:49.249816",
     "status": "completed"
    },
    "tags": []
   },
   "source": [
    "## Keep going\n",
    "\n",
    "Explore **[histograms and density plots](https://www.kaggle.com/alexisbcook/distributions)**."
   ]
  },
  {
   "cell_type": "markdown",
   "id": "cc3f7749",
   "metadata": {
    "papermill": {
     "duration": 0.044153,
     "end_time": "2021-08-23T19:39:49.386320",
     "exception": false,
     "start_time": "2021-08-23T19:39:49.342167",
     "status": "completed"
    },
    "tags": []
   },
   "source": [
    "---\n",
    "\n",
    "\n",
    "\n",
    "\n",
    "*Have questions or comments? Visit the [Learn Discussion forum](https://www.kaggle.com/learn-forum/161291) to chat with other Learners.*"
   ]
  }
 ],
 "metadata": {
  "kernelspec": {
   "display_name": "Python 3",
   "language": "python",
   "name": "python3"
  },
  "language_info": {
   "codemirror_mode": {
    "name": "ipython",
    "version": 3
   },
   "file_extension": ".py",
   "mimetype": "text/x-python",
   "name": "python",
   "nbconvert_exporter": "python",
   "pygments_lexer": "ipython3",
   "version": "3.7.10"
  },
  "papermill": {
   "default_parameters": {},
   "duration": 16.936022,
   "end_time": "2021-08-23T19:39:51.289099",
   "environment_variables": {},
   "exception": null,
   "input_path": "__notebook__.ipynb",
   "output_path": "__notebook__.ipynb",
   "parameters": {},
   "start_time": "2021-08-23T19:39:34.353077",
   "version": "2.3.3"
  }
 },
 "nbformat": 4,
 "nbformat_minor": 5
}
