{
 "cells": [
  {
   "cell_type": "markdown",
   "id": "f39f64e3",
   "metadata": {
    "papermill": {
     "duration": 0.014084,
     "end_time": "2021-09-14T13:41:28.307171",
     "exception": false,
     "start_time": "2021-09-14T13:41:28.293087",
     "status": "completed"
    },
    "tags": []
   },
   "source": [
    "**This notebook is an exercise in the [Pandas](https://www.kaggle.com/learn/pandas) course.  You can reference the tutorial at [this link](https://www.kaggle.com/residentmario/data-types-and-missing-values).**\n",
    "\n",
    "---\n"
   ]
  },
  {
   "cell_type": "markdown",
   "id": "fbd2a4e7",
   "metadata": {
    "papermill": {
     "duration": 0.012589,
     "end_time": "2021-09-14T13:41:28.333037",
     "exception": false,
     "start_time": "2021-09-14T13:41:28.320448",
     "status": "completed"
    },
    "tags": []
   },
   "source": [
    "# Introduction\n",
    "\n",
    "Run the following cell to load your data and some utility functions."
   ]
  },
  {
   "cell_type": "code",
   "execution_count": 1,
   "id": "ea7377ac",
   "metadata": {
    "execution": {
     "iopub.execute_input": "2021-09-14T13:41:28.363349Z",
     "iopub.status.busy": "2021-09-14T13:41:28.362090Z",
     "iopub.status.idle": "2021-09-14T13:41:31.897130Z",
     "shell.execute_reply": "2021-09-14T13:41:31.896324Z",
     "shell.execute_reply.started": "2021-09-14T13:40:19.696242Z"
    },
    "papermill": {
     "duration": 3.551439,
     "end_time": "2021-09-14T13:41:31.897321",
     "exception": false,
     "start_time": "2021-09-14T13:41:28.345882",
     "status": "completed"
    },
    "tags": []
   },
   "outputs": [
    {
     "name": "stdout",
     "output_type": "stream",
     "text": [
      "Setup complete.\n"
     ]
    }
   ],
   "source": [
    "import pandas as pd\n",
    "\n",
    "reviews = pd.read_csv(\"../input/wine-reviews/winemag-data-130k-v2.csv\", index_col=0)\n",
    "\n",
    "from learntools.core import binder; binder.bind(globals())\n",
    "from learntools.pandas.data_types_and_missing_data import *\n",
    "print(\"Setup complete.\")"
   ]
  },
  {
   "cell_type": "markdown",
   "id": "1565cafe",
   "metadata": {
    "papermill": {
     "duration": 0.012844,
     "end_time": "2021-09-14T13:41:31.924152",
     "exception": false,
     "start_time": "2021-09-14T13:41:31.911308",
     "status": "completed"
    },
    "tags": []
   },
   "source": [
    "# Exercises"
   ]
  },
  {
   "cell_type": "markdown",
   "id": "6e2e5f60",
   "metadata": {
    "papermill": {
     "duration": 0.012786,
     "end_time": "2021-09-14T13:41:31.950189",
     "exception": false,
     "start_time": "2021-09-14T13:41:31.937403",
     "status": "completed"
    },
    "tags": []
   },
   "source": [
    "## 1. \n",
    "What is the data type of the `points` column in the dataset?"
   ]
  },
  {
   "cell_type": "code",
   "execution_count": 2,
   "id": "a15151fc",
   "metadata": {
    "execution": {
     "iopub.execute_input": "2021-09-14T13:41:31.987742Z",
     "iopub.status.busy": "2021-09-14T13:41:31.986699Z",
     "iopub.status.idle": "2021-09-14T13:41:31.991802Z",
     "shell.execute_reply": "2021-09-14T13:41:31.992388Z",
     "shell.execute_reply.started": "2021-09-14T13:40:20.818492Z"
    },
    "papermill": {
     "duration": 0.02864,
     "end_time": "2021-09-14T13:41:31.992599",
     "exception": false,
     "start_time": "2021-09-14T13:41:31.963959",
     "status": "completed"
    },
    "tags": []
   },
   "outputs": [
    {
     "data": {
      "application/javascript": [
       "parent.postMessage({\"jupyterEvent\": \"custom.exercise_interaction\", \"data\": {\"outcomeType\": 1, \"valueTowardsCompletion\": 0.25, \"interactionType\": 1, \"questionType\": 1, \"questionId\": \"1_PointsDtype\", \"learnToolsVersion\": \"0.3.4\", \"failureMessage\": \"\", \"exceptionClass\": \"\", \"trace\": \"\"}}, \"*\")"
      ],
      "text/plain": [
       "<IPython.core.display.Javascript object>"
      ]
     },
     "metadata": {},
     "output_type": "display_data"
    },
    {
     "data": {
      "text/markdown": [
       "<span style=\"color:#33cc33\">Correct</span>"
      ],
      "text/plain": [
       "Correct"
      ]
     },
     "metadata": {},
     "output_type": "display_data"
    }
   ],
   "source": [
    "# Your code here\n",
    "dtype = reviews.points.dtype\n",
    "q1.check()"
   ]
  },
  {
   "cell_type": "code",
   "execution_count": 3,
   "id": "cb4f6800",
   "metadata": {
    "execution": {
     "iopub.execute_input": "2021-09-14T13:41:32.026318Z",
     "iopub.status.busy": "2021-09-14T13:41:32.025113Z",
     "iopub.status.idle": "2021-09-14T13:41:32.029509Z",
     "shell.execute_reply": "2021-09-14T13:41:32.028782Z",
     "shell.execute_reply.started": "2021-09-14T13:40:20.830492Z"
    },
    "papermill": {
     "duration": 0.02243,
     "end_time": "2021-09-14T13:41:32.029688",
     "exception": false,
     "start_time": "2021-09-14T13:41:32.007258",
     "status": "completed"
    },
    "tags": []
   },
   "outputs": [],
   "source": [
    "#q1.hint()\n",
    "#q1.solution()"
   ]
  },
  {
   "cell_type": "markdown",
   "id": "4aac3588",
   "metadata": {
    "papermill": {
     "duration": 0.014217,
     "end_time": "2021-09-14T13:41:32.058495",
     "exception": false,
     "start_time": "2021-09-14T13:41:32.044278",
     "status": "completed"
    },
    "tags": []
   },
   "source": [
    "## 2. \n",
    "Create a Series from entries in the `points` column, but convert the entries to strings. Hint: strings are `str` in native Python."
   ]
  },
  {
   "cell_type": "code",
   "execution_count": 4,
   "id": "94b581dd",
   "metadata": {
    "execution": {
     "iopub.execute_input": "2021-09-14T13:41:32.262999Z",
     "iopub.status.busy": "2021-09-14T13:41:32.262244Z",
     "iopub.status.idle": "2021-09-14T13:41:32.269529Z",
     "shell.execute_reply": "2021-09-14T13:41:32.268963Z",
     "shell.execute_reply.started": "2021-09-14T13:40:20.839958Z"
    },
    "papermill": {
     "duration": 0.196479,
     "end_time": "2021-09-14T13:41:32.269690",
     "exception": false,
     "start_time": "2021-09-14T13:41:32.073211",
     "status": "completed"
    },
    "tags": []
   },
   "outputs": [
    {
     "data": {
      "application/javascript": [
       "parent.postMessage({\"jupyterEvent\": \"custom.exercise_interaction\", \"data\": {\"outcomeType\": 1, \"valueTowardsCompletion\": 0.25, \"interactionType\": 1, \"questionType\": 1, \"questionId\": \"2_StrPoints\", \"learnToolsVersion\": \"0.3.4\", \"failureMessage\": \"\", \"exceptionClass\": \"\", \"trace\": \"\"}}, \"*\")"
      ],
      "text/plain": [
       "<IPython.core.display.Javascript object>"
      ]
     },
     "metadata": {},
     "output_type": "display_data"
    },
    {
     "data": {
      "text/markdown": [
       "<span style=\"color:#33cc33\">Correct</span>"
      ],
      "text/plain": [
       "Correct"
      ]
     },
     "metadata": {},
     "output_type": "display_data"
    }
   ],
   "source": [
    "point_strings = reviews.points.astype(str)\n",
    "q2.check()"
   ]
  },
  {
   "cell_type": "code",
   "execution_count": 5,
   "id": "5baa0bef",
   "metadata": {
    "execution": {
     "iopub.execute_input": "2021-09-14T13:41:32.307402Z",
     "iopub.status.busy": "2021-09-14T13:41:32.306587Z",
     "iopub.status.idle": "2021-09-14T13:41:32.309790Z",
     "shell.execute_reply": "2021-09-14T13:41:32.309246Z",
     "shell.execute_reply.started": "2021-09-14T13:40:21.018535Z"
    },
    "papermill": {
     "duration": 0.023112,
     "end_time": "2021-09-14T13:41:32.309941",
     "exception": false,
     "start_time": "2021-09-14T13:41:32.286829",
     "status": "completed"
    },
    "tags": []
   },
   "outputs": [],
   "source": [
    "#q2.hint()\n",
    "#q2.solution()"
   ]
  },
  {
   "cell_type": "markdown",
   "id": "e3a7c0eb",
   "metadata": {
    "papermill": {
     "duration": 0.014833,
     "end_time": "2021-09-14T13:41:32.340157",
     "exception": false,
     "start_time": "2021-09-14T13:41:32.325324",
     "status": "completed"
    },
    "tags": []
   },
   "source": [
    "## 3.\n",
    "Sometimes the price column is null. How many reviews in the dataset are missing a price?"
   ]
  },
  {
   "cell_type": "code",
   "execution_count": 6,
   "id": "d40e4755",
   "metadata": {
    "execution": {
     "iopub.execute_input": "2021-09-14T13:41:32.378344Z",
     "iopub.status.busy": "2021-09-14T13:41:32.377525Z",
     "iopub.status.idle": "2021-09-14T13:41:32.393601Z",
     "shell.execute_reply": "2021-09-14T13:41:32.392955Z",
     "shell.execute_reply.started": "2021-09-14T13:40:21.024087Z"
    },
    "papermill": {
     "duration": 0.038397,
     "end_time": "2021-09-14T13:41:32.393772",
     "exception": false,
     "start_time": "2021-09-14T13:41:32.355375",
     "status": "completed"
    },
    "tags": []
   },
   "outputs": [
    {
     "data": {
      "application/javascript": [
       "parent.postMessage({\"jupyterEvent\": \"custom.exercise_interaction\", \"data\": {\"outcomeType\": 1, \"valueTowardsCompletion\": 0.25, \"interactionType\": 1, \"questionType\": 1, \"questionId\": \"3_CountMissingPrices\", \"learnToolsVersion\": \"0.3.4\", \"failureMessage\": \"\", \"exceptionClass\": \"\", \"trace\": \"\"}}, \"*\")"
      ],
      "text/plain": [
       "<IPython.core.display.Javascript object>"
      ]
     },
     "metadata": {},
     "output_type": "display_data"
    },
    {
     "data": {
      "text/markdown": [
       "<span style=\"color:#33cc33\">Correct</span>"
      ],
      "text/plain": [
       "Correct"
      ]
     },
     "metadata": {},
     "output_type": "display_data"
    }
   ],
   "source": [
    "missing_price_reviews = reviews[reviews.price.isnull()]\n",
    "n_missing_prices = len(missing_price_reviews)\n",
    "# Cute alternative solution: if we sum a boolean series, True is treated as 1 and False as 0\n",
    "n_missing_prices = reviews.price.isnull().sum()\n",
    "# or equivalently:\n",
    "n_missing_prices = pd.isnull(reviews.price).sum()\n",
    "q3.check()"
   ]
  },
  {
   "cell_type": "code",
   "execution_count": 7,
   "id": "ad4d7fbc",
   "metadata": {
    "execution": {
     "iopub.execute_input": "2021-09-14T13:41:32.430517Z",
     "iopub.status.busy": "2021-09-14T13:41:32.429805Z",
     "iopub.status.idle": "2021-09-14T13:41:32.433652Z",
     "shell.execute_reply": "2021-09-14T13:41:32.433035Z",
     "shell.execute_reply.started": "2021-09-14T13:40:21.049662Z"
    },
    "papermill": {
     "duration": 0.024025,
     "end_time": "2021-09-14T13:41:32.433812",
     "exception": false,
     "start_time": "2021-09-14T13:41:32.409787",
     "status": "completed"
    },
    "tags": []
   },
   "outputs": [],
   "source": [
    "#q3.hint()\n",
    "#q3.solution()"
   ]
  },
  {
   "cell_type": "markdown",
   "id": "5e2749e6",
   "metadata": {
    "papermill": {
     "duration": 0.015661,
     "end_time": "2021-09-14T13:41:32.465867",
     "exception": false,
     "start_time": "2021-09-14T13:41:32.450206",
     "status": "completed"
    },
    "tags": []
   },
   "source": [
    "## 4.\n",
    "What are the most common wine-producing regions? Create a Series counting the number of times each value occurs in the `region_1` field. This field is often missing data, so replace missing values with `Unknown`. Sort in descending order.  Your output should look something like this:\n",
    "\n",
    "```\n",
    "Unknown                    21247\n",
    "Napa Valley                 4480\n",
    "                           ...  \n",
    "Bardolino Superiore            1\n",
    "Primitivo del Tarantino        1\n",
    "Name: region_1, Length: 1230, dtype: int64\n",
    "```"
   ]
  },
  {
   "cell_type": "code",
   "execution_count": 8,
   "id": "705c6b8c",
   "metadata": {
    "execution": {
     "iopub.execute_input": "2021-09-14T13:41:32.517029Z",
     "iopub.status.busy": "2021-09-14T13:41:32.501412Z",
     "iopub.status.idle": "2021-09-14T13:41:32.580766Z",
     "shell.execute_reply": "2021-09-14T13:41:32.581324Z",
     "shell.execute_reply.started": "2021-09-14T13:40:21.055238Z"
    },
    "papermill": {
     "duration": 0.099479,
     "end_time": "2021-09-14T13:41:32.581524",
     "exception": false,
     "start_time": "2021-09-14T13:41:32.482045",
     "status": "completed"
    },
    "tags": []
   },
   "outputs": [
    {
     "data": {
      "application/javascript": [
       "parent.postMessage({\"jupyterEvent\": \"custom.exercise_interaction\", \"data\": {\"outcomeType\": 1, \"valueTowardsCompletion\": 0.25, \"interactionType\": 1, \"questionType\": 2, \"questionId\": \"4_ReviewsPerRegion\", \"learnToolsVersion\": \"0.3.4\", \"failureMessage\": \"\", \"exceptionClass\": \"\", \"trace\": \"\"}}, \"*\")"
      ],
      "text/plain": [
       "<IPython.core.display.Javascript object>"
      ]
     },
     "metadata": {},
     "output_type": "display_data"
    },
    {
     "data": {
      "text/markdown": [
       "<span style=\"color:#33cc33\">Correct</span>"
      ],
      "text/plain": [
       "Correct"
      ]
     },
     "metadata": {},
     "output_type": "display_data"
    }
   ],
   "source": [
    "reviews_per_region = reviews.region_1.fillna('Unknown').value_counts().sort_values(ascending=False)\n",
    "\n",
    "q4.check()"
   ]
  },
  {
   "cell_type": "code",
   "execution_count": 9,
   "id": "172831c4",
   "metadata": {
    "execution": {
     "iopub.execute_input": "2021-09-14T13:41:32.622098Z",
     "iopub.status.busy": "2021-09-14T13:41:32.621263Z",
     "iopub.status.idle": "2021-09-14T13:41:32.624334Z",
     "shell.execute_reply": "2021-09-14T13:41:32.624889Z",
     "shell.execute_reply.started": "2021-09-14T13:40:21.141389Z"
    },
    "papermill": {
     "duration": 0.026727,
     "end_time": "2021-09-14T13:41:32.625137",
     "exception": false,
     "start_time": "2021-09-14T13:41:32.598410",
     "status": "completed"
    },
    "tags": []
   },
   "outputs": [],
   "source": [
    "#q4.hint()\n",
    "#q4.solution()"
   ]
  },
  {
   "cell_type": "markdown",
   "id": "d4e8b1ec",
   "metadata": {
    "papermill": {
     "duration": 0.016772,
     "end_time": "2021-09-14T13:41:32.659454",
     "exception": false,
     "start_time": "2021-09-14T13:41:32.642682",
     "status": "completed"
    },
    "tags": []
   },
   "source": [
    "# Keep going\n",
    "\n",
    "Move on to **[renaming and combining](https://www.kaggle.com/residentmario/renaming-and-combining)**."
   ]
  },
  {
   "cell_type": "markdown",
   "id": "2465c307",
   "metadata": {
    "papermill": {
     "duration": 0.017523,
     "end_time": "2021-09-14T13:41:32.694183",
     "exception": false,
     "start_time": "2021-09-14T13:41:32.676660",
     "status": "completed"
    },
    "tags": []
   },
   "source": [
    "---\n",
    "\n",
    "\n",
    "\n",
    "\n",
    "*Have questions or comments? Visit the [Learn Discussion forum](https://www.kaggle.com/learn-forum/161299) to chat with other Learners.*"
   ]
  }
 ],
 "metadata": {
  "kernelspec": {
   "display_name": "Python 3",
   "language": "python",
   "name": "python3"
  },
  "language_info": {
   "codemirror_mode": {
    "name": "ipython",
    "version": 3
   },
   "file_extension": ".py",
   "mimetype": "text/x-python",
   "name": "python",
   "nbconvert_exporter": "python",
   "pygments_lexer": "ipython3",
   "version": "3.7.10"
  },
  "papermill": {
   "default_parameters": {},
   "duration": 16.035807,
   "end_time": "2021-09-14T13:41:34.147312",
   "environment_variables": {},
   "exception": null,
   "input_path": "__notebook__.ipynb",
   "output_path": "__notebook__.ipynb",
   "parameters": {},
   "start_time": "2021-09-14T13:41:18.111505",
   "version": "2.3.3"
  }
 },
 "nbformat": 4,
 "nbformat_minor": 5
}
