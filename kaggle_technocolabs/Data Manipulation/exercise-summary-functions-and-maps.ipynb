{
 "cells": [
  {
   "cell_type": "markdown",
   "id": "63cedc68",
   "metadata": {
    "papermill": {
     "duration": 0.01999,
     "end_time": "2021-09-14T13:41:33.258223",
     "exception": false,
     "start_time": "2021-09-14T13:41:33.238233",
     "status": "completed"
    },
    "tags": []
   },
   "source": [
    "**This notebook is an exercise in the [Pandas](https://www.kaggle.com/learn/pandas) course.  You can reference the tutorial at [this link](https://www.kaggle.com/residentmario/summary-functions-and-maps).**\n",
    "\n",
    "---\n"
   ]
  },
  {
   "cell_type": "markdown",
   "id": "edcb6152",
   "metadata": {
    "papermill": {
     "duration": 0.018472,
     "end_time": "2021-09-14T13:41:33.296742",
     "exception": false,
     "start_time": "2021-09-14T13:41:33.278270",
     "status": "completed"
    },
    "tags": []
   },
   "source": [
    "# Introduction\n",
    "\n",
    "Now you are ready to get a deeper understanding of your data.\n",
    "\n",
    "Run the following cell to load your data and some utility functions (including code to check your answers)."
   ]
  },
  {
   "cell_type": "code",
   "execution_count": 1,
   "id": "f91c2f60",
   "metadata": {
    "execution": {
     "iopub.execute_input": "2021-09-14T13:41:33.349830Z",
     "iopub.status.busy": "2021-09-14T13:41:33.349004Z",
     "iopub.status.idle": "2021-09-14T13:41:42.145271Z",
     "shell.execute_reply": "2021-09-14T13:41:42.146109Z",
     "shell.execute_reply.started": "2021-09-14T13:40:40.915243Z"
    },
    "papermill": {
     "duration": 8.831011,
     "end_time": "2021-09-14T13:41:42.146574",
     "exception": false,
     "start_time": "2021-09-14T13:41:33.315563",
     "status": "completed"
    },
    "tags": []
   },
   "outputs": [
    {
     "name": "stdout",
     "output_type": "stream",
     "text": [
      "Setup complete.\n"
     ]
    },
    {
     "data": {
      "text/html": [
       "<div>\n",
       "<style scoped>\n",
       "    .dataframe tbody tr th:only-of-type {\n",
       "        vertical-align: middle;\n",
       "    }\n",
       "\n",
       "    .dataframe tbody tr th {\n",
       "        vertical-align: top;\n",
       "    }\n",
       "\n",
       "    .dataframe thead th {\n",
       "        text-align: right;\n",
       "    }\n",
       "</style>\n",
       "<table border=\"1\" class=\"dataframe\">\n",
       "  <thead>\n",
       "    <tr style=\"text-align: right;\">\n",
       "      <th></th>\n",
       "      <th>country</th>\n",
       "      <th>description</th>\n",
       "      <th>designation</th>\n",
       "      <th>points</th>\n",
       "      <th>price</th>\n",
       "      <th>province</th>\n",
       "      <th>region_1</th>\n",
       "      <th>region_2</th>\n",
       "      <th>taster_name</th>\n",
       "      <th>taster_twitter_handle</th>\n",
       "      <th>title</th>\n",
       "      <th>variety</th>\n",
       "      <th>winery</th>\n",
       "    </tr>\n",
       "  </thead>\n",
       "  <tbody>\n",
       "    <tr>\n",
       "      <th>0</th>\n",
       "      <td>Italy</td>\n",
       "      <td>Aromas include tropical fruit, broom, brimston...</td>\n",
       "      <td>Vulkà Bianco</td>\n",
       "      <td>87</td>\n",
       "      <td>NaN</td>\n",
       "      <td>Sicily &amp; Sardinia</td>\n",
       "      <td>Etna</td>\n",
       "      <td>NaN</td>\n",
       "      <td>Kerin O’Keefe</td>\n",
       "      <td>@kerinokeefe</td>\n",
       "      <td>Nicosia 2013 Vulkà Bianco  (Etna)</td>\n",
       "      <td>White Blend</td>\n",
       "      <td>Nicosia</td>\n",
       "    </tr>\n",
       "    <tr>\n",
       "      <th>1</th>\n",
       "      <td>Portugal</td>\n",
       "      <td>This is ripe and fruity, a wine that is smooth...</td>\n",
       "      <td>Avidagos</td>\n",
       "      <td>87</td>\n",
       "      <td>15.0</td>\n",
       "      <td>Douro</td>\n",
       "      <td>NaN</td>\n",
       "      <td>NaN</td>\n",
       "      <td>Roger Voss</td>\n",
       "      <td>@vossroger</td>\n",
       "      <td>Quinta dos Avidagos 2011 Avidagos Red (Douro)</td>\n",
       "      <td>Portuguese Red</td>\n",
       "      <td>Quinta dos Avidagos</td>\n",
       "    </tr>\n",
       "    <tr>\n",
       "      <th>2</th>\n",
       "      <td>US</td>\n",
       "      <td>Tart and snappy, the flavors of lime flesh and...</td>\n",
       "      <td>NaN</td>\n",
       "      <td>87</td>\n",
       "      <td>14.0</td>\n",
       "      <td>Oregon</td>\n",
       "      <td>Willamette Valley</td>\n",
       "      <td>Willamette Valley</td>\n",
       "      <td>Paul Gregutt</td>\n",
       "      <td>@paulgwine</td>\n",
       "      <td>Rainstorm 2013 Pinot Gris (Willamette Valley)</td>\n",
       "      <td>Pinot Gris</td>\n",
       "      <td>Rainstorm</td>\n",
       "    </tr>\n",
       "    <tr>\n",
       "      <th>3</th>\n",
       "      <td>US</td>\n",
       "      <td>Pineapple rind, lemon pith and orange blossom ...</td>\n",
       "      <td>Reserve Late Harvest</td>\n",
       "      <td>87</td>\n",
       "      <td>13.0</td>\n",
       "      <td>Michigan</td>\n",
       "      <td>Lake Michigan Shore</td>\n",
       "      <td>NaN</td>\n",
       "      <td>Alexander Peartree</td>\n",
       "      <td>NaN</td>\n",
       "      <td>St. Julian 2013 Reserve Late Harvest Riesling ...</td>\n",
       "      <td>Riesling</td>\n",
       "      <td>St. Julian</td>\n",
       "    </tr>\n",
       "    <tr>\n",
       "      <th>4</th>\n",
       "      <td>US</td>\n",
       "      <td>Much like the regular bottling from 2012, this...</td>\n",
       "      <td>Vintner's Reserve Wild Child Block</td>\n",
       "      <td>87</td>\n",
       "      <td>65.0</td>\n",
       "      <td>Oregon</td>\n",
       "      <td>Willamette Valley</td>\n",
       "      <td>Willamette Valley</td>\n",
       "      <td>Paul Gregutt</td>\n",
       "      <td>@paulgwine</td>\n",
       "      <td>Sweet Cheeks 2012 Vintner's Reserve Wild Child...</td>\n",
       "      <td>Pinot Noir</td>\n",
       "      <td>Sweet Cheeks</td>\n",
       "    </tr>\n",
       "  </tbody>\n",
       "</table>\n",
       "</div>"
      ],
      "text/plain": [
       "    country                                        description  \\\n",
       "0     Italy  Aromas include tropical fruit, broom, brimston...   \n",
       "1  Portugal  This is ripe and fruity, a wine that is smooth...   \n",
       "2        US  Tart and snappy, the flavors of lime flesh and...   \n",
       "3        US  Pineapple rind, lemon pith and orange blossom ...   \n",
       "4        US  Much like the regular bottling from 2012, this...   \n",
       "\n",
       "                          designation  points  price           province  \\\n",
       "0                        Vulkà Bianco      87    NaN  Sicily & Sardinia   \n",
       "1                            Avidagos      87   15.0              Douro   \n",
       "2                                 NaN      87   14.0             Oregon   \n",
       "3                Reserve Late Harvest      87   13.0           Michigan   \n",
       "4  Vintner's Reserve Wild Child Block      87   65.0             Oregon   \n",
       "\n",
       "              region_1           region_2         taster_name  \\\n",
       "0                 Etna                NaN       Kerin O’Keefe   \n",
       "1                  NaN                NaN          Roger Voss   \n",
       "2    Willamette Valley  Willamette Valley        Paul Gregutt   \n",
       "3  Lake Michigan Shore                NaN  Alexander Peartree   \n",
       "4    Willamette Valley  Willamette Valley        Paul Gregutt   \n",
       "\n",
       "  taster_twitter_handle                                              title  \\\n",
       "0          @kerinokeefe                  Nicosia 2013 Vulkà Bianco  (Etna)   \n",
       "1            @vossroger      Quinta dos Avidagos 2011 Avidagos Red (Douro)   \n",
       "2           @paulgwine       Rainstorm 2013 Pinot Gris (Willamette Valley)   \n",
       "3                   NaN  St. Julian 2013 Reserve Late Harvest Riesling ...   \n",
       "4           @paulgwine   Sweet Cheeks 2012 Vintner's Reserve Wild Child...   \n",
       "\n",
       "          variety               winery  \n",
       "0     White Blend              Nicosia  \n",
       "1  Portuguese Red  Quinta dos Avidagos  \n",
       "2      Pinot Gris            Rainstorm  \n",
       "3        Riesling           St. Julian  \n",
       "4      Pinot Noir         Sweet Cheeks  "
      ]
     },
     "execution_count": 1,
     "metadata": {},
     "output_type": "execute_result"
    }
   ],
   "source": [
    "import pandas as pd\n",
    "pd.set_option(\"display.max_rows\", 5)\n",
    "reviews = pd.read_csv(\"../input/wine-reviews/winemag-data-130k-v2.csv\", index_col=0)\n",
    "\n",
    "from learntools.core import binder; binder.bind(globals())\n",
    "from learntools.pandas.summary_functions_and_maps import *\n",
    "print(\"Setup complete.\")\n",
    "\n",
    "reviews.head()"
   ]
  },
  {
   "cell_type": "markdown",
   "id": "c4b81dd0",
   "metadata": {
    "papermill": {
     "duration": 0.01926,
     "end_time": "2021-09-14T13:41:42.187243",
     "exception": false,
     "start_time": "2021-09-14T13:41:42.167983",
     "status": "completed"
    },
    "tags": []
   },
   "source": [
    "# Exercises"
   ]
  },
  {
   "cell_type": "markdown",
   "id": "d0f75334",
   "metadata": {
    "papermill": {
     "duration": 0.020897,
     "end_time": "2021-09-14T13:41:42.228090",
     "exception": false,
     "start_time": "2021-09-14T13:41:42.207193",
     "status": "completed"
    },
    "tags": []
   },
   "source": [
    "## 1.\n",
    "\n",
    "What is the median of the `points` column in the `reviews` DataFrame?"
   ]
  },
  {
   "cell_type": "code",
   "execution_count": 2,
   "id": "67748633",
   "metadata": {
    "execution": {
     "iopub.execute_input": "2021-09-14T13:41:42.276247Z",
     "iopub.status.busy": "2021-09-14T13:41:42.275245Z",
     "iopub.status.idle": "2021-09-14T13:41:42.283046Z",
     "shell.execute_reply": "2021-09-14T13:41:42.282487Z",
     "shell.execute_reply.started": "2021-09-14T13:40:42.028889Z"
    },
    "papermill": {
     "duration": 0.034535,
     "end_time": "2021-09-14T13:41:42.283215",
     "exception": false,
     "start_time": "2021-09-14T13:41:42.248680",
     "status": "completed"
    },
    "tags": []
   },
   "outputs": [
    {
     "data": {
      "application/javascript": [
       "parent.postMessage({\"jupyterEvent\": \"custom.exercise_interaction\", \"data\": {\"outcomeType\": 1, \"valueTowardsCompletion\": 0.14285714285714285, \"interactionType\": 1, \"questionType\": 1, \"questionId\": \"1_MedianPoints\", \"learnToolsVersion\": \"0.3.4\", \"failureMessage\": \"\", \"exceptionClass\": \"\", \"trace\": \"\"}}, \"*\")"
      ],
      "text/plain": [
       "<IPython.core.display.Javascript object>"
      ]
     },
     "metadata": {},
     "output_type": "display_data"
    },
    {
     "data": {
      "text/markdown": [
       "<span style=\"color:#33cc33\">Correct</span>"
      ],
      "text/plain": [
       "Correct"
      ]
     },
     "metadata": {},
     "output_type": "display_data"
    }
   ],
   "source": [
    "median_points = reviews.points.median()\n",
    "\n",
    "q1.check()"
   ]
  },
  {
   "cell_type": "code",
   "execution_count": 3,
   "id": "e6439ff3",
   "metadata": {
    "execution": {
     "iopub.execute_input": "2021-09-14T13:41:42.332695Z",
     "iopub.status.busy": "2021-09-14T13:41:42.331487Z",
     "iopub.status.idle": "2021-09-14T13:41:42.334227Z",
     "shell.execute_reply": "2021-09-14T13:41:42.333541Z",
     "shell.execute_reply.started": "2021-09-14T13:40:42.041828Z"
    },
    "papermill": {
     "duration": 0.03012,
     "end_time": "2021-09-14T13:41:42.334392",
     "exception": false,
     "start_time": "2021-09-14T13:41:42.304272",
     "status": "completed"
    },
    "tags": []
   },
   "outputs": [],
   "source": [
    "#q1.hint()\n",
    "#q1.solution()"
   ]
  },
  {
   "cell_type": "markdown",
   "id": "e985e5ef",
   "metadata": {
    "papermill": {
     "duration": 0.020626,
     "end_time": "2021-09-14T13:41:42.376098",
     "exception": false,
     "start_time": "2021-09-14T13:41:42.355472",
     "status": "completed"
    },
    "tags": []
   },
   "source": [
    "## 2. \n",
    "What countries are represented in the dataset? (Your answer should not include any duplicates.)"
   ]
  },
  {
   "cell_type": "code",
   "execution_count": 4,
   "id": "034526c0",
   "metadata": {
    "execution": {
     "iopub.execute_input": "2021-09-14T13:41:42.438848Z",
     "iopub.status.busy": "2021-09-14T13:41:42.437729Z",
     "iopub.status.idle": "2021-09-14T13:41:42.446532Z",
     "shell.execute_reply": "2021-09-14T13:41:42.445953Z",
     "shell.execute_reply.started": "2021-09-14T13:40:42.059231Z"
    },
    "papermill": {
     "duration": 0.049563,
     "end_time": "2021-09-14T13:41:42.446745",
     "exception": false,
     "start_time": "2021-09-14T13:41:42.397182",
     "status": "completed"
    },
    "tags": []
   },
   "outputs": [
    {
     "data": {
      "application/javascript": [
       "parent.postMessage({\"jupyterEvent\": \"custom.exercise_interaction\", \"data\": {\"outcomeType\": 1, \"valueTowardsCompletion\": 0.14285714285714285, \"interactionType\": 1, \"questionType\": 2, \"questionId\": \"2_UniqueCountries\", \"learnToolsVersion\": \"0.3.4\", \"failureMessage\": \"\", \"exceptionClass\": \"\", \"trace\": \"\"}}, \"*\")"
      ],
      "text/plain": [
       "<IPython.core.display.Javascript object>"
      ]
     },
     "metadata": {},
     "output_type": "display_data"
    },
    {
     "data": {
      "text/markdown": [
       "<span style=\"color:#33cc33\">Correct</span>"
      ],
      "text/plain": [
       "Correct"
      ]
     },
     "metadata": {},
     "output_type": "display_data"
    }
   ],
   "source": [
    "countries = reviews.country.unique()\n",
    "\n",
    "q2.check()"
   ]
  },
  {
   "cell_type": "code",
   "execution_count": 5,
   "id": "860d4f1a",
   "metadata": {
    "execution": {
     "iopub.execute_input": "2021-09-14T13:41:42.496285Z",
     "iopub.status.busy": "2021-09-14T13:41:42.495203Z",
     "iopub.status.idle": "2021-09-14T13:41:42.498830Z",
     "shell.execute_reply": "2021-09-14T13:41:42.498226Z",
     "shell.execute_reply.started": "2021-09-14T13:40:42.091338Z"
    },
    "papermill": {
     "duration": 0.030128,
     "end_time": "2021-09-14T13:41:42.498996",
     "exception": false,
     "start_time": "2021-09-14T13:41:42.468868",
     "status": "completed"
    },
    "tags": []
   },
   "outputs": [],
   "source": [
    "#q2.hint()\n",
    "#q2.solution()"
   ]
  },
  {
   "cell_type": "markdown",
   "id": "95309f60",
   "metadata": {
    "papermill": {
     "duration": 0.022967,
     "end_time": "2021-09-14T13:41:42.544728",
     "exception": false,
     "start_time": "2021-09-14T13:41:42.521761",
     "status": "completed"
    },
    "tags": []
   },
   "source": [
    "## 3.\n",
    "How often does each country appear in the dataset? Create a Series `reviews_per_country` mapping countries to the count of reviews of wines from that country."
   ]
  },
  {
   "cell_type": "code",
   "execution_count": 6,
   "id": "4b2fa510",
   "metadata": {
    "execution": {
     "iopub.execute_input": "2021-09-14T13:41:42.615143Z",
     "iopub.status.busy": "2021-09-14T13:41:42.614130Z",
     "iopub.status.idle": "2021-09-14T13:41:42.620818Z",
     "shell.execute_reply": "2021-09-14T13:41:42.620220Z",
     "shell.execute_reply.started": "2021-09-14T13:40:42.099079Z"
    },
    "papermill": {
     "duration": 0.054311,
     "end_time": "2021-09-14T13:41:42.620987",
     "exception": false,
     "start_time": "2021-09-14T13:41:42.566676",
     "status": "completed"
    },
    "tags": []
   },
   "outputs": [
    {
     "data": {
      "application/javascript": [
       "parent.postMessage({\"jupyterEvent\": \"custom.exercise_interaction\", \"data\": {\"outcomeType\": 1, \"valueTowardsCompletion\": 0.14285714285714285, \"interactionType\": 1, \"questionType\": 1, \"questionId\": \"3_ReviewsPerCountry\", \"learnToolsVersion\": \"0.3.4\", \"failureMessage\": \"\", \"exceptionClass\": \"\", \"trace\": \"\"}}, \"*\")"
      ],
      "text/plain": [
       "<IPython.core.display.Javascript object>"
      ]
     },
     "metadata": {},
     "output_type": "display_data"
    },
    {
     "data": {
      "text/markdown": [
       "<span style=\"color:#33cc33\">Correct</span>"
      ],
      "text/plain": [
       "Correct"
      ]
     },
     "metadata": {},
     "output_type": "display_data"
    }
   ],
   "source": [
    "reviews_per_country = reviews.country.value_counts()\n",
    "\n",
    "q3.check()"
   ]
  },
  {
   "cell_type": "code",
   "execution_count": 7,
   "id": "e2c64a70",
   "metadata": {
    "execution": {
     "iopub.execute_input": "2021-09-14T13:41:42.671891Z",
     "iopub.status.busy": "2021-09-14T13:41:42.671116Z",
     "iopub.status.idle": "2021-09-14T13:41:42.673294Z",
     "shell.execute_reply": "2021-09-14T13:41:42.672681Z",
     "shell.execute_reply.started": "2021-09-14T13:40:42.133910Z"
    },
    "papermill": {
     "duration": 0.029798,
     "end_time": "2021-09-14T13:41:42.673448",
     "exception": false,
     "start_time": "2021-09-14T13:41:42.643650",
     "status": "completed"
    },
    "tags": []
   },
   "outputs": [],
   "source": [
    "#q3.hint()\n",
    "#q3.solution()"
   ]
  },
  {
   "cell_type": "markdown",
   "id": "506ee80b",
   "metadata": {
    "papermill": {
     "duration": 0.022407,
     "end_time": "2021-09-14T13:41:42.719044",
     "exception": false,
     "start_time": "2021-09-14T13:41:42.696637",
     "status": "completed"
    },
    "tags": []
   },
   "source": [
    "## 4.\n",
    "Create variable `centered_price` containing a version of the `price` column with the mean price subtracted.\n",
    "\n",
    "(Note: this 'centering' transformation is a common preprocessing step before applying various machine learning algorithms.) "
   ]
  },
  {
   "cell_type": "code",
   "execution_count": 8,
   "id": "55cd2785",
   "metadata": {
    "execution": {
     "iopub.execute_input": "2021-09-14T13:41:42.770585Z",
     "iopub.status.busy": "2021-09-14T13:41:42.769910Z",
     "iopub.status.idle": "2021-09-14T13:41:42.777351Z",
     "shell.execute_reply": "2021-09-14T13:41:42.777893Z",
     "shell.execute_reply.started": "2021-09-14T13:40:42.143817Z"
    },
    "papermill": {
     "duration": 0.036333,
     "end_time": "2021-09-14T13:41:42.778102",
     "exception": false,
     "start_time": "2021-09-14T13:41:42.741769",
     "status": "completed"
    },
    "tags": []
   },
   "outputs": [
    {
     "data": {
      "application/javascript": [
       "parent.postMessage({\"jupyterEvent\": \"custom.exercise_interaction\", \"data\": {\"outcomeType\": 1, \"valueTowardsCompletion\": 0.14285714285714285, \"interactionType\": 1, \"questionType\": 1, \"questionId\": \"4_CenteredPrice\", \"learnToolsVersion\": \"0.3.4\", \"failureMessage\": \"\", \"exceptionClass\": \"\", \"trace\": \"\"}}, \"*\")"
      ],
      "text/plain": [
       "<IPython.core.display.Javascript object>"
      ]
     },
     "metadata": {},
     "output_type": "display_data"
    },
    {
     "data": {
      "text/markdown": [
       "<span style=\"color:#33cc33\">Correct</span>"
      ],
      "text/plain": [
       "Correct"
      ]
     },
     "metadata": {},
     "output_type": "display_data"
    }
   ],
   "source": [
    "centered_price = reviews.price - reviews.price.mean()\n",
    "q4.check()"
   ]
  },
  {
   "cell_type": "code",
   "execution_count": 9,
   "id": "52267976",
   "metadata": {
    "execution": {
     "iopub.execute_input": "2021-09-14T13:41:42.832712Z",
     "iopub.status.busy": "2021-09-14T13:41:42.830552Z",
     "iopub.status.idle": "2021-09-14T13:41:42.836092Z",
     "shell.execute_reply": "2021-09-14T13:41:42.835390Z",
     "shell.execute_reply.started": "2021-09-14T13:40:42.161797Z"
    },
    "papermill": {
     "duration": 0.033409,
     "end_time": "2021-09-14T13:41:42.836258",
     "exception": false,
     "start_time": "2021-09-14T13:41:42.802849",
     "status": "completed"
    },
    "tags": []
   },
   "outputs": [],
   "source": [
    "#q4.hint()\n",
    "#q4.solution()"
   ]
  },
  {
   "cell_type": "markdown",
   "id": "5d97556a",
   "metadata": {
    "papermill": {
     "duration": 0.02363,
     "end_time": "2021-09-14T13:41:42.884438",
     "exception": false,
     "start_time": "2021-09-14T13:41:42.860808",
     "status": "completed"
    },
    "tags": []
   },
   "source": [
    "## 5.\n",
    "I'm an economical wine buyer. Which wine is the \"best bargain\"? Create a variable `bargain_wine` with the title of the wine with the highest points-to-price ratio in the dataset."
   ]
  },
  {
   "cell_type": "code",
   "execution_count": 10,
   "id": "70c52e83",
   "metadata": {
    "execution": {
     "iopub.execute_input": "2021-09-14T13:41:42.935373Z",
     "iopub.status.busy": "2021-09-14T13:41:42.934416Z",
     "iopub.status.idle": "2021-09-14T13:41:42.947155Z",
     "shell.execute_reply": "2021-09-14T13:41:42.947694Z",
     "shell.execute_reply.started": "2021-09-14T13:40:42.168013Z"
    },
    "papermill": {
     "duration": 0.03965,
     "end_time": "2021-09-14T13:41:42.947868",
     "exception": false,
     "start_time": "2021-09-14T13:41:42.908218",
     "status": "completed"
    },
    "tags": []
   },
   "outputs": [
    {
     "data": {
      "application/javascript": [
       "parent.postMessage({\"jupyterEvent\": \"custom.exercise_interaction\", \"data\": {\"outcomeType\": 1, \"valueTowardsCompletion\": 0.14285714285714285, \"interactionType\": 1, \"questionType\": 2, \"questionId\": \"5_BargainWine\", \"learnToolsVersion\": \"0.3.4\", \"failureMessage\": \"\", \"exceptionClass\": \"\", \"trace\": \"\"}}, \"*\")"
      ],
      "text/plain": [
       "<IPython.core.display.Javascript object>"
      ]
     },
     "metadata": {},
     "output_type": "display_data"
    },
    {
     "data": {
      "text/markdown": [
       "<span style=\"color:#33cc33\">Correct</span>"
      ],
      "text/plain": [
       "Correct"
      ]
     },
     "metadata": {},
     "output_type": "display_data"
    }
   ],
   "source": [
    "bargain_wine = bargain_idx = (reviews.points / reviews.price).idxmax()\n",
    "bargain_wine = reviews.loc[bargain_idx, 'title']\n",
    "q5.check()"
   ]
  },
  {
   "cell_type": "code",
   "execution_count": 11,
   "id": "5bff7bfb",
   "metadata": {
    "execution": {
     "iopub.execute_input": "2021-09-14T13:41:43.000835Z",
     "iopub.status.busy": "2021-09-14T13:41:42.999988Z",
     "iopub.status.idle": "2021-09-14T13:41:43.003008Z",
     "shell.execute_reply": "2021-09-14T13:41:43.003463Z",
     "shell.execute_reply.started": "2021-09-14T13:40:42.188906Z"
    },
    "papermill": {
     "duration": 0.030851,
     "end_time": "2021-09-14T13:41:43.003664",
     "exception": false,
     "start_time": "2021-09-14T13:41:42.972813",
     "status": "completed"
    },
    "tags": []
   },
   "outputs": [],
   "source": [
    "#q5.hint()\n",
    "#q5.solution()"
   ]
  },
  {
   "cell_type": "markdown",
   "id": "786d3a40",
   "metadata": {
    "papermill": {
     "duration": 0.024962,
     "end_time": "2021-09-14T13:41:43.053995",
     "exception": false,
     "start_time": "2021-09-14T13:41:43.029033",
     "status": "completed"
    },
    "tags": []
   },
   "source": [
    "## 6.\n",
    "There are only so many words you can use when describing a bottle of wine. Is a wine more likely to be \"tropical\" or \"fruity\"? Create a Series `descriptor_counts` counting how many times each of these two words appears in the `description` column in the dataset."
   ]
  },
  {
   "cell_type": "code",
   "execution_count": 12,
   "id": "c2c79407",
   "metadata": {
    "execution": {
     "iopub.execute_input": "2021-09-14T13:41:43.108042Z",
     "iopub.status.busy": "2021-09-14T13:41:43.107019Z",
     "iopub.status.idle": "2021-09-14T13:41:43.264552Z",
     "shell.execute_reply": "2021-09-14T13:41:43.265066Z",
     "shell.execute_reply.started": "2021-09-14T13:40:42.193894Z"
    },
    "papermill": {
     "duration": 0.186259,
     "end_time": "2021-09-14T13:41:43.265285",
     "exception": false,
     "start_time": "2021-09-14T13:41:43.079026",
     "status": "completed"
    },
    "tags": []
   },
   "outputs": [
    {
     "data": {
      "application/javascript": [
       "parent.postMessage({\"jupyterEvent\": \"custom.exercise_interaction\", \"data\": {\"outcomeType\": 1, \"valueTowardsCompletion\": 0.14285714285714285, \"interactionType\": 1, \"questionType\": 1, \"questionId\": \"6_DescriptorCounts\", \"learnToolsVersion\": \"0.3.4\", \"failureMessage\": \"\", \"exceptionClass\": \"\", \"trace\": \"\"}}, \"*\")"
      ],
      "text/plain": [
       "<IPython.core.display.Javascript object>"
      ]
     },
     "metadata": {},
     "output_type": "display_data"
    },
    {
     "data": {
      "text/markdown": [
       "<span style=\"color:#33cc33\">Correct</span>"
      ],
      "text/plain": [
       "Correct"
      ]
     },
     "metadata": {},
     "output_type": "display_data"
    }
   ],
   "source": [
    "descriptor_counts = n_trop = reviews.description.map(lambda desc: \"tropical\" in desc).sum()\n",
    "n_fruity = reviews.description.map(lambda desc: \"fruity\" in desc).sum()\n",
    "descriptor_counts = pd.Series([n_trop, n_fruity], index=['tropical', 'fruity'])\n",
    "q6.check()"
   ]
  },
  {
   "cell_type": "code",
   "execution_count": 13,
   "id": "91d515a3",
   "metadata": {
    "execution": {
     "iopub.execute_input": "2021-09-14T13:41:43.321919Z",
     "iopub.status.busy": "2021-09-14T13:41:43.321138Z",
     "iopub.status.idle": "2021-09-14T13:41:43.324538Z",
     "shell.execute_reply": "2021-09-14T13:41:43.323873Z",
     "shell.execute_reply.started": "2021-09-14T13:40:42.360072Z"
    },
    "papermill": {
     "duration": 0.033566,
     "end_time": "2021-09-14T13:41:43.324720",
     "exception": false,
     "start_time": "2021-09-14T13:41:43.291154",
     "status": "completed"
    },
    "tags": []
   },
   "outputs": [],
   "source": [
    "#q6.hint()\n",
    "#q6.solution()"
   ]
  },
  {
   "cell_type": "markdown",
   "id": "5b068a6f",
   "metadata": {
    "papermill": {
     "duration": 0.025021,
     "end_time": "2021-09-14T13:41:43.375433",
     "exception": false,
     "start_time": "2021-09-14T13:41:43.350412",
     "status": "completed"
    },
    "tags": []
   },
   "source": [
    "## 7.\n",
    "We'd like to host these wine reviews on our website, but a rating system ranging from 80 to 100 points is too hard to understand - we'd like to translate them into simple star ratings. A score of 95 or higher counts as 3 stars, a score of at least 85 but less than 95 is 2 stars. Any other score is 1 star.\n",
    "\n",
    "Also, the Canadian Vintners Association bought a lot of ads on the site, so any wines from Canada should automatically get 3 stars, regardless of points.\n",
    "\n",
    "Create a series `star_ratings` with the number of stars corresponding to each review in the dataset."
   ]
  },
  {
   "cell_type": "code",
   "execution_count": 14,
   "id": "cb182b10",
   "metadata": {
    "execution": {
     "iopub.execute_input": "2021-09-14T13:41:43.434285Z",
     "iopub.status.busy": "2021-09-14T13:41:43.433583Z",
     "iopub.status.idle": "2021-09-14T13:41:48.361405Z",
     "shell.execute_reply": "2021-09-14T13:41:48.361932Z",
     "shell.execute_reply.started": "2021-09-14T13:40:42.368322Z"
    },
    "papermill": {
     "duration": 4.961365,
     "end_time": "2021-09-14T13:41:48.362162",
     "exception": false,
     "start_time": "2021-09-14T13:41:43.400797",
     "status": "completed"
    },
    "tags": []
   },
   "outputs": [
    {
     "data": {
      "application/javascript": [
       "parent.postMessage({\"jupyterEvent\": \"custom.exercise_interaction\", \"data\": {\"outcomeType\": 1, \"valueTowardsCompletion\": 0.14285714285714285, \"interactionType\": 1, \"questionType\": 1, \"questionId\": \"7_StarRatings\", \"learnToolsVersion\": \"0.3.4\", \"failureMessage\": \"\", \"exceptionClass\": \"\", \"trace\": \"\"}}, \"*\")"
      ],
      "text/plain": [
       "<IPython.core.display.Javascript object>"
      ]
     },
     "metadata": {},
     "output_type": "display_data"
    },
    {
     "data": {
      "text/markdown": [
       "<span style=\"color:#33cc33\">Correct</span>"
      ],
      "text/plain": [
       "Correct"
      ]
     },
     "metadata": {},
     "output_type": "display_data"
    },
    {
     "data": {
      "text/plain": [
       "0         2\n",
       "1         2\n",
       "         ..\n",
       "129969    2\n",
       "129970    2\n",
       "Length: 129971, dtype: int64"
      ]
     },
     "execution_count": 14,
     "metadata": {},
     "output_type": "execute_result"
    }
   ],
   "source": [
    "def stars(row):\n",
    "    if row.country == 'Canada':\n",
    "        return 3\n",
    "    elif row.points >= 95:\n",
    "        return 3\n",
    "    elif row.points >= 85:\n",
    "        return 2\n",
    "    else:\n",
    "        return 1\n",
    "star_ratings = reviews.apply(stars,axis='columns')\n",
    "\n",
    "q7.check()\n",
    "star_ratings"
   ]
  },
  {
   "cell_type": "code",
   "execution_count": 15,
   "id": "a25045f1",
   "metadata": {
    "execution": {
     "iopub.execute_input": "2021-09-14T13:41:48.423392Z",
     "iopub.status.busy": "2021-09-14T13:41:48.422272Z",
     "iopub.status.idle": "2021-09-14T13:41:48.425867Z",
     "shell.execute_reply": "2021-09-14T13:41:48.425126Z",
     "shell.execute_reply.started": "2021-09-14T13:40:47.239669Z"
    },
    "papermill": {
     "duration": 0.036472,
     "end_time": "2021-09-14T13:41:48.426042",
     "exception": false,
     "start_time": "2021-09-14T13:41:48.389570",
     "status": "completed"
    },
    "tags": []
   },
   "outputs": [],
   "source": [
    "#q7.hint()\n",
    "#q7.solution()"
   ]
  },
  {
   "cell_type": "markdown",
   "id": "210733a5",
   "metadata": {
    "papermill": {
     "duration": 0.026733,
     "end_time": "2021-09-14T13:41:48.482087",
     "exception": false,
     "start_time": "2021-09-14T13:41:48.455354",
     "status": "completed"
    },
    "tags": []
   },
   "source": [
    "# Keep going\n",
    "Continue to **[grouping and sorting](https://www.kaggle.com/residentmario/grouping-and-sorting)**."
   ]
  },
  {
   "cell_type": "markdown",
   "id": "033f0ef5",
   "metadata": {
    "papermill": {
     "duration": 0.026893,
     "end_time": "2021-09-14T13:41:48.536738",
     "exception": false,
     "start_time": "2021-09-14T13:41:48.509845",
     "status": "completed"
    },
    "tags": []
   },
   "source": [
    "---\n",
    "\n",
    "\n",
    "\n",
    "\n",
    "*Have questions or comments? Visit the [Learn Discussion forum](https://www.kaggle.com/learn-forum/161299) to chat with other Learners.*"
   ]
  }
 ],
 "metadata": {
  "kernelspec": {
   "display_name": "Python 3",
   "language": "python",
   "name": "python3"
  },
  "language_info": {
   "codemirror_mode": {
    "name": "ipython",
    "version": 3
   },
   "file_extension": ".py",
   "mimetype": "text/x-python",
   "name": "python",
   "nbconvert_exporter": "python",
   "pygments_lexer": "ipython3",
   "version": "3.7.10"
  },
  "papermill": {
   "default_parameters": {},
   "duration": 24.761122,
   "end_time": "2021-09-14T13:41:49.277831",
   "environment_variables": {},
   "exception": null,
   "input_path": "__notebook__.ipynb",
   "output_path": "__notebook__.ipynb",
   "parameters": {},
   "start_time": "2021-09-14T13:41:24.516709",
   "version": "2.3.3"
  }
 },
 "nbformat": 4,
 "nbformat_minor": 5
}
