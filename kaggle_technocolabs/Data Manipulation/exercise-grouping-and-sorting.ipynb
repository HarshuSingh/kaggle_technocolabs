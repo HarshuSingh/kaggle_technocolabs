{
 "cells": [
  {
   "cell_type": "markdown",
   "id": "bd82afdb",
   "metadata": {
    "papermill": {
     "duration": 0.018756,
     "end_time": "2021-09-14T13:41:28.517511",
     "exception": false,
     "start_time": "2021-09-14T13:41:28.498755",
     "status": "completed"
    },
    "tags": []
   },
   "source": [
    "**This notebook is an exercise in the [Pandas](https://www.kaggle.com/learn/pandas) course.  You can reference the tutorial at [this link](https://www.kaggle.com/residentmario/grouping-and-sorting).**\n",
    "\n",
    "---\n"
   ]
  },
  {
   "cell_type": "markdown",
   "id": "31bf8468",
   "metadata": {
    "papermill": {
     "duration": 0.017663,
     "end_time": "2021-09-14T13:41:28.555783",
     "exception": false,
     "start_time": "2021-09-14T13:41:28.538120",
     "status": "completed"
    },
    "tags": []
   },
   "source": [
    "# Introduction\n",
    "\n",
    "In these exercises we'll apply groupwise analysis to our dataset.\n",
    "\n",
    "Run the code cell below to load the data before running the exercises."
   ]
  },
  {
   "cell_type": "code",
   "execution_count": 1,
   "id": "a86af3ef",
   "metadata": {
    "execution": {
     "iopub.execute_input": "2021-09-14T13:41:28.597504Z",
     "iopub.status.busy": "2021-09-14T13:41:28.595756Z",
     "iopub.status.idle": "2021-09-14T13:41:31.674470Z",
     "shell.execute_reply": "2021-09-14T13:41:31.673471Z",
     "shell.execute_reply.started": "2021-09-14T13:40:30.892496Z"
    },
    "papermill": {
     "duration": 3.101047,
     "end_time": "2021-09-14T13:41:31.674745",
     "exception": false,
     "start_time": "2021-09-14T13:41:28.573698",
     "status": "completed"
    },
    "tags": []
   },
   "outputs": [
    {
     "name": "stdout",
     "output_type": "stream",
     "text": [
      "Setup complete.\n"
     ]
    }
   ],
   "source": [
    "import pandas as pd\n",
    "\n",
    "reviews = pd.read_csv(\"../input/wine-reviews/winemag-data-130k-v2.csv\", index_col=0)\n",
    "#pd.set_option(\"display.max_rows\", 5)\n",
    "\n",
    "from learntools.core import binder; binder.bind(globals())\n",
    "from learntools.pandas.grouping_and_sorting import *\n",
    "print(\"Setup complete.\")"
   ]
  },
  {
   "cell_type": "markdown",
   "id": "86e10264",
   "metadata": {
    "papermill": {
     "duration": 0.019487,
     "end_time": "2021-09-14T13:41:31.720416",
     "exception": false,
     "start_time": "2021-09-14T13:41:31.700929",
     "status": "completed"
    },
    "tags": []
   },
   "source": [
    "# Exercises"
   ]
  },
  {
   "cell_type": "markdown",
   "id": "b3f1e0a7",
   "metadata": {
    "papermill": {
     "duration": 0.01947,
     "end_time": "2021-09-14T13:41:31.759377",
     "exception": false,
     "start_time": "2021-09-14T13:41:31.739907",
     "status": "completed"
    },
    "tags": []
   },
   "source": [
    "## 1.\n",
    "Who are the most common wine reviewers in the dataset? Create a `Series` whose index is the `taster_twitter_handle` category from the dataset, and whose values count how many reviews each person wrote."
   ]
  },
  {
   "cell_type": "code",
   "execution_count": 2,
   "id": "f5f13ef6",
   "metadata": {
    "execution": {
     "iopub.execute_input": "2021-09-14T13:41:31.806589Z",
     "iopub.status.busy": "2021-09-14T13:41:31.805571Z",
     "iopub.status.idle": "2021-09-14T13:41:31.836503Z",
     "shell.execute_reply": "2021-09-14T13:41:31.837099Z",
     "shell.execute_reply.started": "2021-09-14T13:40:31.975309Z"
    },
    "papermill": {
     "duration": 0.053829,
     "end_time": "2021-09-14T13:41:31.837267",
     "exception": false,
     "start_time": "2021-09-14T13:41:31.783438",
     "status": "completed"
    },
    "tags": []
   },
   "outputs": [
    {
     "data": {
      "application/javascript": [
       "parent.postMessage({\"jupyterEvent\": \"custom.exercise_interaction\", \"data\": {\"outcomeType\": 1, \"valueTowardsCompletion\": 0.16666666666666666, \"interactionType\": 1, \"questionType\": 1, \"questionId\": \"1_ReviewsWritten\", \"learnToolsVersion\": \"0.3.4\", \"failureMessage\": \"\", \"exceptionClass\": \"\", \"trace\": \"\"}}, \"*\")"
      ],
      "text/plain": [
       "<IPython.core.display.Javascript object>"
      ]
     },
     "metadata": {},
     "output_type": "display_data"
    },
    {
     "data": {
      "text/markdown": [
       "<span style=\"color:#33cc33\">Correct:</span> \n",
       "\n",
       "\n",
       "```python\n",
       "reviews_written = reviews.groupby('taster_twitter_handle').size()\n",
       "```\n",
       "or\n",
       "```python\n",
       "reviews_written = reviews.groupby('taster_twitter_handle').taster_twitter_handle.count()\n",
       "```\n"
      ],
      "text/plain": [
       "Correct: \n",
       "\n",
       "\n",
       "```python\n",
       "reviews_written = reviews.groupby('taster_twitter_handle').size()\n",
       "```\n",
       "or\n",
       "```python\n",
       "reviews_written = reviews.groupby('taster_twitter_handle').taster_twitter_handle.count()\n",
       "```"
      ]
     },
     "metadata": {},
     "output_type": "display_data"
    }
   ],
   "source": [
    "# Your code here\n",
    "reviews_written = reviews.groupby('taster_twitter_handle').size()\n",
    "# Check your answer\n",
    "q1.check()"
   ]
  },
  {
   "cell_type": "code",
   "execution_count": 3,
   "id": "d807ced3",
   "metadata": {
    "execution": {
     "iopub.execute_input": "2021-09-14T13:41:31.881175Z",
     "iopub.status.busy": "2021-09-14T13:41:31.880111Z",
     "iopub.status.idle": "2021-09-14T13:41:31.883165Z",
     "shell.execute_reply": "2021-09-14T13:41:31.883674Z",
     "shell.execute_reply.started": "2021-09-14T13:40:32.008537Z"
    },
    "papermill": {
     "duration": 0.027129,
     "end_time": "2021-09-14T13:41:31.883842",
     "exception": false,
     "start_time": "2021-09-14T13:41:31.856713",
     "status": "completed"
    },
    "tags": []
   },
   "outputs": [],
   "source": [
    "#q1.hint()\n",
    "#q1.solution()"
   ]
  },
  {
   "cell_type": "markdown",
   "id": "56640299",
   "metadata": {
    "papermill": {
     "duration": 0.026654,
     "end_time": "2021-09-14T13:41:31.935335",
     "exception": false,
     "start_time": "2021-09-14T13:41:31.908681",
     "status": "completed"
    },
    "tags": []
   },
   "source": [
    "## 2.\n",
    "What is the best wine I can buy for a given amount of money? Create a `Series` whose index is wine prices and whose values is the maximum number of points a wine costing that much was given in a review. Sort the values by price, ascending (so that `4.0` dollars is at the top and `3300.0` dollars is at the bottom)."
   ]
  },
  {
   "cell_type": "code",
   "execution_count": 4,
   "id": "13ed0f9b",
   "metadata": {
    "execution": {
     "iopub.execute_input": "2021-09-14T13:41:31.979329Z",
     "iopub.status.busy": "2021-09-14T13:41:31.978323Z",
     "iopub.status.idle": "2021-09-14T13:41:31.990648Z",
     "shell.execute_reply": "2021-09-14T13:41:31.991182Z",
     "shell.execute_reply.started": "2021-09-14T13:40:32.014229Z"
    },
    "papermill": {
     "duration": 0.035739,
     "end_time": "2021-09-14T13:41:31.991392",
     "exception": false,
     "start_time": "2021-09-14T13:41:31.955653",
     "status": "completed"
    },
    "tags": []
   },
   "outputs": [
    {
     "data": {
      "application/javascript": [
       "parent.postMessage({\"jupyterEvent\": \"custom.exercise_interaction\", \"data\": {\"outcomeType\": 1, \"valueTowardsCompletion\": 0.16666666666666666, \"interactionType\": 1, \"questionType\": 1, \"questionId\": \"2_BestRatingPerPrice\", \"learnToolsVersion\": \"0.3.4\", \"failureMessage\": \"\", \"exceptionClass\": \"\", \"trace\": \"\"}}, \"*\")"
      ],
      "text/plain": [
       "<IPython.core.display.Javascript object>"
      ]
     },
     "metadata": {},
     "output_type": "display_data"
    },
    {
     "data": {
      "text/markdown": [
       "<span style=\"color:#33cc33\">Correct</span>"
      ],
      "text/plain": [
       "Correct"
      ]
     },
     "metadata": {},
     "output_type": "display_data"
    }
   ],
   "source": [
    "best_rating_per_price = reviews.groupby('price')['points'].max().sort_index()\n",
    "q2.check()"
   ]
  },
  {
   "cell_type": "code",
   "execution_count": 5,
   "id": "b3ac2f95",
   "metadata": {
    "execution": {
     "iopub.execute_input": "2021-09-14T13:41:32.037207Z",
     "iopub.status.busy": "2021-09-14T13:41:32.036227Z",
     "iopub.status.idle": "2021-09-14T13:41:32.039715Z",
     "shell.execute_reply": "2021-09-14T13:41:32.040471Z",
     "shell.execute_reply.started": "2021-09-14T13:40:32.034715Z"
    },
    "papermill": {
     "duration": 0.02857,
     "end_time": "2021-09-14T13:41:32.040706",
     "exception": false,
     "start_time": "2021-09-14T13:41:32.012136",
     "status": "completed"
    },
    "tags": []
   },
   "outputs": [],
   "source": [
    "#q2.hint()\n",
    "#q2.solution()"
   ]
  },
  {
   "cell_type": "markdown",
   "id": "42ff4cc8",
   "metadata": {
    "papermill": {
     "duration": 0.020844,
     "end_time": "2021-09-14T13:41:32.083180",
     "exception": false,
     "start_time": "2021-09-14T13:41:32.062336",
     "status": "completed"
    },
    "tags": []
   },
   "source": [
    "## 3.\n",
    "What are the minimum and maximum prices for each `variety` of wine? Create a `DataFrame` whose index is the `variety` category from the dataset and whose values are the `min` and `max` values thereof."
   ]
  },
  {
   "cell_type": "code",
   "execution_count": 6,
   "id": "9b91e31d",
   "metadata": {
    "execution": {
     "iopub.execute_input": "2021-09-14T13:41:32.128781Z",
     "iopub.status.busy": "2021-09-14T13:41:32.127832Z",
     "iopub.status.idle": "2021-09-14T13:41:32.158471Z",
     "shell.execute_reply": "2021-09-14T13:41:32.159051Z",
     "shell.execute_reply.started": "2021-09-14T13:40:32.040084Z"
    },
    "papermill": {
     "duration": 0.0546,
     "end_time": "2021-09-14T13:41:32.159241",
     "exception": false,
     "start_time": "2021-09-14T13:41:32.104641",
     "status": "completed"
    },
    "tags": []
   },
   "outputs": [
    {
     "data": {
      "application/javascript": [
       "parent.postMessage({\"jupyterEvent\": \"custom.exercise_interaction\", \"data\": {\"outcomeType\": 1, \"valueTowardsCompletion\": 0.16666666666666666, \"interactionType\": 1, \"questionType\": 1, \"questionId\": \"3_PriceExtremes\", \"learnToolsVersion\": \"0.3.4\", \"failureMessage\": \"\", \"exceptionClass\": \"\", \"trace\": \"\"}}, \"*\")"
      ],
      "text/plain": [
       "<IPython.core.display.Javascript object>"
      ]
     },
     "metadata": {},
     "output_type": "display_data"
    },
    {
     "data": {
      "text/markdown": [
       "<span style=\"color:#33cc33\">Correct</span>"
      ],
      "text/plain": [
       "Correct"
      ]
     },
     "metadata": {},
     "output_type": "display_data"
    }
   ],
   "source": [
    "price_extremes = reviews.groupby('variety').price.agg([min, max])\n",
    "q3.check()"
   ]
  },
  {
   "cell_type": "code",
   "execution_count": 7,
   "id": "8aa2967d",
   "metadata": {
    "execution": {
     "iopub.execute_input": "2021-09-14T13:41:32.205664Z",
     "iopub.status.busy": "2021-09-14T13:41:32.204772Z",
     "iopub.status.idle": "2021-09-14T13:41:32.207873Z",
     "shell.execute_reply": "2021-09-14T13:41:32.208415Z",
     "shell.execute_reply.started": "2021-09-14T13:40:32.080050Z"
    },
    "papermill": {
     "duration": 0.027886,
     "end_time": "2021-09-14T13:41:32.208605",
     "exception": false,
     "start_time": "2021-09-14T13:41:32.180719",
     "status": "completed"
    },
    "tags": []
   },
   "outputs": [],
   "source": [
    "#q3.hint()\n",
    "#q3.solution()"
   ]
  },
  {
   "cell_type": "markdown",
   "id": "f2318f38",
   "metadata": {
    "papermill": {
     "duration": 0.021027,
     "end_time": "2021-09-14T13:41:32.251187",
     "exception": false,
     "start_time": "2021-09-14T13:41:32.230160",
     "status": "completed"
    },
    "tags": []
   },
   "source": [
    "## 4.\n",
    "What are the most expensive wine varieties? Create a variable `sorted_varieties` containing a copy of the dataframe from the previous question where varieties are sorted in descending order based on minimum price, then on maximum price (to break ties)."
   ]
  },
  {
   "cell_type": "code",
   "execution_count": 8,
   "id": "e591fbca",
   "metadata": {
    "execution": {
     "iopub.execute_input": "2021-09-14T13:41:32.297572Z",
     "iopub.status.busy": "2021-09-14T13:41:32.296614Z",
     "iopub.status.idle": "2021-09-14T13:41:32.306858Z",
     "shell.execute_reply": "2021-09-14T13:41:32.307353Z",
     "shell.execute_reply.started": "2021-09-14T13:40:32.084962Z"
    },
    "papermill": {
     "duration": 0.034901,
     "end_time": "2021-09-14T13:41:32.307518",
     "exception": false,
     "start_time": "2021-09-14T13:41:32.272617",
     "status": "completed"
    },
    "tags": []
   },
   "outputs": [
    {
     "data": {
      "application/javascript": [
       "parent.postMessage({\"jupyterEvent\": \"custom.exercise_interaction\", \"data\": {\"outcomeType\": 1, \"valueTowardsCompletion\": 0.16666666666666666, \"interactionType\": 1, \"questionType\": 1, \"questionId\": \"4_SortedVarieties\", \"learnToolsVersion\": \"0.3.4\", \"failureMessage\": \"\", \"exceptionClass\": \"\", \"trace\": \"\"}}, \"*\")"
      ],
      "text/plain": [
       "<IPython.core.display.Javascript object>"
      ]
     },
     "metadata": {},
     "output_type": "display_data"
    },
    {
     "data": {
      "text/markdown": [
       "<span style=\"color:#33cc33\">Correct</span>"
      ],
      "text/plain": [
       "Correct"
      ]
     },
     "metadata": {},
     "output_type": "display_data"
    }
   ],
   "source": [
    "sorted_varieties = price_extremes.sort_values(by=['min', 'max'], ascending=False)\n",
    "q4.check()"
   ]
  },
  {
   "cell_type": "code",
   "execution_count": 9,
   "id": "eea92b4a",
   "metadata": {
    "execution": {
     "iopub.execute_input": "2021-09-14T13:41:32.358943Z",
     "iopub.status.busy": "2021-09-14T13:41:32.358257Z",
     "iopub.status.idle": "2021-09-14T13:41:32.361283Z",
     "shell.execute_reply": "2021-09-14T13:41:32.360762Z",
     "shell.execute_reply.started": "2021-09-14T13:40:32.106700Z"
    },
    "papermill": {
     "duration": 0.031177,
     "end_time": "2021-09-14T13:41:32.361423",
     "exception": false,
     "start_time": "2021-09-14T13:41:32.330246",
     "status": "completed"
    },
    "tags": []
   },
   "outputs": [],
   "source": [
    "#q4.hint()\n",
    "#q4.solution()"
   ]
  },
  {
   "cell_type": "markdown",
   "id": "1982a60c",
   "metadata": {
    "papermill": {
     "duration": 0.022179,
     "end_time": "2021-09-14T13:41:32.405771",
     "exception": false,
     "start_time": "2021-09-14T13:41:32.383592",
     "status": "completed"
    },
    "tags": []
   },
   "source": [
    "## 5.\n",
    "Create a `Series` whose index is reviewers and whose values is the average review score given out by that reviewer. Hint: you will need the `taster_name` and `points` columns."
   ]
  },
  {
   "cell_type": "code",
   "execution_count": 10,
   "id": "10d1e2e5",
   "metadata": {
    "execution": {
     "iopub.execute_input": "2021-09-14T13:41:32.472029Z",
     "iopub.status.busy": "2021-09-14T13:41:32.459977Z",
     "iopub.status.idle": "2021-09-14T13:41:32.479762Z",
     "shell.execute_reply": "2021-09-14T13:41:32.480246Z",
     "shell.execute_reply.started": "2021-09-14T13:40:32.112719Z"
    },
    "papermill": {
     "duration": 0.052033,
     "end_time": "2021-09-14T13:41:32.480420",
     "exception": false,
     "start_time": "2021-09-14T13:41:32.428387",
     "status": "completed"
    },
    "tags": []
   },
   "outputs": [
    {
     "data": {
      "application/javascript": [
       "parent.postMessage({\"jupyterEvent\": \"custom.exercise_interaction\", \"data\": {\"outcomeType\": 1, \"valueTowardsCompletion\": 0.16666666666666666, \"interactionType\": 1, \"questionType\": 1, \"questionId\": \"5_ReviewerMeanRatings\", \"learnToolsVersion\": \"0.3.4\", \"failureMessage\": \"\", \"exceptionClass\": \"\", \"trace\": \"\"}}, \"*\")"
      ],
      "text/plain": [
       "<IPython.core.display.Javascript object>"
      ]
     },
     "metadata": {},
     "output_type": "display_data"
    },
    {
     "data": {
      "text/markdown": [
       "<span style=\"color:#33cc33\">Correct</span>"
      ],
      "text/plain": [
       "Correct"
      ]
     },
     "metadata": {},
     "output_type": "display_data"
    }
   ],
   "source": [
    "reviewer_mean_ratings = reviews.groupby('taster_name').points.mean()\n",
    "q5.check()"
   ]
  },
  {
   "cell_type": "code",
   "execution_count": 11,
   "id": "91571cae",
   "metadata": {
    "execution": {
     "iopub.execute_input": "2021-09-14T13:41:32.530323Z",
     "iopub.status.busy": "2021-09-14T13:41:32.529732Z",
     "iopub.status.idle": "2021-09-14T13:41:32.532054Z",
     "shell.execute_reply": "2021-09-14T13:41:32.532509Z",
     "shell.execute_reply.started": "2021-09-14T13:40:32.147460Z"
    },
    "papermill": {
     "duration": 0.029273,
     "end_time": "2021-09-14T13:41:32.532694",
     "exception": false,
     "start_time": "2021-09-14T13:41:32.503421",
     "status": "completed"
    },
    "tags": []
   },
   "outputs": [],
   "source": [
    "#q5.hint()\n",
    "#q5.solution()"
   ]
  },
  {
   "cell_type": "markdown",
   "id": "d2c291e3",
   "metadata": {
    "papermill": {
     "duration": 0.0226,
     "end_time": "2021-09-14T13:41:32.578309",
     "exception": false,
     "start_time": "2021-09-14T13:41:32.555709",
     "status": "completed"
    },
    "tags": []
   },
   "source": [
    "Are there significant differences in the average scores assigned by the various reviewers? Run the cell below to use the `describe()` method to see a summary of the range of values."
   ]
  },
  {
   "cell_type": "code",
   "execution_count": 12,
   "id": "e19c1dd8",
   "metadata": {
    "execution": {
     "iopub.execute_input": "2021-09-14T13:41:32.627726Z",
     "iopub.status.busy": "2021-09-14T13:41:32.627110Z",
     "iopub.status.idle": "2021-09-14T13:41:32.636571Z",
     "shell.execute_reply": "2021-09-14T13:41:32.636050Z",
     "shell.execute_reply.started": "2021-09-14T13:40:32.152821Z"
    },
    "papermill": {
     "duration": 0.035264,
     "end_time": "2021-09-14T13:41:32.636705",
     "exception": false,
     "start_time": "2021-09-14T13:41:32.601441",
     "status": "completed"
    },
    "tags": []
   },
   "outputs": [
    {
     "data": {
      "text/plain": [
       "count    19.000000\n",
       "mean     88.233026\n",
       "std       1.243610\n",
       "min      85.855422\n",
       "25%      87.323501\n",
       "50%      88.536235\n",
       "75%      88.975256\n",
       "max      90.562551\n",
       "Name: points, dtype: float64"
      ]
     },
     "execution_count": 12,
     "metadata": {},
     "output_type": "execute_result"
    }
   ],
   "source": [
    "reviewer_mean_ratings.describe()"
   ]
  },
  {
   "cell_type": "markdown",
   "id": "610cde1a",
   "metadata": {
    "papermill": {
     "duration": 0.023183,
     "end_time": "2021-09-14T13:41:32.683149",
     "exception": false,
     "start_time": "2021-09-14T13:41:32.659966",
     "status": "completed"
    },
    "tags": []
   },
   "source": [
    "## 6.\n",
    "What combination of countries and varieties are most common? Create a `Series` whose index is a `MultiIndex`of `{country, variety}` pairs. For example, a pinot noir produced in the US should map to `{\"US\", \"Pinot Noir\"}`. Sort the values in the `Series` in descending order based on wine count."
   ]
  },
  {
   "cell_type": "code",
   "execution_count": 13,
   "id": "afa8f1c6",
   "metadata": {
    "execution": {
     "iopub.execute_input": "2021-09-14T13:41:32.751806Z",
     "iopub.status.busy": "2021-09-14T13:41:32.751111Z",
     "iopub.status.idle": "2021-09-14T13:41:32.780424Z",
     "shell.execute_reply": "2021-09-14T13:41:32.780913Z",
     "shell.execute_reply.started": "2021-09-14T13:40:32.171736Z"
    },
    "papermill": {
     "duration": 0.074737,
     "end_time": "2021-09-14T13:41:32.781077",
     "exception": false,
     "start_time": "2021-09-14T13:41:32.706340",
     "status": "completed"
    },
    "tags": []
   },
   "outputs": [
    {
     "data": {
      "application/javascript": [
       "parent.postMessage({\"jupyterEvent\": \"custom.exercise_interaction\", \"data\": {\"outcomeType\": 1, \"valueTowardsCompletion\": 0.16666666666666666, \"interactionType\": 1, \"questionType\": 1, \"questionId\": \"6_GroupbyCountryVariety\", \"learnToolsVersion\": \"0.3.4\", \"failureMessage\": \"\", \"exceptionClass\": \"\", \"trace\": \"\"}}, \"*\")"
      ],
      "text/plain": [
       "<IPython.core.display.Javascript object>"
      ]
     },
     "metadata": {},
     "output_type": "display_data"
    },
    {
     "data": {
      "text/markdown": [
       "<span style=\"color:#33cc33\">Correct</span>"
      ],
      "text/plain": [
       "Correct"
      ]
     },
     "metadata": {},
     "output_type": "display_data"
    }
   ],
   "source": [
    "country_variety_counts = reviews.groupby(['country', 'variety']).size().sort_values(ascending=False)\n",
    "q6.check()"
   ]
  },
  {
   "cell_type": "code",
   "execution_count": 14,
   "id": "7b3327a6",
   "metadata": {
    "execution": {
     "iopub.execute_input": "2021-09-14T13:41:32.833760Z",
     "iopub.status.busy": "2021-09-14T13:41:32.833089Z",
     "iopub.status.idle": "2021-09-14T13:41:32.835861Z",
     "shell.execute_reply": "2021-09-14T13:41:32.836399Z",
     "shell.execute_reply.started": "2021-09-14T13:40:32.227286Z"
    },
    "papermill": {
     "duration": 0.031277,
     "end_time": "2021-09-14T13:41:32.836594",
     "exception": false,
     "start_time": "2021-09-14T13:41:32.805317",
     "status": "completed"
    },
    "tags": []
   },
   "outputs": [],
   "source": [
    "#q6.hint()\n",
    "#q6.solution()"
   ]
  },
  {
   "cell_type": "markdown",
   "id": "86992e60",
   "metadata": {
    "papermill": {
     "duration": 0.025396,
     "end_time": "2021-09-14T13:41:32.886494",
     "exception": false,
     "start_time": "2021-09-14T13:41:32.861098",
     "status": "completed"
    },
    "tags": []
   },
   "source": [
    "# Keep going\n",
    "\n",
    "Move on to the [**data types and missing data**](https://www.kaggle.com/residentmario/data-types-and-missing-values)."
   ]
  },
  {
   "cell_type": "markdown",
   "id": "52677cc2",
   "metadata": {
    "papermill": {
     "duration": 0.025011,
     "end_time": "2021-09-14T13:41:32.936031",
     "exception": false,
     "start_time": "2021-09-14T13:41:32.911020",
     "status": "completed"
    },
    "tags": []
   },
   "source": [
    "---\n",
    "\n",
    "\n",
    "\n",
    "\n",
    "*Have questions or comments? Visit the [Learn Discussion forum](https://www.kaggle.com/learn-forum/161299) to chat with other Learners.*"
   ]
  }
 ],
 "metadata": {
  "kernelspec": {
   "display_name": "Python 3",
   "language": "python",
   "name": "python3"
  },
  "language_info": {
   "codemirror_mode": {
    "name": "ipython",
    "version": 3
   },
   "file_extension": ".py",
   "mimetype": "text/x-python",
   "name": "python",
   "nbconvert_exporter": "python",
   "pygments_lexer": "ipython3",
   "version": "3.7.10"
  },
  "papermill": {
   "default_parameters": {},
   "duration": 13.495598,
   "end_time": "2021-09-14T13:41:33.569435",
   "environment_variables": {},
   "exception": null,
   "input_path": "__notebook__.ipynb",
   "output_path": "__notebook__.ipynb",
   "parameters": {},
   "start_time": "2021-09-14T13:41:20.073837",
   "version": "2.3.3"
  }
 },
 "nbformat": 4,
 "nbformat_minor": 5
}
