{
 "cells": [
  {
   "cell_type": "markdown",
   "id": "f6e52677",
   "metadata": {
    "papermill": {
     "duration": 0.016664,
     "end_time": "2021-09-14T13:42:48.239350",
     "exception": false,
     "start_time": "2021-09-14T13:42:48.222686",
     "status": "completed"
    },
    "tags": []
   },
   "source": [
    "**This notebook is an exercise in the [Pandas](https://www.kaggle.com/learn/pandas) course.  You can reference the tutorial at [this link](https://www.kaggle.com/residentmario/creating-reading-and-writing).**\n",
    "\n",
    "---\n"
   ]
  },
  {
   "cell_type": "markdown",
   "id": "5a548068",
   "metadata": {
    "papermill": {
     "duration": 0.015331,
     "end_time": "2021-09-14T13:42:48.272050",
     "exception": false,
     "start_time": "2021-09-14T13:42:48.256719",
     "status": "completed"
    },
    "tags": []
   },
   "source": [
    "# Introduction\n",
    "\n",
    "The first step in most data analytics projects is reading the data file. In this exercise, you'll create Series and DataFrame objects, both by hand and by reading data files.\n",
    "\n",
    "Run the code cell below to load libraries you will need (including code to check your answers)."
   ]
  },
  {
   "cell_type": "code",
   "execution_count": 1,
   "id": "3d506630",
   "metadata": {
    "execution": {
     "iopub.execute_input": "2021-09-14T13:42:48.318090Z",
     "iopub.status.busy": "2021-09-14T13:42:48.317385Z",
     "iopub.status.idle": "2021-09-14T13:42:50.008457Z",
     "shell.execute_reply": "2021-09-14T13:42:50.009350Z",
     "shell.execute_reply.started": "2021-09-14T13:41:06.706946Z"
    },
    "papermill": {
     "duration": 1.721972,
     "end_time": "2021-09-14T13:42:50.009769",
     "exception": false,
     "start_time": "2021-09-14T13:42:48.287797",
     "status": "completed"
    },
    "tags": []
   },
   "outputs": [
    {
     "name": "stdout",
     "output_type": "stream",
     "text": [
      "Setup complete.\n"
     ]
    }
   ],
   "source": [
    "import pandas as pd\n",
    "pd.set_option('max_rows', 5)\n",
    "from learntools.core import binder; binder.bind(globals())\n",
    "from learntools.pandas.creating_reading_and_writing import *\n",
    "print(\"Setup complete.\")"
   ]
  },
  {
   "cell_type": "markdown",
   "id": "302ee3bd",
   "metadata": {
    "papermill": {
     "duration": 0.015759,
     "end_time": "2021-09-14T13:42:50.042247",
     "exception": false,
     "start_time": "2021-09-14T13:42:50.026488",
     "status": "completed"
    },
    "tags": []
   },
   "source": [
    "# Exercises"
   ]
  },
  {
   "cell_type": "markdown",
   "id": "7e0a2c80",
   "metadata": {
    "papermill": {
     "duration": 0.016136,
     "end_time": "2021-09-14T13:42:50.074482",
     "exception": false,
     "start_time": "2021-09-14T13:42:50.058346",
     "status": "completed"
    },
    "tags": []
   },
   "source": [
    "## 1.\n",
    "\n",
    "In the cell below, create a DataFrame `fruits` that looks like this:\n",
    "\n",
    "![](https://i.imgur.com/Ax3pp2A.png)"
   ]
  },
  {
   "cell_type": "code",
   "execution_count": 2,
   "id": "4eba31c7",
   "metadata": {
    "execution": {
     "iopub.execute_input": "2021-09-14T13:42:50.116809Z",
     "iopub.status.busy": "2021-09-14T13:42:50.115741Z",
     "iopub.status.idle": "2021-09-14T13:42:50.129819Z",
     "shell.execute_reply": "2021-09-14T13:42:50.129288Z",
     "shell.execute_reply.started": "2021-09-14T13:41:08.473891Z"
    },
    "papermill": {
     "duration": 0.039385,
     "end_time": "2021-09-14T13:42:50.129980",
     "exception": false,
     "start_time": "2021-09-14T13:42:50.090595",
     "status": "completed"
    },
    "tags": []
   },
   "outputs": [
    {
     "data": {
      "application/javascript": [
       "parent.postMessage({\"jupyterEvent\": \"custom.exercise_interaction\", \"data\": {\"outcomeType\": 1, \"valueTowardsCompletion\": 0.16666666666666666, \"interactionType\": 1, \"questionType\": 1, \"questionId\": \"1_FruitDfCreation\", \"learnToolsVersion\": \"0.3.4\", \"failureMessage\": \"\", \"exceptionClass\": \"\", \"trace\": \"\"}}, \"*\")"
      ],
      "text/plain": [
       "<IPython.core.display.Javascript object>"
      ]
     },
     "metadata": {},
     "output_type": "display_data"
    },
    {
     "data": {
      "text/markdown": [
       "<span style=\"color:#33cc33\">Correct</span>"
      ],
      "text/plain": [
       "Correct"
      ]
     },
     "metadata": {},
     "output_type": "display_data"
    },
    {
     "data": {
      "text/html": [
       "<div>\n",
       "<style scoped>\n",
       "    .dataframe tbody tr th:only-of-type {\n",
       "        vertical-align: middle;\n",
       "    }\n",
       "\n",
       "    .dataframe tbody tr th {\n",
       "        vertical-align: top;\n",
       "    }\n",
       "\n",
       "    .dataframe thead th {\n",
       "        text-align: right;\n",
       "    }\n",
       "</style>\n",
       "<table border=\"1\" class=\"dataframe\">\n",
       "  <thead>\n",
       "    <tr style=\"text-align: right;\">\n",
       "      <th></th>\n",
       "      <th>Apples</th>\n",
       "      <th>Bananas</th>\n",
       "    </tr>\n",
       "  </thead>\n",
       "  <tbody>\n",
       "    <tr>\n",
       "      <th>0</th>\n",
       "      <td>30</td>\n",
       "      <td>21</td>\n",
       "    </tr>\n",
       "  </tbody>\n",
       "</table>\n",
       "</div>"
      ],
      "text/plain": [
       "   Apples  Bananas\n",
       "0      30       21"
      ]
     },
     "execution_count": 2,
     "metadata": {},
     "output_type": "execute_result"
    }
   ],
   "source": [
    "# Your code goes here. Create a dataframe matching the above diagram and assign it to the variable fruits.\n",
    "fruits = pd.DataFrame([[30, 21]], columns=['Apples', 'Bananas'])\n",
    "\n",
    "q1.check()\n",
    "fruits"
   ]
  },
  {
   "cell_type": "code",
   "execution_count": 3,
   "id": "a7a19f78",
   "metadata": {
    "execution": {
     "iopub.execute_input": "2021-09-14T13:42:50.169433Z",
     "iopub.status.busy": "2021-09-14T13:42:50.168625Z",
     "iopub.status.idle": "2021-09-14T13:42:50.171624Z",
     "shell.execute_reply": "2021-09-14T13:42:50.171090Z",
     "shell.execute_reply.started": "2021-09-14T13:41:08.496158Z"
    },
    "papermill": {
     "duration": 0.024165,
     "end_time": "2021-09-14T13:42:50.171762",
     "exception": false,
     "start_time": "2021-09-14T13:42:50.147597",
     "status": "completed"
    },
    "tags": []
   },
   "outputs": [],
   "source": [
    "#q1.hint()\n",
    "#q1.solution()"
   ]
  },
  {
   "cell_type": "markdown",
   "id": "0301e6af",
   "metadata": {
    "papermill": {
     "duration": 0.018203,
     "end_time": "2021-09-14T13:42:50.207362",
     "exception": false,
     "start_time": "2021-09-14T13:42:50.189159",
     "status": "completed"
    },
    "tags": []
   },
   "source": [
    "## 2.\n",
    "\n",
    "Create a dataframe `fruit_sales` that matches the diagram below:\n",
    "\n",
    "![](https://i.imgur.com/CHPn7ZF.png)"
   ]
  },
  {
   "cell_type": "code",
   "execution_count": 4,
   "id": "1c3f0cc9",
   "metadata": {
    "execution": {
     "iopub.execute_input": "2021-09-14T13:42:50.250143Z",
     "iopub.status.busy": "2021-09-14T13:42:50.249343Z",
     "iopub.status.idle": "2021-09-14T13:42:50.260856Z",
     "shell.execute_reply": "2021-09-14T13:42:50.261320Z",
     "shell.execute_reply.started": "2021-09-14T13:41:08.501922Z"
    },
    "papermill": {
     "duration": 0.036789,
     "end_time": "2021-09-14T13:42:50.261497",
     "exception": false,
     "start_time": "2021-09-14T13:42:50.224708",
     "status": "completed"
    },
    "tags": []
   },
   "outputs": [
    {
     "data": {
      "application/javascript": [
       "parent.postMessage({\"jupyterEvent\": \"custom.exercise_interaction\", \"data\": {\"outcomeType\": 1, \"valueTowardsCompletion\": 0.16666666666666666, \"interactionType\": 1, \"questionType\": 1, \"questionId\": \"2_FruitSalesDfCreation\", \"learnToolsVersion\": \"0.3.4\", \"failureMessage\": \"\", \"exceptionClass\": \"\", \"trace\": \"\"}}, \"*\")"
      ],
      "text/plain": [
       "<IPython.core.display.Javascript object>"
      ]
     },
     "metadata": {},
     "output_type": "display_data"
    },
    {
     "data": {
      "text/markdown": [
       "<span style=\"color:#33cc33\">Correct</span>"
      ],
      "text/plain": [
       "Correct"
      ]
     },
     "metadata": {},
     "output_type": "display_data"
    },
    {
     "data": {
      "text/html": [
       "<div>\n",
       "<style scoped>\n",
       "    .dataframe tbody tr th:only-of-type {\n",
       "        vertical-align: middle;\n",
       "    }\n",
       "\n",
       "    .dataframe tbody tr th {\n",
       "        vertical-align: top;\n",
       "    }\n",
       "\n",
       "    .dataframe thead th {\n",
       "        text-align: right;\n",
       "    }\n",
       "</style>\n",
       "<table border=\"1\" class=\"dataframe\">\n",
       "  <thead>\n",
       "    <tr style=\"text-align: right;\">\n",
       "      <th></th>\n",
       "      <th>Apples</th>\n",
       "      <th>Bananas</th>\n",
       "    </tr>\n",
       "  </thead>\n",
       "  <tbody>\n",
       "    <tr>\n",
       "      <th>2017 Sales</th>\n",
       "      <td>35</td>\n",
       "      <td>21</td>\n",
       "    </tr>\n",
       "    <tr>\n",
       "      <th>2018 Sales</th>\n",
       "      <td>41</td>\n",
       "      <td>34</td>\n",
       "    </tr>\n",
       "  </tbody>\n",
       "</table>\n",
       "</div>"
      ],
      "text/plain": [
       "            Apples  Bananas\n",
       "2017 Sales      35       21\n",
       "2018 Sales      41       34"
      ]
     },
     "execution_count": 4,
     "metadata": {},
     "output_type": "execute_result"
    }
   ],
   "source": [
    "# Your code goes here. Create a dataframe matching the above diagram and assign it to the variable fruit_sales.\n",
    "fruit_sales = pd.DataFrame([[35, 21],[41, 34]], columns=['Apples', 'Bananas'],index=['2017 Sales', '2018 Sales'])\n",
    "q2.check()\n",
    "fruit_sales"
   ]
  },
  {
   "cell_type": "code",
   "execution_count": 5,
   "id": "aec9551d",
   "metadata": {
    "execution": {
     "iopub.execute_input": "2021-09-14T13:42:50.303648Z",
     "iopub.status.busy": "2021-09-14T13:42:50.302705Z",
     "iopub.status.idle": "2021-09-14T13:42:50.306005Z",
     "shell.execute_reply": "2021-09-14T13:42:50.305458Z",
     "shell.execute_reply.started": "2021-09-14T13:41:08.521974Z"
    },
    "papermill": {
     "duration": 0.025961,
     "end_time": "2021-09-14T13:42:50.306158",
     "exception": false,
     "start_time": "2021-09-14T13:42:50.280197",
     "status": "completed"
    },
    "tags": []
   },
   "outputs": [],
   "source": [
    "#q2.hint()\n",
    "#q2.solution()"
   ]
  },
  {
   "cell_type": "markdown",
   "id": "06e390be",
   "metadata": {
    "papermill": {
     "duration": 0.019487,
     "end_time": "2021-09-14T13:42:50.344705",
     "exception": false,
     "start_time": "2021-09-14T13:42:50.325218",
     "status": "completed"
    },
    "tags": []
   },
   "source": [
    "## 3.\n",
    "\n",
    "Create a variable `ingredients` with a Series that looks like:\n",
    "\n",
    "```\n",
    "Flour     4 cups\n",
    "Milk       1 cup\n",
    "Eggs     2 large\n",
    "Spam       1 can\n",
    "Name: Dinner, dtype: object\n",
    "```"
   ]
  },
  {
   "cell_type": "code",
   "execution_count": 6,
   "id": "7095c376",
   "metadata": {
    "execution": {
     "iopub.execute_input": "2021-09-14T13:42:50.390625Z",
     "iopub.status.busy": "2021-09-14T13:42:50.389903Z",
     "iopub.status.idle": "2021-09-14T13:42:50.457493Z",
     "shell.execute_reply": "2021-09-14T13:42:50.456782Z",
     "shell.execute_reply.started": "2021-09-14T13:41:08.528459Z"
    },
    "papermill": {
     "duration": 0.092972,
     "end_time": "2021-09-14T13:42:50.457780",
     "exception": true,
     "start_time": "2021-09-14T13:42:50.364808",
     "status": "failed"
    },
    "tags": []
   },
   "outputs": [
    {
     "ename": "NameError",
     "evalue": "name 'quantities' is not defined",
     "output_type": "error",
     "traceback": [
      "\u001b[0;31m---------------------------------------------------------------------------\u001b[0m",
      "\u001b[0;31mNameError\u001b[0m                                 Traceback (most recent call last)",
      "\u001b[0;32m/tmp/ipykernel_19/1393879328.py\u001b[0m in \u001b[0;36m<module>\u001b[0;34m\u001b[0m\n\u001b[0;32m----> 1\u001b[0;31m \u001b[0mingredients\u001b[0m \u001b[0;34m=\u001b[0m \u001b[0mpd\u001b[0m\u001b[0;34m.\u001b[0m\u001b[0mSeries\u001b[0m\u001b[0;34m(\u001b[0m\u001b[0mquantities\u001b[0m\u001b[0;34m,\u001b[0m \u001b[0mindex\u001b[0m\u001b[0;34m=\u001b[0m\u001b[0mitems\u001b[0m\u001b[0;34m,\u001b[0m \u001b[0mname\u001b[0m\u001b[0;34m=\u001b[0m\u001b[0;34m'Dinner'\u001b[0m\u001b[0;34m)\u001b[0m\u001b[0;34m\u001b[0m\u001b[0;34m\u001b[0m\u001b[0m\n\u001b[0m\u001b[1;32m      2\u001b[0m \u001b[0mquantities\u001b[0m \u001b[0;34m=\u001b[0m \u001b[0;34m[\u001b[0m\u001b[0;34m'4 cups'\u001b[0m\u001b[0;34m,\u001b[0m \u001b[0;34m'1 cup'\u001b[0m\u001b[0;34m,\u001b[0m \u001b[0;34m'2 large'\u001b[0m\u001b[0;34m,\u001b[0m \u001b[0;34m'1 can'\u001b[0m\u001b[0;34m]\u001b[0m\u001b[0;34m\u001b[0m\u001b[0;34m\u001b[0m\u001b[0m\n\u001b[1;32m      3\u001b[0m \u001b[0mitems\u001b[0m \u001b[0;34m=\u001b[0m \u001b[0;34m[\u001b[0m\u001b[0;34m'Flour'\u001b[0m\u001b[0;34m,\u001b[0m \u001b[0;34m'Milk'\u001b[0m\u001b[0;34m,\u001b[0m \u001b[0;34m'Eggs'\u001b[0m\u001b[0;34m,\u001b[0m \u001b[0;34m'Spam'\u001b[0m\u001b[0;34m]\u001b[0m\u001b[0;34m\u001b[0m\u001b[0;34m\u001b[0m\u001b[0m\n\u001b[1;32m      4\u001b[0m \u001b[0mrecipe\u001b[0m \u001b[0;34m=\u001b[0m \u001b[0mpd\u001b[0m\u001b[0;34m.\u001b[0m\u001b[0mSeries\u001b[0m\u001b[0;34m(\u001b[0m\u001b[0mquantities\u001b[0m\u001b[0;34m,\u001b[0m \u001b[0mindex\u001b[0m\u001b[0;34m=\u001b[0m\u001b[0mitems\u001b[0m\u001b[0;34m,\u001b[0m \u001b[0mname\u001b[0m\u001b[0;34m=\u001b[0m\u001b[0;34m'Dinner'\u001b[0m\u001b[0;34m)\u001b[0m\u001b[0;34m\u001b[0m\u001b[0;34m\u001b[0m\u001b[0m\n\u001b[1;32m      5\u001b[0m \u001b[0mq3\u001b[0m\u001b[0;34m.\u001b[0m\u001b[0mcheck\u001b[0m\u001b[0;34m(\u001b[0m\u001b[0;34m)\u001b[0m\u001b[0;34m\u001b[0m\u001b[0;34m\u001b[0m\u001b[0m\n",
      "\u001b[0;31mNameError\u001b[0m: name 'quantities' is not defined"
     ]
    }
   ],
   "source": [
    "ingredients = pd.Series(quantities, index=items, name='Dinner')\n",
    "quantities = ['4 cups', '1 cup', '2 large', '1 can']\n",
    "items = ['Flour', 'Milk', 'Eggs', 'Spam']\n",
    "recipe = pd.Series(quantities, index=items, name='Dinner')\n",
    "q3.check()\n",
    "print(ingredients)"
   ]
  },
  {
   "cell_type": "code",
   "execution_count": null,
   "id": "355e4ab6",
   "metadata": {
    "execution": {
     "iopub.status.busy": "2021-09-14T13:41:08.590305Z",
     "iopub.status.idle": "2021-09-14T13:41:08.591026Z",
     "shell.execute_reply": "2021-09-14T13:41:08.590787Z",
     "shell.execute_reply.started": "2021-09-14T13:41:08.590761Z"
    },
    "papermill": {
     "duration": null,
     "end_time": null,
     "exception": null,
     "start_time": null,
     "status": "pending"
    },
    "tags": []
   },
   "outputs": [],
   "source": [
    "#q3.hint()\n",
    "#q3.solution()"
   ]
  },
  {
   "cell_type": "markdown",
   "id": "596ed326",
   "metadata": {
    "papermill": {
     "duration": null,
     "end_time": null,
     "exception": null,
     "start_time": null,
     "status": "pending"
    },
    "tags": []
   },
   "source": [
    "## 4.\n",
    "\n",
    "Read the following csv dataset of wine reviews into a DataFrame called `reviews`:\n",
    "\n",
    "![](https://i.imgur.com/74RCZtU.png)\n",
    "\n",
    "The filepath to the csv file is `../input/wine-reviews/winemag-data_first150k.csv`. The first few lines look like:\n",
    "\n",
    "```\n",
    ",country,description,designation,points,price,province,region_1,region_2,variety,winery\n",
    "0,US,\"This tremendous 100% varietal wine[...]\",Martha's Vineyard,96,235.0,California,Napa Valley,Napa,Cabernet Sauvignon,Heitz\n",
    "1,Spain,\"Ripe aromas of fig, blackberry and[...]\",Carodorum Selección Especial Reserva,96,110.0,Northern Spain,Toro,,Tinta de Toro,Bodega Carmen Rodríguez\n",
    "```"
   ]
  },
  {
   "cell_type": "code",
   "execution_count": null,
   "id": "6b2b83e8",
   "metadata": {
    "execution": {
     "iopub.status.busy": "2021-09-14T13:41:08.592333Z",
     "iopub.status.idle": "2021-09-14T13:41:08.593074Z",
     "shell.execute_reply": "2021-09-14T13:41:08.592813Z",
     "shell.execute_reply.started": "2021-09-14T13:41:08.592785Z"
    },
    "papermill": {
     "duration": null,
     "end_time": null,
     "exception": null,
     "start_time": null,
     "status": "pending"
    },
    "tags": []
   },
   "outputs": [],
   "source": [
    "reviews = ____\n",
    "reviews = pd.read_csv('../input/wine-reviews/winemag-data_first150k.csv', index_col=0)\n",
    "q4.check()\n",
    "reviews"
   ]
  },
  {
   "cell_type": "code",
   "execution_count": null,
   "id": "8445f8bd",
   "metadata": {
    "execution": {
     "iopub.status.busy": "2021-09-14T13:41:08.594624Z",
     "iopub.status.idle": "2021-09-14T13:41:08.595087Z",
     "shell.execute_reply": "2021-09-14T13:41:08.594862Z",
     "shell.execute_reply.started": "2021-09-14T13:41:08.594839Z"
    },
    "papermill": {
     "duration": null,
     "end_time": null,
     "exception": null,
     "start_time": null,
     "status": "pending"
    },
    "tags": []
   },
   "outputs": [],
   "source": [
    "#q4.hint()\n",
    "#q4.solution()"
   ]
  },
  {
   "cell_type": "markdown",
   "id": "83ac7f9b",
   "metadata": {
    "papermill": {
     "duration": null,
     "end_time": null,
     "exception": null,
     "start_time": null,
     "status": "pending"
    },
    "tags": []
   },
   "source": [
    "## 5.\n",
    "\n",
    "Run the cell below to create and display a DataFrame called `animals`:"
   ]
  },
  {
   "cell_type": "code",
   "execution_count": null,
   "id": "c760af9d",
   "metadata": {
    "execution": {
     "iopub.status.busy": "2021-09-14T13:41:08.596479Z",
     "iopub.status.idle": "2021-09-14T13:41:08.596948Z",
     "shell.execute_reply": "2021-09-14T13:41:08.596735Z",
     "shell.execute_reply.started": "2021-09-14T13:41:08.596711Z"
    },
    "papermill": {
     "duration": null,
     "end_time": null,
     "exception": null,
     "start_time": null,
     "status": "pending"
    },
    "tags": []
   },
   "outputs": [],
   "source": [
    "animals = pd.DataFrame({'Cows': [12, 20], 'Goats': [22, 19]}, index=['Year 1', 'Year 2'])\n",
    "animals"
   ]
  },
  {
   "cell_type": "markdown",
   "id": "be42f21d",
   "metadata": {
    "papermill": {
     "duration": null,
     "end_time": null,
     "exception": null,
     "start_time": null,
     "status": "pending"
    },
    "tags": []
   },
   "source": [
    "In the cell below, write code to save this DataFrame to disk as a csv file with the name `cows_and_goats.csv`."
   ]
  },
  {
   "cell_type": "code",
   "execution_count": null,
   "id": "1ab3c5c2",
   "metadata": {
    "execution": {
     "iopub.status.busy": "2021-09-14T13:41:08.598399Z",
     "iopub.status.idle": "2021-09-14T13:41:08.598877Z",
     "shell.execute_reply": "2021-09-14T13:41:08.598660Z",
     "shell.execute_reply.started": "2021-09-14T13:41:08.598636Z"
    },
    "papermill": {
     "duration": null,
     "end_time": null,
     "exception": null,
     "start_time": null,
     "status": "pending"
    },
    "tags": []
   },
   "outputs": [],
   "source": [
    "# Your code goes here\n",
    "animals.to_csv(\"cows_and_goats.csv\")\n",
    "q5.check()"
   ]
  },
  {
   "cell_type": "code",
   "execution_count": null,
   "id": "18e7f546",
   "metadata": {
    "execution": {
     "iopub.status.busy": "2021-09-14T13:41:08.600265Z",
     "iopub.status.idle": "2021-09-14T13:41:08.600580Z",
     "shell.execute_reply": "2021-09-14T13:41:08.600433Z",
     "shell.execute_reply.started": "2021-09-14T13:41:08.600418Z"
    },
    "papermill": {
     "duration": null,
     "end_time": null,
     "exception": null,
     "start_time": null,
     "status": "pending"
    },
    "tags": []
   },
   "outputs": [],
   "source": [
    "#q5.hint()\n",
    "#q5.solution()"
   ]
  },
  {
   "cell_type": "markdown",
   "id": "c56cd5f4",
   "metadata": {
    "papermill": {
     "duration": null,
     "end_time": null,
     "exception": null,
     "start_time": null,
     "status": "pending"
    },
    "tags": []
   },
   "source": [
    "# Keep going\n",
    "\n",
    "Move on to learn about **[indexing, selecting and assigning](https://www.kaggle.com/residentmario/indexing-selecting-assigning)**."
   ]
  },
  {
   "cell_type": "markdown",
   "id": "b7a20ac1",
   "metadata": {
    "papermill": {
     "duration": null,
     "end_time": null,
     "exception": null,
     "start_time": null,
     "status": "pending"
    },
    "tags": []
   },
   "source": [
    "---\n",
    "\n",
    "\n",
    "\n",
    "\n",
    "*Have questions or comments? Visit the [Learn Discussion forum](https://www.kaggle.com/learn-forum/161299) to chat with other Learners.*"
   ]
  }
 ],
 "metadata": {
  "kernelspec": {
   "display_name": "Python 3",
   "language": "python",
   "name": "python3"
  },
  "language_info": {
   "codemirror_mode": {
    "name": "ipython",
    "version": 3
   },
   "file_extension": ".py",
   "mimetype": "text/x-python",
   "name": "python",
   "nbconvert_exporter": "python",
   "pygments_lexer": "ipython3",
   "version": "3.7.10"
  },
  "papermill": {
   "default_parameters": {},
   "duration": 11.77578,
   "end_time": "2021-09-14T13:42:51.864569",
   "environment_variables": {},
   "exception": true,
   "input_path": "__notebook__.ipynb",
   "output_path": "__notebook__.ipynb",
   "parameters": {},
   "start_time": "2021-09-14T13:42:40.088789",
   "version": "2.3.3"
  }
 },
 "nbformat": 4,
 "nbformat_minor": 5
}
