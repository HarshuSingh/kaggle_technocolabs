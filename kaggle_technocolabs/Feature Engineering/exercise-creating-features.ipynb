{
 "cells": [
  {
   "cell_type": "markdown",
   "id": "8b70a8d8",
   "metadata": {
    "papermill": {
     "duration": 0.017819,
     "end_time": "2021-09-14T10:12:52.493379",
     "exception": false,
     "start_time": "2021-09-14T10:12:52.475560",
     "status": "completed"
    },
    "tags": []
   },
   "source": [
    "**This notebook is an exercise in the [Feature Engineering](https://www.kaggle.com/learn/feature-engineering) course.  You can reference the tutorial at [this link](https://www.kaggle.com/ryanholbrook/creating-features).**\n",
    "\n",
    "---\n"
   ]
  },
  {
   "cell_type": "markdown",
   "id": "15d752fd",
   "metadata": {
    "papermill": {
     "duration": 0.016563,
     "end_time": "2021-09-14T10:12:52.528676",
     "exception": false,
     "start_time": "2021-09-14T10:12:52.512113",
     "status": "completed"
    },
    "tags": []
   },
   "source": [
    "# Introduction #\n",
    "\n",
    "In this exercise you'll start developing the features you identified in Exercise 2 as having the most potential. As you work through this exercise, you might take a moment to look at the data documentation again and consider whether the features we're creating make sense from a real-world perspective, and whether there are any useful combinations that stand out to you.\n",
    "\n",
    "Run this cell to set everything up!"
   ]
  },
  {
   "cell_type": "code",
   "execution_count": 1,
   "id": "220fe93e",
   "metadata": {
    "execution": {
     "iopub.execute_input": "2021-09-14T10:12:52.566898Z",
     "iopub.status.busy": "2021-09-14T10:12:52.565654Z",
     "iopub.status.idle": "2021-09-14T10:12:53.788476Z",
     "shell.execute_reply": "2021-09-14T10:12:53.787657Z",
     "shell.execute_reply.started": "2021-09-14T10:03:48.359780Z"
    },
    "papermill": {
     "duration": 1.243344,
     "end_time": "2021-09-14T10:12:53.788669",
     "exception": false,
     "start_time": "2021-09-14T10:12:52.545325",
     "status": "completed"
    },
    "tags": []
   },
   "outputs": [],
   "source": [
    "# Setup feedback system\n",
    "from learntools.core import binder\n",
    "binder.bind(globals())\n",
    "from learntools.feature_engineering_new.ex3 import *\n",
    "\n",
    "import numpy as np\n",
    "import pandas as pd\n",
    "from sklearn.model_selection import cross_val_score\n",
    "from xgboost import XGBRegressor\n",
    "\n",
    "\n",
    "def score_dataset(X, y, model=XGBRegressor()):\n",
    "    # Label encoding for categoricals\n",
    "    for colname in X.select_dtypes([\"category\", \"object\"]):\n",
    "        X[colname], _ = X[colname].factorize()\n",
    "    # Metric for Housing competition is RMSLE (Root Mean Squared Log Error)\n",
    "    score = cross_val_score(\n",
    "        model, X, y, cv=5, scoring=\"neg_mean_squared_log_error\",\n",
    "    )\n",
    "    score = -1 * score.mean()\n",
    "    score = np.sqrt(score)\n",
    "    return score\n",
    "\n",
    "\n",
    "# Prepare data\n",
    "df = pd.read_csv(\"../input/fe-course-data/ames.csv\")\n",
    "X = df.copy()\n",
    "y = X.pop(\"SalePrice\")"
   ]
  },
  {
   "cell_type": "markdown",
   "id": "84d48d12",
   "metadata": {
    "papermill": {
     "duration": 0.016483,
     "end_time": "2021-09-14T10:12:53.822978",
     "exception": false,
     "start_time": "2021-09-14T10:12:53.806495",
     "status": "completed"
    },
    "tags": []
   },
   "source": [
    "-------------------------------------------------------------------------------\n",
    "\n",
    "Let's start with a few mathematical combinations. We'll focus on features describing areas -- having the same units (square-feet) makes it easy to combine them in sensible ways. Since we're using XGBoost (a tree-based model), we'll focus on ratios and sums.\n",
    "\n",
    "# 1) Create Mathematical Transforms\n",
    "\n",
    "Create the following features:\n",
    "\n",
    "- `LivLotRatio`: the ratio of `GrLivArea` to `LotArea`\n",
    "- `Spaciousness`: the sum of `FirstFlrSF` and `SecondFlrSF` divided by `TotRmsAbvGrd`\n",
    "- `TotalOutsideSF`: the sum of `WoodDeckSF`, `OpenPorchSF`, `EnclosedPorch`, `Threeseasonporch`, and `ScreenPorch`"
   ]
  },
  {
   "cell_type": "code",
   "execution_count": 2,
   "id": "a2c6f975",
   "metadata": {
    "execution": {
     "iopub.execute_input": "2021-09-14T10:12:53.882230Z",
     "iopub.status.busy": "2021-09-14T10:12:53.881355Z",
     "iopub.status.idle": "2021-09-14T10:12:53.886115Z",
     "shell.execute_reply": "2021-09-14T10:12:53.886587Z",
     "shell.execute_reply.started": "2021-09-14T10:07:21.539840Z"
    },
    "lines_to_next_cell": 0,
    "papermill": {
     "duration": 0.04708,
     "end_time": "2021-09-14T10:12:53.886772",
     "exception": false,
     "start_time": "2021-09-14T10:12:53.839692",
     "status": "completed"
    },
    "tags": []
   },
   "outputs": [
    {
     "data": {
      "application/javascript": [
       "parent.postMessage({\"jupyterEvent\": \"custom.exercise_interaction\", \"data\": {\"outcomeType\": 1, \"valueTowardsCompletion\": 0.2, \"interactionType\": 1, \"questionType\": 2, \"questionId\": \"1_Q1\", \"learnToolsVersion\": \"0.3.4\", \"failureMessage\": \"\", \"exceptionClass\": \"\", \"trace\": \"\"}}, \"*\")"
      ],
      "text/plain": [
       "<IPython.core.display.Javascript object>"
      ]
     },
     "metadata": {},
     "output_type": "display_data"
    },
    {
     "data": {
      "text/markdown": [
       "<span style=\"color:#33cc33\">Correct</span>"
      ],
      "text/plain": [
       "Correct"
      ]
     },
     "metadata": {},
     "output_type": "display_data"
    }
   ],
   "source": [
    "# YOUR CODE HERE\n",
    "X_1 = pd.DataFrame()  # dataframe to hold new features\n",
    "\n",
    "X_1[\"LivLotRatio\"] = df.GrLivArea / df.LotArea\n",
    "X_1[\"Spaciousness\"] = (df.FirstFlrSF + df.SecondFlrSF) / df.TotRmsAbvGrd\n",
    "X_1[\"TotalOutsideSF\"] = df.WoodDeckSF + df.OpenPorchSF + df.EnclosedPorch + df.Threeseasonporch + df.ScreenPorch\n",
    "\n",
    "\n",
    "# Check your answer\n",
    "q_1.check()"
   ]
  },
  {
   "cell_type": "code",
   "execution_count": 3,
   "id": "317646d3",
   "metadata": {
    "execution": {
     "iopub.execute_input": "2021-09-14T10:12:53.927137Z",
     "iopub.status.busy": "2021-09-14T10:12:53.926435Z",
     "iopub.status.idle": "2021-09-14T10:12:53.929537Z",
     "shell.execute_reply": "2021-09-14T10:12:53.930076Z",
     "shell.execute_reply.started": "2021-09-14T10:07:26.014806Z"
    },
    "lines_to_next_cell": 0,
    "papermill": {
     "duration": 0.025324,
     "end_time": "2021-09-14T10:12:53.930262",
     "exception": false,
     "start_time": "2021-09-14T10:12:53.904938",
     "status": "completed"
    },
    "tags": []
   },
   "outputs": [],
   "source": [
    "# Lines below will give you a hint or solution code\n",
    "#q_1.hint()\n",
    "#q_1.solution()"
   ]
  },
  {
   "cell_type": "markdown",
   "id": "84bd0ae5",
   "metadata": {
    "papermill": {
     "duration": 0.017368,
     "end_time": "2021-09-14T10:12:53.965442",
     "exception": false,
     "start_time": "2021-09-14T10:12:53.948074",
     "status": "completed"
    },
    "tags": []
   },
   "source": [
    "-------------------------------------------------------------------------------\n",
    "\n",
    "If you've discovered an interaction effect between a numeric feature and a categorical feature, you might want to model it explicitly using a one-hot encoding, like so:\n",
    "\n",
    "```\n",
    "# One-hot encode Categorical feature, adding a column prefix \"Cat\"\n",
    "X_new = pd.get_dummies(df.Categorical, prefix=\"Cat\")\n",
    "\n",
    "# Multiply row-by-row\n",
    "X_new = X_new.mul(df.Continuous, axis=0)\n",
    "\n",
    "# Join the new features to the feature set\n",
    "X = X.join(X_new)\n",
    "```\n",
    "\n",
    "# 2) Interaction with a Categorical\n",
    "\n",
    "We discovered an interaction between `BldgType` and `GrLivArea` in Exercise 2. Now create their interaction features."
   ]
  },
  {
   "cell_type": "code",
   "execution_count": 4,
   "id": "4014dbaf",
   "metadata": {
    "execution": {
     "iopub.execute_input": "2021-09-14T10:12:54.008176Z",
     "iopub.status.busy": "2021-09-14T10:12:54.007439Z",
     "iopub.status.idle": "2021-09-14T10:12:54.020225Z",
     "shell.execute_reply": "2021-09-14T10:12:54.019568Z",
     "shell.execute_reply.started": "2021-09-14T10:08:30.935585Z"
    },
    "lines_to_next_cell": 0,
    "papermill": {
     "duration": 0.036215,
     "end_time": "2021-09-14T10:12:54.020368",
     "exception": false,
     "start_time": "2021-09-14T10:12:53.984153",
     "status": "completed"
    },
    "tags": []
   },
   "outputs": [
    {
     "data": {
      "application/javascript": [
       "parent.postMessage({\"jupyterEvent\": \"custom.exercise_interaction\", \"data\": {\"outcomeType\": 1, \"valueTowardsCompletion\": 0.2, \"interactionType\": 1, \"questionType\": 2, \"questionId\": \"2_Q2\", \"learnToolsVersion\": \"0.3.4\", \"failureMessage\": \"\", \"exceptionClass\": \"\", \"trace\": \"\"}}, \"*\")"
      ],
      "text/plain": [
       "<IPython.core.display.Javascript object>"
      ]
     },
     "metadata": {},
     "output_type": "display_data"
    },
    {
     "data": {
      "text/markdown": [
       "<span style=\"color:#33cc33\">Correct</span>"
      ],
      "text/plain": [
       "Correct"
      ]
     },
     "metadata": {},
     "output_type": "display_data"
    }
   ],
   "source": [
    "# YOUR CODE HERE\n",
    "# One-hot encode BldgType. Use `prefix=\"Bldg\"` in `get_dummies`\n",
    "X_2 = pd.get_dummies(df.BldgType, prefix=\"Bldg\")\n",
    "X_2 = X_2.mul(df.GrLivArea, axis=0)\n",
    "\n",
    "\n",
    "# Check your answer\n",
    "q_2.check()"
   ]
  },
  {
   "cell_type": "code",
   "execution_count": 5,
   "id": "a6ed259b",
   "metadata": {
    "execution": {
     "iopub.execute_input": "2021-09-14T10:12:54.063161Z",
     "iopub.status.busy": "2021-09-14T10:12:54.062176Z",
     "iopub.status.idle": "2021-09-14T10:12:54.065051Z",
     "shell.execute_reply": "2021-09-14T10:12:54.064474Z",
     "shell.execute_reply.started": "2021-09-14T10:08:35.025660Z"
    },
    "lines_to_next_cell": 0,
    "papermill": {
     "duration": 0.02611,
     "end_time": "2021-09-14T10:12:54.065204",
     "exception": false,
     "start_time": "2021-09-14T10:12:54.039094",
     "status": "completed"
    },
    "tags": []
   },
   "outputs": [],
   "source": [
    "# Lines below will give you a hint or solution code\n",
    "#q_2.hint()\n",
    "#q_2.solution()"
   ]
  },
  {
   "cell_type": "markdown",
   "id": "325a7e11",
   "metadata": {
    "lines_to_next_cell": 0,
    "papermill": {
     "duration": 0.018368,
     "end_time": "2021-09-14T10:12:54.102364",
     "exception": false,
     "start_time": "2021-09-14T10:12:54.083996",
     "status": "completed"
    },
    "tags": []
   },
   "source": [
    "# 3) Count Feature\n",
    "\n",
    "Let's try creating a feature that describes how many kinds of outdoor areas a dwelling has. Create a feature `PorchTypes` that counts how many of the following are greater than 0.0:\n",
    "\n",
    "```\n",
    "WoodDeckSF\n",
    "OpenPorchSF\n",
    "EnclosedPorch\n",
    "Threeseasonporch\n",
    "ScreenPorch\n",
    "```"
   ]
  },
  {
   "cell_type": "code",
   "execution_count": 6,
   "id": "6ff71197",
   "metadata": {
    "execution": {
     "iopub.execute_input": "2021-09-14T10:12:54.158317Z",
     "iopub.status.busy": "2021-09-14T10:12:54.157316Z",
     "iopub.status.idle": "2021-09-14T10:12:54.162660Z",
     "shell.execute_reply": "2021-09-14T10:12:54.162103Z",
     "shell.execute_reply.started": "2021-09-14T10:10:15.391376Z"
    },
    "lines_to_next_cell": 0,
    "papermill": {
     "duration": 0.041619,
     "end_time": "2021-09-14T10:12:54.162811",
     "exception": false,
     "start_time": "2021-09-14T10:12:54.121192",
     "status": "completed"
    },
    "tags": []
   },
   "outputs": [
    {
     "data": {
      "application/javascript": [
       "parent.postMessage({\"jupyterEvent\": \"custom.exercise_interaction\", \"data\": {\"outcomeType\": 1, \"valueTowardsCompletion\": 0.2, \"interactionType\": 1, \"questionType\": 2, \"questionId\": \"3_Q3\", \"learnToolsVersion\": \"0.3.4\", \"failureMessage\": \"\", \"exceptionClass\": \"\", \"trace\": \"\"}}, \"*\")"
      ],
      "text/plain": [
       "<IPython.core.display.Javascript object>"
      ]
     },
     "metadata": {},
     "output_type": "display_data"
    },
    {
     "data": {
      "text/markdown": [
       "<span style=\"color:#33cc33\">Correct</span>"
      ],
      "text/plain": [
       "Correct"
      ]
     },
     "metadata": {},
     "output_type": "display_data"
    }
   ],
   "source": [
    "X_3 = pd.DataFrame()\n",
    "\n",
    "# YOUR CODE HERE\n",
    "X_3[\"PorchTypes\"] = df[[\n",
    "    \"WoodDeckSF\",\n",
    "    \"OpenPorchSF\",\n",
    "    \"EnclosedPorch\",\n",
    "    \"Threeseasonporch\",\n",
    "    \"ScreenPorch\",\n",
    "]].gt(0.0).sum(axis=1)\n",
    "\n",
    "# Check your answer\n",
    "q_3.check()"
   ]
  },
  {
   "cell_type": "code",
   "execution_count": 7,
   "id": "6a08a9d1",
   "metadata": {
    "execution": {
     "iopub.execute_input": "2021-09-14T10:12:54.206753Z",
     "iopub.status.busy": "2021-09-14T10:12:54.205715Z",
     "iopub.status.idle": "2021-09-14T10:12:54.208554Z",
     "shell.execute_reply": "2021-09-14T10:12:54.208018Z",
     "shell.execute_reply.started": "2021-09-14T10:10:19.945339Z"
    },
    "lines_to_next_cell": 0,
    "papermill": {
     "duration": 0.026433,
     "end_time": "2021-09-14T10:12:54.208719",
     "exception": false,
     "start_time": "2021-09-14T10:12:54.182286",
     "status": "completed"
    },
    "tags": []
   },
   "outputs": [],
   "source": [
    "# Lines below will give you a hint or solution code\n",
    "#q_3.hint()\n",
    "#q_3.solution()"
   ]
  },
  {
   "cell_type": "markdown",
   "id": "4df866ae",
   "metadata": {
    "papermill": {
     "duration": 0.01928,
     "end_time": "2021-09-14T10:12:54.247749",
     "exception": false,
     "start_time": "2021-09-14T10:12:54.228469",
     "status": "completed"
    },
    "tags": []
   },
   "source": [
    "# 4) Break Down a Categorical Feature\n",
    "\n",
    "`MSSubClass` describes the type of a dwelling:"
   ]
  },
  {
   "cell_type": "code",
   "execution_count": 8,
   "id": "9b702573",
   "metadata": {
    "execution": {
     "iopub.execute_input": "2021-09-14T10:12:54.292956Z",
     "iopub.status.busy": "2021-09-14T10:12:54.292071Z",
     "iopub.status.idle": "2021-09-14T10:12:54.296315Z",
     "shell.execute_reply": "2021-09-14T10:12:54.296878Z",
     "shell.execute_reply.started": "2021-09-14T10:10:23.246498Z"
    },
    "papermill": {
     "duration": 0.028965,
     "end_time": "2021-09-14T10:12:54.297059",
     "exception": false,
     "start_time": "2021-09-14T10:12:54.268094",
     "status": "completed"
    },
    "tags": []
   },
   "outputs": [
    {
     "data": {
      "text/plain": [
       "array(['One_Story_1946_and_Newer_All_Styles', 'Two_Story_1946_and_Newer',\n",
       "       'One_Story_PUD_1946_and_Newer',\n",
       "       'One_and_Half_Story_Finished_All_Ages', 'Split_Foyer',\n",
       "       'Two_Story_PUD_1946_and_Newer', 'Split_or_Multilevel',\n",
       "       'One_Story_1945_and_Older', 'Duplex_All_Styles_and_Ages',\n",
       "       'Two_Family_conversion_All_Styles_and_Ages',\n",
       "       'One_and_Half_Story_Unfinished_All_Ages',\n",
       "       'Two_Story_1945_and_Older', 'Two_and_Half_Story_All_Ages',\n",
       "       'One_Story_with_Finished_Attic_All_Ages',\n",
       "       'PUD_Multilevel_Split_Level_Foyer',\n",
       "       'One_and_Half_Story_PUD_All_Ages'], dtype=object)"
      ]
     },
     "execution_count": 8,
     "metadata": {},
     "output_type": "execute_result"
    }
   ],
   "source": [
    "df.MSSubClass.unique()"
   ]
  },
  {
   "cell_type": "markdown",
   "id": "d3872275",
   "metadata": {
    "papermill": {
     "duration": 0.019582,
     "end_time": "2021-09-14T10:12:54.336800",
     "exception": false,
     "start_time": "2021-09-14T10:12:54.317218",
     "status": "completed"
    },
    "tags": []
   },
   "source": [
    "You can see that there is a more general categorization described (roughly) by the first word of each category. Create a feature containing only these first words by splitting `MSSubClass` at the first underscore `_`. (Hint: In the `split` method use an argument `n=1`.)"
   ]
  },
  {
   "cell_type": "code",
   "execution_count": 9,
   "id": "0d4e8b39",
   "metadata": {
    "execution": {
     "iopub.execute_input": "2021-09-14T10:12:54.380261Z",
     "iopub.status.busy": "2021-09-14T10:12:54.379555Z",
     "iopub.status.idle": "2021-09-14T10:12:54.402819Z",
     "shell.execute_reply": "2021-09-14T10:12:54.403310Z",
     "shell.execute_reply.started": "2021-09-14T10:11:18.940519Z"
    },
    "lines_to_next_cell": 0,
    "papermill": {
     "duration": 0.046202,
     "end_time": "2021-09-14T10:12:54.403483",
     "exception": false,
     "start_time": "2021-09-14T10:12:54.357281",
     "status": "completed"
    },
    "tags": []
   },
   "outputs": [
    {
     "data": {
      "application/javascript": [
       "parent.postMessage({\"jupyterEvent\": \"custom.exercise_interaction\", \"data\": {\"outcomeType\": 1, \"valueTowardsCompletion\": 0.2, \"interactionType\": 1, \"questionType\": 2, \"questionId\": \"4_Q4\", \"learnToolsVersion\": \"0.3.4\", \"failureMessage\": \"\", \"exceptionClass\": \"\", \"trace\": \"\"}}, \"*\")"
      ],
      "text/plain": [
       "<IPython.core.display.Javascript object>"
      ]
     },
     "metadata": {},
     "output_type": "display_data"
    },
    {
     "data": {
      "text/markdown": [
       "<span style=\"color:#33cc33\">Correct</span>"
      ],
      "text/plain": [
       "Correct"
      ]
     },
     "metadata": {},
     "output_type": "display_data"
    }
   ],
   "source": [
    "X_4 = pd.DataFrame()\n",
    "\n",
    "# YOUR CODE HERE\n",
    "X_4[\"MSClass\"] = df.MSSubClass.str.split(\"_\", n=1, expand=True)[0]\n",
    "# Check your answer\n",
    "q_4.check()"
   ]
  },
  {
   "cell_type": "code",
   "execution_count": 10,
   "id": "b4fe21db",
   "metadata": {
    "execution": {
     "iopub.execute_input": "2021-09-14T10:12:54.449111Z",
     "iopub.status.busy": "2021-09-14T10:12:54.448448Z",
     "iopub.status.idle": "2021-09-14T10:12:54.451274Z",
     "shell.execute_reply": "2021-09-14T10:12:54.451789Z",
     "shell.execute_reply.started": "2021-09-14T10:11:38.599892Z"
    },
    "lines_to_next_cell": 0,
    "papermill": {
     "duration": 0.027234,
     "end_time": "2021-09-14T10:12:54.451974",
     "exception": false,
     "start_time": "2021-09-14T10:12:54.424740",
     "status": "completed"
    },
    "tags": []
   },
   "outputs": [],
   "source": [
    "# Lines below will give you a hint or solution code\n",
    "#q_4.hint()\n",
    "#q_4.solution()"
   ]
  },
  {
   "cell_type": "markdown",
   "id": "fbdc19ee",
   "metadata": {
    "papermill": {
     "duration": 0.020469,
     "end_time": "2021-09-14T10:12:54.493378",
     "exception": false,
     "start_time": "2021-09-14T10:12:54.472909",
     "status": "completed"
    },
    "tags": []
   },
   "source": [
    "# 5) Use a Grouped Transform\n",
    "\n",
    "The value of a home often depends on how it compares to typical homes in its neighborhood. Create a feature `MedNhbdArea` that describes the *median* of `GrLivArea` grouped on `Neighborhood`."
   ]
  },
  {
   "cell_type": "code",
   "execution_count": 11,
   "id": "7eed0a0a",
   "metadata": {
    "execution": {
     "iopub.execute_input": "2021-09-14T10:12:54.537992Z",
     "iopub.status.busy": "2021-09-14T10:12:54.537310Z",
     "iopub.status.idle": "2021-09-14T10:12:54.554171Z",
     "shell.execute_reply": "2021-09-14T10:12:54.554666Z",
     "shell.execute_reply.started": "2021-09-14T10:12:08.842369Z"
    },
    "lines_to_next_cell": 0,
    "papermill": {
     "duration": 0.040715,
     "end_time": "2021-09-14T10:12:54.554836",
     "exception": false,
     "start_time": "2021-09-14T10:12:54.514121",
     "status": "completed"
    },
    "tags": []
   },
   "outputs": [
    {
     "data": {
      "application/javascript": [
       "parent.postMessage({\"jupyterEvent\": \"custom.exercise_interaction\", \"data\": {\"outcomeType\": 1, \"valueTowardsCompletion\": 0.2, \"interactionType\": 1, \"questionType\": 2, \"questionId\": \"5_Q5\", \"learnToolsVersion\": \"0.3.4\", \"failureMessage\": \"\", \"exceptionClass\": \"\", \"trace\": \"\"}}, \"*\")"
      ],
      "text/plain": [
       "<IPython.core.display.Javascript object>"
      ]
     },
     "metadata": {},
     "output_type": "display_data"
    },
    {
     "data": {
      "text/markdown": [
       "<span style=\"color:#33cc33\">Correct</span>"
      ],
      "text/plain": [
       "Correct"
      ]
     },
     "metadata": {},
     "output_type": "display_data"
    }
   ],
   "source": [
    "X_5 = pd.DataFrame()\n",
    "\n",
    "# YOUR CODE HERE\n",
    "X_5[\"MedNhbdArea\"] = df.groupby(\"Neighborhood\")[\"GrLivArea\"].transform(\"median\")\n",
    "\n",
    "# Check your answer\n",
    "q_5.check()"
   ]
  },
  {
   "cell_type": "code",
   "execution_count": 12,
   "id": "b6df013f",
   "metadata": {
    "execution": {
     "iopub.execute_input": "2021-09-14T10:12:54.602865Z",
     "iopub.status.busy": "2021-09-14T10:12:54.602068Z",
     "iopub.status.idle": "2021-09-14T10:12:54.605460Z",
     "shell.execute_reply": "2021-09-14T10:12:54.605987Z",
     "shell.execute_reply.started": "2021-09-14T10:12:03.161476Z"
    },
    "lines_to_next_cell": 0,
    "papermill": {
     "duration": 0.029417,
     "end_time": "2021-09-14T10:12:54.606156",
     "exception": false,
     "start_time": "2021-09-14T10:12:54.576739",
     "status": "completed"
    },
    "tags": []
   },
   "outputs": [],
   "source": [
    "# Lines below will give you a hint or solution code\n",
    "#q_5.hint()\n",
    "#q_5.solution()"
   ]
  },
  {
   "cell_type": "markdown",
   "id": "7cd2e806",
   "metadata": {
    "papermill": {
     "duration": 0.021611,
     "end_time": "2021-09-14T10:12:54.649786",
     "exception": false,
     "start_time": "2021-09-14T10:12:54.628175",
     "status": "completed"
    },
    "tags": []
   },
   "source": [
    "Now you've made your first new feature set! If you like, you can run the cell below to score the model with all of your new features added:"
   ]
  },
  {
   "cell_type": "code",
   "execution_count": 13,
   "id": "60658e20",
   "metadata": {
    "execution": {
     "iopub.execute_input": "2021-09-14T10:12:54.696216Z",
     "iopub.status.busy": "2021-09-14T10:12:54.695559Z",
     "iopub.status.idle": "2021-09-14T10:12:58.268317Z",
     "shell.execute_reply": "2021-09-14T10:12:58.268907Z",
     "shell.execute_reply.started": "2021-09-14T10:12:26.422074Z"
    },
    "papermill": {
     "duration": 3.597402,
     "end_time": "2021-09-14T10:12:58.269130",
     "exception": false,
     "start_time": "2021-09-14T10:12:54.671728",
     "status": "completed"
    },
    "tags": []
   },
   "outputs": [
    {
     "data": {
      "text/plain": [
       "0.13847331710099203"
      ]
     },
     "execution_count": 13,
     "metadata": {},
     "output_type": "execute_result"
    }
   ],
   "source": [
    "X_new = X.join([X_1, X_2, X_3, X_4, X_5])\n",
    "score_dataset(X_new, y)"
   ]
  },
  {
   "cell_type": "markdown",
   "id": "ce9f29b0",
   "metadata": {
    "papermill": {
     "duration": 0.021995,
     "end_time": "2021-09-14T10:12:58.315522",
     "exception": false,
     "start_time": "2021-09-14T10:12:58.293527",
     "status": "completed"
    },
    "tags": []
   },
   "source": [
    "# Keep Going #\n",
    "\n",
    "[**Untangle spatial relationships**](https://www.kaggle.com/ryanholbrook/clustering-with-k-means) by adding cluster labels to your dataset."
   ]
  },
  {
   "cell_type": "markdown",
   "id": "1b06862f",
   "metadata": {
    "papermill": {
     "duration": 0.021741,
     "end_time": "2021-09-14T10:12:58.359424",
     "exception": false,
     "start_time": "2021-09-14T10:12:58.337683",
     "status": "completed"
    },
    "tags": []
   },
   "source": [
    "---\n",
    "\n",
    "\n",
    "\n",
    "\n",
    "*Have questions or comments? Visit the [Learn Discussion forum](https://www.kaggle.com/learn-forum/221677) to chat with other Learners.*"
   ]
  }
 ],
 "metadata": {
  "kernelspec": {
   "display_name": "Python 3",
   "language": "python",
   "name": "python3"
  },
  "language_info": {
   "codemirror_mode": {
    "name": "ipython",
    "version": 3
   },
   "file_extension": ".py",
   "mimetype": "text/x-python",
   "name": "python",
   "nbconvert_exporter": "python",
   "pygments_lexer": "ipython3",
   "version": "3.7.10"
  },
  "papermill": {
   "default_parameters": {},
   "duration": 15.839429,
   "end_time": "2021-09-14T10:12:59.807596",
   "environment_variables": {},
   "exception": null,
   "input_path": "__notebook__.ipynb",
   "output_path": "__notebook__.ipynb",
   "parameters": {},
   "start_time": "2021-09-14T10:12:43.968167",
   "version": "2.3.3"
  }
 },
 "nbformat": 4,
 "nbformat_minor": 5
}
