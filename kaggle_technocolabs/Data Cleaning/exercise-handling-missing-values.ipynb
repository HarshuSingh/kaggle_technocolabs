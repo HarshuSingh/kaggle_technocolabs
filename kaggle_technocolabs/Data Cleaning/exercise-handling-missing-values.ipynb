{
 "cells": [
  {
   "cell_type": "markdown",
   "id": "737d1310",
   "metadata": {
    "papermill": {
     "duration": 0.017824,
     "end_time": "2021-09-07T19:46:09.231390",
     "exception": false,
     "start_time": "2021-09-07T19:46:09.213566",
     "status": "completed"
    },
    "tags": []
   },
   "source": [
    "**This notebook is an exercise in the [Data Cleaning](https://www.kaggle.com/learn/data-cleaning) course.  You can reference the tutorial at [this link](https://www.kaggle.com/alexisbcook/handling-missing-values).**\n",
    "\n",
    "---\n"
   ]
  },
  {
   "cell_type": "markdown",
   "id": "1fc71aa4",
   "metadata": {
    "papermill": {
     "duration": 0.017053,
     "end_time": "2021-09-07T19:46:09.268463",
     "exception": false,
     "start_time": "2021-09-07T19:46:09.251410",
     "status": "completed"
    },
    "tags": []
   },
   "source": [
    "In this exercise, you'll apply what you learned in the **Handling missing values** tutorial.\n",
    "\n",
    "# Setup\n",
    "\n",
    "The questions below will give you feedback on your work. Run the following cell to set up the feedback system."
   ]
  },
  {
   "cell_type": "code",
   "execution_count": 1,
   "id": "3a388c1e",
   "metadata": {
    "execution": {
     "iopub.execute_input": "2021-09-07T19:46:09.307427Z",
     "iopub.status.busy": "2021-09-07T19:46:09.305749Z",
     "iopub.status.idle": "2021-09-07T19:46:13.240182Z",
     "shell.execute_reply": "2021-09-07T19:46:13.240673Z",
     "shell.execute_reply.started": "2021-09-07T19:34:29.274266Z"
    },
    "papermill": {
     "duration": 3.955998,
     "end_time": "2021-09-07T19:46:13.240995",
     "exception": false,
     "start_time": "2021-09-07T19:46:09.284997",
     "status": "completed"
    },
    "tags": []
   },
   "outputs": [
    {
     "name": "stderr",
     "output_type": "stream",
     "text": [
      "/opt/conda/lib/python3.7/site-packages/IPython/core/interactiveshell.py:3361: DtypeWarning: Columns (22,32) have mixed types.Specify dtype option on import or set low_memory=False.\n",
      "  if (await self.run_code(code, result,  async_=asy)):\n"
     ]
    },
    {
     "name": "stdout",
     "output_type": "stream",
     "text": [
      "Setup Complete\n"
     ]
    }
   ],
   "source": [
    "from learntools.core import binder\n",
    "binder.bind(globals())\n",
    "from learntools.data_cleaning.ex1 import *\n",
    "print(\"Setup Complete\")"
   ]
  },
  {
   "cell_type": "markdown",
   "id": "30aa813a",
   "metadata": {
    "papermill": {
     "duration": 0.01471,
     "end_time": "2021-09-07T19:46:13.271385",
     "exception": false,
     "start_time": "2021-09-07T19:46:13.256675",
     "status": "completed"
    },
    "tags": []
   },
   "source": [
    "# 1) Take a first look at the data\n",
    "\n",
    "Run the next code cell to load in the libraries and dataset you'll use to complete the exercise."
   ]
  },
  {
   "cell_type": "code",
   "execution_count": 2,
   "id": "9ee99af6",
   "metadata": {
    "execution": {
     "iopub.execute_input": "2021-09-07T19:46:13.306068Z",
     "iopub.status.busy": "2021-09-07T19:46:13.305479Z",
     "iopub.status.idle": "2021-09-07T19:46:14.840563Z",
     "shell.execute_reply": "2021-09-07T19:46:14.841093Z",
     "shell.execute_reply.started": "2021-09-07T19:34:47.109871Z"
    },
    "papermill": {
     "duration": 1.554896,
     "end_time": "2021-09-07T19:46:14.841289",
     "exception": false,
     "start_time": "2021-09-07T19:46:13.286393",
     "status": "completed"
    },
    "tags": []
   },
   "outputs": [
    {
     "name": "stderr",
     "output_type": "stream",
     "text": [
      "/opt/conda/lib/python3.7/site-packages/IPython/core/interactiveshell.py:3170: DtypeWarning: Columns (22,32) have mixed types.Specify dtype option on import or set low_memory=False.\n",
      "  interactivity=interactivity, compiler=compiler, result=result)\n"
     ]
    }
   ],
   "source": [
    "# modules we'll use\n",
    "import pandas as pd\n",
    "import numpy as np\n",
    "\n",
    "# read in all our data\n",
    "sf_permits = pd.read_csv(\"../input/building-permit-applications-data/Building_Permits.csv\")\n",
    "\n",
    "# set seed for reproducibility\n",
    "np.random.seed(0) "
   ]
  },
  {
   "cell_type": "markdown",
   "id": "1ddb1ecb",
   "metadata": {
    "papermill": {
     "duration": 0.0163,
     "end_time": "2021-09-07T19:46:14.873650",
     "exception": false,
     "start_time": "2021-09-07T19:46:14.857350",
     "status": "completed"
    },
    "tags": []
   },
   "source": [
    "Use the code cell below to print the first five rows of the `sf_permits` DataFrame."
   ]
  },
  {
   "cell_type": "code",
   "execution_count": 3,
   "id": "db7f53cb",
   "metadata": {
    "execution": {
     "iopub.execute_input": "2021-09-07T19:46:14.916375Z",
     "iopub.status.busy": "2021-09-07T19:46:14.915364Z",
     "iopub.status.idle": "2021-09-07T19:46:14.944661Z",
     "shell.execute_reply": "2021-09-07T19:46:14.945122Z",
     "shell.execute_reply.started": "2021-09-07T19:35:19.121911Z"
    },
    "papermill": {
     "duration": 0.056283,
     "end_time": "2021-09-07T19:46:14.945295",
     "exception": false,
     "start_time": "2021-09-07T19:46:14.889012",
     "status": "completed"
    },
    "tags": []
   },
   "outputs": [
    {
     "data": {
      "text/html": [
       "<div>\n",
       "<style scoped>\n",
       "    .dataframe tbody tr th:only-of-type {\n",
       "        vertical-align: middle;\n",
       "    }\n",
       "\n",
       "    .dataframe tbody tr th {\n",
       "        vertical-align: top;\n",
       "    }\n",
       "\n",
       "    .dataframe thead th {\n",
       "        text-align: right;\n",
       "    }\n",
       "</style>\n",
       "<table border=\"1\" class=\"dataframe\">\n",
       "  <thead>\n",
       "    <tr style=\"text-align: right;\">\n",
       "      <th></th>\n",
       "      <th>Permit Number</th>\n",
       "      <th>Permit Type</th>\n",
       "      <th>Permit Type Definition</th>\n",
       "      <th>Permit Creation Date</th>\n",
       "      <th>Block</th>\n",
       "      <th>Lot</th>\n",
       "      <th>Street Number</th>\n",
       "      <th>Street Number Suffix</th>\n",
       "      <th>Street Name</th>\n",
       "      <th>Street Suffix</th>\n",
       "      <th>...</th>\n",
       "      <th>Existing Construction Type</th>\n",
       "      <th>Existing Construction Type Description</th>\n",
       "      <th>Proposed Construction Type</th>\n",
       "      <th>Proposed Construction Type Description</th>\n",
       "      <th>Site Permit</th>\n",
       "      <th>Supervisor District</th>\n",
       "      <th>Neighborhoods - Analysis Boundaries</th>\n",
       "      <th>Zipcode</th>\n",
       "      <th>Location</th>\n",
       "      <th>Record ID</th>\n",
       "    </tr>\n",
       "  </thead>\n",
       "  <tbody>\n",
       "    <tr>\n",
       "      <th>0</th>\n",
       "      <td>201505065519</td>\n",
       "      <td>4</td>\n",
       "      <td>sign - erect</td>\n",
       "      <td>05/06/2015</td>\n",
       "      <td>0326</td>\n",
       "      <td>023</td>\n",
       "      <td>140</td>\n",
       "      <td>NaN</td>\n",
       "      <td>Ellis</td>\n",
       "      <td>St</td>\n",
       "      <td>...</td>\n",
       "      <td>3.0</td>\n",
       "      <td>constr type 3</td>\n",
       "      <td>NaN</td>\n",
       "      <td>NaN</td>\n",
       "      <td>NaN</td>\n",
       "      <td>3.0</td>\n",
       "      <td>Tenderloin</td>\n",
       "      <td>94102.0</td>\n",
       "      <td>(37.785719256680785, -122.40852313194863)</td>\n",
       "      <td>1380611233945</td>\n",
       "    </tr>\n",
       "    <tr>\n",
       "      <th>1</th>\n",
       "      <td>201604195146</td>\n",
       "      <td>4</td>\n",
       "      <td>sign - erect</td>\n",
       "      <td>04/19/2016</td>\n",
       "      <td>0306</td>\n",
       "      <td>007</td>\n",
       "      <td>440</td>\n",
       "      <td>NaN</td>\n",
       "      <td>Geary</td>\n",
       "      <td>St</td>\n",
       "      <td>...</td>\n",
       "      <td>3.0</td>\n",
       "      <td>constr type 3</td>\n",
       "      <td>NaN</td>\n",
       "      <td>NaN</td>\n",
       "      <td>NaN</td>\n",
       "      <td>3.0</td>\n",
       "      <td>Tenderloin</td>\n",
       "      <td>94102.0</td>\n",
       "      <td>(37.78733980600732, -122.41063199757738)</td>\n",
       "      <td>1420164406718</td>\n",
       "    </tr>\n",
       "    <tr>\n",
       "      <th>2</th>\n",
       "      <td>201605278609</td>\n",
       "      <td>3</td>\n",
       "      <td>additions alterations or repairs</td>\n",
       "      <td>05/27/2016</td>\n",
       "      <td>0595</td>\n",
       "      <td>203</td>\n",
       "      <td>1647</td>\n",
       "      <td>NaN</td>\n",
       "      <td>Pacific</td>\n",
       "      <td>Av</td>\n",
       "      <td>...</td>\n",
       "      <td>1.0</td>\n",
       "      <td>constr type 1</td>\n",
       "      <td>1.0</td>\n",
       "      <td>constr type 1</td>\n",
       "      <td>NaN</td>\n",
       "      <td>3.0</td>\n",
       "      <td>Russian Hill</td>\n",
       "      <td>94109.0</td>\n",
       "      <td>(37.7946573324287, -122.42232562979227)</td>\n",
       "      <td>1424856504716</td>\n",
       "    </tr>\n",
       "    <tr>\n",
       "      <th>3</th>\n",
       "      <td>201611072166</td>\n",
       "      <td>8</td>\n",
       "      <td>otc alterations permit</td>\n",
       "      <td>11/07/2016</td>\n",
       "      <td>0156</td>\n",
       "      <td>011</td>\n",
       "      <td>1230</td>\n",
       "      <td>NaN</td>\n",
       "      <td>Pacific</td>\n",
       "      <td>Av</td>\n",
       "      <td>...</td>\n",
       "      <td>5.0</td>\n",
       "      <td>wood frame (5)</td>\n",
       "      <td>5.0</td>\n",
       "      <td>wood frame (5)</td>\n",
       "      <td>NaN</td>\n",
       "      <td>3.0</td>\n",
       "      <td>Nob Hill</td>\n",
       "      <td>94109.0</td>\n",
       "      <td>(37.79595867909168, -122.41557405519474)</td>\n",
       "      <td>1443574295566</td>\n",
       "    </tr>\n",
       "    <tr>\n",
       "      <th>4</th>\n",
       "      <td>201611283529</td>\n",
       "      <td>6</td>\n",
       "      <td>demolitions</td>\n",
       "      <td>11/28/2016</td>\n",
       "      <td>0342</td>\n",
       "      <td>001</td>\n",
       "      <td>950</td>\n",
       "      <td>NaN</td>\n",
       "      <td>Market</td>\n",
       "      <td>St</td>\n",
       "      <td>...</td>\n",
       "      <td>3.0</td>\n",
       "      <td>constr type 3</td>\n",
       "      <td>NaN</td>\n",
       "      <td>NaN</td>\n",
       "      <td>NaN</td>\n",
       "      <td>6.0</td>\n",
       "      <td>Tenderloin</td>\n",
       "      <td>94102.0</td>\n",
       "      <td>(37.78315261897309, -122.40950883997789)</td>\n",
       "      <td>144548169992</td>\n",
       "    </tr>\n",
       "  </tbody>\n",
       "</table>\n",
       "<p>5 rows × 43 columns</p>\n",
       "</div>"
      ],
      "text/plain": [
       "  Permit Number  Permit Type            Permit Type Definition  \\\n",
       "0  201505065519            4                      sign - erect   \n",
       "1  201604195146            4                      sign - erect   \n",
       "2  201605278609            3  additions alterations or repairs   \n",
       "3  201611072166            8            otc alterations permit   \n",
       "4  201611283529            6                       demolitions   \n",
       "\n",
       "  Permit Creation Date Block  Lot  Street Number Street Number Suffix  \\\n",
       "0           05/06/2015  0326  023            140                  NaN   \n",
       "1           04/19/2016  0306  007            440                  NaN   \n",
       "2           05/27/2016  0595  203           1647                  NaN   \n",
       "3           11/07/2016  0156  011           1230                  NaN   \n",
       "4           11/28/2016  0342  001            950                  NaN   \n",
       "\n",
       "  Street Name Street Suffix  ...  Existing Construction Type  \\\n",
       "0       Ellis            St  ...                         3.0   \n",
       "1       Geary            St  ...                         3.0   \n",
       "2     Pacific            Av  ...                         1.0   \n",
       "3     Pacific            Av  ...                         5.0   \n",
       "4      Market            St  ...                         3.0   \n",
       "\n",
       "  Existing Construction Type Description Proposed Construction Type  \\\n",
       "0                          constr type 3                        NaN   \n",
       "1                          constr type 3                        NaN   \n",
       "2                          constr type 1                        1.0   \n",
       "3                         wood frame (5)                        5.0   \n",
       "4                          constr type 3                        NaN   \n",
       "\n",
       "  Proposed Construction Type Description Site Permit Supervisor District  \\\n",
       "0                                    NaN         NaN                 3.0   \n",
       "1                                    NaN         NaN                 3.0   \n",
       "2                          constr type 1         NaN                 3.0   \n",
       "3                         wood frame (5)         NaN                 3.0   \n",
       "4                                    NaN         NaN                 6.0   \n",
       "\n",
       "  Neighborhoods - Analysis Boundaries  Zipcode  \\\n",
       "0                          Tenderloin  94102.0   \n",
       "1                          Tenderloin  94102.0   \n",
       "2                        Russian Hill  94109.0   \n",
       "3                            Nob Hill  94109.0   \n",
       "4                          Tenderloin  94102.0   \n",
       "\n",
       "                                    Location      Record ID  \n",
       "0  (37.785719256680785, -122.40852313194863)  1380611233945  \n",
       "1   (37.78733980600732, -122.41063199757738)  1420164406718  \n",
       "2    (37.7946573324287, -122.42232562979227)  1424856504716  \n",
       "3   (37.79595867909168, -122.41557405519474)  1443574295566  \n",
       "4   (37.78315261897309, -122.40950883997789)   144548169992  \n",
       "\n",
       "[5 rows x 43 columns]"
      ]
     },
     "execution_count": 3,
     "metadata": {},
     "output_type": "execute_result"
    }
   ],
   "source": [
    "sf_permits.head()"
   ]
  },
  {
   "cell_type": "markdown",
   "id": "6330d15f",
   "metadata": {
    "papermill": {
     "duration": 0.015634,
     "end_time": "2021-09-07T19:46:14.977465",
     "exception": false,
     "start_time": "2021-09-07T19:46:14.961831",
     "status": "completed"
    },
    "tags": []
   },
   "source": [
    "Does the dataset have any missing values?  Once you have an answer, run the code cell below to get credit for your work."
   ]
  },
  {
   "cell_type": "code",
   "execution_count": 4,
   "id": "f74035b7",
   "metadata": {
    "execution": {
     "iopub.execute_input": "2021-09-07T19:46:15.015014Z",
     "iopub.status.busy": "2021-09-07T19:46:15.014045Z",
     "iopub.status.idle": "2021-09-07T19:46:15.018986Z",
     "shell.execute_reply": "2021-09-07T19:46:15.019429Z",
     "shell.execute_reply.started": "2021-09-07T19:35:59.161422Z"
    },
    "papermill": {
     "duration": 0.026377,
     "end_time": "2021-09-07T19:46:15.019589",
     "exception": false,
     "start_time": "2021-09-07T19:46:14.993212",
     "status": "completed"
    },
    "tags": []
   },
   "outputs": [
    {
     "data": {
      "application/javascript": [
       "parent.postMessage({\"jupyterEvent\": \"custom.exercise_interaction\", \"data\": {\"outcomeType\": 1, \"valueTowardsCompletion\": 0.16666666666666666, \"interactionType\": 1, \"questionType\": 4, \"questionId\": \"1_TakeFirstLook\", \"learnToolsVersion\": \"0.3.4\", \"failureMessage\": \"\", \"exceptionClass\": \"\", \"trace\": \"\"}}, \"*\")"
      ],
      "text/plain": [
       "<IPython.core.display.Javascript object>"
      ]
     },
     "metadata": {},
     "output_type": "display_data"
    },
    {
     "data": {
      "text/markdown": [
       "<span style=\"color:#33cc33\">Correct:</span> \n",
       "\n",
       "The first five rows of the data does show that several columns have missing values.  You can see this in the \"Street Number Suffix\", \"Proposed Construction Type\" and \"Site Permit\" columns, among others."
      ],
      "text/plain": [
       "Correct: \n",
       "\n",
       "The first five rows of the data does show that several columns have missing values.  You can see this in the \"Street Number Suffix\", \"Proposed Construction Type\" and \"Site Permit\" columns, among others."
      ]
     },
     "metadata": {},
     "output_type": "display_data"
    }
   ],
   "source": [
    "sf_permits.head()\n",
    "q1.check()"
   ]
  },
  {
   "cell_type": "code",
   "execution_count": 5,
   "id": "bb753319",
   "metadata": {
    "execution": {
     "iopub.execute_input": "2021-09-07T19:46:15.057140Z",
     "iopub.status.busy": "2021-09-07T19:46:15.056476Z",
     "iopub.status.idle": "2021-09-07T19:46:15.058988Z",
     "shell.execute_reply": "2021-09-07T19:46:15.059380Z",
     "shell.execute_reply.started": "2021-09-07T19:35:56.499774Z"
    },
    "papermill": {
     "duration": 0.022899,
     "end_time": "2021-09-07T19:46:15.059543",
     "exception": false,
     "start_time": "2021-09-07T19:46:15.036644",
     "status": "completed"
    },
    "tags": []
   },
   "outputs": [],
   "source": [
    "# Line below will give you a hint\n",
    "#q1.hint()"
   ]
  },
  {
   "cell_type": "markdown",
   "id": "306e08ef",
   "metadata": {
    "papermill": {
     "duration": 0.016269,
     "end_time": "2021-09-07T19:46:15.092901",
     "exception": false,
     "start_time": "2021-09-07T19:46:15.076632",
     "status": "completed"
    },
    "tags": []
   },
   "source": [
    "# 2) How many missing data points do we have?\n",
    "\n",
    "What percentage of the values in the dataset are missing?  Your answer should be a number between 0 and 100.  (If 1/4 of the values in the dataset are missing, the answer is 25.)"
   ]
  },
  {
   "cell_type": "code",
   "execution_count": 6,
   "id": "a8c8b62a",
   "metadata": {
    "execution": {
     "iopub.execute_input": "2021-09-07T19:46:15.132090Z",
     "iopub.status.busy": "2021-09-07T19:46:15.131258Z",
     "iopub.status.idle": "2021-09-07T19:46:15.347689Z",
     "shell.execute_reply": "2021-09-07T19:46:15.347169Z",
     "shell.execute_reply.started": "2021-09-07T19:38:31.440311Z"
    },
    "papermill": {
     "duration": 0.238346,
     "end_time": "2021-09-07T19:46:15.347825",
     "exception": false,
     "start_time": "2021-09-07T19:46:15.109479",
     "status": "completed"
    },
    "tags": []
   },
   "outputs": [
    {
     "data": {
      "application/javascript": [
       "parent.postMessage({\"jupyterEvent\": \"custom.exercise_interaction\", \"data\": {\"outcomeType\": 1, \"valueTowardsCompletion\": 0.16666666666666666, \"interactionType\": 1, \"questionType\": 1, \"questionId\": \"2_PercentMissingValues\", \"learnToolsVersion\": \"0.3.4\", \"failureMessage\": \"\", \"exceptionClass\": \"\", \"trace\": \"\"}}, \"*\")"
      ],
      "text/plain": [
       "<IPython.core.display.Javascript object>"
      ]
     },
     "metadata": {},
     "output_type": "display_data"
    },
    {
     "data": {
      "text/markdown": [
       "<span style=\"color:#33cc33\">Correct</span>"
      ],
      "text/plain": [
       "Correct"
      ]
     },
     "metadata": {},
     "output_type": "display_data"
    }
   ],
   "source": [
    "# TODO: Your code here!\n",
    "# get the number of missing data points per column\n",
    "missing_values_count = sf_permits.isnull().sum()\n",
    "\n",
    "# how many total missing values do we have?\n",
    "total_cells = np.product(sf_permits.shape)\n",
    "total_missing = missing_values_count.sum()\n",
    "\n",
    "# percent of data that is missing\n",
    "percent_missing = (total_missing/total_cells) * 100\n",
    "\n",
    "# Check your answer\n",
    "q2.check()"
   ]
  },
  {
   "cell_type": "code",
   "execution_count": 7,
   "id": "10853eb1",
   "metadata": {
    "execution": {
     "iopub.execute_input": "2021-09-07T19:46:15.387550Z",
     "iopub.status.busy": "2021-09-07T19:46:15.386816Z",
     "iopub.status.idle": "2021-09-07T19:46:15.389959Z",
     "shell.execute_reply": "2021-09-07T19:46:15.389361Z",
     "shell.execute_reply.started": "2021-09-07T19:38:26.324978Z"
    },
    "papermill": {
     "duration": 0.024531,
     "end_time": "2021-09-07T19:46:15.390095",
     "exception": false,
     "start_time": "2021-09-07T19:46:15.365564",
     "status": "completed"
    },
    "tags": []
   },
   "outputs": [],
   "source": [
    "# Lines below will give you a hint or solution code\n",
    "#q2.hint()\n",
    "#q2.solution()"
   ]
  },
  {
   "cell_type": "markdown",
   "id": "ab6a1ad6",
   "metadata": {
    "papermill": {
     "duration": 0.018234,
     "end_time": "2021-09-07T19:46:15.425903",
     "exception": false,
     "start_time": "2021-09-07T19:46:15.407669",
     "status": "completed"
    },
    "tags": []
   },
   "source": [
    "# 3) Figure out why the data is missing\n",
    "\n",
    "Look at the columns **\"Street Number Suffix\"** and **\"Zipcode\"** from the [San Francisco Building Permits dataset](https://www.kaggle.com/aparnashastry/building-permit-applications-data). Both of these contain missing values. \n",
    "- Which, if either, are missing because they don't exist? \n",
    "- Which, if either, are missing because they weren't recorded?  \n",
    "\n",
    "Once you have an answer, run the code cell below."
   ]
  },
  {
   "cell_type": "code",
   "execution_count": 8,
   "id": "d7a4c936",
   "metadata": {
    "execution": {
     "iopub.execute_input": "2021-09-07T19:46:15.466868Z",
     "iopub.status.busy": "2021-09-07T19:46:15.466258Z",
     "iopub.status.idle": "2021-09-07T19:46:15.469787Z",
     "shell.execute_reply": "2021-09-07T19:46:15.470242Z",
     "shell.execute_reply.started": "2021-09-07T19:40:38.029741Z"
    },
    "papermill": {
     "duration": 0.026034,
     "end_time": "2021-09-07T19:46:15.470409",
     "exception": false,
     "start_time": "2021-09-07T19:46:15.444375",
     "status": "completed"
    },
    "tags": []
   },
   "outputs": [
    {
     "data": {
      "application/javascript": [
       "parent.postMessage({\"jupyterEvent\": \"custom.exercise_interaction\", \"data\": {\"outcomeType\": 1, \"valueTowardsCompletion\": 0.16666666666666666, \"interactionType\": 1, \"questionType\": 4, \"questionId\": \"3_WhyDataMissing\", \"learnToolsVersion\": \"0.3.4\", \"failureMessage\": \"\", \"exceptionClass\": \"\", \"trace\": \"\"}}, \"*\")"
      ],
      "text/plain": [
       "<IPython.core.display.Javascript object>"
      ]
     },
     "metadata": {},
     "output_type": "display_data"
    },
    {
     "data": {
      "text/markdown": [
       "<span style=\"color:#33cc33\">Correct:</span> \n",
       "\n",
       "If a value in the \"Street Number Suffix\" column is missing, it is likely because it does not exist. If a value in the \"Zipcode\" column is missing, it was not recorded."
      ],
      "text/plain": [
       "Correct: \n",
       "\n",
       "If a value in the \"Street Number Suffix\" column is missing, it is likely because it does not exist. If a value in the \"Zipcode\" column is missing, it was not recorded."
      ]
     },
     "metadata": {},
     "output_type": "display_data"
    }
   ],
   "source": [
    "missing_values_count[3:10]\n",
    "q3.check()"
   ]
  },
  {
   "cell_type": "code",
   "execution_count": 9,
   "id": "b4cce22b",
   "metadata": {
    "execution": {
     "iopub.execute_input": "2021-09-07T19:46:15.509697Z",
     "iopub.status.busy": "2021-09-07T19:46:15.509098Z",
     "iopub.status.idle": "2021-09-07T19:46:15.511917Z",
     "shell.execute_reply": "2021-09-07T19:46:15.512461Z",
     "shell.execute_reply.started": "2021-09-07T19:40:15.777739Z"
    },
    "papermill": {
     "duration": 0.024117,
     "end_time": "2021-09-07T19:46:15.512626",
     "exception": false,
     "start_time": "2021-09-07T19:46:15.488509",
     "status": "completed"
    },
    "tags": []
   },
   "outputs": [],
   "source": [
    "# Line below will give you a hint\n",
    "#q3.hint()"
   ]
  },
  {
   "cell_type": "markdown",
   "id": "013b1a5d",
   "metadata": {
    "papermill": {
     "duration": 0.018142,
     "end_time": "2021-09-07T19:46:15.549319",
     "exception": false,
     "start_time": "2021-09-07T19:46:15.531177",
     "status": "completed"
    },
    "tags": []
   },
   "source": [
    "# 4) Drop missing values: rows\n",
    "\n",
    "If you removed all of the rows of `sf_permits` with missing values, how many rows are left?\n",
    "\n",
    "**Note**: Do not change the value of `sf_permits` when checking this.  "
   ]
  },
  {
   "cell_type": "code",
   "execution_count": 10,
   "id": "9e487c9e",
   "metadata": {
    "execution": {
     "iopub.execute_input": "2021-09-07T19:46:15.588881Z",
     "iopub.status.busy": "2021-09-07T19:46:15.588257Z",
     "iopub.status.idle": "2021-09-07T19:46:15.591334Z",
     "shell.execute_reply": "2021-09-07T19:46:15.591759Z",
     "shell.execute_reply.started": "2021-09-07T19:41:20.394720Z"
    },
    "papermill": {
     "duration": 0.024452,
     "end_time": "2021-09-07T19:46:15.591970",
     "exception": false,
     "start_time": "2021-09-07T19:46:15.567518",
     "status": "completed"
    },
    "tags": []
   },
   "outputs": [],
   "source": [
    "# TODO: Your code here!\n"
   ]
  },
  {
   "cell_type": "markdown",
   "id": "a031222b",
   "metadata": {
    "papermill": {
     "duration": 0.017816,
     "end_time": "2021-09-07T19:46:15.628077",
     "exception": false,
     "start_time": "2021-09-07T19:46:15.610261",
     "status": "completed"
    },
    "tags": []
   },
   "source": [
    "Once you have an answer, run the code cell below."
   ]
  },
  {
   "cell_type": "code",
   "execution_count": 11,
   "id": "fdec2eeb",
   "metadata": {
    "execution": {
     "iopub.execute_input": "2021-09-07T19:46:15.668237Z",
     "iopub.status.busy": "2021-09-07T19:46:15.667597Z",
     "iopub.status.idle": "2021-09-07T19:46:15.890757Z",
     "shell.execute_reply": "2021-09-07T19:46:15.891258Z",
     "shell.execute_reply.started": "2021-09-07T19:41:47.120350Z"
    },
    "papermill": {
     "duration": 0.245276,
     "end_time": "2021-09-07T19:46:15.891427",
     "exception": false,
     "start_time": "2021-09-07T19:46:15.646151",
     "status": "completed"
    },
    "tags": []
   },
   "outputs": [
    {
     "data": {
      "application/javascript": [
       "parent.postMessage({\"jupyterEvent\": \"custom.exercise_interaction\", \"data\": {\"outcomeType\": 1, \"valueTowardsCompletion\": 0.16666666666666666, \"interactionType\": 1, \"questionType\": 4, \"questionId\": \"4_DropMissingRows\", \"learnToolsVersion\": \"0.3.4\", \"failureMessage\": \"\", \"exceptionClass\": \"\", \"trace\": \"\"}}, \"*\")"
      ],
      "text/plain": [
       "<IPython.core.display.Javascript object>"
      ]
     },
     "metadata": {},
     "output_type": "display_data"
    },
    {
     "data": {
      "text/markdown": [
       "<span style=\"color:#33cc33\">Correct:</span> \n",
       "\n",
       "There are no rows remaining in the dataset!"
      ],
      "text/plain": [
       "Correct: \n",
       "\n",
       "There are no rows remaining in the dataset!"
      ]
     },
     "metadata": {},
     "output_type": "display_data"
    }
   ],
   "source": [
    "sf_permits.dropna()\n",
    "q4.check()"
   ]
  },
  {
   "cell_type": "code",
   "execution_count": 12,
   "id": "89f413bf",
   "metadata": {
    "execution": {
     "iopub.execute_input": "2021-09-07T19:46:15.935610Z",
     "iopub.status.busy": "2021-09-07T19:46:15.935024Z",
     "iopub.status.idle": "2021-09-07T19:46:15.937894Z",
     "shell.execute_reply": "2021-09-07T19:46:15.937307Z",
     "shell.execute_reply.started": "2021-09-07T19:42:15.382683Z"
    },
    "papermill": {
     "duration": 0.027678,
     "end_time": "2021-09-07T19:46:15.938027",
     "exception": false,
     "start_time": "2021-09-07T19:46:15.910349",
     "status": "completed"
    },
    "tags": []
   },
   "outputs": [],
   "source": [
    "# Line below will give you a hint\n",
    "#q4.hint()"
   ]
  },
  {
   "cell_type": "markdown",
   "id": "434432be",
   "metadata": {
    "papermill": {
     "duration": 0.018806,
     "end_time": "2021-09-07T19:46:15.976544",
     "exception": false,
     "start_time": "2021-09-07T19:46:15.957738",
     "status": "completed"
    },
    "tags": []
   },
   "source": [
    "# 5) Drop missing values: columns\n",
    "\n",
    "Now try removing all the columns with empty values.  \n",
    "- Create a new DataFrame called `sf_permits_with_na_dropped` that has all of the columns with empty values removed.  \n",
    "- How many columns were removed from the original `sf_permits` DataFrame? Use this number to set the value of the `dropped_columns` variable below."
   ]
  },
  {
   "cell_type": "code",
   "execution_count": 13,
   "id": "83c130d2",
   "metadata": {
    "execution": {
     "iopub.execute_input": "2021-09-07T19:46:16.018265Z",
     "iopub.status.busy": "2021-09-07T19:46:16.017617Z",
     "iopub.status.idle": "2021-09-07T19:46:16.254247Z",
     "shell.execute_reply": "2021-09-07T19:46:16.254652Z",
     "shell.execute_reply.started": "2021-09-07T19:45:03.027844Z"
    },
    "papermill": {
     "duration": 0.258931,
     "end_time": "2021-09-07T19:46:16.254820",
     "exception": false,
     "start_time": "2021-09-07T19:46:15.995889",
     "status": "completed"
    },
    "tags": []
   },
   "outputs": [
    {
     "data": {
      "application/javascript": [
       "parent.postMessage({\"jupyterEvent\": \"custom.exercise_interaction\", \"data\": {\"outcomeType\": 1, \"valueTowardsCompletion\": 0.16666666666666666, \"interactionType\": 1, \"questionType\": 1, \"questionId\": \"5_DropMissingCols\", \"learnToolsVersion\": \"0.3.4\", \"failureMessage\": \"\", \"exceptionClass\": \"\", \"trace\": \"\"}}, \"*\")"
      ],
      "text/plain": [
       "<IPython.core.display.Javascript object>"
      ]
     },
     "metadata": {},
     "output_type": "display_data"
    },
    {
     "data": {
      "text/markdown": [
       "<span style=\"color:#33cc33\">Correct</span>"
      ],
      "text/plain": [
       "Correct"
      ]
     },
     "metadata": {},
     "output_type": "display_data"
    }
   ],
   "source": [
    "# TODO: Your code here\n",
    "sf_permits_with_na_dropped = sf_permits.dropna(axis=1)\n",
    "\n",
    "cols_in_original_dataset = sf_permits.shape[1]\n",
    "cols_in_na_dropped = sf_permits_with_na_dropped.shape[1]\n",
    "dropped_columns = cols_in_original_dataset - cols_in_na_dropped\n",
    "\n",
    "# Check your answer\n",
    "q5.check()"
   ]
  },
  {
   "cell_type": "code",
   "execution_count": 14,
   "id": "9a5d7f47",
   "metadata": {
    "execution": {
     "iopub.execute_input": "2021-09-07T19:46:16.298314Z",
     "iopub.status.busy": "2021-09-07T19:46:16.297667Z",
     "iopub.status.idle": "2021-09-07T19:46:16.300536Z",
     "shell.execute_reply": "2021-09-07T19:46:16.300951Z",
     "shell.execute_reply.started": "2021-09-07T19:45:07.647264Z"
    },
    "papermill": {
     "duration": 0.026002,
     "end_time": "2021-09-07T19:46:16.301154",
     "exception": false,
     "start_time": "2021-09-07T19:46:16.275152",
     "status": "completed"
    },
    "tags": []
   },
   "outputs": [],
   "source": [
    "# Lines below will give you a hint or solution code\n",
    "#q5.hint()\n",
    "#q5.solution()"
   ]
  },
  {
   "cell_type": "markdown",
   "id": "df0cfe50",
   "metadata": {
    "papermill": {
     "duration": 0.019741,
     "end_time": "2021-09-07T19:46:16.340875",
     "exception": false,
     "start_time": "2021-09-07T19:46:16.321134",
     "status": "completed"
    },
    "tags": []
   },
   "source": [
    "# 6) Fill in missing values automatically\n",
    "\n",
    "Try replacing all the NaN's in the `sf_permits` data with the one that comes directly after it and then replacing any remaining NaN's with 0.  Set the result to a new DataFrame `sf_permits_with_na_imputed`."
   ]
  },
  {
   "cell_type": "code",
   "execution_count": 15,
   "id": "3b73e3a3",
   "metadata": {
    "execution": {
     "iopub.execute_input": "2021-09-07T19:46:16.387202Z",
     "iopub.status.busy": "2021-09-07T19:46:16.386356Z",
     "iopub.status.idle": "2021-09-07T19:46:17.201960Z",
     "shell.execute_reply": "2021-09-07T19:46:17.201358Z",
     "shell.execute_reply.started": "2021-09-07T19:45:31.377453Z"
    },
    "papermill": {
     "duration": 0.840492,
     "end_time": "2021-09-07T19:46:17.202094",
     "exception": false,
     "start_time": "2021-09-07T19:46:16.361602",
     "status": "completed"
    },
    "tags": []
   },
   "outputs": [
    {
     "data": {
      "application/javascript": [
       "parent.postMessage({\"jupyterEvent\": \"custom.exercise_interaction\", \"data\": {\"outcomeType\": 1, \"valueTowardsCompletion\": 0.16666666666666666, \"interactionType\": 1, \"questionType\": 1, \"questionId\": \"6_ImputeAutomatically\", \"learnToolsVersion\": \"0.3.4\", \"failureMessage\": \"\", \"exceptionClass\": \"\", \"trace\": \"\"}}, \"*\")"
      ],
      "text/plain": [
       "<IPython.core.display.Javascript object>"
      ]
     },
     "metadata": {},
     "output_type": "display_data"
    },
    {
     "data": {
      "text/markdown": [
       "<span style=\"color:#33cc33\">Correct</span>"
      ],
      "text/plain": [
       "Correct"
      ]
     },
     "metadata": {},
     "output_type": "display_data"
    }
   ],
   "source": [
    "# TODO: Your code here\n",
    "sf_permits_with_na_imputed = sf_permits.fillna(method='bfill', axis=0).fillna(0)\n",
    "\n",
    "# Check your answer\n",
    "q6.check()"
   ]
  },
  {
   "cell_type": "code",
   "execution_count": 16,
   "id": "98e71c0b",
   "metadata": {
    "execution": {
     "iopub.execute_input": "2021-09-07T19:46:17.247484Z",
     "iopub.status.busy": "2021-09-07T19:46:17.246886Z",
     "iopub.status.idle": "2021-09-07T19:46:17.248679Z",
     "shell.execute_reply": "2021-09-07T19:46:17.249153Z",
     "shell.execute_reply.started": "2021-09-07T19:45:25.574304Z"
    },
    "papermill": {
     "duration": 0.026178,
     "end_time": "2021-09-07T19:46:17.249318",
     "exception": false,
     "start_time": "2021-09-07T19:46:17.223140",
     "status": "completed"
    },
    "tags": []
   },
   "outputs": [],
   "source": [
    "# Lines below will give you a hint or solution code\n",
    "#q6.hint()\n",
    "#q6.solution()"
   ]
  },
  {
   "cell_type": "markdown",
   "id": "4cb60c15",
   "metadata": {
    "papermill": {
     "duration": 0.020167,
     "end_time": "2021-09-07T19:46:17.290155",
     "exception": false,
     "start_time": "2021-09-07T19:46:17.269988",
     "status": "completed"
    },
    "tags": []
   },
   "source": [
    "# More practice\n",
    "\n",
    "If you're looking for more practice handling missing values:\n",
    "\n",
    "* Check out [this noteboook](https://www.kaggle.com/alexisbcook/missing-values) on handling missing values using scikit-learn's imputer. \n",
    "* Look back at the \"Zipcode\" column in the `sf_permits` dataset, which has some missing values. How would you go about figuring out what the actual zipcode of each address should be? (You might try using another dataset. You can search for datasets about San Fransisco on the [Datasets listing](https://www.kaggle.com/datasets).) \n",
    "\n",
    "# Keep going\n",
    "\n",
    "In the next lesson, learn how to [**apply scaling and normalization**](https://www.kaggle.com/alexisbcook/scaling-and-normalization) to transform your data."
   ]
  },
  {
   "cell_type": "markdown",
   "id": "6c8e20ec",
   "metadata": {
    "papermill": {
     "duration": 0.020159,
     "end_time": "2021-09-07T19:46:17.330812",
     "exception": false,
     "start_time": "2021-09-07T19:46:17.310653",
     "status": "completed"
    },
    "tags": []
   },
   "source": [
    "---\n",
    "\n",
    "\n",
    "\n",
    "\n",
    "*Have questions or comments? Visit the [Learn Discussion forum](https://www.kaggle.com/learn-forum/172650) to chat with other Learners.*"
   ]
  }
 ],
 "metadata": {
  "kernelspec": {
   "display_name": "Python 3",
   "language": "python",
   "name": "python3"
  },
  "language_info": {
   "codemirror_mode": {
    "name": "ipython",
    "version": 3
   },
   "file_extension": ".py",
   "mimetype": "text/x-python",
   "name": "python",
   "nbconvert_exporter": "python",
   "pygments_lexer": "ipython3",
   "version": "3.7.10"
  },
  "papermill": {
   "default_parameters": {},
   "duration": 16.795192,
   "end_time": "2021-09-07T19:46:18.685158",
   "environment_variables": {},
   "exception": null,
   "input_path": "__notebook__.ipynb",
   "output_path": "__notebook__.ipynb",
   "parameters": {},
   "start_time": "2021-09-07T19:46:01.889966",
   "version": "2.3.3"
  }
 },
 "nbformat": 4,
 "nbformat_minor": 5
}
