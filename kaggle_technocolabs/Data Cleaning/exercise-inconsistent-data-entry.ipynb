{
 "cells": [
  {
   "cell_type": "markdown",
   "id": "81c50721",
   "metadata": {
    "papermill": {
     "duration": 0.012804,
     "end_time": "2021-09-08T08:26:01.778839",
     "exception": false,
     "start_time": "2021-09-08T08:26:01.766035",
     "status": "completed"
    },
    "tags": []
   },
   "source": [
    "**This notebook is an exercise in the [Data Cleaning](https://www.kaggle.com/learn/data-cleaning) course.  You can reference the tutorial at [this link](https://www.kaggle.com/alexisbcook/inconsistent-data-entry).**\n",
    "\n",
    "---\n"
   ]
  },
  {
   "cell_type": "markdown",
   "id": "307da5c5",
   "metadata": {
    "papermill": {
     "duration": 0.011052,
     "end_time": "2021-09-08T08:26:01.801747",
     "exception": false,
     "start_time": "2021-09-08T08:26:01.790695",
     "status": "completed"
    },
    "tags": []
   },
   "source": [
    "In this exercise, you'll apply what you learned in the **Inconsistent data entry** tutorial.\n",
    "\n",
    "# Setup\n",
    "\n",
    "The questions below will give you feedback on your work. Run the following cell to set up the feedback system."
   ]
  },
  {
   "cell_type": "code",
   "execution_count": 1,
   "id": "19f402fa",
   "metadata": {
    "execution": {
     "iopub.execute_input": "2021-09-08T08:26:01.836832Z",
     "iopub.status.busy": "2021-09-08T08:26:01.836047Z",
     "iopub.status.idle": "2021-09-08T08:26:02.031433Z",
     "shell.execute_reply": "2021-09-08T08:26:02.030784Z",
     "shell.execute_reply.started": "2021-09-08T08:23:36.024695Z"
    },
    "papermill": {
     "duration": 0.218534,
     "end_time": "2021-09-08T08:26:02.031610",
     "exception": false,
     "start_time": "2021-09-08T08:26:01.813076",
     "status": "completed"
    },
    "tags": []
   },
   "outputs": [
    {
     "name": "stdout",
     "output_type": "stream",
     "text": [
      "Setup Complete\n"
     ]
    }
   ],
   "source": [
    "from learntools.core import binder\n",
    "binder.bind(globals())\n",
    "from learntools.data_cleaning.ex5 import *\n",
    "print(\"Setup Complete\")"
   ]
  },
  {
   "cell_type": "markdown",
   "id": "feb530aa",
   "metadata": {
    "papermill": {
     "duration": 0.013157,
     "end_time": "2021-09-08T08:26:02.067136",
     "exception": false,
     "start_time": "2021-09-08T08:26:02.053979",
     "status": "completed"
    },
    "tags": []
   },
   "source": [
    "# Get our environment set up\n",
    "\n",
    "The first thing we'll need to do is load in the libraries and dataset we'll be using.  We use the same dataset from the tutorial."
   ]
  },
  {
   "cell_type": "code",
   "execution_count": 2,
   "id": "bd2b6d93",
   "metadata": {
    "execution": {
     "iopub.execute_input": "2021-09-08T08:26:02.100925Z",
     "iopub.status.busy": "2021-09-08T08:26:02.100311Z",
     "iopub.status.idle": "2021-09-08T08:26:02.113514Z",
     "shell.execute_reply": "2021-09-08T08:26:02.112932Z",
     "shell.execute_reply.started": "2021-09-08T08:23:41.709273Z"
    },
    "papermill": {
     "duration": 0.029929,
     "end_time": "2021-09-08T08:26:02.113657",
     "exception": false,
     "start_time": "2021-09-08T08:26:02.083728",
     "status": "completed"
    },
    "tags": []
   },
   "outputs": [],
   "source": [
    "# modules we'll use\n",
    "import pandas as pd\n",
    "import numpy as np\n",
    "\n",
    "# helpful modules\n",
    "import fuzzywuzzy\n",
    "from fuzzywuzzy import process\n",
    "import chardet\n",
    "\n",
    "# read in all our data\n",
    "professors = pd.read_csv(\"../input/pakistan-intellectual-capital/pakistan_intellectual_capital.csv\")\n",
    "\n",
    "# set seed for reproducibility\n",
    "np.random.seed(0)"
   ]
  },
  {
   "cell_type": "markdown",
   "id": "89afb3e2",
   "metadata": {
    "papermill": {
     "duration": 0.011143,
     "end_time": "2021-09-08T08:26:02.136645",
     "exception": false,
     "start_time": "2021-09-08T08:26:02.125502",
     "status": "completed"
    },
    "tags": []
   },
   "source": [
    "Next, we'll redo all of the work that we did in the tutorial."
   ]
  },
  {
   "cell_type": "code",
   "execution_count": 3,
   "id": "e3e60fc4",
   "metadata": {
    "execution": {
     "iopub.execute_input": "2021-09-08T08:26:02.163049Z",
     "iopub.status.busy": "2021-09-08T08:26:02.162379Z",
     "iopub.status.idle": "2021-09-08T08:26:02.176644Z",
     "shell.execute_reply": "2021-09-08T08:26:02.176090Z",
     "shell.execute_reply.started": "2021-09-08T08:23:56.843666Z"
    },
    "papermill": {
     "duration": 0.02864,
     "end_time": "2021-09-08T08:26:02.176793",
     "exception": false,
     "start_time": "2021-09-08T08:26:02.148153",
     "status": "completed"
    },
    "tags": []
   },
   "outputs": [
    {
     "name": "stdout",
     "output_type": "stream",
     "text": [
      "All done!\n"
     ]
    }
   ],
   "source": [
    "# convert to lower case\n",
    "professors['Country'] = professors['Country'].str.lower()\n",
    "# remove trailing white spaces\n",
    "professors['Country'] = professors['Country'].str.strip()\n",
    "\n",
    "# get the top 10 closest matches to \"south korea\"\n",
    "countries = professors['Country'].unique()\n",
    "matches = fuzzywuzzy.process.extract(\"south korea\", countries, limit=10, scorer=fuzzywuzzy.fuzz.token_sort_ratio)\n",
    "\n",
    "def replace_matches_in_column(df, column, string_to_match, min_ratio = 47):\n",
    "    # get a list of unique strings\n",
    "    strings = df[column].unique()\n",
    "    \n",
    "    # get the top 10 closest matches to our input string\n",
    "    matches = fuzzywuzzy.process.extract(string_to_match, strings, \n",
    "                                         limit=10, scorer=fuzzywuzzy.fuzz.token_sort_ratio)\n",
    "\n",
    "    # only get matches with a ratio > 90\n",
    "    close_matches = [matches[0] for matches in matches if matches[1] >= min_ratio]\n",
    "\n",
    "    # get the rows of all the close matches in our dataframe\n",
    "    rows_with_matches = df[column].isin(close_matches)\n",
    "\n",
    "    # replace all rows with close matches with the input matches \n",
    "    df.loc[rows_with_matches, column] = string_to_match\n",
    "    \n",
    "    # let us know the function's done\n",
    "    print(\"All done!\")\n",
    "    \n",
    "replace_matches_in_column(df=professors, column='Country', string_to_match=\"south korea\")\n",
    "countries = professors['Country'].unique()"
   ]
  },
  {
   "cell_type": "markdown",
   "id": "f7deb747",
   "metadata": {
    "papermill": {
     "duration": 0.011671,
     "end_time": "2021-09-08T08:26:02.200591",
     "exception": false,
     "start_time": "2021-09-08T08:26:02.188920",
     "status": "completed"
    },
    "tags": []
   },
   "source": [
    "# 1) Examine another column\n",
    "\n",
    "Write code below to take a look at all the unique values in the \"Graduated from\" column."
   ]
  },
  {
   "cell_type": "code",
   "execution_count": 4,
   "id": "15dd38b7",
   "metadata": {
    "execution": {
     "iopub.execute_input": "2021-09-08T08:26:02.230467Z",
     "iopub.status.busy": "2021-09-08T08:26:02.229800Z",
     "iopub.status.idle": "2021-09-08T08:26:02.232824Z",
     "shell.execute_reply": "2021-09-08T08:26:02.232215Z"
    },
    "papermill": {
     "duration": 0.019185,
     "end_time": "2021-09-08T08:26:02.232961",
     "exception": false,
     "start_time": "2021-09-08T08:26:02.213776",
     "status": "completed"
    },
    "tags": []
   },
   "outputs": [],
   "source": [
    "# TODO: Your code here"
   ]
  },
  {
   "cell_type": "markdown",
   "id": "ea1023a1",
   "metadata": {
    "papermill": {
     "duration": 0.011737,
     "end_time": "2021-09-08T08:26:02.257010",
     "exception": false,
     "start_time": "2021-09-08T08:26:02.245273",
     "status": "completed"
    },
    "tags": []
   },
   "source": [
    "Do you notice any inconsistencies in the data?  Can any of the inconsistencies in the data be fixed by removing white spaces at the beginning and end of cells?\n",
    "\n",
    "Once you have answered these questions, run the code cell below to get credit for your work."
   ]
  },
  {
   "cell_type": "code",
   "execution_count": 5,
   "id": "bbb03a5c",
   "metadata": {
    "execution": {
     "iopub.execute_input": "2021-09-08T08:26:02.288864Z",
     "iopub.status.busy": "2021-09-08T08:26:02.285535Z",
     "iopub.status.idle": "2021-09-08T08:26:02.294387Z",
     "shell.execute_reply": "2021-09-08T08:26:02.294795Z",
     "shell.execute_reply.started": "2021-09-08T08:24:31.897506Z"
    },
    "papermill": {
     "duration": 0.025483,
     "end_time": "2021-09-08T08:26:02.294959",
     "exception": false,
     "start_time": "2021-09-08T08:26:02.269476",
     "status": "completed"
    },
    "tags": []
   },
   "outputs": [
    {
     "data": {
      "application/javascript": [
       "parent.postMessage({\"jupyterEvent\": \"custom.exercise_interaction\", \"data\": {\"outcomeType\": 1, \"valueTowardsCompletion\": 0.3333333333333333, \"interactionType\": 1, \"questionType\": 4, \"questionId\": \"1_ExamineProvince\", \"learnToolsVersion\": \"0.3.4\", \"failureMessage\": \"\", \"exceptionClass\": \"\", \"trace\": \"\"}}, \"*\")"
      ],
      "text/plain": [
       "<IPython.core.display.Javascript object>"
      ]
     },
     "metadata": {},
     "output_type": "display_data"
    },
    {
     "data": {
      "text/markdown": [
       "<span style=\"color:#33cc33\">Correct:</span> \n",
       "\n",
       "There are inconsistencies that can be fixed by removing white spaces at the beginning and end of cells.  For instance, \"University of Central Florida\" and \" University of Central Florida\" both appear in the column."
      ],
      "text/plain": [
       "Correct: \n",
       "\n",
       "There are inconsistencies that can be fixed by removing white spaces at the beginning and end of cells.  For instance, \"University of Central Florida\" and \" University of Central Florida\" both appear in the column."
      ]
     },
     "metadata": {},
     "output_type": "display_data"
    }
   ],
   "source": [
    "unis = professors['Graduated from'].unique()\n",
    "q1.check()"
   ]
  },
  {
   "cell_type": "code",
   "execution_count": 6,
   "id": "4b56fe2c",
   "metadata": {
    "execution": {
     "iopub.execute_input": "2021-09-08T08:26:02.324859Z",
     "iopub.status.busy": "2021-09-08T08:26:02.324245Z",
     "iopub.status.idle": "2021-09-08T08:26:02.327158Z",
     "shell.execute_reply": "2021-09-08T08:26:02.327657Z",
     "shell.execute_reply.started": "2021-09-08T08:24:24.972297Z"
    },
    "papermill": {
     "duration": 0.019489,
     "end_time": "2021-09-08T08:26:02.327900",
     "exception": false,
     "start_time": "2021-09-08T08:26:02.308411",
     "status": "completed"
    },
    "tags": []
   },
   "outputs": [],
   "source": [
    "# Line below will give you a hint\n",
    "#q1.hint()"
   ]
  },
  {
   "cell_type": "markdown",
   "id": "344f0ec5",
   "metadata": {
    "papermill": {
     "duration": 0.012457,
     "end_time": "2021-09-08T08:26:02.353450",
     "exception": false,
     "start_time": "2021-09-08T08:26:02.340993",
     "status": "completed"
    },
    "tags": []
   },
   "source": [
    "# 2) Do some text pre-processing\n",
    "\n",
    "Convert every entry in the \"Graduated from\" column in the `professors` DataFrame to remove white spaces at the beginning and end of cells."
   ]
  },
  {
   "cell_type": "code",
   "execution_count": 7,
   "id": "d181fb4d",
   "metadata": {
    "execution": {
     "iopub.execute_input": "2021-09-08T08:26:02.384676Z",
     "iopub.status.busy": "2021-09-08T08:26:02.383740Z",
     "iopub.status.idle": "2021-09-08T08:26:02.401954Z",
     "shell.execute_reply": "2021-09-08T08:26:02.402474Z",
     "shell.execute_reply.started": "2021-09-08T08:24:55.180733Z"
    },
    "papermill": {
     "duration": 0.036453,
     "end_time": "2021-09-08T08:26:02.402651",
     "exception": false,
     "start_time": "2021-09-08T08:26:02.366198",
     "status": "completed"
    },
    "tags": []
   },
   "outputs": [
    {
     "data": {
      "application/javascript": [
       "parent.postMessage({\"jupyterEvent\": \"custom.exercise_interaction\", \"data\": {\"outcomeType\": 1, \"valueTowardsCompletion\": 0.3333333333333333, \"interactionType\": 1, \"questionType\": 1, \"questionId\": \"2_TextProcessing\", \"learnToolsVersion\": \"0.3.4\", \"failureMessage\": \"\", \"exceptionClass\": \"\", \"trace\": \"\"}}, \"*\")"
      ],
      "text/plain": [
       "<IPython.core.display.Javascript object>"
      ]
     },
     "metadata": {},
     "output_type": "display_data"
    },
    {
     "data": {
      "text/markdown": [
       "<span style=\"color:#33cc33\">Correct</span>"
      ],
      "text/plain": [
       "Correct"
      ]
     },
     "metadata": {},
     "output_type": "display_data"
    }
   ],
   "source": [
    "professors['Graduated from'] = professors['Graduated from'].str.strip()\n",
    "# Check your answer\n",
    "q2.check()"
   ]
  },
  {
   "cell_type": "code",
   "execution_count": 8,
   "id": "4567934f",
   "metadata": {
    "execution": {
     "iopub.execute_input": "2021-09-08T08:26:02.437643Z",
     "iopub.status.busy": "2021-09-08T08:26:02.436997Z",
     "iopub.status.idle": "2021-09-08T08:26:02.439924Z",
     "shell.execute_reply": "2021-09-08T08:26:02.440614Z",
     "shell.execute_reply.started": "2021-09-08T08:24:49.200325Z"
    },
    "papermill": {
     "duration": 0.021467,
     "end_time": "2021-09-08T08:26:02.440844",
     "exception": false,
     "start_time": "2021-09-08T08:26:02.419377",
     "status": "completed"
    },
    "tags": []
   },
   "outputs": [],
   "source": [
    "# Lines below will give you a hint or solution code\n",
    "#q2.hint()\n",
    "#q2.solution()"
   ]
  },
  {
   "cell_type": "markdown",
   "id": "1a533c72",
   "metadata": {
    "papermill": {
     "duration": 0.019866,
     "end_time": "2021-09-08T08:26:02.480604",
     "exception": false,
     "start_time": "2021-09-08T08:26:02.460738",
     "status": "completed"
    },
    "tags": []
   },
   "source": [
    "# 3) Continue working with countries\n",
    "\n",
    "In the tutorial, we focused on cleaning up inconsistencies in the \"Country\" column.  Run the code cell below to view the list of unique values that we ended with."
   ]
  },
  {
   "cell_type": "code",
   "execution_count": 9,
   "id": "e7550651",
   "metadata": {
    "execution": {
     "iopub.execute_input": "2021-09-08T08:26:02.522396Z",
     "iopub.status.busy": "2021-09-08T08:26:02.521300Z",
     "iopub.status.idle": "2021-09-08T08:26:02.528507Z",
     "shell.execute_reply": "2021-09-08T08:26:02.528940Z",
     "shell.execute_reply.started": "2021-09-08T08:25:05.599078Z"
    },
    "papermill": {
     "duration": 0.031213,
     "end_time": "2021-09-08T08:26:02.529129",
     "exception": false,
     "start_time": "2021-09-08T08:26:02.497916",
     "status": "completed"
    },
    "tags": []
   },
   "outputs": [
    {
     "data": {
      "text/plain": [
       "array(['australia', 'austria', 'canada', 'china', 'finland', 'france',\n",
       "       'germany', 'greece', 'hongkong', 'ireland', 'italy', 'japan',\n",
       "       'macau', 'malaysia', 'mauritius', 'netherland', 'new zealand',\n",
       "       'norway', 'pakistan', 'portugal', 'russian federation',\n",
       "       'saudi arabia', 'scotland', 'singapore', 'south korea', 'spain',\n",
       "       'sweden', 'thailand', 'turkey', 'uk', 'urbana', 'usa', 'usofa'],\n",
       "      dtype=object)"
      ]
     },
     "execution_count": 9,
     "metadata": {},
     "output_type": "execute_result"
    }
   ],
   "source": [
    "# get all the unique values in the 'City' column\n",
    "countries = professors['Country'].unique()\n",
    "\n",
    "# sort them alphabetically and then take a closer look\n",
    "countries.sort()\n",
    "countries"
   ]
  },
  {
   "cell_type": "markdown",
   "id": "d87be9b2",
   "metadata": {
    "papermill": {
     "duration": 0.014062,
     "end_time": "2021-09-08T08:26:02.557650",
     "exception": false,
     "start_time": "2021-09-08T08:26:02.543588",
     "status": "completed"
    },
    "tags": []
   },
   "source": [
    "Take another look at the \"Country\" column and see if there's any more data cleaning we need to do.\n",
    "\n",
    "It looks like 'usa' and 'usofa' should be the same country.  Correct the \"Country\" column in the dataframe so that 'usofa' appears instead as 'usa'.\n",
    "\n",
    "**Use the most recent version of the DataFrame (with the whitespaces at the beginning and end of cells removed) from question 2.**"
   ]
  },
  {
   "cell_type": "code",
   "execution_count": 10,
   "id": "04682ba3",
   "metadata": {
    "execution": {
     "iopub.execute_input": "2021-09-08T08:26:02.589188Z",
     "iopub.status.busy": "2021-09-08T08:26:02.588534Z",
     "iopub.status.idle": "2021-09-08T08:26:02.600616Z",
     "shell.execute_reply": "2021-09-08T08:26:02.601293Z",
     "shell.execute_reply.started": "2021-09-08T08:25:27.247189Z"
    },
    "papermill": {
     "duration": 0.02987,
     "end_time": "2021-09-08T08:26:02.601483",
     "exception": false,
     "start_time": "2021-09-08T08:26:02.571613",
     "status": "completed"
    },
    "tags": []
   },
   "outputs": [
    {
     "name": "stdout",
     "output_type": "stream",
     "text": [
      "All done!\n"
     ]
    },
    {
     "data": {
      "application/javascript": [
       "parent.postMessage({\"jupyterEvent\": \"custom.exercise_interaction\", \"data\": {\"outcomeType\": 1, \"valueTowardsCompletion\": 0.3333333333333333, \"interactionType\": 1, \"questionType\": 1, \"questionId\": \"3_WorkingWithCities\", \"learnToolsVersion\": \"0.3.4\", \"failureMessage\": \"\", \"exceptionClass\": \"\", \"trace\": \"\"}}, \"*\")"
      ],
      "text/plain": [
       "<IPython.core.display.Javascript object>"
      ]
     },
     "metadata": {},
     "output_type": "display_data"
    },
    {
     "data": {
      "text/markdown": [
       "<span style=\"color:#33cc33\">Correct</span>"
      ],
      "text/plain": [
       "Correct"
      ]
     },
     "metadata": {},
     "output_type": "display_data"
    }
   ],
   "source": [
    "matches = fuzzywuzzy.process.extract(\"usa\", countries, limit=10, scorer=fuzzywuzzy.fuzz.token_sort_ratio)\n",
    "replace_matches_in_column(df=professors, column='Country', string_to_match=\"usa\", min_ratio=70)\n",
    "# Check your answer\n",
    "q3.check()"
   ]
  },
  {
   "cell_type": "code",
   "execution_count": 11,
   "id": "36a99e15",
   "metadata": {
    "execution": {
     "iopub.execute_input": "2021-09-08T08:26:02.641241Z",
     "iopub.status.busy": "2021-09-08T08:26:02.640301Z",
     "iopub.status.idle": "2021-09-08T08:26:02.645581Z",
     "shell.execute_reply": "2021-09-08T08:26:02.646449Z",
     "shell.execute_reply.started": "2021-09-08T08:25:20.415285Z"
    },
    "papermill": {
     "duration": 0.02903,
     "end_time": "2021-09-08T08:26:02.646711",
     "exception": false,
     "start_time": "2021-09-08T08:26:02.617681",
     "status": "completed"
    },
    "tags": []
   },
   "outputs": [],
   "source": [
    "# Lines below will give you a hint or solution code\n",
    "#q3.hint()\n",
    "#q3.solution()"
   ]
  },
  {
   "cell_type": "markdown",
   "id": "2411ce08",
   "metadata": {
    "papermill": {
     "duration": 0.022464,
     "end_time": "2021-09-08T08:26:02.685732",
     "exception": false,
     "start_time": "2021-09-08T08:26:02.663268",
     "status": "completed"
    },
    "tags": []
   },
   "source": [
    "# Congratulations!\n",
    "\n",
    "Congratulations for completing the **Data Cleaning** course on Kaggle Learn!\n",
    "\n",
    "To practice your new skills, you're encouraged to download and investigate some of [Kaggle's Datasets](https://www.kaggle.com/datasets)."
   ]
  },
  {
   "cell_type": "markdown",
   "id": "a5bd111d",
   "metadata": {
    "papermill": {
     "duration": 0.016605,
     "end_time": "2021-09-08T08:26:02.726661",
     "exception": false,
     "start_time": "2021-09-08T08:26:02.710056",
     "status": "completed"
    },
    "tags": []
   },
   "source": [
    "---\n",
    "\n",
    "\n",
    "\n",
    "\n",
    "*Have questions or comments? Visit the [Learn Discussion forum](https://www.kaggle.com/learn-forum/172650) to chat with other Learners.*"
   ]
  }
 ],
 "metadata": {
  "kernelspec": {
   "display_name": "Python 3",
   "language": "python",
   "name": "python3"
  },
  "language_info": {
   "codemirror_mode": {
    "name": "ipython",
    "version": 3
   },
   "file_extension": ".py",
   "mimetype": "text/x-python",
   "name": "python",
   "nbconvert_exporter": "python",
   "pygments_lexer": "ipython3",
   "version": "3.7.10"
  },
  "papermill": {
   "default_parameters": {},
   "duration": 9.796976,
   "end_time": "2021-09-08T08:26:04.201723",
   "environment_variables": {},
   "exception": null,
   "input_path": "__notebook__.ipynb",
   "output_path": "__notebook__.ipynb",
   "parameters": {},
   "start_time": "2021-09-08T08:25:54.404747",
   "version": "2.3.3"
  }
 },
 "nbformat": 4,
 "nbformat_minor": 5
}
