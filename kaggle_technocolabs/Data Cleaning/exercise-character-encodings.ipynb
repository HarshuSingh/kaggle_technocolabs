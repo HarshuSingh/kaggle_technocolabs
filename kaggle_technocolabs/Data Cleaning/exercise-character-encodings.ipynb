{
 "cells": [
  {
   "cell_type": "markdown",
   "id": "e86d0d73",
   "metadata": {
    "papermill": {
     "duration": 0.015846,
     "end_time": "2021-09-08T07:19:47.599794",
     "exception": false,
     "start_time": "2021-09-08T07:19:47.583948",
     "status": "completed"
    },
    "tags": []
   },
   "source": [
    "**This notebook is an exercise in the [Data Cleaning](https://www.kaggle.com/learn/data-cleaning) course.  You can reference the tutorial at [this link](https://www.kaggle.com/alexisbcook/character-encodings).**\n",
    "\n",
    "---\n"
   ]
  },
  {
   "cell_type": "markdown",
   "id": "e3e192a4",
   "metadata": {
    "papermill": {
     "duration": 0.013693,
     "end_time": "2021-09-08T07:19:47.628717",
     "exception": false,
     "start_time": "2021-09-08T07:19:47.615024",
     "status": "completed"
    },
    "tags": []
   },
   "source": [
    "In this exercise, you'll apply what you learned in the **Character encodings** tutorial.\n",
    "\n",
    "# Setup\n",
    "\n",
    "The questions below will give you feedback on your work. Run the following cell to set up the feedback system."
   ]
  },
  {
   "cell_type": "code",
   "execution_count": 1,
   "id": "35b3a7ed",
   "metadata": {
    "execution": {
     "iopub.execute_input": "2021-09-08T07:19:47.669807Z",
     "iopub.status.busy": "2021-09-08T07:19:47.668918Z",
     "iopub.status.idle": "2021-09-08T07:19:47.855425Z",
     "shell.execute_reply": "2021-09-08T07:19:47.855976Z",
     "shell.execute_reply.started": "2021-09-08T07:18:02.058906Z"
    },
    "papermill": {
     "duration": 0.213911,
     "end_time": "2021-09-08T07:19:47.856343",
     "exception": false,
     "start_time": "2021-09-08T07:19:47.642432",
     "status": "completed"
    },
    "tags": []
   },
   "outputs": [
    {
     "name": "stdout",
     "output_type": "stream",
     "text": [
      "Setup Complete\n"
     ]
    }
   ],
   "source": [
    "from learntools.core import binder\n",
    "binder.bind(globals())\n",
    "from learntools.data_cleaning.ex4 import *\n",
    "print(\"Setup Complete\")"
   ]
  },
  {
   "cell_type": "markdown",
   "id": "76442ce0",
   "metadata": {
    "papermill": {
     "duration": 0.014066,
     "end_time": "2021-09-08T07:19:47.885319",
     "exception": false,
     "start_time": "2021-09-08T07:19:47.871253",
     "status": "completed"
    },
    "tags": []
   },
   "source": [
    "# Get our environment set up\n",
    "\n",
    "The first thing we'll need to do is load in the libraries we'll be using."
   ]
  },
  {
   "cell_type": "code",
   "execution_count": 2,
   "id": "a7c4ef7c",
   "metadata": {
    "execution": {
     "iopub.execute_input": "2021-09-08T07:19:47.919734Z",
     "iopub.status.busy": "2021-09-08T07:19:47.919066Z",
     "iopub.status.idle": "2021-09-08T07:19:47.922280Z",
     "shell.execute_reply": "2021-09-08T07:19:47.921664Z",
     "shell.execute_reply.started": "2021-09-08T07:18:05.070719Z"
    },
    "papermill": {
     "duration": 0.022552,
     "end_time": "2021-09-08T07:19:47.922448",
     "exception": false,
     "start_time": "2021-09-08T07:19:47.899896",
     "status": "completed"
    },
    "tags": []
   },
   "outputs": [],
   "source": [
    "# modules we'll use\n",
    "import pandas as pd\n",
    "import numpy as np\n",
    "\n",
    "# helpful character encoding module\n",
    "import chardet\n",
    "\n",
    "# set seed for reproducibility\n",
    "np.random.seed(0)"
   ]
  },
  {
   "cell_type": "markdown",
   "id": "5c7d874a",
   "metadata": {
    "papermill": {
     "duration": 0.014035,
     "end_time": "2021-09-08T07:19:47.951111",
     "exception": false,
     "start_time": "2021-09-08T07:19:47.937076",
     "status": "completed"
    },
    "tags": []
   },
   "source": [
    "# 1) What are encodings?\n",
    "\n",
    "You're working with a dataset composed of bytes.  Run the code cell below to print a sample entry."
   ]
  },
  {
   "cell_type": "code",
   "execution_count": 3,
   "id": "aea1f822",
   "metadata": {
    "execution": {
     "iopub.execute_input": "2021-09-08T07:19:47.986182Z",
     "iopub.status.busy": "2021-09-08T07:19:47.985479Z",
     "iopub.status.idle": "2021-09-08T07:19:47.989037Z",
     "shell.execute_reply": "2021-09-08T07:19:47.988398Z",
     "shell.execute_reply.started": "2021-09-08T07:18:07.636652Z"
    },
    "papermill": {
     "duration": 0.023652,
     "end_time": "2021-09-08T07:19:47.989183",
     "exception": false,
     "start_time": "2021-09-08T07:19:47.965531",
     "status": "completed"
    },
    "tags": []
   },
   "outputs": [
    {
     "name": "stdout",
     "output_type": "stream",
     "text": [
      "b'\\xa7A\\xa6n'\n",
      "data type: <class 'bytes'>\n"
     ]
    }
   ],
   "source": [
    "sample_entry = b'\\xa7A\\xa6n'\n",
    "print(sample_entry)\n",
    "print('data type:', type(sample_entry))"
   ]
  },
  {
   "cell_type": "markdown",
   "id": "d1d065ba",
   "metadata": {
    "papermill": {
     "duration": 0.014308,
     "end_time": "2021-09-08T07:19:48.018435",
     "exception": false,
     "start_time": "2021-09-08T07:19:48.004127",
     "status": "completed"
    },
    "tags": []
   },
   "source": [
    "You notice that it doesn't use the standard UTF-8 encoding. \n",
    "\n",
    "Use the next code cell to create a variable `new_entry` that changes the encoding from `\"big5-tw\"` to `\"utf-8\"`.  `new_entry` should have the bytes datatype."
   ]
  },
  {
   "cell_type": "code",
   "execution_count": 4,
   "id": "e58b2138",
   "metadata": {
    "execution": {
     "iopub.execute_input": "2021-09-08T07:19:48.056678Z",
     "iopub.status.busy": "2021-09-08T07:19:48.055946Z",
     "iopub.status.idle": "2021-09-08T07:19:48.062896Z",
     "shell.execute_reply": "2021-09-08T07:19:48.062308Z",
     "shell.execute_reply.started": "2021-09-08T07:18:27.613022Z"
    },
    "papermill": {
     "duration": 0.02961,
     "end_time": "2021-09-08T07:19:48.063061",
     "exception": false,
     "start_time": "2021-09-08T07:19:48.033451",
     "status": "completed"
    },
    "tags": []
   },
   "outputs": [
    {
     "data": {
      "application/javascript": [
       "parent.postMessage({\"jupyterEvent\": \"custom.exercise_interaction\", \"data\": {\"outcomeType\": 1, \"valueTowardsCompletion\": 0.3333333333333333, \"interactionType\": 1, \"questionType\": 1, \"questionId\": \"1_EncodingsIntro\", \"learnToolsVersion\": \"0.3.4\", \"failureMessage\": \"\", \"exceptionClass\": \"\", \"trace\": \"\"}}, \"*\")"
      ],
      "text/plain": [
       "<IPython.core.display.Javascript object>"
      ]
     },
     "metadata": {},
     "output_type": "display_data"
    },
    {
     "data": {
      "text/markdown": [
       "<span style=\"color:#33cc33\">Correct</span>"
      ],
      "text/plain": [
       "Correct"
      ]
     },
     "metadata": {},
     "output_type": "display_data"
    }
   ],
   "source": [
    "before = sample_entry.decode(\"big5-tw\")\n",
    "new_entry = before.encode()\n",
    "\n",
    "# Check your answer\n",
    "q1.check()"
   ]
  },
  {
   "cell_type": "code",
   "execution_count": 5,
   "id": "4f52588a",
   "metadata": {
    "execution": {
     "iopub.execute_input": "2021-09-08T07:19:48.099485Z",
     "iopub.status.busy": "2021-09-08T07:19:48.098650Z",
     "iopub.status.idle": "2021-09-08T07:19:48.102110Z",
     "shell.execute_reply": "2021-09-08T07:19:48.101462Z",
     "shell.execute_reply.started": "2021-09-08T07:18:36.858244Z"
    },
    "papermill": {
     "duration": 0.023593,
     "end_time": "2021-09-08T07:19:48.102251",
     "exception": false,
     "start_time": "2021-09-08T07:19:48.078658",
     "status": "completed"
    },
    "tags": []
   },
   "outputs": [],
   "source": [
    "# Lines below will give you a hint or solution code\n",
    "#q1.hint()\n",
    "#q1.solution()"
   ]
  },
  {
   "cell_type": "markdown",
   "id": "fbacf440",
   "metadata": {
    "papermill": {
     "duration": 0.015134,
     "end_time": "2021-09-08T07:19:48.132863",
     "exception": false,
     "start_time": "2021-09-08T07:19:48.117729",
     "status": "completed"
    },
    "tags": []
   },
   "source": [
    "# 2) Reading in files with encoding problems\n",
    "\n",
    "Use the code cell below to read in this file at path `\"../input/fatal-police-shootings-in-the-us/PoliceKillingsUS.csv\"`.  \n",
    "\n",
    "Figure out what the correct encoding should be and read in the file to a DataFrame `police_killings`."
   ]
  },
  {
   "cell_type": "code",
   "execution_count": 6,
   "id": "9f224711",
   "metadata": {
    "execution": {
     "iopub.execute_input": "2021-09-08T07:19:48.169192Z",
     "iopub.status.busy": "2021-09-08T07:19:48.168204Z",
     "iopub.status.idle": "2021-09-08T07:19:48.193303Z",
     "shell.execute_reply": "2021-09-08T07:19:48.192787Z",
     "shell.execute_reply.started": "2021-09-08T07:19:01.483106Z"
    },
    "papermill": {
     "duration": 0.045241,
     "end_time": "2021-09-08T07:19:48.193444",
     "exception": false,
     "start_time": "2021-09-08T07:19:48.148203",
     "status": "completed"
    },
    "tags": []
   },
   "outputs": [
    {
     "data": {
      "application/javascript": [
       "parent.postMessage({\"jupyterEvent\": \"custom.exercise_interaction\", \"data\": {\"outcomeType\": 1, \"valueTowardsCompletion\": 0.3333333333333333, \"interactionType\": 1, \"questionType\": 1, \"questionId\": \"2_ReadIn\", \"learnToolsVersion\": \"0.3.4\", \"failureMessage\": \"\", \"exceptionClass\": \"\", \"trace\": \"\"}}, \"*\")"
      ],
      "text/plain": [
       "<IPython.core.display.Javascript object>"
      ]
     },
     "metadata": {},
     "output_type": "display_data"
    },
    {
     "data": {
      "text/markdown": [
       "<span style=\"color:#33cc33\">Correct</span>"
      ],
      "text/plain": [
       "Correct"
      ]
     },
     "metadata": {},
     "output_type": "display_data"
    }
   ],
   "source": [
    "# TODO: Load in the DataFrame correctly.\n",
    "police_killings = pd.read_csv(\"../input/fatal-police-shootings-in-the-us/PoliceKillingsUS.csv\", encoding='Windows-1252')\n",
    "\n",
    "# Check your answer\n",
    "q2.check()"
   ]
  },
  {
   "cell_type": "markdown",
   "id": "1f42bf85",
   "metadata": {
    "papermill": {
     "duration": 0.015961,
     "end_time": "2021-09-08T07:19:48.225795",
     "exception": false,
     "start_time": "2021-09-08T07:19:48.209834",
     "status": "completed"
    },
    "tags": []
   },
   "source": [
    "Feel free to use any additional code cells for supplemental work.  To get credit for finishing this question, you'll need to run `q2.check()` and get a result of **Correct**."
   ]
  },
  {
   "cell_type": "code",
   "execution_count": 7,
   "id": "351b4e9c",
   "metadata": {
    "execution": {
     "iopub.execute_input": "2021-09-08T07:19:48.264532Z",
     "iopub.status.busy": "2021-09-08T07:19:48.263569Z",
     "iopub.status.idle": "2021-09-08T07:19:48.266802Z",
     "shell.execute_reply": "2021-09-08T07:19:48.266249Z",
     "shell.execute_reply.started": "2021-09-08T07:17:34.034338Z"
    },
    "papermill": {
     "duration": 0.024913,
     "end_time": "2021-09-08T07:19:48.266960",
     "exception": false,
     "start_time": "2021-09-08T07:19:48.242047",
     "status": "completed"
    },
    "tags": []
   },
   "outputs": [],
   "source": [
    "# (Optional) Use this code cell for any additional work."
   ]
  },
  {
   "cell_type": "code",
   "execution_count": 8,
   "id": "50288d35",
   "metadata": {
    "execution": {
     "iopub.execute_input": "2021-09-08T07:19:48.307112Z",
     "iopub.status.busy": "2021-09-08T07:19:48.306049Z",
     "iopub.status.idle": "2021-09-08T07:19:48.308884Z",
     "shell.execute_reply": "2021-09-08T07:19:48.309534Z",
     "shell.execute_reply.started": "2021-09-08T07:18:56.155549Z"
    },
    "papermill": {
     "duration": 0.024806,
     "end_time": "2021-09-08T07:19:48.309763",
     "exception": false,
     "start_time": "2021-09-08T07:19:48.284957",
     "status": "completed"
    },
    "tags": []
   },
   "outputs": [],
   "source": [
    "# Lines below will give you a hint or solution code\n",
    "#q2.hint()\n",
    "#q2.solution()"
   ]
  },
  {
   "cell_type": "markdown",
   "id": "52e30fd3",
   "metadata": {
    "papermill": {
     "duration": 0.016029,
     "end_time": "2021-09-08T07:19:48.342449",
     "exception": false,
     "start_time": "2021-09-08T07:19:48.326420",
     "status": "completed"
    },
    "tags": []
   },
   "source": [
    "# 3) Saving your files with UTF-8 encoding\n",
    "\n",
    "Save a version of the police killings dataset to CSV with UTF-8 encoding.  Your answer will be marked correct after saving this file.  \n",
    "\n",
    "Note: When using the `to_csv()` method, supply only the name of the file (e.g., `\"my_file.csv\"`).  This saves the file at the filepath `\"/kaggle/working/my_file.csv\"`."
   ]
  },
  {
   "cell_type": "code",
   "execution_count": 9,
   "id": "c75de610",
   "metadata": {
    "execution": {
     "iopub.execute_input": "2021-09-08T07:19:48.378884Z",
     "iopub.status.busy": "2021-09-08T07:19:48.378269Z",
     "iopub.status.idle": "2021-09-08T07:19:48.426316Z",
     "shell.execute_reply": "2021-09-08T07:19:48.425581Z",
     "shell.execute_reply.started": "2021-09-08T07:19:24.661413Z"
    },
    "papermill": {
     "duration": 0.067538,
     "end_time": "2021-09-08T07:19:48.426469",
     "exception": false,
     "start_time": "2021-09-08T07:19:48.358931",
     "status": "completed"
    },
    "tags": []
   },
   "outputs": [
    {
     "data": {
      "application/javascript": [
       "parent.postMessage({\"jupyterEvent\": \"custom.exercise_interaction\", \"data\": {\"outcomeType\": 1, \"valueTowardsCompletion\": 0.3333333333333333, \"interactionType\": 1, \"questionType\": 2, \"questionId\": \"3_SaveCSV\", \"learnToolsVersion\": \"0.3.4\", \"failureMessage\": \"\", \"exceptionClass\": \"\", \"trace\": \"\"}}, \"*\")"
      ],
      "text/plain": [
       "<IPython.core.display.Javascript object>"
      ]
     },
     "metadata": {},
     "output_type": "display_data"
    },
    {
     "data": {
      "text/markdown": [
       "<span style=\"color:#33cc33\">Correct</span>"
      ],
      "text/plain": [
       "Correct"
      ]
     },
     "metadata": {},
     "output_type": "display_data"
    }
   ],
   "source": [
    "# TODO: Save the police killings dataset to CSV\n",
    "police_killings.to_csv(\"my_file.csv\")\n",
    "# Check your answer\n",
    "q3.check()"
   ]
  },
  {
   "cell_type": "code",
   "execution_count": 10,
   "id": "fb123800",
   "metadata": {
    "execution": {
     "iopub.execute_input": "2021-09-08T07:19:48.467338Z",
     "iopub.status.busy": "2021-09-08T07:19:48.466372Z",
     "iopub.status.idle": "2021-09-08T07:19:48.469422Z",
     "shell.execute_reply": "2021-09-08T07:19:48.468851Z",
     "shell.execute_reply.started": "2021-09-08T07:19:21.874917Z"
    },
    "papermill": {
     "duration": 0.02533,
     "end_time": "2021-09-08T07:19:48.469575",
     "exception": false,
     "start_time": "2021-09-08T07:19:48.444245",
     "status": "completed"
    },
    "tags": []
   },
   "outputs": [],
   "source": [
    "# Lines below will give you a hint or solution code\n",
    "#q3.hint()\n",
    "#q3.solution()"
   ]
  },
  {
   "cell_type": "markdown",
   "id": "80e203bc",
   "metadata": {
    "papermill": {
     "duration": 0.017263,
     "end_time": "2021-09-08T07:19:48.504572",
     "exception": false,
     "start_time": "2021-09-08T07:19:48.487309",
     "status": "completed"
    },
    "tags": []
   },
   "source": [
    "# (Optional) More practice\n",
    "\n",
    "Check out [this dataset of files in different character encodings](https://www.kaggle.com/rtatman/character-encoding-examples). Can you read in all the files with their original encodings and them save them out as UTF-8 files?\n",
    "\n",
    "If you have a file that's in UTF-8 but has just a couple of weird-looking characters in it, you can try out the [ftfy module](https://ftfy.readthedocs.io/en/latest/#) and see if it helps. \n",
    "\n",
    "# Keep going\n",
    "\n",
    "In the final lesson, learn how to [**clean up inconsistent text entries**](https://www.kaggle.com/alexisbcook/inconsistent-data-entry) in your dataset."
   ]
  },
  {
   "cell_type": "markdown",
   "id": "e7f5634c",
   "metadata": {
    "papermill": {
     "duration": 0.017337,
     "end_time": "2021-09-08T07:19:48.539647",
     "exception": false,
     "start_time": "2021-09-08T07:19:48.522310",
     "status": "completed"
    },
    "tags": []
   },
   "source": [
    "---\n",
    "\n",
    "\n",
    "\n",
    "\n",
    "*Have questions or comments? Visit the [Learn Discussion forum](https://www.kaggle.com/learn-forum/172650) to chat with other Learners.*"
   ]
  }
 ],
 "metadata": {
  "kernelspec": {
   "display_name": "Python 3",
   "language": "python",
   "name": "python3"
  },
  "language_info": {
   "codemirror_mode": {
    "name": "ipython",
    "version": 3
   },
   "file_extension": ".py",
   "mimetype": "text/x-python",
   "name": "python",
   "nbconvert_exporter": "python",
   "pygments_lexer": "ipython3",
   "version": "3.7.10"
  },
  "papermill": {
   "default_parameters": {},
   "duration": 10.818806,
   "end_time": "2021-09-08T07:19:50.283231",
   "environment_variables": {},
   "exception": null,
   "input_path": "__notebook__.ipynb",
   "output_path": "__notebook__.ipynb",
   "parameters": {},
   "start_time": "2021-09-08T07:19:39.464425",
   "version": "2.3.3"
  }
 },
 "nbformat": 4,
 "nbformat_minor": 5
}
