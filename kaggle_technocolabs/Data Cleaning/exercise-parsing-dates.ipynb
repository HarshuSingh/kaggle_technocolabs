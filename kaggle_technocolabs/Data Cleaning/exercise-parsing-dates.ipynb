{
 "cells": [
  {
   "cell_type": "markdown",
   "id": "9f5d9b36",
   "metadata": {
    "papermill": {
     "duration": 0.017857,
     "end_time": "2021-09-08T06:45:50.614980",
     "exception": false,
     "start_time": "2021-09-08T06:45:50.597123",
     "status": "completed"
    },
    "tags": []
   },
   "source": [
    "**This notebook is an exercise in the [Data Cleaning](https://www.kaggle.com/learn/data-cleaning) course.  You can reference the tutorial at [this link](https://www.kaggle.com/alexisbcook/parsing-dates).**\n",
    "\n",
    "---\n"
   ]
  },
  {
   "cell_type": "markdown",
   "id": "86738925",
   "metadata": {
    "papermill": {
     "duration": 0.016435,
     "end_time": "2021-09-08T06:45:50.648956",
     "exception": false,
     "start_time": "2021-09-08T06:45:50.632521",
     "status": "completed"
    },
    "tags": []
   },
   "source": [
    "In this exercise, you'll apply what you learned in the **Parsing dates** tutorial.\n",
    "\n",
    "# Setup\n",
    "\n",
    "The questions below will give you feedback on your work. Run the following cell to set up the feedback system."
   ]
  },
  {
   "cell_type": "code",
   "execution_count": 1,
   "id": "512aa325",
   "metadata": {
    "execution": {
     "iopub.execute_input": "2021-09-08T06:45:50.692705Z",
     "iopub.status.busy": "2021-09-08T06:45:50.690929Z",
     "iopub.status.idle": "2021-09-08T06:45:52.003932Z",
     "shell.execute_reply": "2021-09-08T06:45:52.003096Z",
     "shell.execute_reply.started": "2021-09-08T06:43:54.241118Z"
    },
    "papermill": {
     "duration": 1.33827,
     "end_time": "2021-09-08T06:45:52.004109",
     "exception": false,
     "start_time": "2021-09-08T06:45:50.665839",
     "status": "completed"
    },
    "tags": []
   },
   "outputs": [
    {
     "name": "stdout",
     "output_type": "stream",
     "text": [
      "Setup Complete\n"
     ]
    }
   ],
   "source": [
    "from learntools.core import binder\n",
    "binder.bind(globals())\n",
    "from learntools.data_cleaning.ex3 import *\n",
    "print(\"Setup Complete\")"
   ]
  },
  {
   "cell_type": "markdown",
   "id": "7bb11273",
   "metadata": {
    "papermill": {
     "duration": 0.016927,
     "end_time": "2021-09-08T06:45:52.039041",
     "exception": false,
     "start_time": "2021-09-08T06:45:52.022114",
     "status": "completed"
    },
    "tags": []
   },
   "source": [
    "# Get our environment set up\n",
    "\n",
    "The first thing we'll need to do is load in the libraries and dataset we'll be using. We'll be working with a dataset containing information on earthquakes that occured between 1965 and 2016."
   ]
  },
  {
   "cell_type": "code",
   "execution_count": 2,
   "id": "99bc1d2e",
   "metadata": {
    "execution": {
     "iopub.execute_input": "2021-09-08T06:45:52.080816Z",
     "iopub.status.busy": "2021-09-08T06:45:52.080016Z",
     "iopub.status.idle": "2021-09-08T06:45:52.181311Z",
     "shell.execute_reply": "2021-09-08T06:45:52.180709Z",
     "shell.execute_reply.started": "2021-09-08T06:43:54.249432Z"
    },
    "papermill": {
     "duration": 0.124677,
     "end_time": "2021-09-08T06:45:52.181487",
     "exception": false,
     "start_time": "2021-09-08T06:45:52.056810",
     "status": "completed"
    },
    "tags": []
   },
   "outputs": [],
   "source": [
    "# modules we'll use\n",
    "import pandas as pd\n",
    "import numpy as np\n",
    "import seaborn as sns\n",
    "import datetime\n",
    "\n",
    "# read in our data\n",
    "earthquakes = pd.read_csv(\"../input/earthquake-database/database.csv\")\n",
    "\n",
    "# set seed for reproducibility\n",
    "np.random.seed(0)"
   ]
  },
  {
   "cell_type": "markdown",
   "id": "ecbfb8e6",
   "metadata": {
    "papermill": {
     "duration": 0.01714,
     "end_time": "2021-09-08T06:45:52.216544",
     "exception": false,
     "start_time": "2021-09-08T06:45:52.199404",
     "status": "completed"
    },
    "tags": []
   },
   "source": [
    "# 1) Check the data type of our date column\n",
    "\n",
    "You'll be working with the \"Date\" column from the `earthquakes` dataframe.  Investigate this column now: does it look like it contains dates?  What is the dtype of the column?"
   ]
  },
  {
   "cell_type": "code",
   "execution_count": 3,
   "id": "40349c98",
   "metadata": {
    "execution": {
     "iopub.execute_input": "2021-09-08T06:45:52.256370Z",
     "iopub.status.busy": "2021-09-08T06:45:52.255646Z",
     "iopub.status.idle": "2021-09-08T06:45:52.257683Z",
     "shell.execute_reply": "2021-09-08T06:45:52.258131Z",
     "shell.execute_reply.started": "2021-09-08T06:43:54.360731Z"
    },
    "papermill": {
     "duration": 0.024214,
     "end_time": "2021-09-08T06:45:52.258308",
     "exception": false,
     "start_time": "2021-09-08T06:45:52.234094",
     "status": "completed"
    },
    "tags": []
   },
   "outputs": [],
   "source": [
    "# TODO: Your code here!\n"
   ]
  },
  {
   "cell_type": "markdown",
   "id": "6348e0ac",
   "metadata": {
    "papermill": {
     "duration": 0.016847,
     "end_time": "2021-09-08T06:45:52.292838",
     "exception": false,
     "start_time": "2021-09-08T06:45:52.275991",
     "status": "completed"
    },
    "tags": []
   },
   "source": [
    "Once you have answered the question above, run the code cell below to get credit for your work."
   ]
  },
  {
   "cell_type": "code",
   "execution_count": 4,
   "id": "9451c444",
   "metadata": {
    "execution": {
     "iopub.execute_input": "2021-09-08T06:45:52.336666Z",
     "iopub.status.busy": "2021-09-08T06:45:52.331133Z",
     "iopub.status.idle": "2021-09-08T06:45:52.343351Z",
     "shell.execute_reply": "2021-09-08T06:45:52.342900Z",
     "shell.execute_reply.started": "2021-09-08T06:43:54.366229Z"
    },
    "papermill": {
     "duration": 0.033168,
     "end_time": "2021-09-08T06:45:52.343513",
     "exception": false,
     "start_time": "2021-09-08T06:45:52.310345",
     "status": "completed"
    },
    "tags": []
   },
   "outputs": [
    {
     "data": {
      "application/javascript": [
       "parent.postMessage({\"jupyterEvent\": \"custom.exercise_interaction\", \"data\": {\"outcomeType\": 1, \"valueTowardsCompletion\": 0.25, \"interactionType\": 1, \"questionType\": 4, \"questionId\": \"1_CheckDtype\", \"learnToolsVersion\": \"0.3.4\", \"failureMessage\": \"\", \"exceptionClass\": \"\", \"trace\": \"\"}}, \"*\")"
      ],
      "text/plain": [
       "<IPython.core.display.Javascript object>"
      ]
     },
     "metadata": {},
     "output_type": "display_data"
    },
    {
     "data": {
      "text/markdown": [
       "<span style=\"color:#33cc33\">Correct:</span> \n",
       "\n",
       "The \"Date\" column in the `earthquakes` DataFrame does have dates.  The dtype is \"object\"."
      ],
      "text/plain": [
       "Correct: \n",
       "\n",
       "The \"Date\" column in the `earthquakes` DataFrame does have dates.  The dtype is \"object\"."
      ]
     },
     "metadata": {},
     "output_type": "display_data"
    }
   ],
   "source": [
    "earthquakes['Date'].head()\n",
    "q1.check()"
   ]
  },
  {
   "cell_type": "code",
   "execution_count": 5,
   "id": "4f3096bf",
   "metadata": {
    "execution": {
     "iopub.execute_input": "2021-09-08T06:45:52.385475Z",
     "iopub.status.busy": "2021-09-08T06:45:52.384787Z",
     "iopub.status.idle": "2021-09-08T06:45:52.386654Z",
     "shell.execute_reply": "2021-09-08T06:45:52.387073Z",
     "shell.execute_reply.started": "2021-09-08T06:43:54.384565Z"
    },
    "papermill": {
     "duration": 0.025499,
     "end_time": "2021-09-08T06:45:52.387246",
     "exception": false,
     "start_time": "2021-09-08T06:45:52.361747",
     "status": "completed"
    },
    "tags": []
   },
   "outputs": [],
   "source": [
    "# Line below will give you a hint\n",
    "#q1.hint()"
   ]
  },
  {
   "cell_type": "markdown",
   "id": "27c0909a",
   "metadata": {
    "papermill": {
     "duration": 0.018181,
     "end_time": "2021-09-08T06:45:52.424101",
     "exception": false,
     "start_time": "2021-09-08T06:45:52.405920",
     "status": "completed"
    },
    "tags": []
   },
   "source": [
    "# 2) Convert our date columns to datetime\n",
    "\n",
    "Most of the entries in the \"Date\" column follow the same format: \"month/day/four-digit year\".  However, the entry at index 3378 follows a completely different pattern.  Run the code cell below to see this."
   ]
  },
  {
   "cell_type": "code",
   "execution_count": 6,
   "id": "671c66e1",
   "metadata": {
    "execution": {
     "iopub.execute_input": "2021-09-08T06:45:52.464103Z",
     "iopub.status.busy": "2021-09-08T06:45:52.463521Z",
     "iopub.status.idle": "2021-09-08T06:45:52.499959Z",
     "shell.execute_reply": "2021-09-08T06:45:52.499316Z",
     "shell.execute_reply.started": "2021-09-08T06:43:54.393914Z"
    },
    "papermill": {
     "duration": 0.05757,
     "end_time": "2021-09-08T06:45:52.500116",
     "exception": false,
     "start_time": "2021-09-08T06:45:52.442546",
     "status": "completed"
    },
    "tags": []
   },
   "outputs": [
    {
     "data": {
      "text/html": [
       "<div>\n",
       "<style scoped>\n",
       "    .dataframe tbody tr th:only-of-type {\n",
       "        vertical-align: middle;\n",
       "    }\n",
       "\n",
       "    .dataframe tbody tr th {\n",
       "        vertical-align: top;\n",
       "    }\n",
       "\n",
       "    .dataframe thead th {\n",
       "        text-align: right;\n",
       "    }\n",
       "</style>\n",
       "<table border=\"1\" class=\"dataframe\">\n",
       "  <thead>\n",
       "    <tr style=\"text-align: right;\">\n",
       "      <th></th>\n",
       "      <th>Date</th>\n",
       "      <th>Time</th>\n",
       "      <th>Latitude</th>\n",
       "      <th>Longitude</th>\n",
       "      <th>Type</th>\n",
       "      <th>Depth</th>\n",
       "      <th>Depth Error</th>\n",
       "      <th>Depth Seismic Stations</th>\n",
       "      <th>Magnitude</th>\n",
       "      <th>Magnitude Type</th>\n",
       "      <th>...</th>\n",
       "      <th>Magnitude Seismic Stations</th>\n",
       "      <th>Azimuthal Gap</th>\n",
       "      <th>Horizontal Distance</th>\n",
       "      <th>Horizontal Error</th>\n",
       "      <th>Root Mean Square</th>\n",
       "      <th>ID</th>\n",
       "      <th>Source</th>\n",
       "      <th>Location Source</th>\n",
       "      <th>Magnitude Source</th>\n",
       "      <th>Status</th>\n",
       "    </tr>\n",
       "  </thead>\n",
       "  <tbody>\n",
       "    <tr>\n",
       "      <th>3378</th>\n",
       "      <td>1975-02-23T02:58:41.000Z</td>\n",
       "      <td>1975-02-23T02:58:41.000Z</td>\n",
       "      <td>8.017</td>\n",
       "      <td>124.075</td>\n",
       "      <td>Earthquake</td>\n",
       "      <td>623.0</td>\n",
       "      <td>NaN</td>\n",
       "      <td>NaN</td>\n",
       "      <td>5.6</td>\n",
       "      <td>MB</td>\n",
       "      <td>...</td>\n",
       "      <td>NaN</td>\n",
       "      <td>NaN</td>\n",
       "      <td>NaN</td>\n",
       "      <td>NaN</td>\n",
       "      <td>NaN</td>\n",
       "      <td>USP0000A09</td>\n",
       "      <td>US</td>\n",
       "      <td>US</td>\n",
       "      <td>US</td>\n",
       "      <td>Reviewed</td>\n",
       "    </tr>\n",
       "    <tr>\n",
       "      <th>3379</th>\n",
       "      <td>02/23/1975</td>\n",
       "      <td>03:53:36</td>\n",
       "      <td>-21.727</td>\n",
       "      <td>-71.356</td>\n",
       "      <td>Earthquake</td>\n",
       "      <td>33.0</td>\n",
       "      <td>NaN</td>\n",
       "      <td>NaN</td>\n",
       "      <td>5.6</td>\n",
       "      <td>MB</td>\n",
       "      <td>...</td>\n",
       "      <td>NaN</td>\n",
       "      <td>NaN</td>\n",
       "      <td>NaN</td>\n",
       "      <td>NaN</td>\n",
       "      <td>NaN</td>\n",
       "      <td>USP0000A0A</td>\n",
       "      <td>US</td>\n",
       "      <td>US</td>\n",
       "      <td>US</td>\n",
       "      <td>Reviewed</td>\n",
       "    </tr>\n",
       "    <tr>\n",
       "      <th>3380</th>\n",
       "      <td>02/23/1975</td>\n",
       "      <td>07:34:11</td>\n",
       "      <td>-10.879</td>\n",
       "      <td>166.667</td>\n",
       "      <td>Earthquake</td>\n",
       "      <td>33.0</td>\n",
       "      <td>NaN</td>\n",
       "      <td>NaN</td>\n",
       "      <td>5.5</td>\n",
       "      <td>MS</td>\n",
       "      <td>...</td>\n",
       "      <td>NaN</td>\n",
       "      <td>NaN</td>\n",
       "      <td>NaN</td>\n",
       "      <td>NaN</td>\n",
       "      <td>NaN</td>\n",
       "      <td>USP0000A0C</td>\n",
       "      <td>US</td>\n",
       "      <td>US</td>\n",
       "      <td>US</td>\n",
       "      <td>Reviewed</td>\n",
       "    </tr>\n",
       "    <tr>\n",
       "      <th>3381</th>\n",
       "      <td>02/25/1975</td>\n",
       "      <td>05:20:05</td>\n",
       "      <td>-7.388</td>\n",
       "      <td>149.798</td>\n",
       "      <td>Earthquake</td>\n",
       "      <td>33.0</td>\n",
       "      <td>NaN</td>\n",
       "      <td>NaN</td>\n",
       "      <td>5.5</td>\n",
       "      <td>MB</td>\n",
       "      <td>...</td>\n",
       "      <td>NaN</td>\n",
       "      <td>NaN</td>\n",
       "      <td>NaN</td>\n",
       "      <td>NaN</td>\n",
       "      <td>NaN</td>\n",
       "      <td>USP0000A12</td>\n",
       "      <td>US</td>\n",
       "      <td>US</td>\n",
       "      <td>US</td>\n",
       "      <td>Reviewed</td>\n",
       "    </tr>\n",
       "    <tr>\n",
       "      <th>3382</th>\n",
       "      <td>02/26/1975</td>\n",
       "      <td>04:48:55</td>\n",
       "      <td>85.047</td>\n",
       "      <td>97.969</td>\n",
       "      <td>Earthquake</td>\n",
       "      <td>33.0</td>\n",
       "      <td>NaN</td>\n",
       "      <td>NaN</td>\n",
       "      <td>5.6</td>\n",
       "      <td>MS</td>\n",
       "      <td>...</td>\n",
       "      <td>NaN</td>\n",
       "      <td>NaN</td>\n",
       "      <td>NaN</td>\n",
       "      <td>NaN</td>\n",
       "      <td>NaN</td>\n",
       "      <td>USP0000A1H</td>\n",
       "      <td>US</td>\n",
       "      <td>US</td>\n",
       "      <td>US</td>\n",
       "      <td>Reviewed</td>\n",
       "    </tr>\n",
       "  </tbody>\n",
       "</table>\n",
       "<p>5 rows × 21 columns</p>\n",
       "</div>"
      ],
      "text/plain": [
       "                          Date                      Time  Latitude  Longitude  \\\n",
       "3378  1975-02-23T02:58:41.000Z  1975-02-23T02:58:41.000Z     8.017    124.075   \n",
       "3379                02/23/1975                  03:53:36   -21.727    -71.356   \n",
       "3380                02/23/1975                  07:34:11   -10.879    166.667   \n",
       "3381                02/25/1975                  05:20:05    -7.388    149.798   \n",
       "3382                02/26/1975                  04:48:55    85.047     97.969   \n",
       "\n",
       "            Type  Depth  Depth Error  Depth Seismic Stations  Magnitude  \\\n",
       "3378  Earthquake  623.0          NaN                     NaN        5.6   \n",
       "3379  Earthquake   33.0          NaN                     NaN        5.6   \n",
       "3380  Earthquake   33.0          NaN                     NaN        5.5   \n",
       "3381  Earthquake   33.0          NaN                     NaN        5.5   \n",
       "3382  Earthquake   33.0          NaN                     NaN        5.6   \n",
       "\n",
       "     Magnitude Type  ...  Magnitude Seismic Stations  Azimuthal Gap  \\\n",
       "3378             MB  ...                         NaN            NaN   \n",
       "3379             MB  ...                         NaN            NaN   \n",
       "3380             MS  ...                         NaN            NaN   \n",
       "3381             MB  ...                         NaN            NaN   \n",
       "3382             MS  ...                         NaN            NaN   \n",
       "\n",
       "      Horizontal Distance  Horizontal Error  Root Mean Square          ID  \\\n",
       "3378                  NaN               NaN               NaN  USP0000A09   \n",
       "3379                  NaN               NaN               NaN  USP0000A0A   \n",
       "3380                  NaN               NaN               NaN  USP0000A0C   \n",
       "3381                  NaN               NaN               NaN  USP0000A12   \n",
       "3382                  NaN               NaN               NaN  USP0000A1H   \n",
       "\n",
       "     Source Location Source Magnitude Source    Status  \n",
       "3378     US              US               US  Reviewed  \n",
       "3379     US              US               US  Reviewed  \n",
       "3380     US              US               US  Reviewed  \n",
       "3381     US              US               US  Reviewed  \n",
       "3382     US              US               US  Reviewed  \n",
       "\n",
       "[5 rows x 21 columns]"
      ]
     },
     "execution_count": 6,
     "metadata": {},
     "output_type": "execute_result"
    }
   ],
   "source": [
    "earthquakes[3378:3383]"
   ]
  },
  {
   "cell_type": "markdown",
   "id": "3737bd1e",
   "metadata": {
    "papermill": {
     "duration": 0.018735,
     "end_time": "2021-09-08T06:45:52.538750",
     "exception": false,
     "start_time": "2021-09-08T06:45:52.520015",
     "status": "completed"
    },
    "tags": []
   },
   "source": [
    "This does appear to be an issue with data entry: ideally, all entries in the column have the same format.  We can get an idea of how widespread this issue is by checking the length of each entry in the \"Date\" column."
   ]
  },
  {
   "cell_type": "code",
   "execution_count": 7,
   "id": "595d377d",
   "metadata": {
    "execution": {
     "iopub.execute_input": "2021-09-08T06:45:52.580041Z",
     "iopub.status.busy": "2021-09-08T06:45:52.579401Z",
     "iopub.status.idle": "2021-09-08T06:45:52.599300Z",
     "shell.execute_reply": "2021-09-08T06:45:52.598611Z",
     "shell.execute_reply.started": "2021-09-08T06:43:54.437172Z"
    },
    "papermill": {
     "duration": 0.041707,
     "end_time": "2021-09-08T06:45:52.599479",
     "exception": false,
     "start_time": "2021-09-08T06:45:52.557772",
     "status": "completed"
    },
    "tags": []
   },
   "outputs": [
    {
     "data": {
      "text/plain": [
       "10    23409\n",
       "24        3\n",
       "Name: Date, dtype: int64"
      ]
     },
     "execution_count": 7,
     "metadata": {},
     "output_type": "execute_result"
    }
   ],
   "source": [
    "date_lengths = earthquakes.Date.str.len()\n",
    "date_lengths.value_counts()"
   ]
  },
  {
   "cell_type": "markdown",
   "id": "9ce12291",
   "metadata": {
    "papermill": {
     "duration": 0.018455,
     "end_time": "2021-09-08T06:45:52.638312",
     "exception": false,
     "start_time": "2021-09-08T06:45:52.619857",
     "status": "completed"
    },
    "tags": []
   },
   "source": [
    "Looks like there are two more rows that has a date in a different format.  Run the code cell below to obtain the indices corresponding to those rows and print the data."
   ]
  },
  {
   "cell_type": "code",
   "execution_count": 8,
   "id": "46f07f43",
   "metadata": {
    "execution": {
     "iopub.execute_input": "2021-09-08T06:45:52.681866Z",
     "iopub.status.busy": "2021-09-08T06:45:52.681182Z",
     "iopub.status.idle": "2021-09-08T06:45:52.729380Z",
     "shell.execute_reply": "2021-09-08T06:45:52.729898Z",
     "shell.execute_reply.started": "2021-09-08T06:43:54.467282Z"
    },
    "papermill": {
     "duration": 0.072648,
     "end_time": "2021-09-08T06:45:52.730079",
     "exception": false,
     "start_time": "2021-09-08T06:45:52.657431",
     "status": "completed"
    },
    "tags": []
   },
   "outputs": [
    {
     "name": "stdout",
     "output_type": "stream",
     "text": [
      "Indices with corrupted data: [ 3378  7512 20650]\n"
     ]
    },
    {
     "data": {
      "text/html": [
       "<div>\n",
       "<style scoped>\n",
       "    .dataframe tbody tr th:only-of-type {\n",
       "        vertical-align: middle;\n",
       "    }\n",
       "\n",
       "    .dataframe tbody tr th {\n",
       "        vertical-align: top;\n",
       "    }\n",
       "\n",
       "    .dataframe thead th {\n",
       "        text-align: right;\n",
       "    }\n",
       "</style>\n",
       "<table border=\"1\" class=\"dataframe\">\n",
       "  <thead>\n",
       "    <tr style=\"text-align: right;\">\n",
       "      <th></th>\n",
       "      <th>Date</th>\n",
       "      <th>Time</th>\n",
       "      <th>Latitude</th>\n",
       "      <th>Longitude</th>\n",
       "      <th>Type</th>\n",
       "      <th>Depth</th>\n",
       "      <th>Depth Error</th>\n",
       "      <th>Depth Seismic Stations</th>\n",
       "      <th>Magnitude</th>\n",
       "      <th>Magnitude Type</th>\n",
       "      <th>...</th>\n",
       "      <th>Magnitude Seismic Stations</th>\n",
       "      <th>Azimuthal Gap</th>\n",
       "      <th>Horizontal Distance</th>\n",
       "      <th>Horizontal Error</th>\n",
       "      <th>Root Mean Square</th>\n",
       "      <th>ID</th>\n",
       "      <th>Source</th>\n",
       "      <th>Location Source</th>\n",
       "      <th>Magnitude Source</th>\n",
       "      <th>Status</th>\n",
       "    </tr>\n",
       "  </thead>\n",
       "  <tbody>\n",
       "    <tr>\n",
       "      <th>3378</th>\n",
       "      <td>1975-02-23T02:58:41.000Z</td>\n",
       "      <td>1975-02-23T02:58:41.000Z</td>\n",
       "      <td>8.017</td>\n",
       "      <td>124.075</td>\n",
       "      <td>Earthquake</td>\n",
       "      <td>623.0</td>\n",
       "      <td>NaN</td>\n",
       "      <td>NaN</td>\n",
       "      <td>5.6</td>\n",
       "      <td>MB</td>\n",
       "      <td>...</td>\n",
       "      <td>NaN</td>\n",
       "      <td>NaN</td>\n",
       "      <td>NaN</td>\n",
       "      <td>NaN</td>\n",
       "      <td>NaN</td>\n",
       "      <td>USP0000A09</td>\n",
       "      <td>US</td>\n",
       "      <td>US</td>\n",
       "      <td>US</td>\n",
       "      <td>Reviewed</td>\n",
       "    </tr>\n",
       "    <tr>\n",
       "      <th>7512</th>\n",
       "      <td>1985-04-28T02:53:41.530Z</td>\n",
       "      <td>1985-04-28T02:53:41.530Z</td>\n",
       "      <td>-32.998</td>\n",
       "      <td>-71.766</td>\n",
       "      <td>Earthquake</td>\n",
       "      <td>33.0</td>\n",
       "      <td>NaN</td>\n",
       "      <td>NaN</td>\n",
       "      <td>5.6</td>\n",
       "      <td>MW</td>\n",
       "      <td>...</td>\n",
       "      <td>NaN</td>\n",
       "      <td>NaN</td>\n",
       "      <td>NaN</td>\n",
       "      <td>NaN</td>\n",
       "      <td>1.30</td>\n",
       "      <td>USP0002E81</td>\n",
       "      <td>US</td>\n",
       "      <td>US</td>\n",
       "      <td>HRV</td>\n",
       "      <td>Reviewed</td>\n",
       "    </tr>\n",
       "    <tr>\n",
       "      <th>20650</th>\n",
       "      <td>2011-03-13T02:23:34.520Z</td>\n",
       "      <td>2011-03-13T02:23:34.520Z</td>\n",
       "      <td>36.344</td>\n",
       "      <td>142.344</td>\n",
       "      <td>Earthquake</td>\n",
       "      <td>10.1</td>\n",
       "      <td>13.9</td>\n",
       "      <td>289.0</td>\n",
       "      <td>5.8</td>\n",
       "      <td>MWC</td>\n",
       "      <td>...</td>\n",
       "      <td>NaN</td>\n",
       "      <td>32.3</td>\n",
       "      <td>NaN</td>\n",
       "      <td>NaN</td>\n",
       "      <td>1.06</td>\n",
       "      <td>USP000HWQP</td>\n",
       "      <td>US</td>\n",
       "      <td>US</td>\n",
       "      <td>GCMT</td>\n",
       "      <td>Reviewed</td>\n",
       "    </tr>\n",
       "  </tbody>\n",
       "</table>\n",
       "<p>3 rows × 21 columns</p>\n",
       "</div>"
      ],
      "text/plain": [
       "                           Date                      Time  Latitude  \\\n",
       "3378   1975-02-23T02:58:41.000Z  1975-02-23T02:58:41.000Z     8.017   \n",
       "7512   1985-04-28T02:53:41.530Z  1985-04-28T02:53:41.530Z   -32.998   \n",
       "20650  2011-03-13T02:23:34.520Z  2011-03-13T02:23:34.520Z    36.344   \n",
       "\n",
       "       Longitude        Type  Depth  Depth Error  Depth Seismic Stations  \\\n",
       "3378     124.075  Earthquake  623.0          NaN                     NaN   \n",
       "7512     -71.766  Earthquake   33.0          NaN                     NaN   \n",
       "20650    142.344  Earthquake   10.1         13.9                   289.0   \n",
       "\n",
       "       Magnitude Magnitude Type  ...  Magnitude Seismic Stations  \\\n",
       "3378         5.6             MB  ...                         NaN   \n",
       "7512         5.6             MW  ...                         NaN   \n",
       "20650        5.8            MWC  ...                         NaN   \n",
       "\n",
       "       Azimuthal Gap  Horizontal Distance  Horizontal Error  Root Mean Square  \\\n",
       "3378             NaN                  NaN               NaN               NaN   \n",
       "7512             NaN                  NaN               NaN              1.30   \n",
       "20650           32.3                  NaN               NaN              1.06   \n",
       "\n",
       "               ID Source Location Source Magnitude Source    Status  \n",
       "3378   USP0000A09     US              US               US  Reviewed  \n",
       "7512   USP0002E81     US              US              HRV  Reviewed  \n",
       "20650  USP000HWQP     US              US             GCMT  Reviewed  \n",
       "\n",
       "[3 rows x 21 columns]"
      ]
     },
     "execution_count": 8,
     "metadata": {},
     "output_type": "execute_result"
    }
   ],
   "source": [
    "indices = np.where([date_lengths == 24])[1]\n",
    "print('Indices with corrupted data:', indices)\n",
    "earthquakes.loc[indices]"
   ]
  },
  {
   "cell_type": "markdown",
   "id": "f406982e",
   "metadata": {
    "papermill": {
     "duration": 0.019625,
     "end_time": "2021-09-08T06:45:52.770110",
     "exception": false,
     "start_time": "2021-09-08T06:45:52.750485",
     "status": "completed"
    },
    "tags": []
   },
   "source": [
    "Given all of this information, it's your turn to create a new column \"date_parsed\" in the `earthquakes` dataset that has correctly parsed dates in it.  \n",
    "\n",
    "**Note**: When completing this problem, you are allowed to (but are not required to) amend the entries in the \"Date\" and \"Time\" columns.  Do not remove any rows from the dataset."
   ]
  },
  {
   "cell_type": "code",
   "execution_count": 9,
   "id": "ba877b5a",
   "metadata": {
    "execution": {
     "iopub.execute_input": "2021-09-08T06:45:52.818260Z",
     "iopub.status.busy": "2021-09-08T06:45:52.816351Z",
     "iopub.status.idle": "2021-09-08T06:45:52.865128Z",
     "shell.execute_reply": "2021-09-08T06:45:52.864602Z",
     "shell.execute_reply.started": "2021-09-08T06:44:42.666845Z"
    },
    "papermill": {
     "duration": 0.075367,
     "end_time": "2021-09-08T06:45:52.865287",
     "exception": false,
     "start_time": "2021-09-08T06:45:52.789920",
     "status": "completed"
    },
    "tags": []
   },
   "outputs": [
    {
     "data": {
      "application/javascript": [
       "parent.postMessage({\"jupyterEvent\": \"custom.exercise_interaction\", \"data\": {\"outcomeType\": 1, \"valueTowardsCompletion\": 0.25, \"interactionType\": 1, \"questionType\": 2, \"questionId\": \"2_ConvertToDatetime\", \"learnToolsVersion\": \"0.3.4\", \"failureMessage\": \"\", \"exceptionClass\": \"\", \"trace\": \"\"}}, \"*\")"
      ],
      "text/plain": [
       "<IPython.core.display.Javascript object>"
      ]
     },
     "metadata": {},
     "output_type": "display_data"
    },
    {
     "data": {
      "text/markdown": [
       "<span style=\"color:#33cc33\">Correct</span>"
      ],
      "text/plain": [
       "Correct"
      ]
     },
     "metadata": {},
     "output_type": "display_data"
    }
   ],
   "source": [
    "earthquakes.loc[3378, \"Date\"] = \"02/23/1975\"\n",
    "earthquakes.loc[7512, \"Date\"] = \"04/28/1985\"\n",
    "earthquakes.loc[20650, \"Date\"] = \"03/13/2011\"\n",
    "earthquakes['date_parsed'] = pd.to_datetime(earthquakes['Date'], format=\"%m/%d/%Y\")\n",
    "# Check your answer\n",
    "q2.check()"
   ]
  },
  {
   "cell_type": "code",
   "execution_count": 10,
   "id": "1b73c45e",
   "metadata": {
    "execution": {
     "iopub.execute_input": "2021-09-08T06:45:52.912097Z",
     "iopub.status.busy": "2021-09-08T06:45:52.911379Z",
     "iopub.status.idle": "2021-09-08T06:45:52.914490Z",
     "shell.execute_reply": "2021-09-08T06:45:52.915072Z",
     "shell.execute_reply.started": "2021-09-08T06:44:18.697110Z"
    },
    "papermill": {
     "duration": 0.028829,
     "end_time": "2021-09-08T06:45:52.915262",
     "exception": false,
     "start_time": "2021-09-08T06:45:52.886433",
     "status": "completed"
    },
    "tags": []
   },
   "outputs": [],
   "source": [
    "# Lines below will give you a hint or solution code\n",
    "#q2.hint()\n",
    "#q2.solution()"
   ]
  },
  {
   "cell_type": "markdown",
   "id": "6a1fdf06",
   "metadata": {
    "papermill": {
     "duration": 0.020117,
     "end_time": "2021-09-08T06:45:52.956420",
     "exception": false,
     "start_time": "2021-09-08T06:45:52.936303",
     "status": "completed"
    },
    "tags": []
   },
   "source": [
    "# 3) Select the day of the month\n",
    "\n",
    "Create a Pandas Series `day_of_month_earthquakes` containing the day of the month from the \"date_parsed\" column."
   ]
  },
  {
   "cell_type": "code",
   "execution_count": 11,
   "id": "96d7d272",
   "metadata": {
    "execution": {
     "iopub.execute_input": "2021-09-08T06:45:53.004680Z",
     "iopub.status.busy": "2021-09-08T06:45:53.001924Z",
     "iopub.status.idle": "2021-09-08T06:45:53.014792Z",
     "shell.execute_reply": "2021-09-08T06:45:53.014095Z",
     "shell.execute_reply.started": "2021-09-08T06:44:58.031206Z"
    },
    "papermill": {
     "duration": 0.037365,
     "end_time": "2021-09-08T06:45:53.014948",
     "exception": false,
     "start_time": "2021-09-08T06:45:52.977583",
     "status": "completed"
    },
    "tags": []
   },
   "outputs": [
    {
     "data": {
      "application/javascript": [
       "parent.postMessage({\"jupyterEvent\": \"custom.exercise_interaction\", \"data\": {\"outcomeType\": 1, \"valueTowardsCompletion\": 0.25, \"interactionType\": 1, \"questionType\": 1, \"questionId\": \"3_DayOfMonth\", \"learnToolsVersion\": \"0.3.4\", \"failureMessage\": \"\", \"exceptionClass\": \"\", \"trace\": \"\"}}, \"*\")"
      ],
      "text/plain": [
       "<IPython.core.display.Javascript object>"
      ]
     },
     "metadata": {},
     "output_type": "display_data"
    },
    {
     "data": {
      "text/markdown": [
       "<span style=\"color:#33cc33\">Correct</span>"
      ],
      "text/plain": [
       "Correct"
      ]
     },
     "metadata": {},
     "output_type": "display_data"
    }
   ],
   "source": [
    "# try to get the day of the month from the date column\n",
    "day_of_month_earthquakes = earthquakes['date_parsed'].dt.day\n",
    "\n",
    "# Check your answer\n",
    "q3.check()"
   ]
  },
  {
   "cell_type": "code",
   "execution_count": 12,
   "id": "bedc063d",
   "metadata": {
    "execution": {
     "iopub.execute_input": "2021-09-08T06:45:53.063604Z",
     "iopub.status.busy": "2021-09-08T06:45:53.062909Z",
     "iopub.status.idle": "2021-09-08T06:45:53.065562Z",
     "shell.execute_reply": "2021-09-08T06:45:53.065020Z",
     "shell.execute_reply.started": "2021-09-08T06:45:01.325515Z"
    },
    "papermill": {
     "duration": 0.028437,
     "end_time": "2021-09-08T06:45:53.065719",
     "exception": false,
     "start_time": "2021-09-08T06:45:53.037282",
     "status": "completed"
    },
    "tags": []
   },
   "outputs": [],
   "source": [
    "# Lines below will give you a hint or solution code\n",
    "#q3.hint()\n",
    "#q3.solution()"
   ]
  },
  {
   "cell_type": "markdown",
   "id": "eca5c28a",
   "metadata": {
    "papermill": {
     "duration": 0.021821,
     "end_time": "2021-09-08T06:45:53.109168",
     "exception": false,
     "start_time": "2021-09-08T06:45:53.087347",
     "status": "completed"
    },
    "tags": []
   },
   "source": [
    "# 4) Plot the day of the month to check the date parsing\n",
    "\n",
    "Plot the days of the month from your earthquake dataset."
   ]
  },
  {
   "cell_type": "code",
   "execution_count": 13,
   "id": "898bf186",
   "metadata": {
    "execution": {
     "iopub.execute_input": "2021-09-08T06:45:53.155619Z",
     "iopub.status.busy": "2021-09-08T06:45:53.154966Z",
     "iopub.status.idle": "2021-09-08T06:45:53.158318Z",
     "shell.execute_reply": "2021-09-08T06:45:53.157789Z",
     "shell.execute_reply.started": "2021-09-08T06:45:05.031715Z"
    },
    "papermill": {
     "duration": 0.028168,
     "end_time": "2021-09-08T06:45:53.158489",
     "exception": false,
     "start_time": "2021-09-08T06:45:53.130321",
     "status": "completed"
    },
    "tags": []
   },
   "outputs": [],
   "source": [
    "# TODO: Your code here!\n"
   ]
  },
  {
   "cell_type": "markdown",
   "id": "400ab188",
   "metadata": {
    "papermill": {
     "duration": 0.021361,
     "end_time": "2021-09-08T06:45:53.201756",
     "exception": false,
     "start_time": "2021-09-08T06:45:53.180395",
     "status": "completed"
    },
    "tags": []
   },
   "source": [
    "Does the graph make sense to you?"
   ]
  },
  {
   "cell_type": "code",
   "execution_count": 14,
   "id": "98b354b2",
   "metadata": {
    "execution": {
     "iopub.execute_input": "2021-09-08T06:45:53.251100Z",
     "iopub.status.busy": "2021-09-08T06:45:53.250078Z",
     "iopub.status.idle": "2021-09-08T06:45:53.482000Z",
     "shell.execute_reply": "2021-09-08T06:45:53.481336Z",
     "shell.execute_reply.started": "2021-09-08T06:45:26.936529Z"
    },
    "papermill": {
     "duration": 0.258663,
     "end_time": "2021-09-08T06:45:53.482143",
     "exception": false,
     "start_time": "2021-09-08T06:45:53.223480",
     "status": "completed"
    },
    "tags": []
   },
   "outputs": [
    {
     "name": "stderr",
     "output_type": "stream",
     "text": [
      "/opt/conda/lib/python3.7/site-packages/seaborn/distributions.py:2557: FutureWarning: `distplot` is a deprecated function and will be removed in a future version. Please adapt your code to use either `displot` (a figure-level function with similar flexibility) or `histplot` (an axes-level function for histograms).\n",
      "  warnings.warn(msg, FutureWarning)\n"
     ]
    },
    {
     "data": {
      "application/javascript": [
       "parent.postMessage({\"jupyterEvent\": \"custom.exercise_interaction\", \"data\": {\"outcomeType\": 1, \"valueTowardsCompletion\": 0.25, \"interactionType\": 1, \"questionType\": 4, \"questionId\": \"4_PlotDayOfMonth\", \"learnToolsVersion\": \"0.3.4\", \"failureMessage\": \"\", \"exceptionClass\": \"\", \"trace\": \"\"}}, \"*\")"
      ],
      "text/plain": [
       "<IPython.core.display.Javascript object>"
      ]
     },
     "metadata": {},
     "output_type": "display_data"
    },
    {
     "data": {
      "text/markdown": [
       "<span style=\"color:#33cc33\">Correct:</span> \n",
       "\n",
       "The graph should make sense: it shows a relatively even distribution in days of the month,which is what we would expect."
      ],
      "text/plain": [
       "Correct: \n",
       "\n",
       "The graph should make sense: it shows a relatively even distribution in days of the month,which is what we would expect."
      ]
     },
     "metadata": {},
     "output_type": "display_data"
    },
    {
     "data": {
      "image/png": "[encoded data removed]",
      "text/plain": [
       "<Figure size 432x288 with 1 Axes>"
      ]
     },
     "metadata": {
      "needs_background": "light"
     },
     "output_type": "display_data"
    }
   ],
   "source": [
    "# remove na's\n",
    "day_of_month_earthquakes = day_of_month_earthquakes.dropna()\n",
    "\n",
    "# plot the day of the month\n",
    "sns.distplot(day_of_month_earthquakes, kde=False, bins=31)\n",
    "q4.check()"
   ]
  },
  {
   "cell_type": "code",
   "execution_count": 15,
   "id": "ab885b7b",
   "metadata": {
    "execution": {
     "iopub.execute_input": "2021-09-08T06:45:53.531910Z",
     "iopub.status.busy": "2021-09-08T06:45:53.531258Z",
     "iopub.status.idle": "2021-09-08T06:45:53.534341Z",
     "shell.execute_reply": "2021-09-08T06:45:53.533770Z",
     "shell.execute_reply.started": "2021-09-08T06:45:18.685627Z"
    },
    "papermill": {
     "duration": 0.029506,
     "end_time": "2021-09-08T06:45:53.534497",
     "exception": false,
     "start_time": "2021-09-08T06:45:53.504991",
     "status": "completed"
    },
    "tags": []
   },
   "outputs": [],
   "source": [
    "# Line below will give you a hint\n",
    "#q4.hint()"
   ]
  },
  {
   "cell_type": "markdown",
   "id": "5cc3b0a1",
   "metadata": {
    "papermill": {
     "duration": 0.022059,
     "end_time": "2021-09-08T06:45:53.579118",
     "exception": false,
     "start_time": "2021-09-08T06:45:53.557059",
     "status": "completed"
    },
    "tags": []
   },
   "source": [
    "# (Optional) Bonus Challenge\n",
    "\n",
    "For an extra challenge, you'll work with a [Smithsonian dataset](https://www.kaggle.com/smithsonian/volcanic-eruptions) that documents Earth's volcanoes and their eruptive history over the past 10,000 years \n",
    "\n",
    "Run the next code cell to load the data."
   ]
  },
  {
   "cell_type": "code",
   "execution_count": 16,
   "id": "a7131863",
   "metadata": {
    "execution": {
     "iopub.execute_input": "2021-09-08T06:45:53.631063Z",
     "iopub.status.busy": "2021-09-08T06:45:53.630311Z",
     "iopub.status.idle": "2021-09-08T06:45:53.664483Z",
     "shell.execute_reply": "2021-09-08T06:45:53.663734Z",
     "shell.execute_reply.started": "2021-09-08T06:43:54.609580Z"
    },
    "papermill": {
     "duration": 0.061734,
     "end_time": "2021-09-08T06:45:53.664647",
     "exception": false,
     "start_time": "2021-09-08T06:45:53.602913",
     "status": "completed"
    },
    "tags": []
   },
   "outputs": [],
   "source": [
    "volcanos = pd.read_csv(\"../input/volcanic-eruptions/database.csv\")"
   ]
  },
  {
   "cell_type": "markdown",
   "id": "32032c75",
   "metadata": {
    "papermill": {
     "duration": 0.022724,
     "end_time": "2021-09-08T06:45:53.710536",
     "exception": false,
     "start_time": "2021-09-08T06:45:53.687812",
     "status": "completed"
    },
    "tags": []
   },
   "source": [
    "Try parsing the column \"Last Known Eruption\" from the `volcanos` dataframe. This column contains a mixture of text (\"Unknown\") and years both before the common era (BCE, also known as BC) and in the common era (CE, also known as AD)."
   ]
  },
  {
   "cell_type": "code",
   "execution_count": 17,
   "id": "13e55aba",
   "metadata": {
    "execution": {
     "iopub.execute_input": "2021-09-08T06:45:53.764978Z",
     "iopub.status.busy": "2021-09-08T06:45:53.764160Z",
     "iopub.status.idle": "2021-09-08T06:45:53.768673Z",
     "shell.execute_reply": "2021-09-08T06:45:53.768133Z",
     "shell.execute_reply.started": "2021-09-08T06:43:54.639949Z"
    },
    "papermill": {
     "duration": 0.035039,
     "end_time": "2021-09-08T06:45:53.768812",
     "exception": false,
     "start_time": "2021-09-08T06:45:53.733773",
     "status": "completed"
    },
    "tags": []
   },
   "outputs": [
    {
     "data": {
      "text/plain": [
       "764     Unknown\n",
       "1069    1996 CE\n",
       "34      1855 CE\n",
       "489     2016 CE\n",
       "9       1302 CE\n",
       "Name: Last Known Eruption, dtype: object"
      ]
     },
     "execution_count": 17,
     "metadata": {},
     "output_type": "execute_result"
    }
   ],
   "source": [
    "volcanos['Last Known Eruption'].sample(5)"
   ]
  },
  {
   "cell_type": "markdown",
   "id": "dcf7a427",
   "metadata": {
    "papermill": {
     "duration": 0.023295,
     "end_time": "2021-09-08T06:45:53.815887",
     "exception": false,
     "start_time": "2021-09-08T06:45:53.792592",
     "status": "completed"
    },
    "tags": []
   },
   "source": [
    "# (Optional) More practice\n",
    "\n",
    "If you're interested in graphing time series, [check out this tutorial](https://www.kaggle.com/residentmario/time-series-plotting-optional).\n",
    "\n",
    "You can also look into passing columns that you know have dates in them  the `parse_dates` argument in `read_csv`. (The documention [is here](https://pandas.pydata.org/pandas-docs/stable/generated/pandas.read_csv.html).) Do note that this method can be very slow, but depending on your needs it may sometimes be handy to use.\n",
    "\n",
    "# Keep going\n",
    "\n",
    "In the next lesson, learn how to [**work with character encodings**](https://www.kaggle.com/alexisbcook/character-encodings)."
   ]
  },
  {
   "cell_type": "markdown",
   "id": "a7fdb255",
   "metadata": {
    "papermill": {
     "duration": 0.023101,
     "end_time": "2021-09-08T06:45:53.862177",
     "exception": false,
     "start_time": "2021-09-08T06:45:53.839076",
     "status": "completed"
    },
    "tags": []
   },
   "source": [
    "---\n",
    "\n",
    "\n",
    "\n",
    "\n",
    "*Have questions or comments? Visit the [Learn Discussion forum](https://www.kaggle.com/learn-forum/172650) to chat with other Learners.*"
   ]
  }
 ],
 "metadata": {
  "kernelspec": {
   "display_name": "Python 3",
   "language": "python",
   "name": "python3"
  },
  "language_info": {
   "codemirror_mode": {
    "name": "ipython",
    "version": 3
   },
   "file_extension": ".py",
   "mimetype": "text/x-python",
   "name": "python",
   "nbconvert_exporter": "python",
   "pygments_lexer": "ipython3",
   "version": "3.7.10"
  },
  "papermill": {
   "default_parameters": {},
   "duration": 12.864622,
   "end_time": "2021-09-08T06:45:55.604054",
   "environment_variables": {},
   "exception": null,
   "input_path": "__notebook__.ipynb",
   "output_path": "__notebook__.ipynb",
   "parameters": {},
   "start_time": "2021-09-08T06:45:42.739432",
   "version": "2.3.3"
  }
 },
 "nbformat": 4,
 "nbformat_minor": 5
}
